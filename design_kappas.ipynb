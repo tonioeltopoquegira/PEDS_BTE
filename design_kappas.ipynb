{
 "cells": [
  {
   "cell_type": "code",
   "execution_count": 2,
   "id": "63868333",
   "metadata": {},
   "outputs": [
    {
     "name": "stdout",
     "output_type": "stream",
     "text": [
      "Saved 8 design pairs to data/highfidelity/design_data.npz\n",
      "[[1. 1. 1. 1. 1. 1. 1. 1. 1. 1. 1. 1. 1. 0. 1. 1. 0. 1. 1. 1. 1. 1. 1. 1.\n",
      "  1.]\n",
      " [0. 0. 1. 0. 0. 1. 1. 1. 1. 1. 1. 1. 1. 0. 1. 0. 1. 0. 0. 1. 1. 1. 1. 1.\n",
      "  1.]\n",
      " [1. 1. 1. 1. 1. 1. 0. 0. 0. 0. 0. 0. 1. 0. 1. 0. 0. 0. 0. 0. 1. 1. 0. 1.\n",
      "  1.]\n",
      " [0. 0. 1. 0. 1. 0. 0. 1. 0. 1. 1. 1. 1. 0. 0. 0. 0. 0. 1. 1. 1. 0. 0. 0.\n",
      "  1.]\n",
      " [0. 1. 1. 0. 0. 1. 0. 0. 0. 0. 0. 0. 0. 0. 0. 0. 0. 1. 0. 1. 1. 1. 1. 0.\n",
      "  1.]\n",
      " [0. 0. 0. 1. 1. 0. 0. 1. 0. 0. 0. 0. 0. 0. 0. 0. 0. 0. 1. 0. 0. 0. 1. 0.\n",
      "  1.]\n",
      " [0. 1. 0. 0. 0. 0. 0. 0. 0. 0. 0. 0. 0. 0. 1. 0. 0. 1. 0. 0. 0. 0. 0. 0.\n",
      "  0.]\n",
      " [0. 0. 0. 0. 0. 0. 0. 0. 0. 0. 0. 0. 0. 0. 0. 0. 0. 1. 0. 0. 0. 0. 0. 0.\n",
      "  0.]]\n",
      "[12.013442 15.002009 20.000076 24.998857 30.000193 44.98466  59.99268\n",
      " 90.87158 ]\n"
     ]
    }
   ],
   "source": [
    "import numpy as np\n",
    "\n",
    "# Load the data\n",
    "full_data = np.load(\"data/highfidelity/high_fidelity_2_20000.npz\", allow_pickle=True)\n",
    "pores = np.asarray(full_data['pores'], dtype=np.float32)\n",
    "kappas = np.asarray(full_data['kappas'], dtype=np.float32)\n",
    "\n",
    "# Target kappas\n",
    "target_kappas = np.array([12.0, 15.0, 20.0, 25.0, 30.0, 45.0, 60.0, 90.0], dtype=np.float32)\n",
    "\n",
    "# Find the indices of the closest kappas\n",
    "indices = [np.argmin(np.abs(kappas - target)) for target in target_kappas]\n",
    "\n",
    "# Extract the selected pores and kappas\n",
    "selected_pores = pores[indices]\n",
    "selected_kappas = kappas[indices]\n",
    "\n",
    "# Save them\n",
    "np.savez(\"data/highfidelity/design_data.npz\", pores=selected_pores, kappas=selected_kappas)\n",
    "\n",
    "print(\"Saved 8 design pairs to data/highfidelity/design_data.npz\")\n",
    "\n",
    "print(selected_pores)\n",
    "print(selected_kappas)"
   ]
  }
 ],
 "metadata": {
  "kernelspec": {
   "display_name": "base",
   "language": "python",
   "name": "python3"
  },
  "language_info": {
   "codemirror_mode": {
    "name": "ipython",
    "version": 3
   },
   "file_extension": ".py",
   "mimetype": "text/x-python",
   "name": "python",
   "nbconvert_exporter": "python",
   "pygments_lexer": "ipython3",
   "version": "3.8.5"
  }
 },
 "nbformat": 4,
 "nbformat_minor": 5
}
