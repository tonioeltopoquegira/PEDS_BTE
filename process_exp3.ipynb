{
 "cells": [
  {
   "cell_type": "code",
   "execution_count": 6,
   "metadata": {},
   "outputs": [],
   "source": [
    "import pandas as pd\n",
    "\n",
    "MLP = \"MLP_arch4_mixed_correct\"\n",
    "\n",
    "PEDS = \"PEDS_gauss5_arch6_mixed\"\n",
    "\n",
    "\n",
    "folder = \"data/optimization/exp1_eff_srgt/\"\n"
   ]
  },
  {
   "cell_type": "code",
   "execution_count": 7,
   "metadata": {},
   "outputs": [
    {
     "name": "stdout",
     "output_type": "stream",
     "text": [
      "{'MLP': {'error_optimization': 0.009090971249042902, 'error_model': 0.09992766920691191, 'error_total': 0.10929503992154983}, 'PEDS': {'error_optimization': 0.00044865540318139057, 'error_model': 0.11986726546035972, 'error_total': 0.1193807706094175}}\n"
     ]
    }
   ],
   "source": [
    "# Read the CSV files\n",
    "mlp_file = folder + MLP + \"/ga_geometries_errors_withBTE.csv\"\n",
    "peds_file = folder + PEDS + \"/ga_geometries_errors_withBTE.csv\"\n",
    "\n",
    "mlp_data = pd.read_csv(mlp_file)\n",
    "peds_data = pd.read_csv(peds_file)\n",
    "\n",
    "# Assuming the columns for errors are named 'error_optimization', 'error_model', and 'error_total'\n",
    "# Compute the mean of each error for both datasets\n",
    "mlp_means = mlp_data[['error_optimization', 'error_model', 'error_total']].mean()\n",
    "peds_means = peds_data[['error_optimization', 'error_model', 'error_total']].mean()\n",
    "\n",
    "# You can also combine the results into a dictionary\n",
    "mean_errors = {\n",
    "    \"MLP\": mlp_means.to_dict(),\n",
    "    \"PEDS\": peds_means.to_dict()\n",
    "}\n",
    "\n",
    "# Print the mean errors\n",
    "print(mean_errors)"
   ]
  }
 ],
 "metadata": {
  "kernelspec": {
   "display_name": "Python 3",
   "language": "python",
   "name": "python3"
  },
  "language_info": {
   "codemirror_mode": {
    "name": "ipython",
    "version": 3
   },
   "file_extension": ".py",
   "mimetype": "text/x-python",
   "name": "python",
   "nbconvert_exporter": "python",
   "pygments_lexer": "ipython3",
   "version": "3.11.5"
  }
 },
 "nbformat": 4,
 "nbformat_minor": 2
}
