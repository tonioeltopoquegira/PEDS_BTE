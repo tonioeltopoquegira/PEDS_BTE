{
 "cells": [
  {
   "cell_type": "markdown",
   "metadata": {},
   "source": [
    "# PEDS example: Maxwell surrogate\n",
    "\n",
    "This example of PEDS shows how to use the code from: *Pestourie, Raphaël, et al. \"Physics-enhanced deep surrogates for PDEs.\"*  In this example notebook, we illustrate PEDS for the surrogate of the diffusion equation's flux where the approximate solver is a coarse diffusion equation's solver. For this example, the input is the width of 10 layers of holes and the one-hot-encoding of three frequencies.\n",
    "    \n",
    "## Note on implementation\n",
    "\n",
    "In this notebook, we run the training on a single processor and J=1.\n",
    "\n",
    "However, the implementation of this code is meant to be parallel on multiple processors, where the element of a batch is computed in parallel over J groups of CPUs (J is the number models in the ensemble). For example, with a julia file `train_PEDS.jl`containing functions calls similart to the code in the cells below, the command to run large-scale training on a cluster would be:\n",
    "    \n",
    "`mpiexec -n 320 julia train_PEDS.jl` "
   ]
  },
  {
   "cell_type": "code",
   "execution_count": 1,
   "metadata": {},
   "outputs": [],
   "source": [
    "##load module\n",
    "include(\"../src/PEDS.jl\")\n",
    "\n",
    "##loading data\n",
    "X = readdlm(\"../data/X_maxwell10_small.csv\", ',')\n",
    "y = parse.(Complex{Float64}, readdlm(\"../data/y_maxwell10_small.csv\", ',')[:])\n",
    "\n",
    "Xv = X[:, 1:1024] #valid set\n",
    "Xtest = X[:, end-1023:end] #test set\n",
    "Xt = X[:, 1025:end]\n",
    "\n",
    "yv = y[1:1024] #valid set\n",
    "ytest = y[end-1023:end] #test set\n",
    "yt = y[1025:end];"
   ]
  },
  {
   "cell_type": "code",
   "execution_count": 2,
   "metadata": {},
   "outputs": [
    {
     "data": {
      "text/plain": [
       "MersenneTwister(2134)"
      ]
     },
     "execution_count": 2,
     "metadata": {},
     "output_type": "execute_result"
    }
   ],
   "source": [
    "datalimitvalid = 2^10\n",
    "Jval=1\n",
    "batchsize=64\n",
    "\n",
    "##Definition of problem constants\n",
    "const debug = false\n",
    "const drv = DataRunner(Xv, yv, [1]);\n",
    "const al = ALstruct(J=Jval, Nvalid=datalimitvalid, batchsize=batchsize);\n",
    "const valid = initvalid(al, drv) #validation loader\n",
    "\n",
    "const drtest = DataRunner(Xtest, ytest, [1]);\n",
    "const test = initvalid(al, drtest) #validation loader\n",
    "\n",
    "const nn = NNstruct(outGen=[256, 256, 10*110],\n",
    "postGen = [x-> @. x*1.5 + 2.5; x-> reshape(x, (110,10,:))],\n",
    "inVar = [110*10, 256, 256, 256]);\n",
    "const cs = CSstruct(resolution=10, \n",
    "nn_x=10, \n",
    "ny_nn=110, \n",
    "refsim=0.3364246930443735 + 0.1920021246559511im);\n",
    "const sd = SimulationDomain(cs)\n",
    "##setup MPI and random\n",
    "const comm = MPI.COMM_WORLD\n",
    "const model_color = MPI.Comm_rank(comm)%al.J\n",
    "const commModel = MPI.Comm_split(comm, model_color, 0)\n",
    "const isleader = MPI.Comm_rank(commModel) == 0\n",
    "const commLeader = MPI.Comm_split(comm, isleader, 0)\n",
    "debug && print(\"Comm rank=$(MPI.Comm_rank(comm)), commModel rank = $(MPI.Comm_rank(commModel)), commLeader rank = $(MPI.Comm_rank(commLeader))\\n\")\n",
    "Random.seed!(2134*(model_color+1)) #alter seed for different groups"
   ]
  },
  {
   "cell_type": "code",
   "execution_count": 3,
   "metadata": {},
   "outputs": [
    {
     "data": {
      "text/plain": [
       "dFE (generic function with 1 method)"
      ]
     },
     "execution_count": 3,
     "metadata": {},
     "output_type": "execute_result"
    }
   ],
   "source": [
    "##training functionalities\n",
    "function train_distributed!(comm, commModel, commLeader, mloglik, m, loss, ps, loader, opt, validation_fes; logging=false)\n",
    "    for d in loader\n",
    "        train_loss, back = Zygote.pullback(() -> loss(commModel, mloglik, m, d...), ps)\n",
    "        gs = back(1.)\n",
    "        if debug && isleader\n",
    "            if isnan(train_loss)\n",
    "                @show (model_color, train_loss)\n",
    "            end\n",
    "        end\n",
    "        for x in ps\n",
    "            gs[x][:] .= sum_reduce(commModel, Float64.(gs[x][:]))\n",
    "            if debug && isleader\n",
    "                if any(isnan.(gs[x][:]))\n",
    "                    @show (model_color, train_loss)\n",
    "                    @show (length(x), length(findall(isnan,x)), length(findall(isnan,gs[x][:])))\n",
    "                end\n",
    "\n",
    "                if any(isinf.(gs[x][:]))\n",
    "                    @show (model_color, train_loss)\n",
    "                    @show (length(x), length(findall(isinf,x)), length(findall(isinf,gs[x][:])))\n",
    "                end\n",
    "            end\n",
    "        end\n",
    "        \n",
    "        if debug && isleader\n",
    "            for p_ in ps\n",
    "                if any(isnan.(p_))\n",
    "                    @show (model_color, \"before update\")\n",
    "                end\n",
    "            end\n",
    "        end\n",
    "        Flux.Optimise.update!(opt, ps, gs)\n",
    "        if debug && isleader\n",
    "            for p_ in ps\n",
    "                if any(isnan.(p_))\n",
    "                    @show (model_color, \"after update\")\n",
    "                end\n",
    "            end\n",
    "        end\n",
    "    end\n",
    "\n",
    "    logging && push!(validation_fes, dFE(comm, commModel, commLeader, m))\n",
    "end\n",
    "\n",
    "function dFE(comm, commModel, commLeader, m; valid=valid) \"\"\"dFE computes the FE using parallelization over the batch with MPI\"\"\" \n",
    "    evalsr = zeros(al.Nvalid)\n",
    "    evalsi = zeros(al.Nvalid)\n",
    "    FE = 0.\n",
    "    j=0\n",
    "    ys = Complex{Float64}[]\n",
    "    for (x, y) in valid\n",
    "        for i=1+MPI.Comm_rank(commModel):MPI.Comm_size(commModel):length(y)\n",
    "            rp, ip = m(x[:,i])\n",
    "            evalsr[j*length(y)+i] = rp\n",
    "            evalsi[j*length(y)+i] = ip\n",
    "        end\n",
    "        j+=1\n",
    "        push!(ys, y...)\n",
    "    end\n",
    "    evalsrModel = sum_reduce(commModel, evalsr)\n",
    "    evalsiModel = sum_reduce(commModel, evalsi)\n",
    "    evalsr = sum_reduce(commLeader, evalsrModel) / al.J\n",
    "    evalsi = sum_reduce(commLeader, evalsiModel) / al.J\n",
    "    if MPI.Comm_rank(comm) == 0\n",
    "        ŷ = @. evalsr + 1im * evalsi\n",
    "        FE = norm(ŷ - ys)/norm(ys)\n",
    "        @show FE\n",
    "    end\n",
    "    return FE\n",
    "end"
   ]
  },
  {
   "cell_type": "markdown",
   "metadata": {},
   "source": [
    "## PEDS"
   ]
  },
  {
   "cell_type": "code",
   "execution_count": 4,
   "metadata": {},
   "outputs": [
    {
     "name": "stdout",
     "output_type": "stream",
     "text": [
      "kval = 128\n"
     ]
    },
    {
     "name": "stderr",
     "output_type": "stream",
     "text": [
      "┌ Info: Epoch 1\n",
      "└ @ Main /Users/raphaelpestourie/.julia/packages/Flux/EXOFx/src/optimise/train.jl:154\n"
     ]
    },
    {
     "name": "stdout",
     "output_type": "stream",
     "text": [
      "FE = 0.8704552623350917\n"
     ]
    },
    {
     "name": "stderr",
     "output_type": "stream",
     "text": [
      "┌ Info: Epoch 2\n",
      "└ @ Main /Users/raphaelpestourie/.julia/packages/Flux/EXOFx/src/optimise/train.jl:154\n"
     ]
    },
    {
     "name": "stdout",
     "output_type": "stream",
     "text": [
      "FE = 0.8221926875215404\n"
     ]
    },
    {
     "name": "stderr",
     "output_type": "stream",
     "text": [
      "┌ Info: Epoch 3\n",
      "└ @ Main /Users/raphaelpestourie/.julia/packages/Flux/EXOFx/src/optimise/train.jl:154\n"
     ]
    },
    {
     "name": "stdout",
     "output_type": "stream",
     "text": [
      "FE = 0.7027776554085374\n"
     ]
    },
    {
     "name": "stderr",
     "output_type": "stream",
     "text": [
      "┌ Info: Epoch 4\n",
      "└ @ Main /Users/raphaelpestourie/.julia/packages/Flux/EXOFx/src/optimise/train.jl:154\n"
     ]
    },
    {
     "name": "stdout",
     "output_type": "stream",
     "text": [
      "FE = 0.5473956441382966\n"
     ]
    },
    {
     "name": "stderr",
     "output_type": "stream",
     "text": [
      "┌ Info: Epoch 5\n",
      "└ @ Main /Users/raphaelpestourie/.julia/packages/Flux/EXOFx/src/optimise/train.jl:154\n"
     ]
    },
    {
     "name": "stdout",
     "output_type": "stream",
     "text": [
      "FE = 0.38630812923964514\n"
     ]
    },
    {
     "name": "stderr",
     "output_type": "stream",
     "text": [
      "┌ Info: Epoch 6\n",
      "└ @ Main /Users/raphaelpestourie/.julia/packages/Flux/EXOFx/src/optimise/train.jl:154\n"
     ]
    },
    {
     "name": "stdout",
     "output_type": "stream",
     "text": [
      "FE = 0.38606860895747364\n"
     ]
    },
    {
     "name": "stderr",
     "output_type": "stream",
     "text": [
      "┌ Info: Epoch 7\n",
      "└ @ Main /Users/raphaelpestourie/.julia/packages/Flux/EXOFx/src/optimise/train.jl:154\n"
     ]
    },
    {
     "name": "stdout",
     "output_type": "stream",
     "text": [
      "FE = 0.2932033751384104\n"
     ]
    },
    {
     "name": "stderr",
     "output_type": "stream",
     "text": [
      "┌ Info: Epoch 8\n",
      "└ @ Main /Users/raphaelpestourie/.julia/packages/Flux/EXOFx/src/optimise/train.jl:154\n"
     ]
    },
    {
     "name": "stdout",
     "output_type": "stream",
     "text": [
      "FE = 0.3175109741931523\n"
     ]
    },
    {
     "name": "stderr",
     "output_type": "stream",
     "text": [
      "┌ Info: Epoch 9\n",
      "└ @ Main /Users/raphaelpestourie/.julia/packages/Flux/EXOFx/src/optimise/train.jl:154\n"
     ]
    },
    {
     "name": "stdout",
     "output_type": "stream",
     "text": [
      "FE = 0.2668221298945284\n"
     ]
    },
    {
     "name": "stderr",
     "output_type": "stream",
     "text": [
      "┌ Info: Epoch 10\n",
      "└ @ Main /Users/raphaelpestourie/.julia/packages/Flux/EXOFx/src/optimise/train.jl:154\n"
     ]
    },
    {
     "name": "stdout",
     "output_type": "stream",
     "text": [
      "FE = 0.267150512771662\n",
      "642.674078 seconds (91.85 M allocations: 532.067 GiB, 7.72% gc time, 3.38% compilation time)\n"
     ]
    }
   ],
   "source": [
    "kval=2^7\n",
    "\n",
    "##define same AL parameters for all workers\n",
    "MPI.Barrier(comm)\n",
    "al1 = ALstruct(Ninit=256+8*kval, T=0);\n",
    "if MPI.Comm_rank(comm) == 0\n",
    "    @show kval\n",
    "end\n",
    "##ititialize DataRunner and DataSet\n",
    "dr = DataRunner(Xt, yt, [1]);\n",
    "ds = DataSet()\n",
    "validation_fes = []\n",
    "##initialize baseline\n",
    "(mgen, cw, mvar) = initmodel(nn)\n",
    "coarseinput(p) = begin \n",
    "    (coarsified, sd_freq) = Zygote.ignore() do\n",
    "        coarse_geom_func(p)\n",
    "    end\n",
    "    generated =dropdims(mgen(p), dims=3)\n",
    "    debug && isleader && any(isnan.(ϵcombine)) && writedlm(\"inputnan\", p) \n",
    "    debug && isleader && any(isnan.(ϵcombine)) && writedlm(\"mgennan\", mgen(p)) \n",
    "    debug && isleader && any(isnan.(ϵcombine)) && writedlm(\"mgennanparam\", ps)\n",
    "    debug && isleader && any(isnan.(ϵcombine)) && writedlm(\"errorcolor\", model_color)\n",
    "    w = NNlib.sigmoid.(cw*nn.multfact)\n",
    "    # w = max(0, min(1, cw))\n",
    "    ϵcombine = @. w * generated + (1-w) * coarsified\n",
    "    ϵsymmetric = ϵcombine#(ϵcombine .+ reverse(ϵcombine, dims=2))./2\n",
    "    return ϵsymmetric, sd_freq\n",
    "end\n",
    "m(p) = begin\n",
    "    ϵsymmetric, sd_freq = coarseinput(p)\n",
    "    return [realtransmissionSolver(ϵsymmetric, sd_freq = sd_freq); imagtransmissionSolver(ϵsymmetric, sd_freq = sd_freq)]\n",
    "end \n",
    "\n",
    "uq(p) = mvar(coarseinput(p)[1])\n",
    "\n",
    "mloglik(p) =  vcat(m(p), uq(p))\n",
    "ps = Flux.params(mgen, cw, mvar)\n",
    "# ps = Flux.params(mgen, mvar)\n",
    "loader = initloader(al1, dr, ds);\n",
    "opt = ADAM(al1.η)\n",
    "##train baseline\n",
    "if MPI.Comm_rank(comm)==0\n",
    "    @time Flux.@epochs al1.ne train_distributed!(comm, commModel, commLeader, mloglik, m, dNLL, ps, loader, opt, validation_fes, logging=true)\n",
    "else\n",
    "    Flux.@epochs al1.ne train_distributed!(comm, commModel, commLeader, mloglik, m, dNLL, ps, loader, opt, validation_fes, logging=true)\n",
    "end\n",
    "##active learning loop\n",
    "for t=1:al1.T\n",
    "    MPI.Comm_rank(comm) == 0 && @show t\n",
    "    loader= getloader(al1, dr, ds, X->varfilter(mloglik, X))\n",
    "    if MPI.Comm_rank(comm)==0 \n",
    "        @time Flux.@epochs al1.ne train_distributed!(comm, commModel, commLeader, mloglik, m, dNLL, ps, loader, opt, validation_fes, logging=true)\n",
    "    else\n",
    "        Flux.@epochs al1.ne train_distributed!(comm, commModel, commLeader, mloglik, m, dNLL, ps, loader, opt, validation_fes, logging=true)\n",
    "    end\n",
    "end\n",
    "\n",
    "# ##save models and validation FEs\n",
    "# name = \"PEDS10_example\"\n",
    "# if isleader\n",
    "#     BSON.@save \"$(name)_K$(kval)_mgen$(model_color).bson\" mgen\n",
    "#     BSON.@save \"$(name)_K$(kval)_cw$(model_color).bson\" cw\n",
    "#     BSON.@save \"$(name)_K$(kval)_mvar$(model_color).bson\" mvar\n",
    "# end\n",
    "# if MPI.Comm_rank(comm) == 0\n",
    "#     writedlm(\"$(name)_K$(kval)_validation_fes.csv\", validation_fes, ',')\n",
    "# end"
   ]
  },
  {
   "cell_type": "code",
   "execution_count": 5,
   "metadata": {},
   "outputs": [
    {
     "name": "stdout",
     "output_type": "stream",
     "text": [
      "FE = 0.27713426133559715\n"
     ]
    },
    {
     "data": {
      "text/plain": [
       "0.27713426133559715"
      ]
     },
     "execution_count": 5,
     "metadata": {},
     "output_type": "execute_result"
    }
   ],
   "source": [
    "dFE(comm, commModel, commLeader, m, valid=test)"
   ]
  },
  {
   "cell_type": "markdown",
   "metadata": {},
   "source": [
    "## PEDS result\n",
    "\n",
    "The fractional error on the test set is 0.278."
   ]
  },
  {
   "cell_type": "markdown",
   "metadata": {},
   "source": [
    "## Baseline"
   ]
  },
  {
   "cell_type": "code",
   "execution_count": 6,
   "metadata": {},
   "outputs": [
    {
     "name": "stdout",
     "output_type": "stream",
     "text": [
      "kval = 128\n"
     ]
    },
    {
     "name": "stderr",
     "output_type": "stream",
     "text": [
      "┌ Info: Epoch 1\n",
      "└ @ Main /Users/raphaelpestourie/.julia/packages/Flux/EXOFx/src/optimise/train.jl:154\n"
     ]
    },
    {
     "name": "stdout",
     "output_type": "stream",
     "text": [
      "FE = 0.858258856094463\n"
     ]
    },
    {
     "name": "stderr",
     "output_type": "stream",
     "text": [
      "┌ Info: Epoch 2\n",
      "└ @ Main /Users/raphaelpestourie/.julia/packages/Flux/EXOFx/src/optimise/train.jl:154\n"
     ]
    },
    {
     "name": "stdout",
     "output_type": "stream",
     "text": [
      "FE = 0.7809582822116725\n"
     ]
    },
    {
     "name": "stderr",
     "output_type": "stream",
     "text": [
      "┌ Info: Epoch 3\n",
      "└ @ Main /Users/raphaelpestourie/.julia/packages/Flux/EXOFx/src/optimise/train.jl:154\n"
     ]
    },
    {
     "name": "stdout",
     "output_type": "stream",
     "text": [
      "FE = 0.703747328578164\n"
     ]
    },
    {
     "name": "stderr",
     "output_type": "stream",
     "text": [
      "┌ Info: Epoch 4\n",
      "└ @ Main /Users/raphaelpestourie/.julia/packages/Flux/EXOFx/src/optimise/train.jl:154\n"
     ]
    },
    {
     "name": "stdout",
     "output_type": "stream",
     "text": [
      "FE = 0.6416452920266059\n"
     ]
    },
    {
     "name": "stderr",
     "output_type": "stream",
     "text": [
      "┌ Info: Epoch 5\n",
      "└ @ Main /Users/raphaelpestourie/.julia/packages/Flux/EXOFx/src/optimise/train.jl:154\n"
     ]
    },
    {
     "name": "stdout",
     "output_type": "stream",
     "text": [
      "FE = 0.6175040164581953\n"
     ]
    },
    {
     "name": "stderr",
     "output_type": "stream",
     "text": [
      "┌ Info: Epoch 6\n",
      "└ @ Main /Users/raphaelpestourie/.julia/packages/Flux/EXOFx/src/optimise/train.jl:154\n"
     ]
    },
    {
     "name": "stdout",
     "output_type": "stream",
     "text": [
      "FE = 0.565809767735542\n"
     ]
    },
    {
     "name": "stderr",
     "output_type": "stream",
     "text": [
      "┌ Info: Epoch 7\n",
      "└ @ Main /Users/raphaelpestourie/.julia/packages/Flux/EXOFx/src/optimise/train.jl:154\n"
     ]
    },
    {
     "name": "stdout",
     "output_type": "stream",
     "text": [
      "FE = 0.5197141398355253\n"
     ]
    },
    {
     "name": "stderr",
     "output_type": "stream",
     "text": [
      "┌ Info: Epoch 8\n",
      "└ @ Main /Users/raphaelpestourie/.julia/packages/Flux/EXOFx/src/optimise/train.jl:154\n"
     ]
    },
    {
     "name": "stdout",
     "output_type": "stream",
     "text": [
      "FE = 0.545490018445373\n"
     ]
    },
    {
     "name": "stderr",
     "output_type": "stream",
     "text": [
      "┌ Info: Epoch 9\n",
      "└ @ Main /Users/raphaelpestourie/.julia/packages/Flux/EXOFx/src/optimise/train.jl:154\n"
     ]
    },
    {
     "name": "stdout",
     "output_type": "stream",
     "text": [
      "FE = 0.5087716880945948\n"
     ]
    },
    {
     "name": "stderr",
     "output_type": "stream",
     "text": [
      "┌ Info: Epoch 10\n",
      "└ @ Main /Users/raphaelpestourie/.julia/packages/Flux/EXOFx/src/optimise/train.jl:154\n"
     ]
    },
    {
     "name": "stdout",
     "output_type": "stream",
     "text": [
      "FE = 0.5260581339153209\n",
      "111.182660 seconds (7.58 M allocations: 138.211 GiB, 14.31% gc time, 1.59% compilation time)\n"
     ]
    }
   ],
   "source": [
    "##define same AL parameters for all workers\n",
    "MPI.Barrier(comm)\n",
    "al1 = ALstruct(Ninit=256+8*kval, T=0);\n",
    "\n",
    "if MPI.Comm_rank(comm) == 0\n",
    "    @show kval\n",
    "end\n",
    "##ititialize DataRunner and DataSet\n",
    "dr = DataRunner(Xt, yt, [1]);\n",
    "ds = DataSet()\n",
    "validation_fes = []\n",
    "##initialize baseline\n",
    "(mgen, pred, mvar) = initbase(nn)\n",
    "mloglik(p) =  vcat(pred(mgen(p)), mvar(mgen(p)))\n",
    "m(p) = pred(mgen(p))\n",
    "ps = Flux.params(mgen, pred, mvar)\n",
    "loader = initloader(al1, dr, ds);\n",
    "opt = ADAM(al1.η)\n",
    "##train baseline\n",
    "if MPI.Comm_rank(comm)==0\n",
    "    @time Flux.@epochs al1.ne train_distributed!(comm, commModel, commLeader, mloglik, m, dNLL, ps, loader, opt, validation_fes, logging=true)\n",
    "else\n",
    "    Flux.@epochs al1.ne train_distributed!(comm, commModel, commLeader, mloglik, m, dNLL, ps, loader, opt, validation_fes, logging=true)\n",
    "end\n",
    "##active learning loop\n",
    "for t=1:al1.T\n",
    "    MPI.Comm_rank(comm) == 0 && @show t\n",
    "    loader= getloader(al1, dr, ds, X->varfilter(mloglik, X)) \n",
    "    if MPI.Comm_rank(comm)==0 \n",
    "        @time Flux.@epochs al1.ne train_distributed!(comm, commModel, commLeader, mloglik, m, dNLL, ps, loader, opt, validation_fes, logging=true)\n",
    "    else\n",
    "        Flux.@epochs al1.ne train_distributed!(comm, commModel, commLeader, mloglik, m, dNLL, ps, loader, opt, validation_fes, logging=true)\n",
    "    end\n",
    "end\n",
    "\n",
    "# ##save models and validation FEs\n",
    "# name = \"baseline10_noal_example\"\n",
    "# if isleader\n",
    "#     BSON.@save \"$(name)_K$(kval)_mgen$(model_color).bson\" mgen\n",
    "#     BSON.@save \"$(name)_K$(kval)_pred$(model_color).bson\" pred\n",
    "#     BSON.@save \"$(name)_K$(kval)_mvar$(model_color).bson\" mvar\n",
    "# end\n",
    "# if MPI.Comm_rank(comm) == 0\n",
    "#     writedlm(\"$(name)_K$(kval)_validation_fes.csv\", validation_fes, ',')\n",
    "# end"
   ]
  },
  {
   "cell_type": "code",
   "execution_count": 7,
   "metadata": {},
   "outputs": [
    {
     "name": "stdout",
     "output_type": "stream",
     "text": [
      "FE = 0.5412049574053728\n"
     ]
    },
    {
     "data": {
      "text/plain": [
       "0.5412049574053728"
      ]
     },
     "execution_count": 7,
     "metadata": {},
     "output_type": "execute_result"
    }
   ],
   "source": [
    "dFE(comm, commModel, commLeader, m, valid=test)"
   ]
  },
  {
   "cell_type": "markdown",
   "metadata": {},
   "source": [
    "## Baseline result \n",
    "\n",
    "The fractional error on the test set is 0.541."
   ]
  },
  {
   "cell_type": "markdown",
   "metadata": {},
   "source": [
    "# Overall result\n",
    "\n",
    "With about 1000 data points, a single model PEDS model leads to a 1.9x improvement compared to the NN-only baseline. For the Maxwell surrogate, in contrast to diffusion and reaction-diffusion equations, more points are needed to achieve an accuracy comparable to fabrication error (< 5%)."
   ]
  },
  {
   "cell_type": "code",
   "execution_count": null,
   "metadata": {},
   "outputs": [],
   "source": []
  }
 ],
 "metadata": {
  "kernelspec": {
   "display_name": "Julia 1.6.3",
   "language": "julia",
   "name": "julia-1.6"
  },
  "language_info": {
   "file_extension": ".jl",
   "mimetype": "application/julia",
   "name": "julia",
   "version": "1.6.3"
  }
 },
 "nbformat": 4,
 "nbformat_minor": 4
}
