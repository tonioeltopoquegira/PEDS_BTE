{
 "cells": [
  {
   "cell_type": "markdown",
   "metadata": {},
   "source": [
    "# PEDS example: Reaction--diffusion surrogate using a diffusion equation coarse solver\n",
    "\n",
    "This example of PEDS shows how to use the code from: *Pestourie, Raphaël, et al. \"Physics-enhanced deep surrogates for PDEs.\"*  In this example notebook, we illustrate PEDS for the surrogate of the reaction--diffusion equation's flux where the approximate solver is a coarse diffusion equation's solver. For this example, the input is the side length of 16 holes in a material.\n",
    "\n",
    "NB: since the approximate solver is the same for the reaction-diffusion and the diffusion surrogates, training the surrogate models with the 25 holes structures for the reaction-diffusion equation necessitates only to change the dataset from `X/y_fisher16_small.csv` to `X/y_fourier16_small.csv`.\n",
    "    \n",
    "## Note on implementation\n",
    "\n",
    "In this notebook, we run the training on a single processor and J=1.\n",
    "\n",
    "However, the implementation of this code is meant to be parallel on multiple processors, where the element of a batch is computed in parallel over J groups of CPUs (J is the number models in the ensemble). For example, with a julia file `train_PEDS.jl`containing functions calls similart to the code in the cells below, the command to run large-scale training on a cluster would be:\n",
    "    \n",
    "`mpiexec -n 320 julia train_PEDS.jl` "
   ]
  },
  {
   "cell_type": "code",
   "execution_count": 1,
   "metadata": {},
   "outputs": [],
   "source": [
    "#initialize functions\n",
    "\n",
    "include(\"../src/PEDS.jl\")\n",
    "include(\"../src/fourier_solver.jl\")\n",
    "\n",
    "##training functionalities\n",
    "function train_distributed!(comm, commModel, commLeader, mloglik, m, loss, ps, loader, opt, validation_fes; logging=false)\n",
    "\n",
    "    train_lossmean = 0.\n",
    "    k = 0\n",
    "    for d in loader\n",
    "        X,y = d #change for Fourier\n",
    "        train_loss, back = Zygote.pullback(() -> loss(commModel, mloglik, m, X, y), ps)\n",
    "        train_lossmean *= k\n",
    "        k+=1\n",
    "        train_lossmean += train_loss\n",
    "        train_lossmean /= k\n",
    "\n",
    "        gs = back(Float32(1.))\n",
    "        if debug && isleader\n",
    "            if isnan(train_loss)\n",
    "                @show (model_color, train_loss)\n",
    "            end\n",
    "        end\n",
    "        for x in ps\n",
    "            gs[x][:] .= (sum_reduce(commModel, (gs[x][:]) ))\n",
    "            if debug && isleader\n",
    "                if any(isnan.(gs[x][:]))\n",
    "                    @show (model_color, train_loss)\n",
    "                    @show (length(x), length(findall(isnan,x)), length(findall(isnan,gs[x][:])))\n",
    "                end\n",
    "\n",
    "                if any(isinf.(gs[x][:]))\n",
    "                    @show (model_color, train_loss)\n",
    "                    @show (length(x), length(findall(isinf,x)), length(findall(isinf,gs[x][:])))\n",
    "                end\n",
    "            end\n",
    "        end\n",
    "\n",
    "        if debug && isleader\n",
    "            for p_ in ps\n",
    "                if any(isnan.(p_))\n",
    "                    @show (model_color, \"before update\")\n",
    "                end\n",
    "            end\n",
    "        end\n",
    "        Flux.Optimise.update!(opt, ps, gs)\n",
    "        if debug && isleader\n",
    "            for p_ in ps\n",
    "                if any(isnan.(p_))\n",
    "                    @show (model_color, \"after update\")\n",
    "                end\n",
    "            end\n",
    "        end\n",
    "    end\n",
    "\n",
    "    # logging && push!(validation_fes, dFE(comm, commModel, commLeader, m))\n",
    "    #changing for fourier\n",
    "    if logging\n",
    "        if MPI.Comm_rank(comm) == 0\n",
    "            @show train_lossmean\n",
    "            push!(validation_fes, train_lossmean)\n",
    "        end\n",
    "        MPI.Barrier(comm)\n",
    "        valid_lossMSE = lossvalid(comm, commModel, commLeader, mloglik, m)\n",
    "        valid_lossFE = dFE_1d(comm, commModel, commLeader, m)\n",
    "        if MPI.Comm_rank(comm) == 0\n",
    "            push!(validation_fes, valid_lossMSE)\n",
    "            push!(validation_fes, valid_lossFE)\n",
    "        end\n",
    "    end\n",
    "end\n",
    "\n",
    "function pore(p, resolution; lowval=0.1)\n",
    "\n",
    "    if resolution % 2==0\n",
    "        inner = p/2*resolution ÷ 1\n",
    "        w =  (p*resolution)/2 % 1\n",
    "\n",
    "        isqb = Int((resolution/2+inner) ÷ 1) # square index to the right\n",
    "        isqa = Int((resolution/2-inner) ÷ 1) # square index to the left\n",
    "    else\n",
    "        inner = p/2*resolution ÷ 1\n",
    "        w = ((p*resolution)/2 % 1)\n",
    "        w*= resolution ==1 ? 2 : 1\n",
    "        isqb = Int((resolution/2+inner) ÷ 1) # square index to the right\n",
    "        isqa = Int((resolution/2-inner) ÷ 1)+1 # square index to the left\n",
    "    end\n",
    "\n",
    "    begin\n",
    "        A1 = ones((resolution, resolution))\n",
    "        A2 = ones((resolution, resolution))\n",
    "        A1[isqa+1:isqb, isqa+1:isqb] .= lowval\n",
    "\n",
    "        if isqa==0 && w==0\n",
    "            return A1\n",
    "        elseif isqa==0 && w!=0\n",
    "            return A1 .* (1-w)\n",
    "        else\n",
    "            A2[isqa:isqb+1, isqa:isqb+1] .= lowval\n",
    "            return A1 .* (1-w) .+ A2 .* w\n",
    "        end\n",
    "    end\n",
    "\n",
    "end\n",
    "\n",
    "function generatepores(ps, resolution)\n",
    "    n = sqrt(length(ps))\n",
    "    N = resolution÷n\n",
    "    @assert n == Int(n)\n",
    "    @assert N == Int(N)\n",
    "    n = Int(n)\n",
    "    N = Int(N)\n",
    "    pores = zeros((resolution, resolution))\n",
    "    for (k,p) in enumerate(ps)\n",
    "        i = (k-1)÷n\n",
    "        j = (k-1)%n\n",
    "        pores[i*N+1:(i+1)*N, j*N+1:(j+1)*N] = pore(p, N)\n",
    "    end\n",
    "    return pores\n",
    "end\n",
    "\n",
    "ChainRules.@non_differentiable generatepores(ps, resolution)"
   ]
  },
  {
   "cell_type": "code",
   "execution_count": 2,
   "metadata": {},
   "outputs": [],
   "source": [
    "startp, endp = 7, 7\n",
    "PEDSname = \"PEDS\"\n",
    "equation = \"exampleFisher\"\n",
    "\n",
    "ninit = 64\n",
    "Jval = 1\n",
    "\n",
    "cwval = 0.05\n",
    "learningrate = 5e-5\n",
    "nnodes =128\n",
    "\n",
    "optimizerfunc, optname = Flux.ADAM, \"ADAM\"\n",
    "\n",
    "number_epoch = 200\n",
    "batchsize = 64\n",
    "\n",
    "datalimitvalid = 2^10\n",
    "\n",
    "Ks = Int[2^i for i=startp:endp]\n",
    "\n",
    "coarseresolution = 4\n",
    "Lx = Ly = 1\n",
    "nin=Int(coarseresolution^2)\n",
    "coarse_sim = setsimulation(Lx, Ly, coarseresolution);\n",
    "nout = coarseresolution^2\n",
    "const avgOpcoarse = create_cOp(coarseresolution);\n",
    "\n",
    "endname = \"$(equation)_$(2^startp)to$(2^endp)_ne$(number_epoch)_lr$(learningrate)_bs$(batchsize)_opt$(optname)_hn$(nnodes)_coarse$(coarseresolution)_seed\";\n",
    "\n",
    "##loading data\n",
    "X = readdlm(\"../data/X_fisher$(coarseresolution^2)_small.csv\", ',')\n",
    "y = readdlm(\"../data/y_fisher$(coarseresolution^2)_small.csv\", ',')[:];\n",
    "\n",
    "Xv = X[:, 1:1024] #valid set\n",
    "Xtest = X[:, end-1023:end] #test set\n",
    "Xt = X[:, 1025:end]\n",
    "\n",
    "yv = y[1:1024] #valid set\n",
    "ytest = y[end-1023:end] #test set\n",
    "yt = y[1025:end];"
   ]
  },
  {
   "cell_type": "code",
   "execution_count": 3,
   "metadata": {},
   "outputs": [
    {
     "data": {
      "text/plain": [
       "dFE_1d (generic function with 1 method)"
      ]
     },
     "execution_count": 3,
     "metadata": {},
     "output_type": "execute_result"
    }
   ],
   "source": [
    "##Definition of problem constants\n",
    "const debug = false\n",
    "const drv = DataRunner(Xv, yv, [1]);\n",
    "const al = ALstruct(J=Jval, Nvalid=datalimitvalid, batchsize=batchsize);\n",
    "const valid = initvalid(al, drv) #validation loader\n",
    "\n",
    "const drtest = DataRunner(Xtest, ytest, [1]);\n",
    "const test = initvalid(al, drtest) #validation loader\n",
    "\n",
    "##setup MPI and random\n",
    "const comm = MPI.COMM_WORLD\n",
    "const model_color = MPI.Comm_rank(comm)%al.J\n",
    "const commModel = MPI.Comm_split(comm, model_color, 0)\n",
    "const isleader = MPI.Comm_rank(commModel) == 0\n",
    "const commLeader = MPI.Comm_split(comm, isleader, 0)\n",
    "debug && print(\"Comm rank=$(MPI.Comm_rank(comm)), commModel rank = $(MPI.Comm_rank(commModel)), commLeader rank = $(MPI.Comm_rank(commLeader))\\n\")\n",
    "\n",
    "Random.seed!(2138*(model_color+1)) #alter seed for different groups\n",
    "\n",
    "function lossvalid(comm, commModel, commLeader, mloglik, m)\n",
    "    valid_lossmean = 0.\n",
    "    k = 0\n",
    "    testmode!(m, true)\n",
    "    for d in valid\n",
    "        X,y=d\n",
    "        valid_loss = dMSE(commModel, mloglik, m, X, y)\n",
    "\n",
    "        valid_lossmean *= k\n",
    "        k+=1\n",
    "        valid_lossmean += valid_loss\n",
    "        valid_lossmean /= k\n",
    "    end\n",
    "    testmode!(m, false)\n",
    "    # MPI.Comm_rank(commModel)== 0 && @show valid_lossmean\n",
    "    valid_lossmean = sum_reduce(commLeader, valid_lossmean) / al.J\n",
    "    MPI.Comm_rank(comm) == 0 && @show valid_lossmean\n",
    "    return valid_lossmean\n",
    "end\n",
    "\n",
    "function dFE_1d(comm, commModel, commLeader, m; valid=valid) \"\"\"dFE computes the FE using parallelization over the batch with MPI\"\"\"\n",
    "    evalsr = zeros(al.Nvalid)\n",
    "    FE = 0.\n",
    "    j=0\n",
    "    ys = []\n",
    "    testmode!(m, true)\n",
    "    for (x, y) in valid\n",
    "                rp = m(x[:,1+MPI.Comm_rank(commModel):MPI.Comm_size(commModel):length(y)])[:]\n",
    "        evalsr[j*length(y)+1+MPI.Comm_rank(commModel):MPI.Comm_size(commModel):j*length(y)+length(y)] .= rp\n",
    "        push!(ys, y...)\n",
    "        j+=1\n",
    "    end\n",
    "    testmode!(m, false)\n",
    "    evalsrModel = sum_reduce(commModel, evalsr)\n",
    "    evalsr = sum_reduce(commLeader, evalsrModel) / al.J\n",
    "    if MPI.Comm_rank(comm) == 0\n",
    "        FE = norm(evalsr - ys)/norm(ys)\n",
    "        MPI.Comm_rank(comm) == 0 && @show FE\n",
    "    end\n",
    "    return FE\n",
    "end"
   ]
  },
  {
   "cell_type": "markdown",
   "metadata": {},
   "source": [
    "# PEDS"
   ]
  },
  {
   "cell_type": "code",
   "execution_count": 4,
   "metadata": {},
   "outputs": [
    {
     "name": "stdout",
     "output_type": "stream",
     "text": [
      "kval = 128\n",
      "256 + 8kval = 1280\n"
     ]
    },
    {
     "name": "stderr",
     "output_type": "stream",
     "text": [
      "┌ Info: Epoch 1\n",
      "└ @ Main /Users/raphaelpestourie/.julia/packages/Flux/EXOFx/src/optimise/train.jl:154\n"
     ]
    },
    {
     "name": "stdout",
     "output_type": "stream",
     "text": [
      "train_lossmean = 7.042909392808912e-5\n",
      "valid_lossmean = 0.0061226879368676875\n",
      "FE = 0.16059397858016888\n"
     ]
    },
    {
     "name": "stderr",
     "output_type": "stream",
     "text": [
      "┌ Info: Epoch 2\n",
      "└ @ Main /Users/raphaelpestourie/.julia/packages/Flux/EXOFx/src/optimise/train.jl:154\n"
     ]
    },
    {
     "name": "stdout",
     "output_type": "stream",
     "text": [
      "train_lossmean = 6.341972747794767e-5\n",
      "valid_lossmean = 0.005388577354486344\n",
      "FE = 0.15065906088131042\n"
     ]
    },
    {
     "name": "stderr",
     "output_type": "stream",
     "text": [
      "┌ Info: Epoch 3\n",
      "└ @ Main /Users/raphaelpestourie/.julia/packages/Flux/EXOFx/src/optimise/train.jl:154\n"
     ]
    },
    {
     "name": "stdout",
     "output_type": "stream",
     "text": [
      "train_lossmean = 6.083447258975376e-5\n",
      "valid_lossmean = 0.005177806667255543\n",
      "FE = 0.14768320553127198\n"
     ]
    },
    {
     "name": "stderr",
     "output_type": "stream",
     "text": [
      "┌ Info: Epoch 4\n",
      "└ @ Main /Users/raphaelpestourie/.julia/packages/Flux/EXOFx/src/optimise/train.jl:154\n"
     ]
    },
    {
     "name": "stdout",
     "output_type": "stream",
     "text": [
      "train_lossmean = 5.980984259333528e-5\n",
      "valid_lossmean = 0.005090293616193124\n",
      "FE = 0.14642984817219407\n"
     ]
    },
    {
     "name": "stderr",
     "output_type": "stream",
     "text": [
      "┌ Info: Epoch 5\n",
      "└ @ Main /Users/raphaelpestourie/.julia/packages/Flux/EXOFx/src/optimise/train.jl:154\n"
     ]
    },
    {
     "name": "stdout",
     "output_type": "stream",
     "text": [
      "train_lossmean = 5.921202250587817e-5\n",
      "valid_lossmean = 0.004968439193629799\n",
      "FE = 0.14466657002740377\n"
     ]
    },
    {
     "name": "stderr",
     "output_type": "stream",
     "text": [
      "┌ Info: Epoch 6\n",
      "└ @ Main /Users/raphaelpestourie/.julia/packages/Flux/EXOFx/src/optimise/train.jl:154\n"
     ]
    },
    {
     "name": "stdout",
     "output_type": "stream",
     "text": [
      "train_lossmean = 5.835522666372692e-5\n",
      "valid_lossmean = 0.004673165476691721\n",
      "FE = 0.14030197190975863\n"
     ]
    },
    {
     "name": "stderr",
     "output_type": "stream",
     "text": [
      "┌ Info: Epoch 7\n",
      "└ @ Main /Users/raphaelpestourie/.julia/packages/Flux/EXOFx/src/optimise/train.jl:154\n"
     ]
    },
    {
     "name": "stdout",
     "output_type": "stream",
     "text": [
      "train_lossmean = 5.704063897728455e-5\n",
      "valid_lossmean = 0.004347676347153957\n",
      "FE = 0.13532773044922183\n"
     ]
    },
    {
     "name": "stderr",
     "output_type": "stream",
     "text": [
      "┌ Info: Epoch 8\n",
      "└ @ Main /Users/raphaelpestourie/.julia/packages/Flux/EXOFx/src/optimise/train.jl:154\n"
     ]
    },
    {
     "name": "stdout",
     "output_type": "stream",
     "text": [
      "train_lossmean = 5.4947929677053264e-5\n",
      "valid_lossmean = 0.003886060470171431\n",
      "FE = 0.12794195195845431\n"
     ]
    },
    {
     "name": "stderr",
     "output_type": "stream",
     "text": [
      "┌ Info: Epoch 9\n",
      "└ @ Main /Users/raphaelpestourie/.julia/packages/Flux/EXOFx/src/optimise/train.jl:154\n"
     ]
    },
    {
     "name": "stdout",
     "output_type": "stream",
     "text": [
      "train_lossmean = 5.163956278880603e-5\n",
      "valid_lossmean = 0.0031476350730569474\n",
      "FE = 0.115146404927782\n"
     ]
    },
    {
     "name": "stderr",
     "output_type": "stream",
     "text": [
      "┌ Info: Epoch 10\n",
      "└ @ Main /Users/raphaelpestourie/.julia/packages/Flux/EXOFx/src/optimise/train.jl:154\n"
     ]
    },
    {
     "name": "stdout",
     "output_type": "stream",
     "text": [
      "train_lossmean = 4.7095611623320426e-5\n",
      "valid_lossmean = 0.002358693516703302\n",
      "FE = 0.09967676895760252\n"
     ]
    },
    {
     "name": "stderr",
     "output_type": "stream",
     "text": [
      "┌ Info: Epoch 11\n",
      "└ @ Main /Users/raphaelpestourie/.julia/packages/Flux/EXOFx/src/optimise/train.jl:154\n"
     ]
    },
    {
     "name": "stdout",
     "output_type": "stream",
     "text": [
      "train_lossmean = 4.083827752877201e-5\n",
      "valid_lossmean = 0.001966145911921746\n",
      "FE = 0.09100517045735859\n"
     ]
    },
    {
     "name": "stderr",
     "output_type": "stream",
     "text": [
      "┌ Info: Epoch 12\n",
      "└ @ Main /Users/raphaelpestourie/.julia/packages/Flux/EXOFx/src/optimise/train.jl:154\n"
     ]
    },
    {
     "name": "stdout",
     "output_type": "stream",
     "text": [
      "train_lossmean = 3.919313746824996e-5\n",
      "valid_lossmean = 0.0019195080097244416\n",
      "FE = 0.08991935013145805\n"
     ]
    },
    {
     "name": "stderr",
     "output_type": "stream",
     "text": [
      "┌ Info: Epoch 13\n",
      "└ @ Main /Users/raphaelpestourie/.julia/packages/Flux/EXOFx/src/optimise/train.jl:154\n"
     ]
    },
    {
     "name": "stdout",
     "output_type": "stream",
     "text": [
      "train_lossmean = 3.752761997148753e-5\n",
      "valid_lossmean = 0.0017169324158489143\n",
      "FE = 0.08504226043179887\n"
     ]
    },
    {
     "name": "stderr",
     "output_type": "stream",
     "text": [
      "┌ Info: Epoch 14\n",
      "└ @ Main /Users/raphaelpestourie/.julia/packages/Flux/EXOFx/src/optimise/train.jl:154\n"
     ]
    },
    {
     "name": "stdout",
     "output_type": "stream",
     "text": [
      "train_lossmean = 3.631052041743131e-5\n",
      "valid_lossmean = 0.0016501605306909848\n",
      "FE = 0.08337220596860859\n"
     ]
    },
    {
     "name": "stderr",
     "output_type": "stream",
     "text": [
      "┌ Info: Epoch 15\n",
      "└ @ Main /Users/raphaelpestourie/.julia/packages/Flux/EXOFx/src/optimise/train.jl:154\n"
     ]
    },
    {
     "name": "stdout",
     "output_type": "stream",
     "text": [
      "train_lossmean = 3.5530394120715786e-5\n",
      "valid_lossmean = 0.001553505006217098\n",
      "FE = 0.08089366714737797\n"
     ]
    },
    {
     "name": "stderr",
     "output_type": "stream",
     "text": [
      "┌ Info: Epoch 16\n",
      "└ @ Main /Users/raphaelpestourie/.julia/packages/Flux/EXOFx/src/optimise/train.jl:154\n"
     ]
    },
    {
     "name": "stdout",
     "output_type": "stream",
     "text": [
      "train_lossmean = 3.4435393422584764e-5\n",
      "valid_lossmean = 0.0014939579332626008\n",
      "FE = 0.07932815973055747\n"
     ]
    },
    {
     "name": "stderr",
     "output_type": "stream",
     "text": [
      "┌ Info: Epoch 17\n",
      "└ @ Main /Users/raphaelpestourie/.julia/packages/Flux/EXOFx/src/optimise/train.jl:154\n"
     ]
    },
    {
     "name": "stdout",
     "output_type": "stream",
     "text": [
      "train_lossmean = 3.3257536058641144e-5\n",
      "valid_lossmean = 0.0014433852139295476\n",
      "FE = 0.07797391156616122\n"
     ]
    },
    {
     "name": "stderr",
     "output_type": "stream",
     "text": [
      "┌ Info: Epoch 18\n",
      "└ @ Main /Users/raphaelpestourie/.julia/packages/Flux/EXOFx/src/optimise/train.jl:154\n"
     ]
    },
    {
     "name": "stdout",
     "output_type": "stream",
     "text": [
      "train_lossmean = 3.472672791861738e-5\n",
      "valid_lossmean = 0.0014199350169320237\n",
      "FE = 0.07733790972459474\n"
     ]
    },
    {
     "name": "stderr",
     "output_type": "stream",
     "text": [
      "┌ Info: Epoch 19\n",
      "└ @ Main /Users/raphaelpestourie/.julia/packages/Flux/EXOFx/src/optimise/train.jl:154\n"
     ]
    },
    {
     "name": "stdout",
     "output_type": "stream",
     "text": [
      "train_lossmean = 3.391546200377919e-5\n",
      "valid_lossmean = 0.0013644007883674262\n",
      "FE = 0.07581046770506616\n"
     ]
    },
    {
     "name": "stderr",
     "output_type": "stream",
     "text": [
      "┌ Info: Epoch 20\n",
      "└ @ Main /Users/raphaelpestourie/.julia/packages/Flux/EXOFx/src/optimise/train.jl:154\n"
     ]
    },
    {
     "name": "stdout",
     "output_type": "stream",
     "text": [
      "train_lossmean = 3.2146421885895326e-5\n",
      "valid_lossmean = 0.0013039150270218374\n",
      "FE = 0.07411102849559234\n"
     ]
    },
    {
     "name": "stderr",
     "output_type": "stream",
     "text": [
      "┌ Info: Epoch 21\n",
      "└ @ Main /Users/raphaelpestourie/.julia/packages/Flux/EXOFx/src/optimise/train.jl:154\n"
     ]
    },
    {
     "name": "stdout",
     "output_type": "stream",
     "text": [
      "train_lossmean = 3.1937128883573094e-5\n",
      "valid_lossmean = 0.0012880046259930384\n",
      "FE = 0.07365748848911227\n"
     ]
    },
    {
     "name": "stderr",
     "output_type": "stream",
     "text": [
      "┌ Info: Epoch 22\n",
      "└ @ Main /Users/raphaelpestourie/.julia/packages/Flux/EXOFx/src/optimise/train.jl:154\n"
     ]
    },
    {
     "name": "stdout",
     "output_type": "stream",
     "text": [
      "train_lossmean = 3.25370652559855e-5\n",
      "valid_lossmean = 0.0013208075664063353\n",
      "FE = 0.07458954693896408\n"
     ]
    },
    {
     "name": "stderr",
     "output_type": "stream",
     "text": [
      "┌ Info: Epoch 23\n",
      "└ @ Main /Users/raphaelpestourie/.julia/packages/Flux/EXOFx/src/optimise/train.jl:154\n"
     ]
    },
    {
     "name": "stdout",
     "output_type": "stream",
     "text": [
      "train_lossmean = 3.112817661204202e-5\n",
      "valid_lossmean = 0.001216905516734457\n",
      "FE = 0.0715956481571281\n"
     ]
    },
    {
     "name": "stderr",
     "output_type": "stream",
     "text": [
      "┌ Info: Epoch 24\n",
      "└ @ Main /Users/raphaelpestourie/.julia/packages/Flux/EXOFx/src/optimise/train.jl:154\n"
     ]
    },
    {
     "name": "stdout",
     "output_type": "stream",
     "text": [
      "train_lossmean = 3.109170353298982e-5\n",
      "valid_lossmean = 0.00119540360303661\n",
      "FE = 0.07096030530904457\n"
     ]
    },
    {
     "name": "stderr",
     "output_type": "stream",
     "text": [
      "┌ Info: Epoch 25\n",
      "└ @ Main /Users/raphaelpestourie/.julia/packages/Flux/EXOFx/src/optimise/train.jl:154\n"
     ]
    },
    {
     "name": "stdout",
     "output_type": "stream",
     "text": [
      "train_lossmean = 3.142691411382063e-5\n",
      "valid_lossmean = 0.0012015367406809617\n",
      "FE = 0.07114210688837906\n"
     ]
    },
    {
     "name": "stderr",
     "output_type": "stream",
     "text": [
      "┌ Info: Epoch 26\n",
      "└ @ Main /Users/raphaelpestourie/.julia/packages/Flux/EXOFx/src/optimise/train.jl:154\n"
     ]
    },
    {
     "name": "stdout",
     "output_type": "stream",
     "text": [
      "train_lossmean = 3.0281680038620237e-5\n",
      "valid_lossmean = 0.0011342873406746774\n",
      "FE = 0.06912254783276449\n"
     ]
    },
    {
     "name": "stderr",
     "output_type": "stream",
     "text": [
      "┌ Info: Epoch 27\n",
      "└ @ Main /Users/raphaelpestourie/.julia/packages/Flux/EXOFx/src/optimise/train.jl:154\n"
     ]
    },
    {
     "name": "stdout",
     "output_type": "stream",
     "text": [
      "train_lossmean = 2.984921819902868e-5\n",
      "valid_lossmean = 0.0010779142933149278\n",
      "FE = 0.06738299502988808\n"
     ]
    },
    {
     "name": "stderr",
     "output_type": "stream",
     "text": [
      "┌ Info: Epoch 28\n",
      "└ @ Main /Users/raphaelpestourie/.julia/packages/Flux/EXOFx/src/optimise/train.jl:154\n"
     ]
    },
    {
     "name": "stdout",
     "output_type": "stream",
     "text": [
      "train_lossmean = 2.993270090853858e-5\n",
      "valid_lossmean = 0.0010583791527727408\n",
      "FE = 0.06676960908139692\n"
     ]
    },
    {
     "name": "stderr",
     "output_type": "stream",
     "text": [
      "┌ Info: Epoch 29\n",
      "└ @ Main /Users/raphaelpestourie/.julia/packages/Flux/EXOFx/src/optimise/train.jl:154\n"
     ]
    },
    {
     "name": "stdout",
     "output_type": "stream",
     "text": [
      "train_lossmean = 2.9894911468066525e-5\n",
      "valid_lossmean = 0.0010718991444063468\n",
      "FE = 0.06719472134670865\n"
     ]
    },
    {
     "name": "stderr",
     "output_type": "stream",
     "text": [
      "┌ Info: Epoch 30\n",
      "└ @ Main /Users/raphaelpestourie/.julia/packages/Flux/EXOFx/src/optimise/train.jl:154\n"
     ]
    },
    {
     "name": "stdout",
     "output_type": "stream",
     "text": [
      "train_lossmean = 2.864828279094486e-5\n",
      "valid_lossmean = 0.0010011445861503553\n",
      "FE = 0.06493914954679975\n"
     ]
    },
    {
     "name": "stderr",
     "output_type": "stream",
     "text": [
      "┌ Info: Epoch 31\n",
      "└ @ Main /Users/raphaelpestourie/.julia/packages/Flux/EXOFx/src/optimise/train.jl:154\n"
     ]
    },
    {
     "name": "stdout",
     "output_type": "stream",
     "text": [
      "train_lossmean = 2.967875955936962e-5\n",
      "valid_lossmean = 0.0009795905895612642\n",
      "FE = 0.0642362969907142\n"
     ]
    },
    {
     "name": "stderr",
     "output_type": "stream",
     "text": [
      "┌ Info: Epoch 32\n",
      "└ @ Main /Users/raphaelpestourie/.julia/packages/Flux/EXOFx/src/optimise/train.jl:154\n"
     ]
    },
    {
     "name": "stdout",
     "output_type": "stream",
     "text": [
      "train_lossmean = 2.921738259631252e-5\n",
      "valid_lossmean = 0.0010310560949010077\n",
      "FE = 0.06590211339357774\n"
     ]
    },
    {
     "name": "stderr",
     "output_type": "stream",
     "text": [
      "┌ Info: Epoch 33\n",
      "└ @ Main /Users/raphaelpestourie/.julia/packages/Flux/EXOFx/src/optimise/train.jl:154\n"
     ]
    },
    {
     "name": "stdout",
     "output_type": "stream",
     "text": [
      "train_lossmean = 2.866007397669586e-5\n",
      "valid_lossmean = 0.0010005661767865993\n",
      "FE = 0.06492038760196274\n"
     ]
    },
    {
     "name": "stderr",
     "output_type": "stream",
     "text": [
      "┌ Info: Epoch 34\n",
      "└ @ Main /Users/raphaelpestourie/.julia/packages/Flux/EXOFx/src/optimise/train.jl:154\n"
     ]
    },
    {
     "name": "stdout",
     "output_type": "stream",
     "text": [
      "train_lossmean = 2.8206242465340144e-5\n",
      "valid_lossmean = 0.0009422055266968312\n",
      "FE = 0.06299861747446253\n"
     ]
    },
    {
     "name": "stderr",
     "output_type": "stream",
     "text": [
      "┌ Info: Epoch 35\n",
      "└ @ Main /Users/raphaelpestourie/.julia/packages/Flux/EXOFx/src/optimise/train.jl:154\n"
     ]
    },
    {
     "name": "stdout",
     "output_type": "stream",
     "text": [
      "train_lossmean = 2.8371132238923787e-5\n",
      "valid_lossmean = 0.0010557798430233176\n",
      "FE = 0.06668756778914943\n"
     ]
    },
    {
     "name": "stderr",
     "output_type": "stream",
     "text": [
      "┌ Info: Epoch 36\n",
      "└ @ Main /Users/raphaelpestourie/.julia/packages/Flux/EXOFx/src/optimise/train.jl:154\n"
     ]
    },
    {
     "name": "stdout",
     "output_type": "stream",
     "text": [
      "train_lossmean = 2.7370152562399583e-5\n",
      "valid_lossmean = 0.0009156917267437115\n",
      "FE = 0.06210589723117755\n"
     ]
    },
    {
     "name": "stderr",
     "output_type": "stream",
     "text": [
      "┌ Info: Epoch 37\n",
      "└ @ Main /Users/raphaelpestourie/.julia/packages/Flux/EXOFx/src/optimise/train.jl:154\n"
     ]
    },
    {
     "name": "stdout",
     "output_type": "stream",
     "text": [
      "train_lossmean = 2.7519171639851294e-5\n",
      "valid_lossmean = 0.0008852727890906387\n",
      "FE = 0.06106561746627038\n"
     ]
    },
    {
     "name": "stderr",
     "output_type": "stream",
     "text": [
      "┌ Info: Epoch 38\n",
      "└ @ Main /Users/raphaelpestourie/.julia/packages/Flux/EXOFx/src/optimise/train.jl:154\n"
     ]
    },
    {
     "name": "stdout",
     "output_type": "stream",
     "text": [
      "train_lossmean = 2.729959010063028e-5\n",
      "valid_lossmean = 0.0008548335712943079\n",
      "FE = 0.060006594443509885\n"
     ]
    },
    {
     "name": "stderr",
     "output_type": "stream",
     "text": [
      "┌ Info: Epoch 39\n",
      "└ @ Main /Users/raphaelpestourie/.julia/packages/Flux/EXOFx/src/optimise/train.jl:154\n"
     ]
    },
    {
     "name": "stdout",
     "output_type": "stream",
     "text": [
      "train_lossmean = 2.706825180542091e-5\n",
      "valid_lossmean = 0.0008500098046640113\n",
      "FE = 0.059837048393017574\n"
     ]
    },
    {
     "name": "stderr",
     "output_type": "stream",
     "text": [
      "┌ Info: Epoch 40\n",
      "└ @ Main /Users/raphaelpestourie/.julia/packages/Flux/EXOFx/src/optimise/train.jl:154\n"
     ]
    },
    {
     "name": "stdout",
     "output_type": "stream",
     "text": [
      "train_lossmean = 2.666440892325677e-5\n",
      "valid_lossmean = 0.0008852487439897283\n",
      "FE = 0.0610647881518925\n"
     ]
    },
    {
     "name": "stderr",
     "output_type": "stream",
     "text": [
      "┌ Info: Epoch 41\n",
      "└ @ Main /Users/raphaelpestourie/.julia/packages/Flux/EXOFx/src/optimise/train.jl:154\n"
     ]
    },
    {
     "name": "stdout",
     "output_type": "stream",
     "text": [
      "train_lossmean = 2.689407229374232e-5\n",
      "valid_lossmean = 0.0008505645635591223\n",
      "FE = 0.059856571532772365\n"
     ]
    },
    {
     "name": "stderr",
     "output_type": "stream",
     "text": [
      "┌ Info: Epoch 42\n",
      "└ @ Main /Users/raphaelpestourie/.julia/packages/Flux/EXOFx/src/optimise/train.jl:154\n"
     ]
    },
    {
     "name": "stdout",
     "output_type": "stream",
     "text": [
      "train_lossmean = 2.6391381072430117e-5\n",
      "valid_lossmean = 0.0008321773884664083\n",
      "FE = 0.05920605860783074\n"
     ]
    },
    {
     "name": "stderr",
     "output_type": "stream",
     "text": [
      "┌ Info: Epoch 43\n",
      "└ @ Main /Users/raphaelpestourie/.julia/packages/Flux/EXOFx/src/optimise/train.jl:154\n"
     ]
    },
    {
     "name": "stdout",
     "output_type": "stream",
     "text": [
      "train_lossmean = 2.5537738267365586e-5\n",
      "valid_lossmean = 0.0007912562400174896\n",
      "FE = 0.05773202209148398\n"
     ]
    },
    {
     "name": "stderr",
     "output_type": "stream",
     "text": [
      "┌ Info: Epoch 44\n",
      "└ @ Main /Users/raphaelpestourie/.julia/packages/Flux/EXOFx/src/optimise/train.jl:154\n"
     ]
    },
    {
     "name": "stdout",
     "output_type": "stream",
     "text": [
      "train_lossmean = 2.6073494630490706e-5\n",
      "valid_lossmean = 0.0007672071148012767\n",
      "FE = 0.05684791044485583\n"
     ]
    },
    {
     "name": "stderr",
     "output_type": "stream",
     "text": [
      "┌ Info: Epoch 45\n",
      "└ @ Main /Users/raphaelpestourie/.julia/packages/Flux/EXOFx/src/optimise/train.jl:154\n"
     ]
    },
    {
     "name": "stdout",
     "output_type": "stream",
     "text": [
      "train_lossmean = 2.6810814326965796e-5\n",
      "valid_lossmean = 0.0007983019636666077\n",
      "FE = 0.05798848918588934\n"
     ]
    },
    {
     "name": "stderr",
     "output_type": "stream",
     "text": [
      "┌ Info: Epoch 46\n",
      "└ @ Main /Users/raphaelpestourie/.julia/packages/Flux/EXOFx/src/optimise/train.jl:154\n"
     ]
    },
    {
     "name": "stdout",
     "output_type": "stream",
     "text": [
      "train_lossmean = 2.5912091410253345e-5\n",
      "valid_lossmean = 0.0008282910294165985\n",
      "FE = 0.059067647448534356\n"
     ]
    },
    {
     "name": "stderr",
     "output_type": "stream",
     "text": [
      "┌ Info: Epoch 47\n",
      "└ @ Main /Users/raphaelpestourie/.julia/packages/Flux/EXOFx/src/optimise/train.jl:154\n"
     ]
    },
    {
     "name": "stdout",
     "output_type": "stream",
     "text": [
      "train_lossmean = 2.5228021257524762e-5\n",
      "valid_lossmean = 0.0007643127525268543\n",
      "FE = 0.05674057702610216\n"
     ]
    },
    {
     "name": "stderr",
     "output_type": "stream",
     "text": [
      "┌ Info: Epoch 48\n",
      "└ @ Main /Users/raphaelpestourie/.julia/packages/Flux/EXOFx/src/optimise/train.jl:154\n"
     ]
    },
    {
     "name": "stdout",
     "output_type": "stream",
     "text": [
      "train_lossmean = 2.6020633635529857e-5\n",
      "valid_lossmean = 0.0007785812862357821\n",
      "FE = 0.057267757280481335\n"
     ]
    },
    {
     "name": "stderr",
     "output_type": "stream",
     "text": [
      "┌ Info: Epoch 49\n",
      "└ @ Main /Users/raphaelpestourie/.julia/packages/Flux/EXOFx/src/optimise/train.jl:154\n"
     ]
    },
    {
     "name": "stdout",
     "output_type": "stream",
     "text": [
      "train_lossmean = 2.5288587085345364e-5\n",
      "valid_lossmean = 0.0007903063799216542\n",
      "FE = 0.057697359608927544\n"
     ]
    },
    {
     "name": "stderr",
     "output_type": "stream",
     "text": [
      "┌ Info: Epoch 50\n",
      "└ @ Main /Users/raphaelpestourie/.julia/packages/Flux/EXOFx/src/optimise/train.jl:154\n"
     ]
    },
    {
     "name": "stdout",
     "output_type": "stream",
     "text": [
      "train_lossmean = 2.5210710025656675e-5\n",
      "valid_lossmean = 0.0007808607250173991\n",
      "FE = 0.05735152691705328\n"
     ]
    },
    {
     "name": "stderr",
     "output_type": "stream",
     "text": [
      "┌ Info: Epoch 51\n",
      "└ @ Main /Users/raphaelpestourie/.julia/packages/Flux/EXOFx/src/optimise/train.jl:154\n"
     ]
    },
    {
     "name": "stdout",
     "output_type": "stream",
     "text": [
      "train_lossmean = 2.492614295098781e-5\n",
      "valid_lossmean = 0.0007892146532595821\n",
      "FE = 0.057657494364313146\n"
     ]
    },
    {
     "name": "stderr",
     "output_type": "stream",
     "text": [
      "┌ Info: Epoch 52\n",
      "└ @ Main /Users/raphaelpestourie/.julia/packages/Flux/EXOFx/src/optimise/train.jl:154\n"
     ]
    },
    {
     "name": "stdout",
     "output_type": "stream",
     "text": [
      "train_lossmean = 2.4013810113925943e-5\n",
      "valid_lossmean = 0.0007766148550401109\n",
      "FE = 0.05719539213252625\n"
     ]
    },
    {
     "name": "stderr",
     "output_type": "stream",
     "text": [
      "┌ Info: Epoch 53\n",
      "└ @ Main /Users/raphaelpestourie/.julia/packages/Flux/EXOFx/src/optimise/train.jl:154\n"
     ]
    },
    {
     "name": "stdout",
     "output_type": "stream",
     "text": [
      "train_lossmean = 2.4582686915864443e-5\n",
      "valid_lossmean = 0.0007088666042129161\n",
      "FE = 0.05464374467681999\n"
     ]
    },
    {
     "name": "stderr",
     "output_type": "stream",
     "text": [
      "┌ Info: Epoch 54\n",
      "└ @ Main /Users/raphaelpestourie/.julia/packages/Flux/EXOFx/src/optimise/train.jl:154\n"
     ]
    },
    {
     "name": "stdout",
     "output_type": "stream",
     "text": [
      "train_lossmean = 2.5184556590177317e-5\n",
      "valid_lossmean = 0.0007041722098080374\n",
      "FE = 0.05446250790192662\n"
     ]
    },
    {
     "name": "stderr",
     "output_type": "stream",
     "text": [
      "┌ Info: Epoch 55\n",
      "└ @ Main /Users/raphaelpestourie/.julia/packages/Flux/EXOFx/src/optimise/train.jl:154\n"
     ]
    },
    {
     "name": "stdout",
     "output_type": "stream",
     "text": [
      "train_lossmean = 2.441542931446774e-5\n",
      "valid_lossmean = 0.0007500445157628186\n",
      "FE = 0.056208463681073406\n"
     ]
    },
    {
     "name": "stderr",
     "output_type": "stream",
     "text": [
      "┌ Info: Epoch 56\n",
      "└ @ Main /Users/raphaelpestourie/.julia/packages/Flux/EXOFx/src/optimise/train.jl:154\n"
     ]
    },
    {
     "name": "stdout",
     "output_type": "stream",
     "text": [
      "train_lossmean = 2.4876408130327078e-5\n",
      "valid_lossmean = 0.0006845860351812106\n",
      "FE = 0.053699743716470974\n"
     ]
    },
    {
     "name": "stderr",
     "output_type": "stream",
     "text": [
      "┌ Info: Epoch 57\n",
      "└ @ Main /Users/raphaelpestourie/.julia/packages/Flux/EXOFx/src/optimise/train.jl:154\n"
     ]
    },
    {
     "name": "stdout",
     "output_type": "stream",
     "text": [
      "train_lossmean = 2.3992118385103214e-5\n",
      "valid_lossmean = 0.0007287533997281449\n",
      "FE = 0.05540494040209532\n"
     ]
    },
    {
     "name": "stderr",
     "output_type": "stream",
     "text": [
      "┌ Info: Epoch 58\n",
      "└ @ Main /Users/raphaelpestourie/.julia/packages/Flux/EXOFx/src/optimise/train.jl:154\n"
     ]
    },
    {
     "name": "stdout",
     "output_type": "stream",
     "text": [
      "train_lossmean = 2.4372729169339146e-5\n",
      "valid_lossmean = 0.0006533650682832668\n",
      "FE = 0.05246095000724099\n"
     ]
    },
    {
     "name": "stderr",
     "output_type": "stream",
     "text": [
      "┌ Info: Epoch 59\n",
      "└ @ Main /Users/raphaelpestourie/.julia/packages/Flux/EXOFx/src/optimise/train.jl:154\n"
     ]
    },
    {
     "name": "stdout",
     "output_type": "stream",
     "text": [
      "train_lossmean = 2.359006369015686e-5\n",
      "valid_lossmean = 0.0006421783765893595\n",
      "FE = 0.0520099018390112\n"
     ]
    },
    {
     "name": "stderr",
     "output_type": "stream",
     "text": [
      "┌ Info: Epoch 60\n",
      "└ @ Main /Users/raphaelpestourie/.julia/packages/Flux/EXOFx/src/optimise/train.jl:154\n"
     ]
    },
    {
     "name": "stdout",
     "output_type": "stream",
     "text": [
      "train_lossmean = 2.309988495128123e-5\n",
      "valid_lossmean = 0.0007018533844715727\n",
      "FE = 0.05437276197058926\n"
     ]
    },
    {
     "name": "stderr",
     "output_type": "stream",
     "text": [
      "┌ Info: Epoch 61\n",
      "└ @ Main /Users/raphaelpestourie/.julia/packages/Flux/EXOFx/src/optimise/train.jl:154\n"
     ]
    },
    {
     "name": "stdout",
     "output_type": "stream",
     "text": [
      "train_lossmean = 2.367494955776498e-5\n",
      "valid_lossmean = 0.0006633007290012228\n",
      "FE = 0.052858329329208975\n"
     ]
    },
    {
     "name": "stderr",
     "output_type": "stream",
     "text": [
      "┌ Info: Epoch 62\n",
      "└ @ Main /Users/raphaelpestourie/.julia/packages/Flux/EXOFx/src/optimise/train.jl:154\n"
     ]
    },
    {
     "name": "stdout",
     "output_type": "stream",
     "text": [
      "train_lossmean = 2.3539590507162793e-5\n",
      "valid_lossmean = 0.0006569378313634661\n",
      "FE = 0.052604189233949335\n"
     ]
    },
    {
     "name": "stderr",
     "output_type": "stream",
     "text": [
      "┌ Info: Epoch 63\n",
      "└ @ Main /Users/raphaelpestourie/.julia/packages/Flux/EXOFx/src/optimise/train.jl:154\n"
     ]
    },
    {
     "name": "stdout",
     "output_type": "stream",
     "text": [
      "train_lossmean = 2.385644380304605e-5\n",
      "valid_lossmean = 0.0006927053741816095\n",
      "FE = 0.054017250376262385\n"
     ]
    },
    {
     "name": "stderr",
     "output_type": "stream",
     "text": [
      "┌ Info: Epoch 64\n",
      "└ @ Main /Users/raphaelpestourie/.julia/packages/Flux/EXOFx/src/optimise/train.jl:154\n"
     ]
    },
    {
     "name": "stdout",
     "output_type": "stream",
     "text": [
      "train_lossmean = 2.2423069192626216e-5\n",
      "valid_lossmean = 0.0006487476359408131\n",
      "FE = 0.05227524648867901\n"
     ]
    },
    {
     "name": "stderr",
     "output_type": "stream",
     "text": [
      "┌ Info: Epoch 65\n",
      "└ @ Main /Users/raphaelpestourie/.julia/packages/Flux/EXOFx/src/optimise/train.jl:154\n"
     ]
    },
    {
     "name": "stdout",
     "output_type": "stream",
     "text": [
      "train_lossmean = 2.292853621976707e-5\n",
      "valid_lossmean = 0.0006324384670913604\n",
      "FE = 0.05161397817298494\n"
     ]
    },
    {
     "name": "stderr",
     "output_type": "stream",
     "text": [
      "┌ Info: Epoch 66\n",
      "└ @ Main /Users/raphaelpestourie/.julia/packages/Flux/EXOFx/src/optimise/train.jl:154\n"
     ]
    },
    {
     "name": "stdout",
     "output_type": "stream",
     "text": [
      "train_lossmean = 2.254029322024461e-5\n",
      "valid_lossmean = 0.0005973645089406693\n",
      "FE = 0.05016235338130769\n"
     ]
    },
    {
     "name": "stderr",
     "output_type": "stream",
     "text": [
      "┌ Info: Epoch 67\n",
      "└ @ Main /Users/raphaelpestourie/.julia/packages/Flux/EXOFx/src/optimise/train.jl:154\n"
     ]
    },
    {
     "name": "stdout",
     "output_type": "stream",
     "text": [
      "train_lossmean = 2.325498983320763e-5\n",
      "valid_lossmean = 0.000618497151735143\n",
      "FE = 0.05104192524593458\n"
     ]
    },
    {
     "name": "stderr",
     "output_type": "stream",
     "text": [
      "┌ Info: Epoch 68\n",
      "└ @ Main /Users/raphaelpestourie/.julia/packages/Flux/EXOFx/src/optimise/train.jl:154\n"
     ]
    },
    {
     "name": "stdout",
     "output_type": "stream",
     "text": [
      "train_lossmean = 2.2035825507208877e-5\n",
      "valid_lossmean = 0.0006462981624328135\n",
      "FE = 0.05217646545313053\n"
     ]
    },
    {
     "name": "stderr",
     "output_type": "stream",
     "text": [
      "┌ Info: Epoch 69\n",
      "└ @ Main /Users/raphaelpestourie/.julia/packages/Flux/EXOFx/src/optimise/train.jl:154\n"
     ]
    },
    {
     "name": "stdout",
     "output_type": "stream",
     "text": [
      "train_lossmean = 2.276060735086799e-5\n",
      "valid_lossmean = 0.0005827941734021072\n",
      "FE = 0.04954682111622422\n"
     ]
    },
    {
     "name": "stderr",
     "output_type": "stream",
     "text": [
      "┌ Info: Epoch 70\n",
      "└ @ Main /Users/raphaelpestourie/.julia/packages/Flux/EXOFx/src/optimise/train.jl:154\n"
     ]
    },
    {
     "name": "stdout",
     "output_type": "stream",
     "text": [
      "train_lossmean = 2.2479643295897115e-5\n",
      "valid_lossmean = 0.0005689070902392667\n",
      "FE = 0.048952949997258466\n"
     ]
    },
    {
     "name": "stderr",
     "output_type": "stream",
     "text": [
      "┌ Info: Epoch 71\n",
      "└ @ Main /Users/raphaelpestourie/.julia/packages/Flux/EXOFx/src/optimise/train.jl:154\n"
     ]
    },
    {
     "name": "stdout",
     "output_type": "stream",
     "text": [
      "train_lossmean = 2.2408973929900184e-5\n",
      "valid_lossmean = 0.000559177039193836\n",
      "FE = 0.048532522018271136\n"
     ]
    },
    {
     "name": "stderr",
     "output_type": "stream",
     "text": [
      "┌ Info: Epoch 72\n",
      "└ @ Main /Users/raphaelpestourie/.julia/packages/Flux/EXOFx/src/optimise/train.jl:154\n"
     ]
    },
    {
     "name": "stdout",
     "output_type": "stream",
     "text": [
      "train_lossmean = 2.2030465819053893e-5\n",
      "valid_lossmean = 0.0005997092493018494\n",
      "FE = 0.05026070413888951\n"
     ]
    },
    {
     "name": "stderr",
     "output_type": "stream",
     "text": [
      "┌ Info: Epoch 73\n",
      "└ @ Main /Users/raphaelpestourie/.julia/packages/Flux/EXOFx/src/optimise/train.jl:154\n"
     ]
    },
    {
     "name": "stdout",
     "output_type": "stream",
     "text": [
      "train_lossmean = 2.2289754918629253e-5\n",
      "valid_lossmean = 0.0005510778025509795\n",
      "FE = 0.048179762422113796\n"
     ]
    },
    {
     "name": "stderr",
     "output_type": "stream",
     "text": [
      "┌ Info: Epoch 74\n",
      "└ @ Main /Users/raphaelpestourie/.julia/packages/Flux/EXOFx/src/optimise/train.jl:154\n"
     ]
    },
    {
     "name": "stdout",
     "output_type": "stream",
     "text": [
      "train_lossmean = 2.1728366631076494e-5\n",
      "valid_lossmean = 0.0005773856865703505\n",
      "FE = 0.049316381314600845\n"
     ]
    },
    {
     "name": "stderr",
     "output_type": "stream",
     "text": [
      "┌ Info: Epoch 75\n",
      "└ @ Main /Users/raphaelpestourie/.julia/packages/Flux/EXOFx/src/optimise/train.jl:154\n"
     ]
    },
    {
     "name": "stdout",
     "output_type": "stream",
     "text": [
      "train_lossmean = 2.209349910908387e-5\n",
      "valid_lossmean = 0.0005301043179558019\n",
      "FE = 0.047254031453319245\n"
     ]
    },
    {
     "name": "stderr",
     "output_type": "stream",
     "text": [
      "┌ Info: Epoch 76\n",
      "└ @ Main /Users/raphaelpestourie/.julia/packages/Flux/EXOFx/src/optimise/train.jl:154\n"
     ]
    },
    {
     "name": "stdout",
     "output_type": "stream",
     "text": [
      "train_lossmean = 2.1779324974783556e-5\n",
      "valid_lossmean = 0.0005382586569187024\n",
      "FE = 0.04761608741743425\n"
     ]
    },
    {
     "name": "stderr",
     "output_type": "stream",
     "text": [
      "┌ Info: Epoch 77\n",
      "└ @ Main /Users/raphaelpestourie/.julia/packages/Flux/EXOFx/src/optimise/train.jl:154\n"
     ]
    },
    {
     "name": "stdout",
     "output_type": "stream",
     "text": [
      "train_lossmean = 2.156018284089361e-5\n",
      "valid_lossmean = 0.0005539878112393981\n",
      "FE = 0.04830680339964188\n"
     ]
    },
    {
     "name": "stderr",
     "output_type": "stream",
     "text": [
      "┌ Info: Epoch 78\n",
      "└ @ Main /Users/raphaelpestourie/.julia/packages/Flux/EXOFx/src/optimise/train.jl:154\n"
     ]
    },
    {
     "name": "stdout",
     "output_type": "stream",
     "text": [
      "train_lossmean = 2.2095675533464116e-5\n",
      "valid_lossmean = 0.0005179836733440894\n",
      "FE = 0.04671068441653301\n"
     ]
    },
    {
     "name": "stderr",
     "output_type": "stream",
     "text": [
      "┌ Info: Epoch 79\n",
      "└ @ Main /Users/raphaelpestourie/.julia/packages/Flux/EXOFx/src/optimise/train.jl:154\n"
     ]
    },
    {
     "name": "stdout",
     "output_type": "stream",
     "text": [
      "train_lossmean = 2.0946643357304418e-5\n",
      "valid_lossmean = 0.0005934482165657575\n",
      "FE = 0.04999765203166413\n"
     ]
    },
    {
     "name": "stderr",
     "output_type": "stream",
     "text": [
      "┌ Info: Epoch 80\n",
      "└ @ Main /Users/raphaelpestourie/.julia/packages/Flux/EXOFx/src/optimise/train.jl:154\n"
     ]
    },
    {
     "name": "stdout",
     "output_type": "stream",
     "text": [
      "train_lossmean = 2.14098645413275e-5\n",
      "valid_lossmean = 0.0005156132984933478\n",
      "FE = 0.046603684140170056\n"
     ]
    },
    {
     "name": "stderr",
     "output_type": "stream",
     "text": [
      "┌ Info: Epoch 81\n",
      "└ @ Main /Users/raphaelpestourie/.julia/packages/Flux/EXOFx/src/optimise/train.jl:154\n"
     ]
    },
    {
     "name": "stdout",
     "output_type": "stream",
     "text": [
      "train_lossmean = 2.1620082771046127e-5\n",
      "valid_lossmean = 0.0006231807376176555\n",
      "FE = 0.05123481891951309\n"
     ]
    },
    {
     "name": "stderr",
     "output_type": "stream",
     "text": [
      "┌ Info: Epoch 82\n",
      "└ @ Main /Users/raphaelpestourie/.julia/packages/Flux/EXOFx/src/optimise/train.jl:154\n"
     ]
    },
    {
     "name": "stdout",
     "output_type": "stream",
     "text": [
      "train_lossmean = 2.036405162621767e-5\n",
      "valid_lossmean = 0.000655083014953868\n",
      "FE = 0.052529874681349814\n"
     ]
    },
    {
     "name": "stderr",
     "output_type": "stream",
     "text": [
      "┌ Info: Epoch 83\n",
      "└ @ Main /Users/raphaelpestourie/.julia/packages/Flux/EXOFx/src/optimise/train.jl:154\n"
     ]
    },
    {
     "name": "stdout",
     "output_type": "stream",
     "text": [
      "train_lossmean = 2.1746798741222138e-5\n",
      "valid_lossmean = 0.0005770046887976698\n",
      "FE = 0.04930010750271976\n"
     ]
    },
    {
     "name": "stderr",
     "output_type": "stream",
     "text": [
      "┌ Info: Epoch 84\n",
      "└ @ Main /Users/raphaelpestourie/.julia/packages/Flux/EXOFx/src/optimise/train.jl:154\n"
     ]
    },
    {
     "name": "stdout",
     "output_type": "stream",
     "text": [
      "train_lossmean = 2.0773554130952996e-5\n",
      "valid_lossmean = 0.0005791084990168713\n",
      "FE = 0.04938990200753646\n"
     ]
    },
    {
     "name": "stderr",
     "output_type": "stream",
     "text": [
      "┌ Info: Epoch 85\n",
      "└ @ Main /Users/raphaelpestourie/.julia/packages/Flux/EXOFx/src/optimise/train.jl:154\n"
     ]
    },
    {
     "name": "stdout",
     "output_type": "stream",
     "text": [
      "train_lossmean = 2.0395511434996147e-5\n",
      "valid_lossmean = 0.0004917396600391855\n",
      "FE = 0.045511988756335865\n"
     ]
    },
    {
     "name": "stderr",
     "output_type": "stream",
     "text": [
      "┌ Info: Epoch 86\n",
      "└ @ Main /Users/raphaelpestourie/.julia/packages/Flux/EXOFx/src/optimise/train.jl:154\n"
     ]
    },
    {
     "name": "stdout",
     "output_type": "stream",
     "text": [
      "train_lossmean = 2.1488547172202555e-5\n",
      "valid_lossmean = 0.0005831677966404646\n",
      "FE = 0.04956270054554409\n"
     ]
    },
    {
     "name": "stderr",
     "output_type": "stream",
     "text": [
      "┌ Info: Epoch 87\n",
      "└ @ Main /Users/raphaelpestourie/.julia/packages/Flux/EXOFx/src/optimise/train.jl:154\n"
     ]
    },
    {
     "name": "stdout",
     "output_type": "stream",
     "text": [
      "train_lossmean = 2.0555244590556893e-5\n",
      "valid_lossmean = 0.0004822053377181404\n",
      "FE = 0.04506861394773445\n"
     ]
    },
    {
     "name": "stderr",
     "output_type": "stream",
     "text": [
      "┌ Info: Epoch 88\n",
      "└ @ Main /Users/raphaelpestourie/.julia/packages/Flux/EXOFx/src/optimise/train.jl:154\n"
     ]
    },
    {
     "name": "stdout",
     "output_type": "stream",
     "text": [
      "train_lossmean = 2.0504698069651944e-5\n",
      "valid_lossmean = 0.0004923234648927507\n",
      "FE = 0.04553899719250691\n"
     ]
    },
    {
     "name": "stderr",
     "output_type": "stream",
     "text": [
      "┌ Info: Epoch 89\n",
      "└ @ Main /Users/raphaelpestourie/.julia/packages/Flux/EXOFx/src/optimise/train.jl:154\n"
     ]
    },
    {
     "name": "stdout",
     "output_type": "stream",
     "text": [
      "train_lossmean = 2.134578218179629e-5\n",
      "valid_lossmean = 0.0005070247967865179\n",
      "FE = 0.046213918591533114\n"
     ]
    },
    {
     "name": "stderr",
     "output_type": "stream",
     "text": [
      "┌ Info: Epoch 90\n",
      "└ @ Main /Users/raphaelpestourie/.julia/packages/Flux/EXOFx/src/optimise/train.jl:154\n"
     ]
    },
    {
     "name": "stdout",
     "output_type": "stream",
     "text": [
      "train_lossmean = 2.0635648060145567e-5\n",
      "valid_lossmean = 0.0005070083673508763\n",
      "FE = 0.04621316983648512\n"
     ]
    },
    {
     "name": "stderr",
     "output_type": "stream",
     "text": [
      "┌ Info: Epoch 91\n",
      "└ @ Main /Users/raphaelpestourie/.julia/packages/Flux/EXOFx/src/optimise/train.jl:154\n"
     ]
    },
    {
     "name": "stdout",
     "output_type": "stream",
     "text": [
      "train_lossmean = 1.9707708568187153e-5\n",
      "valid_lossmean = 0.0005222991732185361\n",
      "FE = 0.04690486219188493\n"
     ]
    },
    {
     "name": "stderr",
     "output_type": "stream",
     "text": [
      "┌ Info: Epoch 92\n",
      "└ @ Main /Users/raphaelpestourie/.julia/packages/Flux/EXOFx/src/optimise/train.jl:154\n"
     ]
    },
    {
     "name": "stdout",
     "output_type": "stream",
     "text": [
      "train_lossmean = 2.0549788699435706e-5\n",
      "valid_lossmean = 0.0005013046516579181\n",
      "FE = 0.04595249139451132\n"
     ]
    },
    {
     "name": "stderr",
     "output_type": "stream",
     "text": [
      "┌ Info: Epoch 93\n",
      "└ @ Main /Users/raphaelpestourie/.julia/packages/Flux/EXOFx/src/optimise/train.jl:154\n"
     ]
    },
    {
     "name": "stdout",
     "output_type": "stream",
     "text": [
      "train_lossmean = 2.079480411538594e-5\n",
      "valid_lossmean = 0.00048814350256549087\n",
      "FE = 0.04534526576957173\n"
     ]
    },
    {
     "name": "stderr",
     "output_type": "stream",
     "text": [
      "┌ Info: Epoch 94\n",
      "└ @ Main /Users/raphaelpestourie/.julia/packages/Flux/EXOFx/src/optimise/train.jl:154\n"
     ]
    },
    {
     "name": "stdout",
     "output_type": "stream",
     "text": [
      "train_lossmean = 1.9697044313735764e-5\n",
      "valid_lossmean = 0.0005412619268925087\n",
      "FE = 0.047748742082602345\n"
     ]
    },
    {
     "name": "stderr",
     "output_type": "stream",
     "text": [
      "┌ Info: Epoch 95\n",
      "└ @ Main /Users/raphaelpestourie/.julia/packages/Flux/EXOFx/src/optimise/train.jl:154\n"
     ]
    },
    {
     "name": "stdout",
     "output_type": "stream",
     "text": [
      "train_lossmean = 2.0508757200866465e-5\n",
      "valid_lossmean = 0.0005655840795359481\n",
      "FE = 0.0488097724747642\n"
     ]
    },
    {
     "name": "stderr",
     "output_type": "stream",
     "text": [
      "┌ Info: Epoch 96\n",
      "└ @ Main /Users/raphaelpestourie/.julia/packages/Flux/EXOFx/src/optimise/train.jl:154\n"
     ]
    },
    {
     "name": "stdout",
     "output_type": "stream",
     "text": [
      "train_lossmean = 2.040489303744247e-5\n",
      "valid_lossmean = 0.00048488332328696493\n",
      "FE = 0.04519358766858761\n"
     ]
    },
    {
     "name": "stderr",
     "output_type": "stream",
     "text": [
      "┌ Info: Epoch 97\n",
      "└ @ Main /Users/raphaelpestourie/.julia/packages/Flux/EXOFx/src/optimise/train.jl:154\n"
     ]
    },
    {
     "name": "stdout",
     "output_type": "stream",
     "text": [
      "train_lossmean = 2.04491449742212e-5\n",
      "valid_lossmean = 0.0005029180551875224\n",
      "FE = 0.04602637895392445\n"
     ]
    },
    {
     "name": "stderr",
     "output_type": "stream",
     "text": [
      "┌ Info: Epoch 98\n",
      "└ @ Main /Users/raphaelpestourie/.julia/packages/Flux/EXOFx/src/optimise/train.jl:154\n"
     ]
    },
    {
     "name": "stdout",
     "output_type": "stream",
     "text": [
      "train_lossmean = 2.0395302345782932e-5\n",
      "valid_lossmean = 0.0005282745789343849\n",
      "FE = 0.047172408571583474\n"
     ]
    },
    {
     "name": "stderr",
     "output_type": "stream",
     "text": [
      "┌ Info: Epoch 99\n",
      "└ @ Main /Users/raphaelpestourie/.julia/packages/Flux/EXOFx/src/optimise/train.jl:154\n"
     ]
    },
    {
     "name": "stdout",
     "output_type": "stream",
     "text": [
      "train_lossmean = 2.0250666753138436e-5\n",
      "valid_lossmean = 0.0005463033664849784\n",
      "FE = 0.047970598125085036\n"
     ]
    },
    {
     "name": "stderr",
     "output_type": "stream",
     "text": [
      "┌ Info: Epoch 100\n",
      "└ @ Main /Users/raphaelpestourie/.julia/packages/Flux/EXOFx/src/optimise/train.jl:154\n"
     ]
    },
    {
     "name": "stdout",
     "output_type": "stream",
     "text": [
      "train_lossmean = 2.0470587063573832e-5\n",
      "valid_lossmean = 0.0005742697155530565\n",
      "FE = 0.04918312870293651\n"
     ]
    },
    {
     "name": "stderr",
     "output_type": "stream",
     "text": [
      "┌ Info: Epoch 101\n",
      "└ @ Main /Users/raphaelpestourie/.julia/packages/Flux/EXOFx/src/optimise/train.jl:154\n"
     ]
    },
    {
     "name": "stdout",
     "output_type": "stream",
     "text": [
      "train_lossmean = 1.995257458243918e-5\n",
      "valid_lossmean = 0.000526746838397876\n",
      "FE = 0.04710414920163583\n"
     ]
    },
    {
     "name": "stderr",
     "output_type": "stream",
     "text": [
      "┌ Info: Epoch 102\n",
      "└ @ Main /Users/raphaelpestourie/.julia/packages/Flux/EXOFx/src/optimise/train.jl:154\n"
     ]
    },
    {
     "name": "stdout",
     "output_type": "stream",
     "text": [
      "train_lossmean = 2.0519233057753937e-5\n",
      "valid_lossmean = 0.0005318955558541032\n",
      "FE = 0.047333800497547415\n"
     ]
    },
    {
     "name": "stderr",
     "output_type": "stream",
     "text": [
      "┌ Info: Epoch 103\n",
      "└ @ Main /Users/raphaelpestourie/.julia/packages/Flux/EXOFx/src/optimise/train.jl:154\n"
     ]
    },
    {
     "name": "stdout",
     "output_type": "stream",
     "text": [
      "train_lossmean = 1.94460053962435e-5\n",
      "valid_lossmean = 0.00047575058584245744\n",
      "FE = 0.044765955743584225\n"
     ]
    },
    {
     "name": "stderr",
     "output_type": "stream",
     "text": [
      "┌ Info: Epoch 104\n",
      "└ @ Main /Users/raphaelpestourie/.julia/packages/Flux/EXOFx/src/optimise/train.jl:154\n"
     ]
    },
    {
     "name": "stdout",
     "output_type": "stream",
     "text": [
      "train_lossmean = 1.963971801134175e-5\n",
      "valid_lossmean = 0.0004735311746634709\n",
      "FE = 0.04466141545489922\n"
     ]
    },
    {
     "name": "stderr",
     "output_type": "stream",
     "text": [
      "┌ Info: Epoch 105\n",
      "└ @ Main /Users/raphaelpestourie/.julia/packages/Flux/EXOFx/src/optimise/train.jl:154\n"
     ]
    },
    {
     "name": "stdout",
     "output_type": "stream",
     "text": [
      "train_lossmean = 1.9464223077079062e-5\n",
      "valid_lossmean = 0.0004513958611204153\n",
      "FE = 0.043605069345430916\n"
     ]
    },
    {
     "name": "stderr",
     "output_type": "stream",
     "text": [
      "┌ Info: Epoch 106\n",
      "└ @ Main /Users/raphaelpestourie/.julia/packages/Flux/EXOFx/src/optimise/train.jl:154\n"
     ]
    },
    {
     "name": "stdout",
     "output_type": "stream",
     "text": [
      "train_lossmean = 1.9799168465548292e-5\n",
      "valid_lossmean = 0.00048566760055689177\n",
      "FE = 0.045230122213121754\n"
     ]
    },
    {
     "name": "stderr",
     "output_type": "stream",
     "text": [
      "┌ Info: Epoch 107\n",
      "└ @ Main /Users/raphaelpestourie/.julia/packages/Flux/EXOFx/src/optimise/train.jl:154\n"
     ]
    },
    {
     "name": "stdout",
     "output_type": "stream",
     "text": [
      "train_lossmean = 1.980045191726819e-5\n",
      "valid_lossmean = 0.00043666885624005035\n",
      "FE = 0.042887852880923664\n"
     ]
    },
    {
     "name": "stderr",
     "output_type": "stream",
     "text": [
      "┌ Info: Epoch 108\n",
      "└ @ Main /Users/raphaelpestourie/.julia/packages/Flux/EXOFx/src/optimise/train.jl:154\n"
     ]
    },
    {
     "name": "stdout",
     "output_type": "stream",
     "text": [
      "train_lossmean = 1.8755800440445797e-5\n",
      "valid_lossmean = 0.00047408516903088907\n",
      "FE = 0.044687532996420934\n"
     ]
    },
    {
     "name": "stderr",
     "output_type": "stream",
     "text": [
      "┌ Info: Epoch 109\n",
      "└ @ Main /Users/raphaelpestourie/.julia/packages/Flux/EXOFx/src/optimise/train.jl:154\n"
     ]
    },
    {
     "name": "stdout",
     "output_type": "stream",
     "text": [
      "train_lossmean = 1.92656065988576e-5\n",
      "valid_lossmean = 0.00046060194375924295\n",
      "FE = 0.04404748114521353\n"
     ]
    },
    {
     "name": "stderr",
     "output_type": "stream",
     "text": [
      "┌ Info: Epoch 110\n",
      "└ @ Main /Users/raphaelpestourie/.julia/packages/Flux/EXOFx/src/optimise/train.jl:154\n"
     ]
    },
    {
     "name": "stdout",
     "output_type": "stream",
     "text": [
      "train_lossmean = 1.9433004413032753e-5\n",
      "valid_lossmean = 0.0004884408009895974\n",
      "FE = 0.04535907218508555\n"
     ]
    },
    {
     "name": "stderr",
     "output_type": "stream",
     "text": [
      "┌ Info: Epoch 111\n",
      "└ @ Main /Users/raphaelpestourie/.julia/packages/Flux/EXOFx/src/optimise/train.jl:154\n"
     ]
    },
    {
     "name": "stdout",
     "output_type": "stream",
     "text": [
      "train_lossmean = 1.9603491856700973e-5\n",
      "valid_lossmean = 0.000455830760378939\n",
      "FE = 0.04381875253657252\n"
     ]
    },
    {
     "name": "stderr",
     "output_type": "stream",
     "text": [
      "┌ Info: Epoch 112\n",
      "└ @ Main /Users/raphaelpestourie/.julia/packages/Flux/EXOFx/src/optimise/train.jl:154\n"
     ]
    },
    {
     "name": "stdout",
     "output_type": "stream",
     "text": [
      "train_lossmean = 1.86892324261924e-5\n",
      "valid_lossmean = 0.0004162405516605605\n",
      "FE = 0.04187264444361334\n"
     ]
    },
    {
     "name": "stderr",
     "output_type": "stream",
     "text": [
      "┌ Info: Epoch 113\n",
      "└ @ Main /Users/raphaelpestourie/.julia/packages/Flux/EXOFx/src/optimise/train.jl:154\n"
     ]
    },
    {
     "name": "stdout",
     "output_type": "stream",
     "text": [
      "train_lossmean = 1.8973465034402777e-5\n",
      "valid_lossmean = 0.000409436812481743\n",
      "FE = 0.04152901580557641\n"
     ]
    },
    {
     "name": "stderr",
     "output_type": "stream",
     "text": [
      "┌ Info: Epoch 114\n",
      "└ @ Main /Users/raphaelpestourie/.julia/packages/Flux/EXOFx/src/optimise/train.jl:154\n"
     ]
    },
    {
     "name": "stdout",
     "output_type": "stream",
     "text": [
      "train_lossmean = 1.8903713699579513e-5\n",
      "valid_lossmean = 0.000466265612006639\n",
      "FE = 0.044317462760001106\n"
     ]
    },
    {
     "name": "stderr",
     "output_type": "stream",
     "text": [
      "┌ Info: Epoch 115\n",
      "└ @ Main /Users/raphaelpestourie/.julia/packages/Flux/EXOFx/src/optimise/train.jl:154\n"
     ]
    },
    {
     "name": "stdout",
     "output_type": "stream",
     "text": [
      "train_lossmean = 1.8868943230668087e-5\n",
      "valid_lossmean = 0.00042047087002149305\n",
      "FE = 0.04208488569058643\n"
     ]
    },
    {
     "name": "stderr",
     "output_type": "stream",
     "text": [
      "┌ Info: Epoch 116\n",
      "└ @ Main /Users/raphaelpestourie/.julia/packages/Flux/EXOFx/src/optimise/train.jl:154\n"
     ]
    },
    {
     "name": "stdout",
     "output_type": "stream",
     "text": [
      "train_lossmean = 1.9352890405421934e-5\n",
      "valid_lossmean = 0.00045738489290868137\n",
      "FE = 0.04389338791373484\n"
     ]
    },
    {
     "name": "stderr",
     "output_type": "stream",
     "text": [
      "┌ Info: Epoch 117\n",
      "└ @ Main /Users/raphaelpestourie/.julia/packages/Flux/EXOFx/src/optimise/train.jl:154\n"
     ]
    },
    {
     "name": "stdout",
     "output_type": "stream",
     "text": [
      "train_lossmean = 1.7898222871815293e-5\n",
      "valid_lossmean = 0.0005445337738005143\n",
      "FE = 0.0478928416264133\n"
     ]
    },
    {
     "name": "stderr",
     "output_type": "stream",
     "text": [
      "┌ Info: Epoch 118\n",
      "└ @ Main /Users/raphaelpestourie/.julia/packages/Flux/EXOFx/src/optimise/train.jl:154\n"
     ]
    },
    {
     "name": "stdout",
     "output_type": "stream",
     "text": [
      "train_lossmean = 1.8774564924809115e-5\n",
      "valid_lossmean = 0.0005077300895984621\n",
      "FE = 0.04624605017331356\n"
     ]
    },
    {
     "name": "stderr",
     "output_type": "stream",
     "text": [
      "┌ Info: Epoch 119\n",
      "└ @ Main /Users/raphaelpestourie/.julia/packages/Flux/EXOFx/src/optimise/train.jl:154\n"
     ]
    },
    {
     "name": "stdout",
     "output_type": "stream",
     "text": [
      "train_lossmean = 1.8290924580261872e-5\n",
      "valid_lossmean = 0.0005418072304902782\n",
      "FE = 0.04777278867156233\n"
     ]
    },
    {
     "name": "stderr",
     "output_type": "stream",
     "text": [
      "┌ Info: Epoch 120\n",
      "└ @ Main /Users/raphaelpestourie/.julia/packages/Flux/EXOFx/src/optimise/train.jl:154\n"
     ]
    },
    {
     "name": "stdout",
     "output_type": "stream",
     "text": [
      "train_lossmean = 1.7898058204463873e-5\n",
      "valid_lossmean = 0.0004748940218354295\n",
      "FE = 0.044725638208907986\n"
     ]
    },
    {
     "name": "stderr",
     "output_type": "stream",
     "text": [
      "┌ Info: Epoch 121\n",
      "└ @ Main /Users/raphaelpestourie/.julia/packages/Flux/EXOFx/src/optimise/train.jl:154\n"
     ]
    },
    {
     "name": "stdout",
     "output_type": "stream",
     "text": [
      "train_lossmean = 1.883382197980994e-5\n",
      "valid_lossmean = 0.00048056102847641123\n",
      "FE = 0.04499170685428093\n"
     ]
    },
    {
     "name": "stderr",
     "output_type": "stream",
     "text": [
      "┌ Info: Epoch 122\n",
      "└ @ Main /Users/raphaelpestourie/.julia/packages/Flux/EXOFx/src/optimise/train.jl:154\n"
     ]
    },
    {
     "name": "stdout",
     "output_type": "stream",
     "text": [
      "train_lossmean = 1.8335160102587136e-5\n",
      "valid_lossmean = 0.0005142771560690406\n",
      "FE = 0.046543261384803435\n"
     ]
    },
    {
     "name": "stderr",
     "output_type": "stream",
     "text": [
      "┌ Info: Epoch 123\n",
      "└ @ Main /Users/raphaelpestourie/.julia/packages/Flux/EXOFx/src/optimise/train.jl:154\n"
     ]
    },
    {
     "name": "stdout",
     "output_type": "stream",
     "text": [
      "train_lossmean = 1.8664880369576772e-5\n",
      "valid_lossmean = 0.0004809035810687373\n",
      "FE = 0.04500773944888261\n"
     ]
    },
    {
     "name": "stderr",
     "output_type": "stream",
     "text": [
      "┌ Info: Epoch 124\n",
      "└ @ Main /Users/raphaelpestourie/.julia/packages/Flux/EXOFx/src/optimise/train.jl:154\n"
     ]
    },
    {
     "name": "stdout",
     "output_type": "stream",
     "text": [
      "train_lossmean = 1.8300402470503374e-5\n",
      "valid_lossmean = 0.0004637614287754916\n",
      "FE = 0.044198294141150944\n"
     ]
    },
    {
     "name": "stderr",
     "output_type": "stream",
     "text": [
      "┌ Info: Epoch 125\n",
      "└ @ Main /Users/raphaelpestourie/.julia/packages/Flux/EXOFx/src/optimise/train.jl:154\n"
     ]
    },
    {
     "name": "stdout",
     "output_type": "stream",
     "text": [
      "train_lossmean = 1.8487688765198712e-5\n",
      "valid_lossmean = 0.00039489685822373415\n",
      "FE = 0.04078495940863689\n"
     ]
    },
    {
     "name": "stderr",
     "output_type": "stream",
     "text": [
      "┌ Info: Epoch 126\n",
      "└ @ Main /Users/raphaelpestourie/.julia/packages/Flux/EXOFx/src/optimise/train.jl:154\n"
     ]
    },
    {
     "name": "stdout",
     "output_type": "stream",
     "text": [
      "train_lossmean = 1.8506321562500886e-5\n",
      "valid_lossmean = 0.00043222355636028784\n",
      "FE = 0.042668994753219704\n"
     ]
    },
    {
     "name": "stderr",
     "output_type": "stream",
     "text": [
      "┌ Info: Epoch 127\n",
      "└ @ Main /Users/raphaelpestourie/.julia/packages/Flux/EXOFx/src/optimise/train.jl:154\n"
     ]
    },
    {
     "name": "stdout",
     "output_type": "stream",
     "text": [
      "train_lossmean = 1.8201194842098016e-5\n",
      "valid_lossmean = 0.0005022239099199486\n",
      "FE = 0.045994604368878596\n"
     ]
    },
    {
     "name": "stderr",
     "output_type": "stream",
     "text": [
      "┌ Info: Epoch 128\n",
      "└ @ Main /Users/raphaelpestourie/.julia/packages/Flux/EXOFx/src/optimise/train.jl:154\n"
     ]
    },
    {
     "name": "stdout",
     "output_type": "stream",
     "text": [
      "train_lossmean = 1.858574281982014e-5\n",
      "valid_lossmean = 0.0005429335614608919\n",
      "FE = 0.04782241890246796\n"
     ]
    },
    {
     "name": "stderr",
     "output_type": "stream",
     "text": [
      "┌ Info: Epoch 129\n",
      "└ @ Main /Users/raphaelpestourie/.julia/packages/Flux/EXOFx/src/optimise/train.jl:154\n"
     ]
    },
    {
     "name": "stdout",
     "output_type": "stream",
     "text": [
      "train_lossmean = 1.773919389450238e-5\n",
      "valid_lossmean = 0.000536075328293235\n",
      "FE = 0.047519417160433106\n"
     ]
    },
    {
     "name": "stderr",
     "output_type": "stream",
     "text": [
      "┌ Info: Epoch 130\n",
      "└ @ Main /Users/raphaelpestourie/.julia/packages/Flux/EXOFx/src/optimise/train.jl:154\n"
     ]
    },
    {
     "name": "stdout",
     "output_type": "stream",
     "text": [
      "train_lossmean = 1.8778590977359865e-5\n",
      "valid_lossmean = 0.000541328060170447\n",
      "FE = 0.047751659047774994\n"
     ]
    },
    {
     "name": "stderr",
     "output_type": "stream",
     "text": [
      "┌ Info: Epoch 131\n",
      "└ @ Main /Users/raphaelpestourie/.julia/packages/Flux/EXOFx/src/optimise/train.jl:154\n"
     ]
    },
    {
     "name": "stdout",
     "output_type": "stream",
     "text": [
      "train_lossmean = 1.8165969514720113e-5\n",
      "valid_lossmean = 0.0004983774504159489\n",
      "FE = 0.04581813285166916\n"
     ]
    },
    {
     "name": "stderr",
     "output_type": "stream",
     "text": [
      "┌ Info: Epoch 132\n",
      "└ @ Main /Users/raphaelpestourie/.julia/packages/Flux/EXOFx/src/optimise/train.jl:154\n"
     ]
    },
    {
     "name": "stdout",
     "output_type": "stream",
     "text": [
      "train_lossmean = 1.7740143528441237e-5\n",
      "valid_lossmean = 0.0005260475189629901\n",
      "FE = 0.04707287062045539\n"
     ]
    },
    {
     "name": "stderr",
     "output_type": "stream",
     "text": [
      "┌ Info: Epoch 133\n",
      "└ @ Main /Users/raphaelpestourie/.julia/packages/Flux/EXOFx/src/optimise/train.jl:154\n"
     ]
    },
    {
     "name": "stdout",
     "output_type": "stream",
     "text": [
      "train_lossmean = 1.801752899938441e-5\n",
      "valid_lossmean = 0.0004043013105593917\n",
      "FE = 0.04126774798398025\n"
     ]
    },
    {
     "name": "stderr",
     "output_type": "stream",
     "text": [
      "┌ Info: Epoch 134\n",
      "└ @ Main /Users/raphaelpestourie/.julia/packages/Flux/EXOFx/src/optimise/train.jl:154\n"
     ]
    },
    {
     "name": "stdout",
     "output_type": "stream",
     "text": [
      "train_lossmean = 1.827414927072365e-5\n",
      "valid_lossmean = 0.00043127357986591454\n",
      "FE = 0.0426220782461193\n"
     ]
    },
    {
     "name": "stderr",
     "output_type": "stream",
     "text": [
      "┌ Info: Epoch 135\n",
      "└ @ Main /Users/raphaelpestourie/.julia/packages/Flux/EXOFx/src/optimise/train.jl:154\n"
     ]
    },
    {
     "name": "stdout",
     "output_type": "stream",
     "text": [
      "train_lossmean = 1.832377608050398e-5\n",
      "valid_lossmean = 0.0005927906408010727\n",
      "FE = 0.049969944174532\n"
     ]
    },
    {
     "name": "stderr",
     "output_type": "stream",
     "text": [
      "┌ Info: Epoch 136\n",
      "└ @ Main /Users/raphaelpestourie/.julia/packages/Flux/EXOFx/src/optimise/train.jl:154\n"
     ]
    },
    {
     "name": "stdout",
     "output_type": "stream",
     "text": [
      "train_lossmean = 1.784793287967921e-5\n",
      "valid_lossmean = 0.0005416535983783801\n",
      "FE = 0.0477660150864579\n"
     ]
    },
    {
     "name": "stderr",
     "output_type": "stream",
     "text": [
      "┌ Info: Epoch 137\n",
      "└ @ Main /Users/raphaelpestourie/.julia/packages/Flux/EXOFx/src/optimise/train.jl:154\n"
     ]
    },
    {
     "name": "stdout",
     "output_type": "stream",
     "text": [
      "train_lossmean = 1.791429393447136e-5\n",
      "valid_lossmean = 0.0004968596589393562\n",
      "FE = 0.04574831087290163\n"
     ]
    },
    {
     "name": "stderr",
     "output_type": "stream",
     "text": [
      "┌ Info: Epoch 138\n",
      "└ @ Main /Users/raphaelpestourie/.julia/packages/Flux/EXOFx/src/optimise/train.jl:154\n"
     ]
    },
    {
     "name": "stdout",
     "output_type": "stream",
     "text": [
      "train_lossmean = 1.727424636794758e-5\n",
      "valid_lossmean = 0.00045228354697361646\n",
      "FE = 0.04364792373914671\n"
     ]
    },
    {
     "name": "stderr",
     "output_type": "stream",
     "text": [
      "┌ Info: Epoch 139\n",
      "└ @ Main /Users/raphaelpestourie/.julia/packages/Flux/EXOFx/src/optimise/train.jl:154\n"
     ]
    },
    {
     "name": "stdout",
     "output_type": "stream",
     "text": [
      "train_lossmean = 1.779646047804548e-5\n",
      "valid_lossmean = 0.0005085121238140262\n",
      "FE = 0.04628165184318222\n"
     ]
    },
    {
     "name": "stderr",
     "output_type": "stream",
     "text": [
      "┌ Info: Epoch 140\n",
      "└ @ Main /Users/raphaelpestourie/.julia/packages/Flux/EXOFx/src/optimise/train.jl:154\n"
     ]
    },
    {
     "name": "stdout",
     "output_type": "stream",
     "text": [
      "train_lossmean = 1.7864765888687706e-5\n",
      "valid_lossmean = 0.0005309782144209552\n",
      "FE = 0.04729296541832522\n"
     ]
    },
    {
     "name": "stderr",
     "output_type": "stream",
     "text": [
      "┌ Info: Epoch 141\n",
      "└ @ Main /Users/raphaelpestourie/.julia/packages/Flux/EXOFx/src/optimise/train.jl:154\n"
     ]
    },
    {
     "name": "stdout",
     "output_type": "stream",
     "text": [
      "train_lossmean = 1.744914004668224e-5\n",
      "valid_lossmean = 0.00045515914072661977\n",
      "FE = 0.043786459428863486\n"
     ]
    },
    {
     "name": "stderr",
     "output_type": "stream",
     "text": [
      "┌ Info: Epoch 142\n",
      "└ @ Main /Users/raphaelpestourie/.julia/packages/Flux/EXOFx/src/optimise/train.jl:154\n"
     ]
    },
    {
     "name": "stdout",
     "output_type": "stream",
     "text": [
      "train_lossmean = 1.766930127714697e-5\n",
      "valid_lossmean = 0.00044774067123793385\n",
      "FE = 0.043428163894219086\n"
     ]
    },
    {
     "name": "stderr",
     "output_type": "stream",
     "text": [
      "┌ Info: Epoch 143\n",
      "└ @ Main /Users/raphaelpestourie/.julia/packages/Flux/EXOFx/src/optimise/train.jl:154\n"
     ]
    },
    {
     "name": "stdout",
     "output_type": "stream",
     "text": [
      "train_lossmean = 1.7850396197697155e-5\n",
      "valid_lossmean = 0.0004939945063531433\n",
      "FE = 0.04561621582485019\n"
     ]
    },
    {
     "name": "stderr",
     "output_type": "stream",
     "text": [
      "┌ Info: Epoch 144\n",
      "└ @ Main /Users/raphaelpestourie/.julia/packages/Flux/EXOFx/src/optimise/train.jl:154\n"
     ]
    },
    {
     "name": "stdout",
     "output_type": "stream",
     "text": [
      "train_lossmean = 1.7582490059767704e-5\n",
      "valid_lossmean = 0.0005022460703517413\n",
      "FE = 0.04599561910456666\n"
     ]
    },
    {
     "name": "stderr",
     "output_type": "stream",
     "text": [
      "┌ Info: Epoch 145\n",
      "└ @ Main /Users/raphaelpestourie/.julia/packages/Flux/EXOFx/src/optimise/train.jl:154\n"
     ]
    },
    {
     "name": "stdout",
     "output_type": "stream",
     "text": [
      "train_lossmean = 1.7621699885964213e-5\n",
      "valid_lossmean = 0.00044999188797735257\n",
      "FE = 0.04353720427509117\n"
     ]
    },
    {
     "name": "stderr",
     "output_type": "stream",
     "text": [
      "┌ Info: Epoch 146\n",
      "└ @ Main /Users/raphaelpestourie/.julia/packages/Flux/EXOFx/src/optimise/train.jl:154\n"
     ]
    },
    {
     "name": "stdout",
     "output_type": "stream",
     "text": [
      "train_lossmean = 1.7782243035603043e-5\n",
      "valid_lossmean = 0.00038496427639789785\n",
      "FE = 0.040268774246081114\n"
     ]
    },
    {
     "name": "stderr",
     "output_type": "stream",
     "text": [
      "┌ Info: Epoch 147\n",
      "└ @ Main /Users/raphaelpestourie/.julia/packages/Flux/EXOFx/src/optimise/train.jl:154\n"
     ]
    },
    {
     "name": "stdout",
     "output_type": "stream",
     "text": [
      "train_lossmean = 1.693393966459508e-5\n",
      "valid_lossmean = 0.00046144074545998397\n",
      "FE = 0.04408757031202607\n"
     ]
    },
    {
     "name": "stderr",
     "output_type": "stream",
     "text": [
      "┌ Info: Epoch 148\n",
      "└ @ Main /Users/raphaelpestourie/.julia/packages/Flux/EXOFx/src/optimise/train.jl:154\n"
     ]
    },
    {
     "name": "stdout",
     "output_type": "stream",
     "text": [
      "train_lossmean = 1.708734044786244e-5\n",
      "valid_lossmean = 0.0005090593423703003\n",
      "FE = 0.04630654738421106\n"
     ]
    },
    {
     "name": "stderr",
     "output_type": "stream",
     "text": [
      "┌ Info: Epoch 149\n",
      "└ @ Main /Users/raphaelpestourie/.julia/packages/Flux/EXOFx/src/optimise/train.jl:154\n"
     ]
    },
    {
     "name": "stdout",
     "output_type": "stream",
     "text": [
      "train_lossmean = 1.753447926910157e-5\n",
      "valid_lossmean = 0.0004325950999980423\n",
      "FE = 0.04268733015839004\n"
     ]
    },
    {
     "name": "stderr",
     "output_type": "stream",
     "text": [
      "┌ Info: Epoch 150\n",
      "└ @ Main /Users/raphaelpestourie/.julia/packages/Flux/EXOFx/src/optimise/train.jl:154\n"
     ]
    },
    {
     "name": "stdout",
     "output_type": "stream",
     "text": [
      "train_lossmean = 1.773521684995718e-5\n",
      "valid_lossmean = 0.00048066375732925604\n",
      "FE = 0.04499651550414895\n"
     ]
    },
    {
     "name": "stderr",
     "output_type": "stream",
     "text": [
      "┌ Info: Epoch 151\n",
      "└ @ Main /Users/raphaelpestourie/.julia/packages/Flux/EXOFx/src/optimise/train.jl:154\n"
     ]
    },
    {
     "name": "stdout",
     "output_type": "stream",
     "text": [
      "train_lossmean = 1.7386076829443977e-5\n",
      "valid_lossmean = 0.00046274739639864005\n",
      "FE = 0.044149947055076286\n"
     ]
    },
    {
     "name": "stderr",
     "output_type": "stream",
     "text": [
      "┌ Info: Epoch 152\n",
      "└ @ Main /Users/raphaelpestourie/.julia/packages/Flux/EXOFx/src/optimise/train.jl:154\n"
     ]
    },
    {
     "name": "stdout",
     "output_type": "stream",
     "text": [
      "train_lossmean = 1.7570844152788127e-5\n",
      "valid_lossmean = 0.0004391718151143909\n",
      "FE = 0.04301059250822342\n"
     ]
    },
    {
     "name": "stderr",
     "output_type": "stream",
     "text": [
      "┌ Info: Epoch 153\n",
      "└ @ Main /Users/raphaelpestourie/.julia/packages/Flux/EXOFx/src/optimise/train.jl:154\n"
     ]
    },
    {
     "name": "stdout",
     "output_type": "stream",
     "text": [
      "train_lossmean = 1.699426273473466e-5\n",
      "valid_lossmean = 0.00042556731118975437\n",
      "FE = 0.04233916861708429\n"
     ]
    },
    {
     "name": "stderr",
     "output_type": "stream",
     "text": [
      "┌ Info: Epoch 154\n",
      "└ @ Main /Users/raphaelpestourie/.julia/packages/Flux/EXOFx/src/optimise/train.jl:154\n"
     ]
    },
    {
     "name": "stdout",
     "output_type": "stream",
     "text": [
      "train_lossmean = 1.7416746394946945e-5\n",
      "valid_lossmean = 0.0004419138591974757\n",
      "FE = 0.04314465555514727\n"
     ]
    },
    {
     "name": "stderr",
     "output_type": "stream",
     "text": [
      "┌ Info: Epoch 155\n",
      "└ @ Main /Users/raphaelpestourie/.julia/packages/Flux/EXOFx/src/optimise/train.jl:154\n"
     ]
    },
    {
     "name": "stdout",
     "output_type": "stream",
     "text": [
      "train_lossmean = 1.7801087783364532e-5\n",
      "valid_lossmean = 0.0005250085957475923\n",
      "FE = 0.0470263641104678\n"
     ]
    },
    {
     "name": "stderr",
     "output_type": "stream",
     "text": [
      "┌ Info: Epoch 156\n",
      "└ @ Main /Users/raphaelpestourie/.julia/packages/Flux/EXOFx/src/optimise/train.jl:154\n"
     ]
    },
    {
     "name": "stdout",
     "output_type": "stream",
     "text": [
      "train_lossmean = 1.796443430294211e-5\n",
      "valid_lossmean = 0.0005323130331092037\n",
      "FE = 0.04735237266732671\n"
     ]
    },
    {
     "name": "stderr",
     "output_type": "stream",
     "text": [
      "┌ Info: Epoch 157\n",
      "└ @ Main /Users/raphaelpestourie/.julia/packages/Flux/EXOFx/src/optimise/train.jl:154\n"
     ]
    },
    {
     "name": "stdout",
     "output_type": "stream",
     "text": [
      "train_lossmean = 1.747704698881685e-5\n",
      "valid_lossmean = 0.0004837842447088027\n",
      "FE = 0.04514233875884289\n"
     ]
    },
    {
     "name": "stderr",
     "output_type": "stream",
     "text": [
      "┌ Info: Epoch 158\n",
      "└ @ Main /Users/raphaelpestourie/.julia/packages/Flux/EXOFx/src/optimise/train.jl:154\n"
     ]
    },
    {
     "name": "stdout",
     "output_type": "stream",
     "text": [
      "train_lossmean = 1.736887218431941e-5\n",
      "valid_lossmean = 0.00046202543569901915\n",
      "FE = 0.04411549308626654\n"
     ]
    },
    {
     "name": "stderr",
     "output_type": "stream",
     "text": [
      "┌ Info: Epoch 159\n",
      "└ @ Main /Users/raphaelpestourie/.julia/packages/Flux/EXOFx/src/optimise/train.jl:154\n"
     ]
    },
    {
     "name": "stdout",
     "output_type": "stream",
     "text": [
      "train_lossmean = 1.6508604764227383e-5\n",
      "valid_lossmean = 0.00045134389773444065\n",
      "FE = 0.04360255942846247\n"
     ]
    },
    {
     "name": "stderr",
     "output_type": "stream",
     "text": [
      "┌ Info: Epoch 160\n",
      "└ @ Main /Users/raphaelpestourie/.julia/packages/Flux/EXOFx/src/optimise/train.jl:154\n"
     ]
    },
    {
     "name": "stdout",
     "output_type": "stream",
     "text": [
      "train_lossmean = 1.6751253192769542e-5\n",
      "valid_lossmean = 0.00041361265455735444\n",
      "FE = 0.041740255578349046\n"
     ]
    },
    {
     "name": "stderr",
     "output_type": "stream",
     "text": [
      "┌ Info: Epoch 161\n",
      "└ @ Main /Users/raphaelpestourie/.julia/packages/Flux/EXOFx/src/optimise/train.jl:154\n"
     ]
    },
    {
     "name": "stdout",
     "output_type": "stream",
     "text": [
      "train_lossmean = 1.734659922904497e-5\n",
      "valid_lossmean = 0.0004926159180965415\n",
      "FE = 0.04555252087088908\n"
     ]
    },
    {
     "name": "stderr",
     "output_type": "stream",
     "text": [
      "┌ Info: Epoch 162\n",
      "└ @ Main /Users/raphaelpestourie/.julia/packages/Flux/EXOFx/src/optimise/train.jl:154\n"
     ]
    },
    {
     "name": "stdout",
     "output_type": "stream",
     "text": [
      "train_lossmean = 1.7672747635430778e-5\n",
      "valid_lossmean = 0.0004029102602955885\n",
      "FE = 0.041196693336004855\n"
     ]
    },
    {
     "name": "stderr",
     "output_type": "stream",
     "text": [
      "┌ Info: Epoch 163\n",
      "└ @ Main /Users/raphaelpestourie/.julia/packages/Flux/EXOFx/src/optimise/train.jl:154\n"
     ]
    },
    {
     "name": "stdout",
     "output_type": "stream",
     "text": [
      "train_lossmean = 1.6860333862605193e-5\n",
      "valid_lossmean = 0.00045315313764184527\n",
      "FE = 0.04368986380178897\n"
     ]
    },
    {
     "name": "stderr",
     "output_type": "stream",
     "text": [
      "┌ Info: Epoch 164\n",
      "└ @ Main /Users/raphaelpestourie/.julia/packages/Flux/EXOFx/src/optimise/train.jl:154\n"
     ]
    },
    {
     "name": "stdout",
     "output_type": "stream",
     "text": [
      "train_lossmean = 1.645181193888985e-5\n",
      "valid_lossmean = 0.0004161961994503621\n",
      "FE = 0.041870413529548366\n"
     ]
    },
    {
     "name": "stderr",
     "output_type": "stream",
     "text": [
      "┌ Info: Epoch 165\n",
      "└ @ Main /Users/raphaelpestourie/.julia/packages/Flux/EXOFx/src/optimise/train.jl:154\n"
     ]
    },
    {
     "name": "stdout",
     "output_type": "stream",
     "text": [
      "train_lossmean = 1.697474521676299e-5\n",
      "valid_lossmean = 0.000448677847124953\n",
      "FE = 0.043473590360324374\n"
     ]
    },
    {
     "name": "stderr",
     "output_type": "stream",
     "text": [
      "┌ Info: Epoch 166\n",
      "└ @ Main /Users/raphaelpestourie/.julia/packages/Flux/EXOFx/src/optimise/train.jl:154\n"
     ]
    },
    {
     "name": "stdout",
     "output_type": "stream",
     "text": [
      "train_lossmean = 1.7350706901094913e-5\n",
      "valid_lossmean = 0.00044075826398510355\n",
      "FE = 0.04308820745639779\n"
     ]
    },
    {
     "name": "stderr",
     "output_type": "stream",
     "text": [
      "┌ Info: Epoch 167\n",
      "└ @ Main /Users/raphaelpestourie/.julia/packages/Flux/EXOFx/src/optimise/train.jl:154\n"
     ]
    },
    {
     "name": "stdout",
     "output_type": "stream",
     "text": [
      "train_lossmean = 1.667533634646778e-5\n",
      "valid_lossmean = 0.0004884943280706755\n",
      "FE = 0.045361557514131755\n"
     ]
    },
    {
     "name": "stderr",
     "output_type": "stream",
     "text": [
      "┌ Info: Epoch 168\n",
      "└ @ Main /Users/raphaelpestourie/.julia/packages/Flux/EXOFx/src/optimise/train.jl:154\n"
     ]
    },
    {
     "name": "stdout",
     "output_type": "stream",
     "text": [
      "train_lossmean = 1.6933444381193124e-5\n",
      "valid_lossmean = 0.000442364852183547\n",
      "FE = 0.043166665472627104\n"
     ]
    },
    {
     "name": "stderr",
     "output_type": "stream",
     "text": [
      "┌ Info: Epoch 169\n",
      "└ @ Main /Users/raphaelpestourie/.julia/packages/Flux/EXOFx/src/optimise/train.jl:154\n"
     ]
    },
    {
     "name": "stdout",
     "output_type": "stream",
     "text": [
      "train_lossmean = 1.6999374257693624e-5\n",
      "valid_lossmean = 0.0004961040412232201\n",
      "FE = 0.04571351091853802\n"
     ]
    },
    {
     "name": "stderr",
     "output_type": "stream",
     "text": [
      "┌ Info: Epoch 170\n",
      "└ @ Main /Users/raphaelpestourie/.julia/packages/Flux/EXOFx/src/optimise/train.jl:154\n"
     ]
    },
    {
     "name": "stdout",
     "output_type": "stream",
     "text": [
      "train_lossmean = 1.7217072718550855e-5\n",
      "valid_lossmean = 0.0004305490067207143\n",
      "FE = 0.04258625899237653\n"
     ]
    },
    {
     "name": "stderr",
     "output_type": "stream",
     "text": [
      "┌ Info: Epoch 171\n",
      "└ @ Main /Users/raphaelpestourie/.julia/packages/Flux/EXOFx/src/optimise/train.jl:154\n"
     ]
    },
    {
     "name": "stdout",
     "output_type": "stream",
     "text": [
      "train_lossmean = 1.6456137220064246e-5\n",
      "valid_lossmean = 0.0004328373149881673\n",
      "FE = 0.04269927905050063\n"
     ]
    },
    {
     "name": "stderr",
     "output_type": "stream",
     "text": [
      "┌ Info: Epoch 172\n",
      "└ @ Main /Users/raphaelpestourie/.julia/packages/Flux/EXOFx/src/optimise/train.jl:154\n"
     ]
    },
    {
     "name": "stdout",
     "output_type": "stream",
     "text": [
      "train_lossmean = 1.7389361229978007e-5\n",
      "valid_lossmean = 0.0004859238448205124\n",
      "FE = 0.045242052627049084\n"
     ]
    },
    {
     "name": "stderr",
     "output_type": "stream",
     "text": [
      "┌ Info: Epoch 173\n",
      "└ @ Main /Users/raphaelpestourie/.julia/packages/Flux/EXOFx/src/optimise/train.jl:154\n"
     ]
    },
    {
     "name": "stdout",
     "output_type": "stream",
     "text": [
      "train_lossmean = 1.6318490916818483e-5\n",
      "valid_lossmean = 0.0004730477048340262\n",
      "FE = 0.044638610239220645\n"
     ]
    },
    {
     "name": "stderr",
     "output_type": "stream",
     "text": [
      "┌ Info: Epoch 174\n",
      "└ @ Main /Users/raphaelpestourie/.julia/packages/Flux/EXOFx/src/optimise/train.jl:154\n"
     ]
    },
    {
     "name": "stdout",
     "output_type": "stream",
     "text": [
      "train_lossmean = 1.6101195751066703e-5\n",
      "valid_lossmean = 0.0005188674895607965\n",
      "FE = 0.04675051778128933\n"
     ]
    },
    {
     "name": "stderr",
     "output_type": "stream",
     "text": [
      "┌ Info: Epoch 175\n",
      "└ @ Main /Users/raphaelpestourie/.julia/packages/Flux/EXOFx/src/optimise/train.jl:154\n"
     ]
    },
    {
     "name": "stdout",
     "output_type": "stream",
     "text": [
      "train_lossmean = 1.676613752277046e-5\n",
      "valid_lossmean = 0.0005950913498317468\n",
      "FE = 0.050066820676554394\n"
     ]
    },
    {
     "name": "stderr",
     "output_type": "stream",
     "text": [
      "┌ Info: Epoch 176\n",
      "└ @ Main /Users/raphaelpestourie/.julia/packages/Flux/EXOFx/src/optimise/train.jl:154\n"
     ]
    },
    {
     "name": "stdout",
     "output_type": "stream",
     "text": [
      "train_lossmean = 1.686651485943884e-5\n",
      "valid_lossmean = 0.0005846092050506894\n",
      "FE = 0.0496239144910761\n"
     ]
    },
    {
     "name": "stderr",
     "output_type": "stream",
     "text": [
      "┌ Info: Epoch 177\n",
      "└ @ Main /Users/raphaelpestourie/.julia/packages/Flux/EXOFx/src/optimise/train.jl:154\n"
     ]
    },
    {
     "name": "stdout",
     "output_type": "stream",
     "text": [
      "train_lossmean = 1.710972513161452e-5\n",
      "valid_lossmean = 0.0005778426787720068\n",
      "FE = 0.04933589404629609\n"
     ]
    },
    {
     "name": "stderr",
     "output_type": "stream",
     "text": [
      "┌ Info: Epoch 178\n",
      "└ @ Main /Users/raphaelpestourie/.julia/packages/Flux/EXOFx/src/optimise/train.jl:154\n"
     ]
    },
    {
     "name": "stdout",
     "output_type": "stream",
     "text": [
      "train_lossmean = 1.6932093202432253e-5\n",
      "valid_lossmean = 0.0004800041400020587\n",
      "FE = 0.04496563043064469\n"
     ]
    },
    {
     "name": "stderr",
     "output_type": "stream",
     "text": [
      "┌ Info: Epoch 179\n",
      "└ @ Main /Users/raphaelpestourie/.julia/packages/Flux/EXOFx/src/optimise/train.jl:154\n"
     ]
    },
    {
     "name": "stdout",
     "output_type": "stream",
     "text": [
      "train_lossmean = 1.594411224784294e-5\n",
      "valid_lossmean = 0.0005242380089890282\n",
      "FE = 0.046991839722978615\n"
     ]
    },
    {
     "name": "stderr",
     "output_type": "stream",
     "text": [
      "┌ Info: Epoch 180\n",
      "└ @ Main /Users/raphaelpestourie/.julia/packages/Flux/EXOFx/src/optimise/train.jl:154\n"
     ]
    },
    {
     "name": "stdout",
     "output_type": "stream",
     "text": [
      "train_lossmean = 1.646070998559243e-5\n",
      "valid_lossmean = 0.0005062224524983295\n",
      "FE = 0.04617733837432658\n"
     ]
    },
    {
     "name": "stderr",
     "output_type": "stream",
     "text": [
      "┌ Info: Epoch 181\n",
      "└ @ Main /Users/raphaelpestourie/.julia/packages/Flux/EXOFx/src/optimise/train.jl:154\n"
     ]
    },
    {
     "name": "stdout",
     "output_type": "stream",
     "text": [
      "train_lossmean = 1.6944383324643968e-5\n",
      "valid_lossmean = 0.0004924749941228016\n",
      "FE = 0.04554600473814585\n"
     ]
    },
    {
     "name": "stderr",
     "output_type": "stream",
     "text": [
      "┌ Info: Epoch 182\n",
      "└ @ Main /Users/raphaelpestourie/.julia/packages/Flux/EXOFx/src/optimise/train.jl:154\n"
     ]
    },
    {
     "name": "stdout",
     "output_type": "stream",
     "text": [
      "train_lossmean = 1.676707829222163e-5\n",
      "valid_lossmean = 0.0004891540129128327\n",
      "FE = 0.045392176330167774\n"
     ]
    },
    {
     "name": "stderr",
     "output_type": "stream",
     "text": [
      "┌ Info: Epoch 183\n",
      "└ @ Main /Users/raphaelpestourie/.julia/packages/Flux/EXOFx/src/optimise/train.jl:154\n"
     ]
    },
    {
     "name": "stdout",
     "output_type": "stream",
     "text": [
      "train_lossmean = 1.6361145709667908e-5\n",
      "valid_lossmean = 0.00047880086517261577\n",
      "FE = 0.04490923512319557\n"
     ]
    },
    {
     "name": "stderr",
     "output_type": "stream",
     "text": [
      "┌ Info: Epoch 184\n",
      "└ @ Main /Users/raphaelpestourie/.julia/packages/Flux/EXOFx/src/optimise/train.jl:154\n"
     ]
    },
    {
     "name": "stdout",
     "output_type": "stream",
     "text": [
      "train_lossmean = 1.6368830650596757e-5\n",
      "valid_lossmean = 0.0004642044706925817\n",
      "FE = 0.04421940092286598\n"
     ]
    },
    {
     "name": "stderr",
     "output_type": "stream",
     "text": [
      "┌ Info: Epoch 185\n",
      "└ @ Main /Users/raphaelpestourie/.julia/packages/Flux/EXOFx/src/optimise/train.jl:154\n"
     ]
    },
    {
     "name": "stdout",
     "output_type": "stream",
     "text": [
      "train_lossmean = 1.6338807246316306e-5\n",
      "valid_lossmean = 0.00046852750470065583\n",
      "FE = 0.04442482653173586\n"
     ]
    },
    {
     "name": "stderr",
     "output_type": "stream",
     "text": [
      "┌ Info: Epoch 186\n",
      "└ @ Main /Users/raphaelpestourie/.julia/packages/Flux/EXOFx/src/optimise/train.jl:154\n"
     ]
    },
    {
     "name": "stdout",
     "output_type": "stream",
     "text": [
      "train_lossmean = 1.6516065896129505e-5\n",
      "valid_lossmean = 0.0005145277066585558\n",
      "FE = 0.0465545977055522\n"
     ]
    },
    {
     "name": "stderr",
     "output_type": "stream",
     "text": [
      "┌ Info: Epoch 187\n",
      "└ @ Main /Users/raphaelpestourie/.julia/packages/Flux/EXOFx/src/optimise/train.jl:154\n"
     ]
    },
    {
     "name": "stdout",
     "output_type": "stream",
     "text": [
      "train_lossmean = 1.653964802808668e-5\n",
      "valid_lossmean = 0.0004596431269791759\n",
      "FE = 0.04400161131503617\n"
     ]
    },
    {
     "name": "stderr",
     "output_type": "stream",
     "text": [
      "┌ Info: Epoch 188\n",
      "└ @ Main /Users/raphaelpestourie/.julia/packages/Flux/EXOFx/src/optimise/train.jl:154\n"
     ]
    },
    {
     "name": "stdout",
     "output_type": "stream",
     "text": [
      "train_lossmean = 1.6059530506080885e-5\n",
      "valid_lossmean = 0.0004003979119186076\n",
      "FE = 0.041068051420911245\n"
     ]
    },
    {
     "name": "stderr",
     "output_type": "stream",
     "text": [
      "┌ Info: Epoch 189\n",
      "└ @ Main /Users/raphaelpestourie/.julia/packages/Flux/EXOFx/src/optimise/train.jl:154\n"
     ]
    },
    {
     "name": "stdout",
     "output_type": "stream",
     "text": [
      "train_lossmean = 1.6575451772260406e-5\n",
      "valid_lossmean = 0.00045875010160369937\n",
      "FE = 0.043958845897972505\n"
     ]
    },
    {
     "name": "stderr",
     "output_type": "stream",
     "text": [
      "┌ Info: Epoch 190\n",
      "└ @ Main /Users/raphaelpestourie/.julia/packages/Flux/EXOFx/src/optimise/train.jl:154\n"
     ]
    },
    {
     "name": "stdout",
     "output_type": "stream",
     "text": [
      "train_lossmean = 1.614426595021941e-5\n",
      "valid_lossmean = 0.00048825886209475505\n",
      "FE = 0.04535062351731463\n"
     ]
    },
    {
     "name": "stderr",
     "output_type": "stream",
     "text": [
      "┌ Info: Epoch 191\n",
      "└ @ Main /Users/raphaelpestourie/.julia/packages/Flux/EXOFx/src/optimise/train.jl:154\n"
     ]
    },
    {
     "name": "stdout",
     "output_type": "stream",
     "text": [
      "train_lossmean = 1.6855613419919058e-5\n",
      "valid_lossmean = 0.0003597206551340644\n",
      "FE = 0.03892609901335047\n"
     ]
    },
    {
     "name": "stderr",
     "output_type": "stream",
     "text": [
      "┌ Info: Epoch 192\n",
      "└ @ Main /Users/raphaelpestourie/.julia/packages/Flux/EXOFx/src/optimise/train.jl:154\n"
     ]
    },
    {
     "name": "stdout",
     "output_type": "stream",
     "text": [
      "train_lossmean = 1.657364348645909e-5\n",
      "valid_lossmean = 0.00039862713660434045\n",
      "FE = 0.04097713826668099\n"
     ]
    },
    {
     "name": "stderr",
     "output_type": "stream",
     "text": [
      "┌ Info: Epoch 193\n",
      "└ @ Main /Users/raphaelpestourie/.julia/packages/Flux/EXOFx/src/optimise/train.jl:154\n"
     ]
    },
    {
     "name": "stdout",
     "output_type": "stream",
     "text": [
      "train_lossmean = 1.628841547248369e-5\n",
      "valid_lossmean = 0.0004170133070612154\n",
      "FE = 0.04191149494484119\n"
     ]
    },
    {
     "name": "stderr",
     "output_type": "stream",
     "text": [
      "┌ Info: Epoch 194\n",
      "└ @ Main /Users/raphaelpestourie/.julia/packages/Flux/EXOFx/src/optimise/train.jl:154\n"
     ]
    },
    {
     "name": "stdout",
     "output_type": "stream",
     "text": [
      "train_lossmean = 1.6231701285094758e-5\n",
      "valid_lossmean = 0.0004704045699977923\n",
      "FE = 0.044513727339552396\n"
     ]
    },
    {
     "name": "stderr",
     "output_type": "stream",
     "text": [
      "┌ Info: Epoch 195\n",
      "└ @ Main /Users/raphaelpestourie/.julia/packages/Flux/EXOFx/src/optimise/train.jl:154\n"
     ]
    },
    {
     "name": "stdout",
     "output_type": "stream",
     "text": [
      "train_lossmean = 1.5653097759902767e-5\n",
      "valid_lossmean = 0.00043217986747157925\n",
      "FE = 0.04266683822097489\n"
     ]
    },
    {
     "name": "stderr",
     "output_type": "stream",
     "text": [
      "┌ Info: Epoch 196\n",
      "└ @ Main /Users/raphaelpestourie/.julia/packages/Flux/EXOFx/src/optimise/train.jl:154\n"
     ]
    },
    {
     "name": "stdout",
     "output_type": "stream",
     "text": [
      "train_lossmean = 1.617559816522891e-5\n",
      "valid_lossmean = 0.0004181050472110437\n",
      "FE = 0.04196632119684359\n"
     ]
    },
    {
     "name": "stderr",
     "output_type": "stream",
     "text": [
      "┌ Info: Epoch 197\n",
      "└ @ Main /Users/raphaelpestourie/.julia/packages/Flux/EXOFx/src/optimise/train.jl:154\n"
     ]
    },
    {
     "name": "stdout",
     "output_type": "stream",
     "text": [
      "train_lossmean = 1.5599586200969416e-5\n",
      "valid_lossmean = 0.0004979036638892533\n",
      "FE = 0.04579634898516034\n"
     ]
    },
    {
     "name": "stderr",
     "output_type": "stream",
     "text": [
      "┌ Info: Epoch 198\n",
      "└ @ Main /Users/raphaelpestourie/.julia/packages/Flux/EXOFx/src/optimise/train.jl:154\n"
     ]
    },
    {
     "name": "stdout",
     "output_type": "stream",
     "text": [
      "train_lossmean = 1.6818808751207033e-5\n",
      "valid_lossmean = 0.0005073549984776466\n",
      "FE = 0.04622896463115461\n"
     ]
    },
    {
     "name": "stderr",
     "output_type": "stream",
     "text": [
      "┌ Info: Epoch 199\n",
      "└ @ Main /Users/raphaelpestourie/.julia/packages/Flux/EXOFx/src/optimise/train.jl:154\n"
     ]
    },
    {
     "name": "stdout",
     "output_type": "stream",
     "text": [
      "train_lossmean = 1.6195499294460672e-5\n",
      "valid_lossmean = 0.0005949161715017871\n",
      "FE = 0.05005945099491915\n"
     ]
    },
    {
     "name": "stderr",
     "output_type": "stream",
     "text": [
      "┌ Info: Epoch 200\n",
      "└ @ Main /Users/raphaelpestourie/.julia/packages/Flux/EXOFx/src/optimise/train.jl:154\n"
     ]
    },
    {
     "name": "stdout",
     "output_type": "stream",
     "text": [
      "train_lossmean = 1.5092391685186291e-5\n",
      "valid_lossmean = 0.0004181320856671735\n",
      "FE = 0.041967678135964165\n",
      "107.586316 seconds (372.97 M allocations: 42.558 GiB, 10.08% gc time, 1.05% compilation time)\n"
     ]
    }
   ],
   "source": [
    "namemodel = \"local_MSE_parallel_PEDSparameterized_$endname\"\n",
    "\n",
    "kval =  Ks[1]\n",
    "##define same AL parameters for all workers\n",
    "al1 = ALstruct(Ninit=ninit+8*kval, T=0, η=1e-3, J=Jval, ne=number_epoch, batchsize=batchsize);\n",
    "if MPI.Comm_rank(comm) == 0\n",
    "    @show kval\n",
    "    @show 256+8*kval\n",
    "end\n",
    "##ititialize DataRunner and DataSet\n",
    "dr = DataRunner(Xt, yt, [1]);\n",
    "ds = DataSet()\n",
    "validation_fes = []\n",
    "mgen =  Chain(Dense(nin, nnodes, relu),\n",
    "Dropout(0.5),\n",
    "Dense(nnodes, nnodes,relu),\n",
    "Dropout(0.5),\n",
    "Dense(nnodes, coarseresolution^2, hardtanh),\n",
    "x-> @. x*0.9/2 + 0.45 + .1)\n",
    "\n",
    "cw=[cwval]\n",
    "\n",
    "m(p) = begin\n",
    "    generatedgeom = mgen(p)\n",
    "    w = @. max(0, min(1, cw)) # harder function.\n",
    "    @views map(i->Float32(targetfunc(avgOpcoarse * (w .* generatedgeom[:,i] + (1 .-w) .* generatepores(p[:, i],coarseresolution)[:]), sim=coarse_sim)), 1:length(p)÷ nin)\n",
    "end\n",
    "mloglik(p) = 1\n",
    "ps = Flux.params(mgen, cw)\n",
    "\n",
    "\n",
    "loader = initloader(al1, dr, ds);\n",
    "opt = ADAM(al1.η)\n",
    "\n",
    "if MPI.Comm_rank(comm)==0\n",
    "    @time Flux.@epochs al1.ne train_distributed!(comm, commModel, commLeader, mloglik, m, dHuber, ps, loader, opt, validation_fes, logging=true)\n",
    "else\n",
    "    Flux.@epochs al1.ne train_distributed!(comm, commModel, commLeader, mloglik, m, dHuber, ps, loader, opt, validation_fes, logging=true)\n",
    "end\n",
    "\n",
    "\n",
    "# ##save models and validation FEs\n",
    "# if isleader\n",
    "#     BSON.@save \"$(namemodel)_K$(kval)_mgen$(model_color).bson\" mgen\n",
    "#     BSON.@save \"$(namemodel)_K$(kval)_cw$(model_color).bson\" cw\n",
    "# end\n",
    "\n",
    "# if MPI.Comm_rank(comm) == 0\n",
    "#     writedlm(\"$(namemodel)_K$(kval)_trainingMSE.csv\", validation_fes, ',')\n",
    "# end\n",
    "\n",
    "# # evaluate and show the error on the test set\n",
    "# valid_lossmean = dFE_1d(comm, commModel, commLeader, m)\n",
    "# if MPI.Comm_rank(comm) == 0\n",
    "#     @show valid_lossmean\n",
    "#     writedlm(\"$(namemodel)_K$(kval)_endvalidFE.csv\", [valid_lossmean], ',')\n",
    "# end"
   ]
  },
  {
   "cell_type": "code",
   "execution_count": 5,
   "metadata": {},
   "outputs": [
    {
     "name": "stdout",
     "output_type": "stream",
     "text": [
      "FE = 0.04814524309206283\n"
     ]
    },
    {
     "data": {
      "text/plain": [
       "0.04814524309206283"
      ]
     },
     "execution_count": 5,
     "metadata": {},
     "output_type": "execute_result"
    }
   ],
   "source": [
    "dFE_1d(comm, commModel, commLeader, m, valid=test)"
   ]
  },
  {
   "cell_type": "markdown",
   "metadata": {},
   "source": [
    "## PEDS result\n",
    "\n",
    "The fractional error on the test set is 0.0481."
   ]
  },
  {
   "cell_type": "markdown",
   "metadata": {},
   "source": [
    "# Baseline "
   ]
  },
  {
   "cell_type": "code",
   "execution_count": 6,
   "metadata": {},
   "outputs": [
    {
     "name": "stdout",
     "output_type": "stream",
     "text": [
      "kval = 128\n",
      "256 + 8kval = 1280\n"
     ]
    },
    {
     "name": "stderr",
     "output_type": "stream",
     "text": [
      "┌ Info: Epoch 1\n",
      "└ @ Main /Users/raphaelpestourie/.julia/packages/Flux/EXOFx/src/optimise/train.jl:154\n"
     ]
    },
    {
     "name": "stdout",
     "output_type": "stream",
     "text": [
      "train_lossmean = 9.087440830678339e-5\n",
      "valid_lossmean = 0.007655771921302229\n",
      "FE = 0.17957781724323424\n",
      "train_lossmean = 7.882662053470223e-5\n",
      "valid_lossmean = 0.009459196166458565\n",
      "FE = 0.19961138645332263\n"
     ]
    },
    {
     "name": "stderr",
     "output_type": "stream",
     "text": [
      "┌ Info: Epoch 2\n",
      "└ @ Main /Users/raphaelpestourie/.julia/packages/Flux/EXOFx/src/optimise/train.jl:154\n",
      "┌ Info: Epoch 3\n",
      "└ @ Main /Users/raphaelpestourie/.julia/packages/Flux/EXOFx/src/optimise/train.jl:154\n"
     ]
    },
    {
     "name": "stdout",
     "output_type": "stream",
     "text": [
      "train_lossmean = 7.351658493128562e-5\n",
      "valid_lossmean = 0.00813197924014964\n",
      "FE = 0.18507865118120526\n"
     ]
    },
    {
     "name": "stderr",
     "output_type": "stream",
     "text": [
      "┌ Info: Epoch 4\n",
      "└ @ Main /Users/raphaelpestourie/.julia/packages/Flux/EXOFx/src/optimise/train.jl:154\n"
     ]
    },
    {
     "name": "stdout",
     "output_type": "stream",
     "text": [
      "train_lossmean = 7.198758713021466e-5\n",
      "valid_lossmean = 0.00852736828276333\n",
      "FE = 0.18952465077520197\n",
      "train_lossmean = 7.066432631718027e-5\n",
      "valid_lossmean = 0.008297821996089872\n",
      "FE = 0.18695636360681112\n"
     ]
    },
    {
     "name": "stderr",
     "output_type": "stream",
     "text": [
      "┌ Info: Epoch 5\n",
      "└ @ Main /Users/raphaelpestourie/.julia/packages/Flux/EXOFx/src/optimise/train.jl:154\n",
      "┌ Info: Epoch 6\n",
      "└ @ Main /Users/raphaelpestourie/.julia/packages/Flux/EXOFx/src/optimise/train.jl:154\n"
     ]
    },
    {
     "name": "stdout",
     "output_type": "stream",
     "text": [
      "train_lossmean = 6.812702824206355e-5\n",
      "valid_lossmean = 0.006705730711818246\n",
      "FE = 0.1680665362772487\n",
      "train_lossmean = 6.749143956798479e-5\n",
      "valid_lossmean = "
     ]
    },
    {
     "name": "stderr",
     "output_type": "stream",
     "text": [
      "┌ Info: Epoch 7\n",
      "└ @ Main /Users/raphaelpestourie/.julia/packages/Flux/EXOFx/src/optimise/train.jl:154\n"
     ]
    },
    {
     "name": "stdout",
     "output_type": "stream",
     "text": [
      "0.00802158974523053\n",
      "FE = 0.18381816167787127\n",
      "train_lossmean = 6.47152573218137e-5\n",
      "valid_lossmean = 0.006731023245485139\n",
      "FE = 0.16838319287700385\n"
     ]
    },
    {
     "name": "stderr",
     "output_type": "stream",
     "text": [
      "┌ Info: Epoch 8\n",
      "└ @ Main /Users/raphaelpestourie/.julia/packages/Flux/EXOFx/src/optimise/train.jl:154\n",
      "┌ Info: Epoch 9\n",
      "└ @ Main /Users/raphaelpestourie/.julia/packages/Flux/EXOFx/src/optimise/train.jl:154\n"
     ]
    },
    {
     "name": "stdout",
     "output_type": "stream",
     "text": [
      "train_lossmean = 6.758362986493981e-5\n",
      "valid_lossmean = 0.007296102146245177\n",
      "FE = 0.17530877211983056\n",
      "train_lossmean = 6.494892527978281e-5\n",
      "valid_lossmean = 0.006783798408053492\n"
     ]
    },
    {
     "name": "stderr",
     "output_type": "stream",
     "text": [
      "┌ Info: Epoch 10\n",
      "└ @ Main /Users/raphaelpestourie/.julia/packages/Flux/EXOFx/src/optimise/train.jl:154\n"
     ]
    },
    {
     "name": "stdout",
     "output_type": "stream",
     "text": [
      "FE = 0.16904201541147604\n",
      "train_lossmean = 6.172235612539465e-5\n",
      "valid_lossmean = 0.00676329092123302\n",
      "FE = 0.16878631421183304\n"
     ]
    },
    {
     "name": "stderr",
     "output_type": "stream",
     "text": [
      "┌ Info: Epoch 11\n",
      "└ @ Main /Users/raphaelpestourie/.julia/packages/Flux/EXOFx/src/optimise/train.jl:154\n",
      "┌ Info: Epoch 12\n",
      "└ @ Main /Users/raphaelpestourie/.julia/packages/Flux/EXOFx/src/optimise/train.jl:154\n"
     ]
    },
    {
     "name": "stdout",
     "output_type": "stream",
     "text": [
      "train_lossmean = 6.10655540220425e-5\n",
      "valid_lossmean = 0.0066210600257699224\n",
      "FE = 0.16700210977729513\n",
      "train_lossmean = 5.923852973738217e-5\n",
      "valid_lossmean = 0.00614359797539296\n",
      "FE = 0.1608679729547632\n"
     ]
    },
    {
     "name": "stderr",
     "output_type": "stream",
     "text": [
      "┌ Info: Epoch 13\n",
      "└ @ Main /Users/raphaelpestourie/.julia/packages/Flux/EXOFx/src/optimise/train.jl:154\n",
      "┌ Info: Epoch 14\n",
      "└ @ Main /Users/raphaelpestourie/.julia/packages/Flux/EXOFx/src/optimise/train.jl:154\n"
     ]
    },
    {
     "name": "stdout",
     "output_type": "stream",
     "text": [
      "train_lossmean = 6.032710767068914e-5\n",
      "valid_lossmean = 0.006667145258741248\n",
      "FE = 0.16758230276184222\n",
      "train_lossmean = 5.654760688235493e-5\n",
      "valid_lossmean = 0.005796800128964548\n"
     ]
    },
    {
     "name": "stderr",
     "output_type": "stream",
     "text": [
      "┌ Info: Epoch 15\n",
      "└ @ Main /Users/raphaelpestourie/.julia/packages/Flux/EXOFx/src/optimise/train.jl:154\n"
     ]
    },
    {
     "name": "stdout",
     "output_type": "stream",
     "text": [
      "FE = 0.15626163291521128\n",
      "train_lossmean = 5.798026556112128e-5\n",
      "valid_lossmean = 0.006651817886944011\n",
      "FE = 0.1673895610318115\n"
     ]
    },
    {
     "name": "stderr",
     "output_type": "stream",
     "text": [
      "┌ Info: Epoch 16\n",
      "└ @ Main /Users/raphaelpestourie/.julia/packages/Flux/EXOFx/src/optimise/train.jl:154\n",
      "┌ Info: Epoch 17\n",
      "└ @ Main /Users/raphaelpestourie/.julia/packages/Flux/EXOFx/src/optimise/train.jl:154\n"
     ]
    },
    {
     "name": "stdout",
     "output_type": "stream",
     "text": [
      "train_lossmean = 5.6960598397734e-5\n",
      "valid_lossmean = 0.006776122433885633\n",
      "FE = 0.16894635149826012\n"
     ]
    },
    {
     "name": "stderr",
     "output_type": "stream",
     "text": [
      "┌ Info: Epoch 18\n",
      "└ @ Main /Users/raphaelpestourie/.julia/packages/Flux/EXOFx/src/optimise/train.jl:154\n"
     ]
    },
    {
     "name": "stdout",
     "output_type": "stream",
     "text": [
      "train_lossmean = 5.6021832941252725e-5\n",
      "valid_lossmean = 0.007239792353223907\n",
      "FE = 0.1746309635400786\n",
      "train_lossmean = 5.6333973788794003e-5\n",
      "valid_lossmean = 0.006168172835165101\n",
      "FE = 0.16118939391989395\n"
     ]
    },
    {
     "name": "stderr",
     "output_type": "stream",
     "text": [
      "┌ Info: Epoch 19\n",
      "└ @ Main /Users/raphaelpestourie/.julia/packages/Flux/EXOFx/src/optimise/train.jl:154\n",
      "┌ Info: Epoch 20\n",
      "└ @ Main /Users/raphaelpestourie/.julia/packages/Flux/EXOFx/src/optimise/train.jl:154\n"
     ]
    },
    {
     "name": "stdout",
     "output_type": "stream",
     "text": [
      "train_lossmean = 5.454559111161056e-5\n",
      "valid_lossmean = 0.006917544169999853\n",
      "FE = 0.17070025331142769\n",
      "train_lossmean = 5.470851258984598e-5\n",
      "valid_lossmean = 0.006452897590769332\n",
      "FE = 0.1648677008430264\n"
     ]
    },
    {
     "name": "stderr",
     "output_type": "stream",
     "text": [
      "┌ Info: Epoch 21\n",
      "└ @ Main /Users/raphaelpestourie/.julia/packages/Flux/EXOFx/src/optimise/train.jl:154\n",
      "┌ Info: Epoch 22\n",
      "└ @ Main /Users/raphaelpestourie/.julia/packages/Flux/EXOFx/src/optimise/train.jl:154\n"
     ]
    },
    {
     "name": "stdout",
     "output_type": "stream",
     "text": [
      "train_lossmean = 5.4490994865634205e-5\n",
      "valid_lossmean = 0.008085705819998817\n",
      "FE = 0.18455132321011455\n",
      "train_lossmean = 5.205707625380725e-5\n",
      "valid_lossmean = 0.006177052617495387\n"
     ]
    },
    {
     "name": "stderr",
     "output_type": "stream",
     "text": [
      "┌ Info: Epoch 23\n",
      "└ @ Main /Users/raphaelpestourie/.julia/packages/Flux/EXOFx/src/optimise/train.jl:154\n"
     ]
    },
    {
     "name": "stdout",
     "output_type": "stream",
     "text": [
      "FE = 0.1613053773724892\n",
      "train_lossmean = 5.194400441547726e-5\n",
      "valid_lossmean = 0.006272707413077298\n",
      "FE = 0.16254952713150372\n"
     ]
    },
    {
     "name": "stderr",
     "output_type": "stream",
     "text": [
      "┌ Info: Epoch 24\n",
      "└ @ Main /Users/raphaelpestourie/.julia/packages/Flux/EXOFx/src/optimise/train.jl:154\n",
      "┌ Info: Epoch 25\n",
      "└ @ Main /Users/raphaelpestourie/.julia/packages/Flux/EXOFx/src/optimise/train.jl:154\n"
     ]
    },
    {
     "name": "stdout",
     "output_type": "stream",
     "text": [
      "train_lossmean = 5.05938338900017e-5\n",
      "valid_lossmean = 0.006613847224161357\n",
      "FE = 0.16691112122622134\n",
      "train_lossmean = 5.04287806764615e-5\n",
      "valid_lossmean = "
     ]
    },
    {
     "name": "stderr",
     "output_type": "stream",
     "text": [
      "┌ Info: Epoch 26\n",
      "└ @ Main /Users/raphaelpestourie/.julia/packages/Flux/EXOFx/src/optimise/train.jl:154\n"
     ]
    },
    {
     "name": "stdout",
     "output_type": "stream",
     "text": [
      "0.007620808914278709\n",
      "FE = 0.17916729265148368\n",
      "train_lossmean = 4.887116157678309e-5\n",
      "valid_lossmean = 0.007457593803555511\n",
      "FE = 0.1772382925385393\n"
     ]
    },
    {
     "name": "stderr",
     "output_type": "stream",
     "text": [
      "┌ Info: Epoch 27\n",
      "└ @ Main /Users/raphaelpestourie/.julia/packages/Flux/EXOFx/src/optimise/train.jl:154\n",
      "┌ Info: Epoch 28\n",
      "└ @ Main /Users/raphaelpestourie/.julia/packages/Flux/EXOFx/src/optimise/train.jl:154\n"
     ]
    },
    {
     "name": "stdout",
     "output_type": "stream",
     "text": [
      "train_lossmean = 4.841215912187866e-5\n",
      "valid_lossmean = 0.0063769742571986475\n",
      "FE = 0.16389493299544527\n",
      "train_lossmean = 5.068346078047971e-5\n",
      "valid_lossmean = 0.006895149014052648\n",
      "FE = 0.17042371312681087\n"
     ]
    },
    {
     "name": "stderr",
     "output_type": "stream",
     "text": [
      "┌ Info: Epoch 29\n",
      "└ @ Main /Users/raphaelpestourie/.julia/packages/Flux/EXOFx/src/optimise/train.jl:154\n",
      "┌ Info: Epoch 30\n",
      "└ @ Main /Users/raphaelpestourie/.julia/packages/Flux/EXOFx/src/optimise/train.jl:154\n"
     ]
    },
    {
     "name": "stdout",
     "output_type": "stream",
     "text": [
      "train_lossmean = 4.958450712024888e-5\n",
      "valid_lossmean = 0.0066145927832997565\n",
      "FE = 0.16692052865586962\n",
      "train_lossmean = 4.6514054376336356e-5\n",
      "valid_lossmean = 0.007144176374194866\n"
     ]
    },
    {
     "name": "stderr",
     "output_type": "stream",
     "text": [
      "┌ Info: Epoch 31\n",
      "└ @ Main /Users/raphaelpestourie/.julia/packages/Flux/EXOFx/src/optimise/train.jl:154\n"
     ]
    },
    {
     "name": "stdout",
     "output_type": "stream",
     "text": [
      "FE = 0.17347395461974793\n",
      "train_lossmean = 4.736115388852348e-5\n",
      "valid_lossmean = 0.007465103496491383\n",
      "FE = 0.17732750832859107\n"
     ]
    },
    {
     "name": "stderr",
     "output_type": "stream",
     "text": [
      "┌ Info: Epoch 32\n",
      "└ @ Main /Users/raphaelpestourie/.julia/packages/Flux/EXOFx/src/optimise/train.jl:154\n",
      "┌ Info: Epoch 33\n",
      "└ @ Main /Users/raphaelpestourie/.julia/packages/Flux/EXOFx/src/optimise/train.jl:154\n"
     ]
    },
    {
     "name": "stdout",
     "output_type": "stream",
     "text": [
      "train_lossmean = 4.607409215080247e-5\n",
      "valid_lossmean = 0.0063606038691842864\n",
      "FE = 0.1636844297335778\n",
      "train_lossmean = 4.6018396528356664e-5\n",
      "valid_lossmean = 0.0069027510535067445\n",
      "FE = 0.17051763501942283\n"
     ]
    },
    {
     "name": "stderr",
     "output_type": "stream",
     "text": [
      "┌ Info: Epoch 34\n",
      "└ @ Main /Users/raphaelpestourie/.julia/packages/Flux/EXOFx/src/optimise/train.jl:154\n",
      "┌ Info: Epoch 35\n",
      "└ @ Main /Users/raphaelpestourie/.julia/packages/Flux/EXOFx/src/optimise/train.jl:154\n"
     ]
    },
    {
     "name": "stdout",
     "output_type": "stream",
     "text": [
      "train_lossmean = 4.8762732351654904e-5\n",
      "valid_lossmean = 0.0075326304051670035\n",
      "FE = 0.17812772638082858\n",
      "train_lossmean = 4.415391859240634e-5\n",
      "valid_lossmean = 0.007390389025698714\n"
     ]
    },
    {
     "name": "stderr",
     "output_type": "stream",
     "text": [
      "┌ Info: Epoch 36\n",
      "└ @ Main /Users/raphaelpestourie/.julia/packages/Flux/EXOFx/src/optimise/train.jl:154\n"
     ]
    },
    {
     "name": "stdout",
     "output_type": "stream",
     "text": [
      "FE = 0.17643788580964018\n",
      "train_lossmean = 4.465675445119471e-5\n",
      "valid_lossmean = 0.008420678121996598\n",
      "FE = 0.18833530017525002\n"
     ]
    },
    {
     "name": "stderr",
     "output_type": "stream",
     "text": [
      "┌ Info: Epoch 37\n",
      "└ @ Main /Users/raphaelpestourie/.julia/packages/Flux/EXOFx/src/optimise/train.jl:154\n",
      "┌ Info: Epoch 38\n",
      "└ @ Main /Users/raphaelpestourie/.julia/packages/Flux/EXOFx/src/optimise/train.jl:154\n"
     ]
    },
    {
     "name": "stdout",
     "output_type": "stream",
     "text": [
      "train_lossmean = 4.430353731248956e-5\n",
      "valid_lossmean = 0.007688420052895361\n",
      "FE = 0.1799603157672478\n",
      "train_lossmean = 4.4732951235703526e-5\n",
      "valid_lossmean = 0.006129055873001502\n"
     ]
    },
    {
     "name": "stderr",
     "output_type": "stream",
     "text": [
      "┌ Info: Epoch 39\n",
      "└ @ Main /Users/raphaelpestourie/.julia/packages/Flux/EXOFx/src/optimise/train.jl:154\n"
     ]
    },
    {
     "name": "stdout",
     "output_type": "stream",
     "text": [
      "FE = 0.16067747021358267\n",
      "train_lossmean = 4.2198007472084656e-5\n",
      "valid_lossmean = 0.0066521569733159385\n",
      "FE = 0.16739382744413528\n"
     ]
    },
    {
     "name": "stderr",
     "output_type": "stream",
     "text": [
      "┌ Info: Epoch 40\n",
      "└ @ Main /Users/raphaelpestourie/.julia/packages/Flux/EXOFx/src/optimise/train.jl:154\n",
      "┌ Info: Epoch 41\n",
      "└ @ Main /Users/raphaelpestourie/.julia/packages/Flux/EXOFx/src/optimise/train.jl:154\n"
     ]
    },
    {
     "name": "stdout",
     "output_type": "stream",
     "text": [
      "train_lossmean = 4.4024138730551824e-5\n",
      "valid_lossmean = 0.006730841675136084\n",
      "FE = 0.16838092178090341\n",
      "train_lossmean = 4.320994564444546e-5\n",
      "valid_lossmean = 0.005935696805546565\n",
      "FE = 0.15812263746911379\n"
     ]
    },
    {
     "name": "stderr",
     "output_type": "stream",
     "text": [
      "┌ Info: Epoch 42\n",
      "└ @ Main /Users/raphaelpestourie/.julia/packages/Flux/EXOFx/src/optimise/train.jl:154\n",
      "┌ Info: Epoch 43\n",
      "└ @ Main /Users/raphaelpestourie/.julia/packages/Flux/EXOFx/src/optimise/train.jl:154\n"
     ]
    },
    {
     "name": "stdout",
     "output_type": "stream",
     "text": [
      "train_lossmean = 4.251536243884403e-5\n",
      "valid_lossmean = 0.005440543839399468\n",
      "FE = 0.15138378244199882\n",
      "train_lossmean = 4.272677948898795e-5\n",
      "valid_lossmean = 0.00697254416830946\n"
     ]
    },
    {
     "name": "stderr",
     "output_type": "stream",
     "text": [
      "┌ Info: Epoch 44\n",
      "└ @ Main /Users/raphaelpestourie/.julia/packages/Flux/EXOFx/src/optimise/train.jl:154\n"
     ]
    },
    {
     "name": "stdout",
     "output_type": "stream",
     "text": [
      "FE = 0.17137751143145152\n",
      "train_lossmean = 4.099288172795012e-5\n",
      "valid_lossmean = 0.006143114028982134\n",
      "FE = 0.16086163684588703\n"
     ]
    },
    {
     "name": "stderr",
     "output_type": "stream",
     "text": [
      "┌ Info: Epoch 45\n",
      "└ @ Main /Users/raphaelpestourie/.julia/packages/Flux/EXOFx/src/optimise/train.jl:154\n",
      "┌ Info: Epoch 46\n",
      "└ @ Main /Users/raphaelpestourie/.julia/packages/Flux/EXOFx/src/optimise/train.jl:154\n"
     ]
    },
    {
     "name": "stdout",
     "output_type": "stream",
     "text": [
      "train_lossmean = 4.234193310997121e-5\n",
      "valid_lossmean = 0.007155314109514102\n",
      "FE = 0.17360912447280763\n",
      "train_lossmean = 4.03740019990191e-5\n",
      "valid_lossmean = "
     ]
    },
    {
     "name": "stderr",
     "output_type": "stream",
     "text": [
      "┌ Info: Epoch 47\n",
      "└ @ Main /Users/raphaelpestourie/.julia/packages/Flux/EXOFx/src/optimise/train.jl:154\n"
     ]
    },
    {
     "name": "stdout",
     "output_type": "stream",
     "text": [
      "0.006382366505293288\n",
      "FE = 0.16396421157180155\n",
      "train_lossmean = 3.897447480322192e-5\n",
      "valid_lossmean = 0.006796862309009127\n",
      "FE = 0.16920470347019184\n"
     ]
    },
    {
     "name": "stderr",
     "output_type": "stream",
     "text": [
      "┌ Info: Epoch 48\n",
      "└ @ Main /Users/raphaelpestourie/.julia/packages/Flux/EXOFx/src/optimise/train.jl:154\n",
      "┌ Info: Epoch 49\n",
      "└ @ Main /Users/raphaelpestourie/.julia/packages/Flux/EXOFx/src/optimise/train.jl:154\n"
     ]
    },
    {
     "name": "stdout",
     "output_type": "stream",
     "text": [
      "train_lossmean = 3.9062295263741726e-5\n",
      "valid_lossmean = 0.007184540263146579\n",
      "FE = 0.17396331970858486\n",
      "train_lossmean = 4.228491666995319e-5\n",
      "valid_lossmean = 0.005631075111218554\n",
      "FE = 0.15401174986532662\n"
     ]
    },
    {
     "name": "stderr",
     "output_type": "stream",
     "text": [
      "┌ Info: Epoch 50\n",
      "└ @ Main /Users/raphaelpestourie/.julia/packages/Flux/EXOFx/src/optimise/train.jl:154\n",
      "┌ Info: Epoch 51\n",
      "└ @ Main /Users/raphaelpestourie/.julia/packages/Flux/EXOFx/src/optimise/train.jl:154\n"
     ]
    },
    {
     "name": "stdout",
     "output_type": "stream",
     "text": [
      "train_lossmean = 3.9644060330980895e-5\n",
      "valid_lossmean = 0.006425426754041045\n",
      "FE = 0.1645163947739181\n",
      "train_lossmean = 3.8915782889628874e-5\n",
      "valid_lossmean = 0.006774360528531872\n"
     ]
    },
    {
     "name": "stderr",
     "output_type": "stream",
     "text": [
      "┌ Info: Epoch 52\n",
      "└ @ Main /Users/raphaelpestourie/.julia/packages/Flux/EXOFx/src/optimise/train.jl:154\n"
     ]
    },
    {
     "name": "stdout",
     "output_type": "stream",
     "text": [
      "FE = 0.1689243856294128\n",
      "train_lossmean = 3.966443785261765e-5\n",
      "valid_lossmean = 0.005522716519290937\n",
      "FE = 0.15252273027857238\n"
     ]
    },
    {
     "name": "stderr",
     "output_type": "stream",
     "text": [
      "┌ Info: Epoch 53\n",
      "└ @ Main /Users/raphaelpestourie/.julia/packages/Flux/EXOFx/src/optimise/train.jl:154\n",
      "┌ Info: Epoch 54\n",
      "└ @ Main /Users/raphaelpestourie/.julia/packages/Flux/EXOFx/src/optimise/train.jl:154\n"
     ]
    },
    {
     "name": "stdout",
     "output_type": "stream",
     "text": [
      "train_lossmean = 3.758990688826725e-5\n",
      "valid_lossmean = 0.005388611167566746\n",
      "FE = 0.1506595335699824\n",
      "train_lossmean = 3.6892346771667925e-5\n",
      "valid_lossmean = "
     ]
    },
    {
     "name": "stderr",
     "output_type": "stream",
     "text": [
      "┌ Info: Epoch 55\n",
      "└ @ Main /Users/raphaelpestourie/.julia/packages/Flux/EXOFx/src/optimise/train.jl:154\n"
     ]
    },
    {
     "name": "stdout",
     "output_type": "stream",
     "text": [
      "0.005755362502034535\n",
      "FE = 0.15570212385342153\n",
      "train_lossmean = 3.577327150328002e-5\n",
      "valid_lossmean = 0.005891873913522808\n",
      "FE = 0.15753785115441726\n"
     ]
    },
    {
     "name": "stderr",
     "output_type": "stream",
     "text": [
      "┌ Info: Epoch 56\n",
      "└ @ Main /Users/raphaelpestourie/.julia/packages/Flux/EXOFx/src/optimise/train.jl:154\n",
      "┌ Info: Epoch 57\n",
      "└ @ Main /Users/raphaelpestourie/.julia/packages/Flux/EXOFx/src/optimise/train.jl:154\n"
     ]
    },
    {
     "name": "stdout",
     "output_type": "stream",
     "text": [
      "train_lossmean = 3.768795646077007e-5\n",
      "valid_lossmean = 0.006144758015194507\n",
      "FE = 0.1608831598569563\n",
      "train_lossmean = 3.7899216171269176e-5\n",
      "valid_lossmean = 0.005782046776641906\n",
      "FE = 0.15606265661860017\n"
     ]
    },
    {
     "name": "stderr",
     "output_type": "stream",
     "text": [
      "┌ Info: Epoch 58\n",
      "└ @ Main /Users/raphaelpestourie/.julia/packages/Flux/EXOFx/src/optimise/train.jl:154\n",
      "┌ Info: Epoch 59\n",
      "└ @ Main /Users/raphaelpestourie/.julia/packages/Flux/EXOFx/src/optimise/train.jl:154\n"
     ]
    },
    {
     "name": "stdout",
     "output_type": "stream",
     "text": [
      "train_lossmean = 3.681963874356753e-5\n",
      "valid_lossmean = 0.005513634971151041\n",
      "FE = 0.15239727458906369\n",
      "train_lossmean = 3.624296955438141e-5\n",
      "valid_lossmean = 0.005601545572855234\n"
     ]
    },
    {
     "name": "stderr",
     "output_type": "stream",
     "text": [
      "┌ Info: Epoch 60\n",
      "└ @ Main /Users/raphaelpestourie/.julia/packages/Flux/EXOFx/src/optimise/train.jl:154\n"
     ]
    },
    {
     "name": "stdout",
     "output_type": "stream",
     "text": [
      "FE = 0.15360739778346053\n",
      "train_lossmean = 3.57303421628158e-5\n",
      "valid_lossmean = 0.006094944874440561\n",
      "FE = 0.1602297245697737\n"
     ]
    },
    {
     "name": "stderr",
     "output_type": "stream",
     "text": [
      "┌ Info: Epoch 61\n",
      "└ @ Main /Users/raphaelpestourie/.julia/packages/Flux/EXOFx/src/optimise/train.jl:154\n",
      "┌ Info: Epoch 62\n",
      "└ @ Main /Users/raphaelpestourie/.julia/packages/Flux/EXOFx/src/optimise/train.jl:154\n"
     ]
    },
    {
     "name": "stdout",
     "output_type": "stream",
     "text": [
      "train_lossmean = 3.485428793896544e-5\n",
      "valid_lossmean = 0.005417483409003809\n",
      "FE = 0.1510626121347306\n",
      "train_lossmean = 3.4315105680991565e-5\n",
      "valid_lossmean = "
     ]
    },
    {
     "name": "stderr",
     "output_type": "stream",
     "text": [
      "┌ Info: Epoch 63\n",
      "└ @ Main /Users/raphaelpestourie/.julia/packages/Flux/EXOFx/src/optimise/train.jl:154\n"
     ]
    },
    {
     "name": "stdout",
     "output_type": "stream",
     "text": [
      "0.005466388628048871\n",
      "FE = 0.15174292359704286\n",
      "train_lossmean = 3.506904491103749e-5\n",
      "valid_lossmean = 0.004201864288043962\n",
      "FE = 0.13303907169933177\n"
     ]
    },
    {
     "name": "stderr",
     "output_type": "stream",
     "text": [
      "┌ Info: Epoch 64\n",
      "└ @ Main /Users/raphaelpestourie/.julia/packages/Flux/EXOFx/src/optimise/train.jl:154\n",
      "┌ Info: Epoch 65\n",
      "└ @ Main /Users/raphaelpestourie/.julia/packages/Flux/EXOFx/src/optimise/train.jl:154\n"
     ]
    },
    {
     "name": "stdout",
     "output_type": "stream",
     "text": [
      "train_lossmean = 3.514388238903252e-5\n",
      "valid_lossmean = 0.004486618024240302\n",
      "FE = 0.13747310552160655\n",
      "train_lossmean = 3.426457675865112e-5\n",
      "valid_lossmean = 0.004660369748839257\n",
      "FE = 0.14010975782476567\n"
     ]
    },
    {
     "name": "stderr",
     "output_type": "stream",
     "text": [
      "┌ Info: Epoch 66\n",
      "└ @ Main /Users/raphaelpestourie/.julia/packages/Flux/EXOFx/src/optimise/train.jl:154\n",
      "┌ Info: Epoch 67\n",
      "└ @ Main /Users/raphaelpestourie/.julia/packages/Flux/EXOFx/src/optimise/train.jl:154\n"
     ]
    },
    {
     "name": "stdout",
     "output_type": "stream",
     "text": [
      "train_lossmean = 3.327841681585514e-5\n",
      "valid_lossmean = 0.005503952680736732\n",
      "FE = 0.15226340618466314\n",
      "train_lossmean = 3.420472488663018e-5\n",
      "valid_lossmean = 0.005988675687179486\n"
     ]
    },
    {
     "name": "stderr",
     "output_type": "stream",
     "text": [
      "┌ Info: Epoch 68\n",
      "└ @ Main /Users/raphaelpestourie/.julia/packages/Flux/EXOFx/src/optimise/train.jl:154\n"
     ]
    },
    {
     "name": "stdout",
     "output_type": "stream",
     "text": [
      "FE = 0.1588267292718273\n",
      "train_lossmean = 3.3180322653696395e-5\n",
      "valid_lossmean = 0.005432748372388367\n",
      "FE = 0.15127528866377424\n"
     ]
    },
    {
     "name": "stderr",
     "output_type": "stream",
     "text": [
      "┌ Info: Epoch 69\n",
      "└ @ Main /Users/raphaelpestourie/.julia/packages/Flux/EXOFx/src/optimise/train.jl:154\n",
      "┌ Info: Epoch 70\n",
      "└ @ Main /Users/raphaelpestourie/.julia/packages/Flux/EXOFx/src/optimise/train.jl:154\n"
     ]
    },
    {
     "name": "stdout",
     "output_type": "stream",
     "text": [
      "train_lossmean = 3.271353270075576e-5\n",
      "valid_lossmean = 0.0049223008006497706\n",
      "FE = 0.1439932950876264\n",
      "train_lossmean = 3.1985433637214284e-5\n",
      "valid_lossmean = 0.0047342422092724705\n"
     ]
    },
    {
     "name": "stderr",
     "output_type": "stream",
     "text": [
      "┌ Info: Epoch 71\n",
      "└ @ Main /Users/raphaelpestourie/.julia/packages/Flux/EXOFx/src/optimise/train.jl:154\n"
     ]
    },
    {
     "name": "stdout",
     "output_type": "stream",
     "text": [
      "FE = 0.14121584586101785\n",
      "train_lossmean = 3.317309178775916e-5\n",
      "valid_lossmean = 0.005291580977429394\n",
      "FE = 0.14929694410262143\n"
     ]
    },
    {
     "name": "stderr",
     "output_type": "stream",
     "text": [
      "┌ Info: Epoch 72\n",
      "└ @ Main /Users/raphaelpestourie/.julia/packages/Flux/EXOFx/src/optimise/train.jl:154\n",
      "┌ Info: Epoch 73\n",
      "└ @ Main /Users/raphaelpestourie/.julia/packages/Flux/EXOFx/src/optimise/train.jl:154\n"
     ]
    },
    {
     "name": "stdout",
     "output_type": "stream",
     "text": [
      "train_lossmean = 3.16308472532089e-5\n",
      "valid_lossmean = 0.005275033452034823\n",
      "FE = 0.14906332494349034\n",
      "train_lossmean = 3.2771388266056095e-5\n",
      "valid_lossmean = 0.005463767134436018\n",
      "FE = 0.15170653386741348\n"
     ]
    },
    {
     "name": "stderr",
     "output_type": "stream",
     "text": [
      "┌ Info: Epoch 74\n",
      "└ @ Main /Users/raphaelpestourie/.julia/packages/Flux/EXOFx/src/optimise/train.jl:154\n",
      "┌ Info: Epoch 75\n",
      "└ @ Main /Users/raphaelpestourie/.julia/packages/Flux/EXOFx/src/optimise/train.jl:154\n"
     ]
    },
    {
     "name": "stdout",
     "output_type": "stream",
     "text": [
      "train_lossmean = 3.195742941468816e-5\n",
      "valid_lossmean = 0.0047187086732636396\n",
      "FE = 0.14098398365063133\n",
      "train_lossmean = 3.155393403784606e-5\n",
      "valid_lossmean = 0.005889612455827643\n"
     ]
    },
    {
     "name": "stderr",
     "output_type": "stream",
     "text": [
      "┌ Info: Epoch 76\n",
      "└ @ Main /Users/raphaelpestourie/.julia/packages/Flux/EXOFx/src/optimise/train.jl:154\n"
     ]
    },
    {
     "name": "stdout",
     "output_type": "stream",
     "text": [
      "FE = 0.1575076146470195\n",
      "train_lossmean = 3.1899591190090786e-5\n",
      "valid_lossmean = 0.005942226074701335\n",
      "FE = 0.1582095810523438\n"
     ]
    },
    {
     "name": "stderr",
     "output_type": "stream",
     "text": [
      "┌ Info: Epoch 77\n",
      "└ @ Main /Users/raphaelpestourie/.julia/packages/Flux/EXOFx/src/optimise/train.jl:154\n",
      "┌ Info: Epoch 78\n",
      "└ @ Main /Users/raphaelpestourie/.julia/packages/Flux/EXOFx/src/optimise/train.jl:154\n"
     ]
    },
    {
     "name": "stdout",
     "output_type": "stream",
     "text": [
      "train_lossmean = 3.086983292882121e-5\n",
      "valid_lossmean = 0.005293772923876054\n",
      "FE = 0.1493278627472591\n",
      "train_lossmean = 3.1495359233515435e-5\n",
      "valid_lossmean = "
     ]
    },
    {
     "name": "stderr",
     "output_type": "stream",
     "text": [
      "┌ Info: Epoch 79\n",
      "└ @ Main /Users/raphaelpestourie/.julia/packages/Flux/EXOFx/src/optimise/train.jl:154\n"
     ]
    },
    {
     "name": "stdout",
     "output_type": "stream",
     "text": [
      "0.0045960327229607745\n",
      "FE = 0.13913927984434793\n",
      "train_lossmean = 3.03742162525568e-5\n",
      "valid_lossmean = 0.004931441073983595\n",
      "FE = 0.14412692443165626\n"
     ]
    },
    {
     "name": "stderr",
     "output_type": "stream",
     "text": [
      "┌ Info: Epoch 80\n",
      "└ @ Main /Users/raphaelpestourie/.julia/packages/Flux/EXOFx/src/optimise/train.jl:154\n",
      "┌ Info: Epoch 81\n",
      "└ @ Main /Users/raphaelpestourie/.julia/packages/Flux/EXOFx/src/optimise/train.jl:154\n"
     ]
    },
    {
     "name": "stdout",
     "output_type": "stream",
     "text": [
      "train_lossmean = 3.1239783540927667e-5\n",
      "valid_lossmean = 0.005409263600387905\n",
      "FE = 0.1509479669178726\n",
      "train_lossmean = 3.1473389286404404e-5\n",
      "valid_lossmean = 0.005022439527551551\n",
      "FE = 0.14545061213071317\n"
     ]
    },
    {
     "name": "stderr",
     "output_type": "stream",
     "text": [
      "┌ Info: Epoch 82\n",
      "└ @ Main /Users/raphaelpestourie/.julia/packages/Flux/EXOFx/src/optimise/train.jl:154\n",
      "┌ Info: Epoch 83\n",
      "└ @ Main /Users/raphaelpestourie/.julia/packages/Flux/EXOFx/src/optimise/train.jl:154\n"
     ]
    },
    {
     "name": "stdout",
     "output_type": "stream",
     "text": [
      "train_lossmean = 2.9534354654966086e-5\n",
      "valid_lossmean = 0.004060242538132699\n",
      "FE = 0.13077784709240314\n",
      "train_lossmean = 2.9179854650763242e-5\n",
      "valid_lossmean = "
     ]
    },
    {
     "name": "stderr",
     "output_type": "stream",
     "text": [
      "┌ Info: Epoch 84\n",
      "└ @ Main /Users/raphaelpestourie/.julia/packages/Flux/EXOFx/src/optimise/train.jl:154\n"
     ]
    },
    {
     "name": "stdout",
     "output_type": "stream",
     "text": [
      "0.004564616019947378\n",
      "FE = 0.13866291321880175\n",
      "train_lossmean = 3.0278753413412628e-5\n",
      "valid_lossmean = 0.003980713025527929\n",
      "FE = 0.1294907153585132\n"
     ]
    },
    {
     "name": "stderr",
     "output_type": "stream",
     "text": [
      "┌ Info: Epoch 85\n",
      "└ @ Main /Users/raphaelpestourie/.julia/packages/Flux/EXOFx/src/optimise/train.jl:154\n",
      "┌ Info: Epoch 86\n",
      "└ @ Main /Users/raphaelpestourie/.julia/packages/Flux/EXOFx/src/optimise/train.jl:154\n"
     ]
    },
    {
     "name": "stdout",
     "output_type": "stream",
     "text": [
      "train_lossmean = 3.0133378292253047e-5\n",
      "valid_lossmean = 0.003890307159486318\n",
      "FE = 0.12801184039273933\n",
      "train_lossmean = 3.018723845487449e-5\n",
      "valid_lossmean = 0.004574379808844641\n"
     ]
    },
    {
     "name": "stderr",
     "output_type": "stream",
     "text": [
      "┌ Info: Epoch 87\n",
      "└ @ Main /Users/raphaelpestourie/.julia/packages/Flux/EXOFx/src/optimise/train.jl:154\n"
     ]
    },
    {
     "name": "stdout",
     "output_type": "stream",
     "text": [
      "FE = 0.13881113512722296\n",
      "train_lossmean = 3.0157307541764176e-5\n",
      "valid_lossmean = 0.004732943893702622\n",
      "FE = 0.14119648106144084\n"
     ]
    },
    {
     "name": "stderr",
     "output_type": "stream",
     "text": [
      "┌ Info: Epoch 88\n",
      "└ @ Main /Users/raphaelpestourie/.julia/packages/Flux/EXOFx/src/optimise/train.jl:154\n",
      "┌ Info: Epoch 89\n",
      "└ @ Main /Users/raphaelpestourie/.julia/packages/Flux/EXOFx/src/optimise/train.jl:154\n"
     ]
    },
    {
     "name": "stdout",
     "output_type": "stream",
     "text": [
      "train_lossmean = 2.879536291340158e-5\n",
      "valid_lossmean = 0.004873697687176215\n",
      "FE = 0.14328063199250848\n",
      "train_lossmean = 2.9593520504327474e-5\n",
      "valid_lossmean = 0.004668948713006279\n",
      "FE = 0.14023865789024098\n"
     ]
    },
    {
     "name": "stderr",
     "output_type": "stream",
     "text": [
      "┌ Info: Epoch 90\n",
      "└ @ Main /Users/raphaelpestourie/.julia/packages/Flux/EXOFx/src/optimise/train.jl:154\n",
      "┌ Info: Epoch 91\n",
      "└ @ Main /Users/raphaelpestourie/.julia/packages/Flux/EXOFx/src/optimise/train.jl:154\n"
     ]
    },
    {
     "name": "stdout",
     "output_type": "stream",
     "text": [
      "train_lossmean = 2.9474244627444653e-5\n",
      "valid_lossmean = 0.0040887836257916576\n",
      "FE = 0.13123668736231697\n",
      "train_lossmean = 2.937192370405399e-5\n",
      "valid_lossmean = "
     ]
    },
    {
     "name": "stderr",
     "output_type": "stream",
     "text": [
      "┌ Info: Epoch 92\n",
      "└ @ Main /Users/raphaelpestourie/.julia/packages/Flux/EXOFx/src/optimise/train.jl:154\n"
     ]
    },
    {
     "name": "stdout",
     "output_type": "stream",
     "text": [
      "0.0035130706775456234\n",
      "FE = 0.12164706602462587\n",
      "train_lossmean = 2.8785971514500273e-5\n",
      "valid_lossmean = 0.003874670606241173\n",
      "FE = 0.1277543183923415\n"
     ]
    },
    {
     "name": "stderr",
     "output_type": "stream",
     "text": [
      "┌ Info: Epoch 93\n",
      "└ @ Main /Users/raphaelpestourie/.julia/packages/Flux/EXOFx/src/optimise/train.jl:154\n",
      "┌ Info: Epoch 94\n",
      "└ @ Main /Users/raphaelpestourie/.julia/packages/Flux/EXOFx/src/optimise/train.jl:154\n"
     ]
    },
    {
     "name": "stdout",
     "output_type": "stream",
     "text": [
      "train_lossmean = 2.8739639197055014e-5\n",
      "valid_lossmean = 0.004804954938825615\n",
      "FE = 0.14226656796793832\n",
      "train_lossmean = 2.801254155452165e-5\n",
      "valid_lossmean = 0.004555866761315438\n"
     ]
    },
    {
     "name": "stderr",
     "output_type": "stream",
     "text": [
      "┌ Info: Epoch 95\n",
      "└ @ Main /Users/raphaelpestourie/.julia/packages/Flux/EXOFx/src/optimise/train.jl:154\n"
     ]
    },
    {
     "name": "stdout",
     "output_type": "stream",
     "text": [
      "FE = 0.13852995793908626\n",
      "train_lossmean = 2.8009032977133345e-5\n",
      "valid_lossmean = 0.004293199942917533\n",
      "FE = 0.13447722931877132\n"
     ]
    },
    {
     "name": "stderr",
     "output_type": "stream",
     "text": [
      "┌ Info: Epoch 96\n",
      "└ @ Main /Users/raphaelpestourie/.julia/packages/Flux/EXOFx/src/optimise/train.jl:154\n",
      "┌ Info: Epoch 97\n",
      "└ @ Main /Users/raphaelpestourie/.julia/packages/Flux/EXOFx/src/optimise/train.jl:154\n"
     ]
    },
    {
     "name": "stdout",
     "output_type": "stream",
     "text": [
      "train_lossmean = 2.8968714180060805e-5\n",
      "valid_lossmean = 0.00412592225575784\n",
      "FE = 0.1318313548245006\n",
      "train_lossmean = 2.8431247267996832e-5\n",
      "valid_lossmean = 0.003944020639305357\n",
      "FE = 0.1288925407422158\n"
     ]
    },
    {
     "name": "stderr",
     "output_type": "stream",
     "text": [
      "┌ Info: Epoch 98\n",
      "└ @ Main /Users/raphaelpestourie/.julia/packages/Flux/EXOFx/src/optimise/train.jl:154\n",
      "┌ Info: Epoch 99\n",
      "└ @ Main /Users/raphaelpestourie/.julia/packages/Flux/EXOFx/src/optimise/train.jl:154\n"
     ]
    },
    {
     "name": "stdout",
     "output_type": "stream",
     "text": [
      "train_lossmean = 2.7612503516353526e-5\n",
      "valid_lossmean = 0.0037601113029854688\n",
      "FE = 0.12585154326130601\n",
      "train_lossmean = 2.7263889695491277e-5\n",
      "valid_lossmean = "
     ]
    },
    {
     "name": "stderr",
     "output_type": "stream",
     "text": [
      "┌ Info: Epoch 100\n",
      "└ @ Main /Users/raphaelpestourie/.julia/packages/Flux/EXOFx/src/optimise/train.jl:154\n"
     ]
    },
    {
     "name": "stdout",
     "output_type": "stream",
     "text": [
      "0.003647552179334036\n",
      "FE = 0.12395354498692943\n",
      "train_lossmean = 2.741603296156261e-5\n",
      "valid_lossmean = 0.004515505873958108\n",
      "FE = 0.1379149673440832\n"
     ]
    },
    {
     "name": "stderr",
     "output_type": "stream",
     "text": [
      "┌ Info: Epoch 101\n",
      "└ @ Main /Users/raphaelpestourie/.julia/packages/Flux/EXOFx/src/optimise/train.jl:154\n",
      "┌ Info: Epoch 102\n",
      "└ @ Main /Users/raphaelpestourie/.julia/packages/Flux/EXOFx/src/optimise/train.jl:154\n"
     ]
    },
    {
     "name": "stdout",
     "output_type": "stream",
     "text": [
      "train_lossmean = 2.7893481465273227e-5\n",
      "valid_lossmean = 0.005230284736915704\n",
      "FE = 0.14842971768086585\n",
      "train_lossmean = 2.891579418861072e-5\n",
      "valid_lossmean = 0.003902056671712812\n",
      "FE = 0.12820500544117955\n"
     ]
    },
    {
     "name": "stderr",
     "output_type": "stream",
     "text": [
      "┌ Info: Epoch 103\n",
      "└ @ Main /Users/raphaelpestourie/.julia/packages/Flux/EXOFx/src/optimise/train.jl:154\n",
      "┌ Info: Epoch 104\n",
      "└ @ Main /Users/raphaelpestourie/.julia/packages/Flux/EXOFx/src/optimise/train.jl:154\n"
     ]
    },
    {
     "name": "stdout",
     "output_type": "stream",
     "text": [
      "train_lossmean = 2.6565767478732026e-5\n",
      "valid_lossmean = 0.0036963320419510872\n",
      "FE = 0.12477962716840238\n"
     ]
    },
    {
     "name": "stderr",
     "output_type": "stream",
     "text": [
      "┌ Info: Epoch 105\n",
      "└ @ Main /Users/raphaelpestourie/.julia/packages/Flux/EXOFx/src/optimise/train.jl:154\n"
     ]
    },
    {
     "name": "stdout",
     "output_type": "stream",
     "text": [
      "train_lossmean = 2.670621542848142e-5\n",
      "valid_lossmean = 0.004217370471088549\n",
      "FE = 0.13328432337203158\n",
      "train_lossmean = 2.56644241390505e-5\n",
      "valid_lossmean = 0.004251014892194765\n",
      "FE = 0.1338149106198547\n"
     ]
    },
    {
     "name": "stderr",
     "output_type": "stream",
     "text": [
      "┌ Info: Epoch 106\n",
      "└ @ Main /Users/raphaelpestourie/.julia/packages/Flux/EXOFx/src/optimise/train.jl:154\n",
      "┌ Info: Epoch 107\n",
      "└ @ Main /Users/raphaelpestourie/.julia/packages/Flux/EXOFx/src/optimise/train.jl:154\n"
     ]
    },
    {
     "name": "stdout",
     "output_type": "stream",
     "text": [
      "train_lossmean = 2.733643198588258e-5\n",
      "valid_lossmean = 0.0042879352511886295\n",
      "FE = 0.13439475024181294\n"
     ]
    },
    {
     "name": "stderr",
     "output_type": "stream",
     "text": [
      "┌ Info: Epoch 108\n",
      "└ @ Main /Users/raphaelpestourie/.julia/packages/Flux/EXOFx/src/optimise/train.jl:154\n"
     ]
    },
    {
     "name": "stdout",
     "output_type": "stream",
     "text": [
      "train_lossmean = 2.553612205779565e-5\n",
      "valid_lossmean = 0.0041926196883825375\n",
      "FE = 0.13289264024705183\n",
      "train_lossmean = 2.6673765992997147e-5\n",
      "valid_lossmean = 0.004102186347268321\n",
      "FE = 0.13145160332241862\n"
     ]
    },
    {
     "name": "stderr",
     "output_type": "stream",
     "text": [
      "┌ Info: Epoch 109\n",
      "└ @ Main /Users/raphaelpestourie/.julia/packages/Flux/EXOFx/src/optimise/train.jl:154\n",
      "┌ Info: Epoch 110\n",
      "└ @ Main /Users/raphaelpestourie/.julia/packages/Flux/EXOFx/src/optimise/train.jl:154\n"
     ]
    },
    {
     "name": "stdout",
     "output_type": "stream",
     "text": [
      "train_lossmean = 2.6484573141932713e-5\n",
      "valid_lossmean = 0.00357688064696721\n",
      "FE = 0.12274686802294027\n",
      "train_lossmean = 2.5925147247567665e-5\n",
      "valid_lossmean = 0.003104424100316233\n",
      "FE = 0.11435330429995041\n"
     ]
    },
    {
     "name": "stderr",
     "output_type": "stream",
     "text": [
      "┌ Info: Epoch 111\n",
      "└ @ Main /Users/raphaelpestourie/.julia/packages/Flux/EXOFx/src/optimise/train.jl:154\n",
      "┌ Info: Epoch 112\n",
      "└ @ Main /Users/raphaelpestourie/.julia/packages/Flux/EXOFx/src/optimise/train.jl:154\n"
     ]
    },
    {
     "name": "stdout",
     "output_type": "stream",
     "text": [
      "train_lossmean = 2.6749223955624042e-5\n",
      "valid_lossmean = 0.0035612791792541463\n",
      "FE = 0.12247887975645168\n",
      "train_lossmean = 2.5947147018103198e-5\n",
      "valid_lossmean = "
     ]
    },
    {
     "name": "stderr",
     "output_type": "stream",
     "text": [
      "┌ Info: Epoch 113\n",
      "└ @ Main /Users/raphaelpestourie/.julia/packages/Flux/EXOFx/src/optimise/train.jl:154\n"
     ]
    },
    {
     "name": "stdout",
     "output_type": "stream",
     "text": [
      "0.0033362617739967717\n",
      "FE = 0.11854636859749075\n",
      "train_lossmean = 2.6607306342364495e-5\n",
      "valid_lossmean = 0.0040381179948940655\n",
      "FE = 0.13042105159735018\n"
     ]
    },
    {
     "name": "stderr",
     "output_type": "stream",
     "text": [
      "┌ Info: Epoch 114\n",
      "└ @ Main /Users/raphaelpestourie/.julia/packages/Flux/EXOFx/src/optimise/train.jl:154\n",
      "┌ Info: Epoch 115\n",
      "└ @ Main /Users/raphaelpestourie/.julia/packages/Flux/EXOFx/src/optimise/train.jl:154\n"
     ]
    },
    {
     "name": "stdout",
     "output_type": "stream",
     "text": [
      "train_lossmean = 2.7289493005288756e-5\n",
      "valid_lossmean = 0.0037451410878414255\n",
      "FE = 0.1256007656251522\n",
      "train_lossmean = 2.439709529024369e-5\n",
      "valid_lossmean = "
     ]
    },
    {
     "name": "stderr",
     "output_type": "stream",
     "text": [
      "┌ Info: Epoch 116\n",
      "└ @ Main /Users/raphaelpestourie/.julia/packages/Flux/EXOFx/src/optimise/train.jl:154\n"
     ]
    },
    {
     "name": "stdout",
     "output_type": "stream",
     "text": [
      "0.003629751990310825\n",
      "FE = 0.1236507261601457\n",
      "train_lossmean = 2.5196546466368447e-5\n",
      "valid_lossmean = 0.0036461007994876148\n",
      "FE = 0.1239288816554742\n"
     ]
    },
    {
     "name": "stderr",
     "output_type": "stream",
     "text": [
      "┌ Info: Epoch 117\n",
      "└ @ Main /Users/raphaelpestourie/.julia/packages/Flux/EXOFx/src/optimise/train.jl:154\n",
      "┌ Info: Epoch 118\n",
      "└ @ Main /Users/raphaelpestourie/.julia/packages/Flux/EXOFx/src/optimise/train.jl:154\n"
     ]
    },
    {
     "name": "stdout",
     "output_type": "stream",
     "text": [
      "train_lossmean = 2.6130686364119717e-5\n",
      "valid_lossmean = 0.0032970901010325702\n",
      "FE = 0.11784837619951173\n",
      "train_lossmean = 2.4968310394584024e-5\n",
      "valid_lossmean = 0.003868546902033978\n",
      "FE = 0.12765332412878513\n"
     ]
    },
    {
     "name": "stderr",
     "output_type": "stream",
     "text": [
      "┌ Info: Epoch 119\n",
      "└ @ Main /Users/raphaelpestourie/.julia/packages/Flux/EXOFx/src/optimise/train.jl:154\n",
      "┌ Info: Epoch 120\n",
      "└ @ Main /Users/raphaelpestourie/.julia/packages/Flux/EXOFx/src/optimise/train.jl:154\n"
     ]
    },
    {
     "name": "stdout",
     "output_type": "stream",
     "text": [
      "train_lossmean = 2.506665867631686e-5\n",
      "valid_lossmean = 0.003991393135727839\n",
      "FE = 0.1296643084717549\n",
      "train_lossmean = 2.503497309077519e-5\n",
      "valid_lossmean = "
     ]
    },
    {
     "name": "stderr",
     "output_type": "stream",
     "text": [
      "┌ Info: Epoch 121\n",
      "└ @ Main /Users/raphaelpestourie/.julia/packages/Flux/EXOFx/src/optimise/train.jl:154\n"
     ]
    },
    {
     "name": "stdout",
     "output_type": "stream",
     "text": [
      "0.00383769341143571\n",
      "FE = 0.1271432572795102\n",
      "train_lossmean = 2.5516142946949197e-5\n",
      "valid_lossmean = 0.003988958912025631\n",
      "FE = 0.1296247633730354\n"
     ]
    },
    {
     "name": "stderr",
     "output_type": "stream",
     "text": [
      "┌ Info: Epoch 122\n",
      "└ @ Main /Users/raphaelpestourie/.julia/packages/Flux/EXOFx/src/optimise/train.jl:154\n",
      "┌ Info: Epoch 123\n",
      "└ @ Main /Users/raphaelpestourie/.julia/packages/Flux/EXOFx/src/optimise/train.jl:154\n"
     ]
    },
    {
     "name": "stdout",
     "output_type": "stream",
     "text": [
      "train_lossmean = 2.4011021398645423e-5\n",
      "valid_lossmean = 0.0034093849341326897\n",
      "FE = 0.11983845849993863\n"
     ]
    },
    {
     "name": "stderr",
     "output_type": "stream",
     "text": [
      "┌ Info: Epoch 124\n",
      "└ @ Main /Users/raphaelpestourie/.julia/packages/Flux/EXOFx/src/optimise/train.jl:154\n"
     ]
    },
    {
     "name": "stdout",
     "output_type": "stream",
     "text": [
      "train_lossmean = 2.4737276690212802e-5\n",
      "valid_lossmean = 0.00426456715724976\n",
      "FE = 0.13402804232175788\n",
      "train_lossmean = 2.51146307848246e-5\n",
      "valid_lossmean = 0.003933805445151592\n"
     ]
    },
    {
     "name": "stderr",
     "output_type": "stream",
     "text": [
      "┌ Info: Epoch 125\n",
      "└ @ Main /Users/raphaelpestourie/.julia/packages/Flux/EXOFx/src/optimise/train.jl:154\n"
     ]
    },
    {
     "name": "stdout",
     "output_type": "stream",
     "text": [
      "FE = 0.12872551372727958\n",
      "train_lossmean = 2.4663514088645396e-5\n",
      "valid_lossmean = 0.003763265169679066\n"
     ]
    },
    {
     "name": "stderr",
     "output_type": "stream",
     "text": [
      "┌ Info: Epoch 126\n",
      "└ @ Main /Users/raphaelpestourie/.julia/packages/Flux/EXOFx/src/optimise/train.jl:154\n"
     ]
    },
    {
     "name": "stdout",
     "output_type": "stream",
     "text": [
      "FE = 0.12590431241661215\n",
      "train_lossmean = 2.3905541697795363e-5\n",
      "valid_lossmean = 0.003590572378691067\n",
      "FE = 0.12298157140549809\n"
     ]
    },
    {
     "name": "stderr",
     "output_type": "stream",
     "text": [
      "┌ Info: Epoch 127\n",
      "└ @ Main /Users/raphaelpestourie/.julia/packages/Flux/EXOFx/src/optimise/train.jl:154\n",
      "┌ Info: Epoch 128\n",
      "└ @ Main /Users/raphaelpestourie/.julia/packages/Flux/EXOFx/src/optimise/train.jl:154\n"
     ]
    },
    {
     "name": "stdout",
     "output_type": "stream",
     "text": [
      "train_lossmean = 2.4516055217735573e-5\n",
      "valid_lossmean = 0.0033435213816586655\n",
      "FE = 0.11867527522001248\n"
     ]
    },
    {
     "name": "stderr",
     "output_type": "stream",
     "text": [
      "┌ Info: Epoch 129\n",
      "└ @ Main /Users/raphaelpestourie/.julia/packages/Flux/EXOFx/src/optimise/train.jl:154\n"
     ]
    },
    {
     "name": "stdout",
     "output_type": "stream",
     "text": [
      "train_lossmean = 2.4000343198748765e-5\n",
      "valid_lossmean = 0.003797839647550977\n",
      "FE = 0.1264813542957189\n",
      "train_lossmean = 2.4792079367321877e-5\n",
      "valid_lossmean = 0.0038280633213677723\n"
     ]
    },
    {
     "name": "stderr",
     "output_type": "stream",
     "text": [
      "┌ Info: Epoch 130\n",
      "└ @ Main /Users/raphaelpestourie/.julia/packages/Flux/EXOFx/src/optimise/train.jl:154\n"
     ]
    },
    {
     "name": "stdout",
     "output_type": "stream",
     "text": [
      "FE = 0.12698363404184723\n",
      "train_lossmean = 2.3038733810767683e-5\n",
      "valid_lossmean = 0.0035989783513441444\n",
      "FE = 0.12312544475950193\n"
     ]
    },
    {
     "name": "stderr",
     "output_type": "stream",
     "text": [
      "┌ Info: Epoch 131\n",
      "└ @ Main /Users/raphaelpestourie/.julia/packages/Flux/EXOFx/src/optimise/train.jl:154\n",
      "┌ Info: Epoch 132\n",
      "└ @ Main /Users/raphaelpestourie/.julia/packages/Flux/EXOFx/src/optimise/train.jl:154\n"
     ]
    },
    {
     "name": "stdout",
     "output_type": "stream",
     "text": [
      "train_lossmean = 2.3855812812848014e-5\n",
      "valid_lossmean = 0.0038993388345230076\n",
      "FE = 0.12816034937188578\n",
      "train_lossmean = 2.5707877233463895e-5\n",
      "valid_lossmean = 0.003857811983682357\n",
      "FE = 0.12747608703947547\n"
     ]
    },
    {
     "name": "stderr",
     "output_type": "stream",
     "text": [
      "┌ Info: Epoch 133\n",
      "└ @ Main /Users/raphaelpestourie/.julia/packages/Flux/EXOFx/src/optimise/train.jl:154\n",
      "┌ Info: Epoch 134\n",
      "└ @ Main /Users/raphaelpestourie/.julia/packages/Flux/EXOFx/src/optimise/train.jl:154\n"
     ]
    },
    {
     "name": "stdout",
     "output_type": "stream",
     "text": [
      "train_lossmean = 2.4066769016591068e-5\n",
      "valid_lossmean = 0.0034463479163823444\n",
      "FE = 0.12048632397388928\n",
      "train_lossmean = 2.3890216873573543e-5\n",
      "valid_lossmean = 0.003139988977835194\n",
      "FE = 0.11500646562796316\n"
     ]
    },
    {
     "name": "stderr",
     "output_type": "stream",
     "text": [
      "┌ Info: Epoch 135\n",
      "└ @ Main /Users/raphaelpestourie/.julia/packages/Flux/EXOFx/src/optimise/train.jl:154\n",
      "┌ Info: Epoch 136\n",
      "└ @ Main /Users/raphaelpestourie/.julia/packages/Flux/EXOFx/src/optimise/train.jl:154\n"
     ]
    },
    {
     "name": "stdout",
     "output_type": "stream",
     "text": [
      "train_lossmean = 2.400986622656027e-5\n",
      "valid_lossmean = 0.003985737518744431\n",
      "FE = 0.12957241178323728\n",
      "train_lossmean = 2.2314254864961052e-5\n",
      "valid_lossmean = 0.0031595123352798397\n"
     ]
    },
    {
     "name": "stderr",
     "output_type": "stream",
     "text": [
      "┌ Info: Epoch 137\n",
      "└ @ Main /Users/raphaelpestourie/.julia/packages/Flux/EXOFx/src/optimise/train.jl:154\n"
     ]
    },
    {
     "name": "stdout",
     "output_type": "stream",
     "text": [
      "FE = 0.11536344665855522\n",
      "train_lossmean = 2.434951829690428e-5\n",
      "valid_lossmean = 0.003947261896330386\n",
      "FE = 0.12894549280476253\n"
     ]
    },
    {
     "name": "stderr",
     "output_type": "stream",
     "text": [
      "┌ Info: Epoch 138\n",
      "└ @ Main /Users/raphaelpestourie/.julia/packages/Flux/EXOFx/src/optimise/train.jl:154\n",
      "┌ Info: Epoch 139\n",
      "└ @ Main /Users/raphaelpestourie/.julia/packages/Flux/EXOFx/src/optimise/train.jl:154\n"
     ]
    },
    {
     "name": "stdout",
     "output_type": "stream",
     "text": [
      "train_lossmean = 2.378644293386315e-5\n",
      "valid_lossmean = 0.0034764310363863144\n",
      "FE = 0.1210110430657815\n",
      "train_lossmean = 2.4001859509544422e-5\n",
      "valid_lossmean = "
     ]
    },
    {
     "name": "stderr",
     "output_type": "stream",
     "text": [
      "┌ Info: Epoch 140\n",
      "└ @ Main /Users/raphaelpestourie/.julia/packages/Flux/EXOFx/src/optimise/train.jl:154\n"
     ]
    },
    {
     "name": "stdout",
     "output_type": "stream",
     "text": [
      "0.0040996087273285405\n",
      "FE = 0.13141029784670083\n",
      "train_lossmean = 2.4774027651624995e-5\n",
      "valid_lossmean = 0.004675563339000691\n",
      "FE = 0.14033796268165305\n"
     ]
    },
    {
     "name": "stderr",
     "output_type": "stream",
     "text": [
      "┌ Info: Epoch 141\n",
      "└ @ Main /Users/raphaelpestourie/.julia/packages/Flux/EXOFx/src/optimise/train.jl:154\n",
      "┌ Info: Epoch 142\n",
      "└ @ Main /Users/raphaelpestourie/.julia/packages/Flux/EXOFx/src/optimise/train.jl:154\n"
     ]
    },
    {
     "name": "stdout",
     "output_type": "stream",
     "text": [
      "train_lossmean = 2.3891838523620472e-5\n",
      "valid_lossmean = 0.0042577582852005675\n",
      "FE = 0.13392100398606693\n",
      "train_lossmean = 2.370257956110385e-5\n",
      "valid_lossmean = 0.004153958799016055\n",
      "FE = 0.13227850791570311\n"
     ]
    },
    {
     "name": "stderr",
     "output_type": "stream",
     "text": [
      "┌ Info: Epoch 143\n",
      "└ @ Main /Users/raphaelpestourie/.julia/packages/Flux/EXOFx/src/optimise/train.jl:154\n",
      "┌ Info: Epoch 144\n",
      "└ @ Main /Users/raphaelpestourie/.julia/packages/Flux/EXOFx/src/optimise/train.jl:154\n"
     ]
    },
    {
     "name": "stdout",
     "output_type": "stream",
     "text": [
      "train_lossmean = 2.425697531224799e-5\n",
      "valid_lossmean = 0.003081458339478589\n",
      "FE = 0.11392954040437284\n",
      "train_lossmean = 2.252951829285229e-5\n",
      "valid_lossmean = 0.003849096234528366\n"
     ]
    },
    {
     "name": "stderr",
     "output_type": "stream",
     "text": [
      "┌ Info: Epoch 145\n",
      "└ @ Main /Users/raphaelpestourie/.julia/packages/Flux/EXOFx/src/optimise/train.jl:154\n"
     ]
    },
    {
     "name": "stdout",
     "output_type": "stream",
     "text": [
      "FE = 0.12733200564746544\n",
      "train_lossmean = 2.281962091127626e-5\n",
      "valid_lossmean = 0.003565607725958398\n",
      "FE = 0.12255329045671462\n"
     ]
    },
    {
     "name": "stderr",
     "output_type": "stream",
     "text": [
      "┌ Info: Epoch 146\n",
      "└ @ Main /Users/raphaelpestourie/.julia/packages/Flux/EXOFx/src/optimise/train.jl:154\n",
      "┌ Info: Epoch 147\n",
      "└ @ Main /Users/raphaelpestourie/.julia/packages/Flux/EXOFx/src/optimise/train.jl:154\n"
     ]
    },
    {
     "name": "stdout",
     "output_type": "stream",
     "text": [
      "train_lossmean = 2.3253657183481807e-5\n",
      "valid_lossmean = 0.0041169203928936365\n",
      "FE = 0.13168746265856232\n",
      "train_lossmean = 2.374291886392105e-5\n",
      "valid_lossmean = "
     ]
    },
    {
     "name": "stderr",
     "output_type": "stream",
     "text": [
      "┌ Info: Epoch 148\n",
      "└ @ Main /Users/raphaelpestourie/.julia/packages/Flux/EXOFx/src/optimise/train.jl:154\n"
     ]
    },
    {
     "name": "stdout",
     "output_type": "stream",
     "text": [
      "0.004633982377103107\n",
      "FE = 0.13971253864606434\n",
      "train_lossmean = 2.5026157158821378e-5\n",
      "valid_lossmean = 0.004140605082641801\n",
      "FE = 0.13206571914398316\n"
     ]
    },
    {
     "name": "stderr",
     "output_type": "stream",
     "text": [
      "┌ Info: Epoch 149\n",
      "└ @ Main /Users/raphaelpestourie/.julia/packages/Flux/EXOFx/src/optimise/train.jl:154\n",
      "┌ Info: Epoch 150\n",
      "└ @ Main /Users/raphaelpestourie/.julia/packages/Flux/EXOFx/src/optimise/train.jl:154\n"
     ]
    },
    {
     "name": "stdout",
     "output_type": "stream",
     "text": [
      "train_lossmean = 2.394444965571933e-5\n",
      "valid_lossmean = 0.0033138062847511227\n",
      "FE = 0.11814674300522343\n",
      "train_lossmean = 2.3715203071480048e-5\n",
      "valid_lossmean = 0.003083551602348838\n",
      "FE = 0.11396823052493629\n"
     ]
    },
    {
     "name": "stderr",
     "output_type": "stream",
     "text": [
      "┌ Info: Epoch 151\n",
      "└ @ Main /Users/raphaelpestourie/.julia/packages/Flux/EXOFx/src/optimise/train.jl:154\n",
      "┌ Info: Epoch 152\n",
      "└ @ Main /Users/raphaelpestourie/.julia/packages/Flux/EXOFx/src/optimise/train.jl:154\n"
     ]
    },
    {
     "name": "stdout",
     "output_type": "stream",
     "text": [
      "train_lossmean = 2.3721150790875377e-5\n",
      "valid_lossmean = 0.0037871042683312534\n",
      "FE = 0.12630246493613928\n",
      "train_lossmean = 2.3685929715444955e-5\n",
      "valid_lossmean = "
     ]
    },
    {
     "name": "stderr",
     "output_type": "stream",
     "text": [
      "┌ Info: Epoch 153\n",
      "└ @ Main /Users/raphaelpestourie/.julia/packages/Flux/EXOFx/src/optimise/train.jl:154\n"
     ]
    },
    {
     "name": "stdout",
     "output_type": "stream",
     "text": [
      "0.0035210289394554486\n",
      "FE = 0.12178477341155919\n",
      "train_lossmean = 2.3295868552955343e-5\n",
      "valid_lossmean = 0.0036747269332422635\n",
      "FE = 0.12441442346191497\n"
     ]
    },
    {
     "name": "stderr",
     "output_type": "stream",
     "text": [
      "┌ Info: Epoch 154\n",
      "└ @ Main /Users/raphaelpestourie/.julia/packages/Flux/EXOFx/src/optimise/train.jl:154\n",
      "┌ Info: Epoch 155\n",
      "└ @ Main /Users/raphaelpestourie/.julia/packages/Flux/EXOFx/src/optimise/train.jl:154\n"
     ]
    },
    {
     "name": "stdout",
     "output_type": "stream",
     "text": [
      "train_lossmean = 2.328626799305761e-5\n",
      "valid_lossmean = 0.0032986853904349617\n",
      "FE = 0.11787688308350104\n",
      "train_lossmean = 2.3182653881698945e-5\n",
      "valid_lossmean = "
     ]
    },
    {
     "name": "stderr",
     "output_type": "stream",
     "text": [
      "┌ Info: Epoch 156\n",
      "└ @ Main /Users/raphaelpestourie/.julia/packages/Flux/EXOFx/src/optimise/train.jl:154\n"
     ]
    },
    {
     "name": "stdout",
     "output_type": "stream",
     "text": [
      "0.004074167849330612\n",
      "FE = 0.13100191787255816\n",
      "train_lossmean = 2.3553074808754555e-5\n",
      "valid_lossmean = 0.0035540717129642968\n",
      "FE = 0.12235487803571514\n"
     ]
    },
    {
     "name": "stderr",
     "output_type": "stream",
     "text": [
      "┌ Info: Epoch 157\n",
      "└ @ Main /Users/raphaelpestourie/.julia/packages/Flux/EXOFx/src/optimise/train.jl:154\n",
      "┌ Info: Epoch 158\n",
      "└ @ Main /Users/raphaelpestourie/.julia/packages/Flux/EXOFx/src/optimise/train.jl:154\n"
     ]
    },
    {
     "name": "stdout",
     "output_type": "stream",
     "text": [
      "train_lossmean = 2.3169054057000332e-5\n",
      "valid_lossmean = 0.0027505556301536675\n",
      "FE = 0.10763869199248734\n",
      "train_lossmean = 2.2621960213583872e-5\n",
      "valid_lossmean = 0.003497136587423767\n",
      "FE = 0.12137087769868594\n"
     ]
    },
    {
     "name": "stderr",
     "output_type": "stream",
     "text": [
      "┌ Info: Epoch 159\n",
      "└ @ Main /Users/raphaelpestourie/.julia/packages/Flux/EXOFx/src/optimise/train.jl:154\n",
      "┌ Info: Epoch 160\n",
      "└ @ Main /Users/raphaelpestourie/.julia/packages/Flux/EXOFx/src/optimise/train.jl:154\n"
     ]
    },
    {
     "name": "stdout",
     "output_type": "stream",
     "text": [
      "train_lossmean = 2.2738042870647683e-5\n",
      "valid_lossmean = 0.0035529595862005413\n",
      "FE = 0.12233573312360481\n"
     ]
    },
    {
     "name": "stderr",
     "output_type": "stream",
     "text": [
      "┌ Info: Epoch 161\n",
      "└ @ Main /Users/raphaelpestourie/.julia/packages/Flux/EXOFx/src/optimise/train.jl:154\n"
     ]
    },
    {
     "name": "stdout",
     "output_type": "stream",
     "text": [
      "train_lossmean = 2.2953606888237932e-5\n",
      "valid_lossmean = 0.003899631098769114\n",
      "FE = 0.128165152235607\n",
      "train_lossmean = 2.2573775075519315e-5\n",
      "valid_lossmean = 0.0038533730086462797\n",
      "FE = 0.12740272602017347\n"
     ]
    },
    {
     "name": "stderr",
     "output_type": "stream",
     "text": [
      "┌ Info: Epoch 162\n",
      "└ @ Main /Users/raphaelpestourie/.julia/packages/Flux/EXOFx/src/optimise/train.jl:154\n",
      "┌ Info: Epoch 163\n",
      "└ @ Main /Users/raphaelpestourie/.julia/packages/Flux/EXOFx/src/optimise/train.jl:154\n"
     ]
    },
    {
     "name": "stdout",
     "output_type": "stream",
     "text": [
      "train_lossmean = 2.2490757117369866e-5\n",
      "valid_lossmean = 0.004170413039205356\n",
      "FE = 0.13254023309521737\n"
     ]
    },
    {
     "name": "stderr",
     "output_type": "stream",
     "text": [
      "┌ Info: Epoch 164\n",
      "└ @ Main /Users/raphaelpestourie/.julia/packages/Flux/EXOFx/src/optimise/train.jl:154\n"
     ]
    },
    {
     "name": "stdout",
     "output_type": "stream",
     "text": [
      "train_lossmean = 2.177907731741926e-5\n",
      "valid_lossmean = 0.004096248724909369\n",
      "FE = 0.13135643545940157\n",
      "train_lossmean = 2.24625059652075e-5\n",
      "valid_lossmean = 0.004119395527694686\n",
      "FE = 0.1317270426376553\n"
     ]
    },
    {
     "name": "stderr",
     "output_type": "stream",
     "text": [
      "┌ Info: Epoch 165\n",
      "└ @ Main /Users/raphaelpestourie/.julia/packages/Flux/EXOFx/src/optimise/train.jl:154\n",
      "┌ Info: Epoch 166\n",
      "└ @ Main /Users/raphaelpestourie/.julia/packages/Flux/EXOFx/src/optimise/train.jl:154\n"
     ]
    },
    {
     "name": "stdout",
     "output_type": "stream",
     "text": [
      "train_lossmean = 2.309498638447647e-5\n",
      "valid_lossmean = 0.0041243721224211655\n",
      "FE = 0.13180658758904076\n",
      "train_lossmean = 2.1149434231135106e-5\n",
      "valid_lossmean = 0.0036804054914052736\n",
      "FE = 0.12451051520244796\n"
     ]
    },
    {
     "name": "stderr",
     "output_type": "stream",
     "text": [
      "┌ Info: Epoch 167\n",
      "└ @ Main /Users/raphaelpestourie/.julia/packages/Flux/EXOFx/src/optimise/train.jl:154\n",
      "┌ Info: Epoch 168\n",
      "└ @ Main /Users/raphaelpestourie/.julia/packages/Flux/EXOFx/src/optimise/train.jl:154\n"
     ]
    },
    {
     "name": "stdout",
     "output_type": "stream",
     "text": [
      "train_lossmean = 2.2279935102501275e-5\n",
      "valid_lossmean = 0.0034942935815265234\n",
      "FE = 0.12132153328935162\n",
      "train_lossmean = 2.1694216745702667e-5\n",
      "valid_lossmean = "
     ]
    },
    {
     "name": "stderr",
     "output_type": "stream",
     "text": [
      "┌ Info: Epoch 169\n",
      "└ @ Main /Users/raphaelpestourie/.julia/packages/Flux/EXOFx/src/optimise/train.jl:154\n"
     ]
    },
    {
     "name": "stdout",
     "output_type": "stream",
     "text": [
      "0.003343942290329809\n",
      "FE = 0.11868274487172359\n",
      "train_lossmean = 2.2165936834063737e-5\n",
      "valid_lossmean = 0.003512897759801609\n",
      "FE = 0.12164407217721977\n"
     ]
    },
    {
     "name": "stderr",
     "output_type": "stream",
     "text": [
      "┌ Info: Epoch 170\n",
      "└ @ Main /Users/raphaelpestourie/.julia/packages/Flux/EXOFx/src/optimise/train.jl:154\n",
      "┌ Info: Epoch 171\n",
      "└ @ Main /Users/raphaelpestourie/.julia/packages/Flux/EXOFx/src/optimise/train.jl:154\n"
     ]
    },
    {
     "name": "stdout",
     "output_type": "stream",
     "text": [
      "train_lossmean = 2.2565117016142915e-5\n",
      "valid_lossmean = 0.003786917697883609\n",
      "FE = 0.12629935377310003\n",
      "train_lossmean = 2.356204229376645e-5\n",
      "valid_lossmean = 0.0033086281407788925\n",
      "FE = 0.11805439904012924\n"
     ]
    },
    {
     "name": "stderr",
     "output_type": "stream",
     "text": [
      "┌ Info: Epoch 172\n",
      "└ @ Main /Users/raphaelpestourie/.julia/packages/Flux/EXOFx/src/optimise/train.jl:154\n",
      "┌ Info: Epoch 173\n",
      "└ @ Main /Users/raphaelpestourie/.julia/packages/Flux/EXOFx/src/optimise/train.jl:154\n"
     ]
    },
    {
     "name": "stdout",
     "output_type": "stream",
     "text": [
      "train_lossmean = 2.24669596700735e-5\n",
      "valid_lossmean = 0.003037411120910158\n",
      "FE = 0.11311233937342113\n"
     ]
    },
    {
     "name": "stderr",
     "output_type": "stream",
     "text": [
      "┌ Info: Epoch 174\n",
      "└ @ Main /Users/raphaelpestourie/.julia/packages/Flux/EXOFx/src/optimise/train.jl:154\n"
     ]
    },
    {
     "name": "stdout",
     "output_type": "stream",
     "text": [
      "train_lossmean = 2.3612273282577564e-5\n",
      "valid_lossmean = 0.00337963088269335\n",
      "FE = 0.11931439134807229\n",
      "train_lossmean = 2.2242961268228474e-5\n",
      "valid_lossmean = 0.0036356770818615457\n",
      "FE = 0.12375160676207526\n"
     ]
    },
    {
     "name": "stderr",
     "output_type": "stream",
     "text": [
      "┌ Info: Epoch 175\n",
      "└ @ Main /Users/raphaelpestourie/.julia/packages/Flux/EXOFx/src/optimise/train.jl:154\n",
      "┌ Info: Epoch 176\n",
      "└ @ Main /Users/raphaelpestourie/.julia/packages/Flux/EXOFx/src/optimise/train.jl:154\n"
     ]
    },
    {
     "name": "stdout",
     "output_type": "stream",
     "text": [
      "train_lossmean = 2.147407727919219e-5\n",
      "valid_lossmean = 0.0034009379159900413\n",
      "FE = 0.11968991185151012\n",
      "train_lossmean = 2.1233480733347083e-5\n",
      "valid_lossmean = 0.003627601905316036\n"
     ]
    },
    {
     "name": "stderr",
     "output_type": "stream",
     "text": [
      "┌ Info: Epoch 177\n",
      "└ @ Main /Users/raphaelpestourie/.julia/packages/Flux/EXOFx/src/optimise/train.jl:154\n"
     ]
    },
    {
     "name": "stdout",
     "output_type": "stream",
     "text": [
      "FE = 0.12361409845751047\n",
      "train_lossmean = 2.136497218516662e-5\n",
      "valid_lossmean = 0.0032470378098682015\n",
      "FE = 0.11695044213883875\n"
     ]
    },
    {
     "name": "stderr",
     "output_type": "stream",
     "text": [
      "┌ Info: Epoch 178\n",
      "└ @ Main /Users/raphaelpestourie/.julia/packages/Flux/EXOFx/src/optimise/train.jl:154\n",
      "┌ Info: Epoch 179\n",
      "└ @ Main /Users/raphaelpestourie/.julia/packages/Flux/EXOFx/src/optimise/train.jl:154\n"
     ]
    },
    {
     "name": "stdout",
     "output_type": "stream",
     "text": [
      "train_lossmean = 2.2082970466672416e-5\n",
      "valid_lossmean = 0.00373205697937358\n",
      "FE = 0.12538117284516054\n",
      "train_lossmean = 2.1840499157165868e-5\n",
      "valid_lossmean = 0.0037431437714949864\n",
      "FE = 0.1255672691676896\n"
     ]
    },
    {
     "name": "stderr",
     "output_type": "stream",
     "text": [
      "┌ Info: Epoch 180\n",
      "└ @ Main /Users/raphaelpestourie/.julia/packages/Flux/EXOFx/src/optimise/train.jl:154\n",
      "┌ Info: Epoch 181\n",
      "└ @ Main /Users/raphaelpestourie/.julia/packages/Flux/EXOFx/src/optimise/train.jl:154\n"
     ]
    },
    {
     "name": "stdout",
     "output_type": "stream",
     "text": [
      "train_lossmean = 2.0971830874259432e-5\n",
      "valid_lossmean = 0.0033907600044757657\n",
      "FE = 0.11951068098292654\n"
     ]
    },
    {
     "name": "stderr",
     "output_type": "stream",
     "text": [
      "┌ Info: Epoch 182\n",
      "└ @ Main /Users/raphaelpestourie/.julia/packages/Flux/EXOFx/src/optimise/train.jl:154\n"
     ]
    },
    {
     "name": "stdout",
     "output_type": "stream",
     "text": [
      "train_lossmean = 2.145512070382059e-5\n",
      "valid_lossmean = 0.0035251681356299096\n",
      "FE = 0.12185633530667817\n",
      "train_lossmean = 2.1618219832570603e-5\n",
      "valid_lossmean = 0.004061635939881964\n",
      "FE = 0.1308002854624883\n"
     ]
    },
    {
     "name": "stderr",
     "output_type": "stream",
     "text": [
      "┌ Info: Epoch 183\n",
      "└ @ Main /Users/raphaelpestourie/.julia/packages/Flux/EXOFx/src/optimise/train.jl:154\n",
      "┌ Info: Epoch 184\n",
      "└ @ Main /Users/raphaelpestourie/.julia/packages/Flux/EXOFx/src/optimise/train.jl:154\n"
     ]
    },
    {
     "name": "stdout",
     "output_type": "stream",
     "text": [
      "train_lossmean = 2.155896853616143e-5\n",
      "valid_lossmean = 0.003891150873692828\n",
      "FE = 0.12802572098733034\n",
      "train_lossmean = 2.1923229994209245e-5\n",
      "valid_lossmean = 0.004249485958068608\n"
     ]
    },
    {
     "name": "stderr",
     "output_type": "stream",
     "text": [
      "┌ Info: Epoch 185\n",
      "└ @ Main /Users/raphaelpestourie/.julia/packages/Flux/EXOFx/src/optimise/train.jl:154\n"
     ]
    },
    {
     "name": "stdout",
     "output_type": "stream",
     "text": [
      "FE = 0.1337908442982599\n",
      "train_lossmean = 2.1123149539586535e-5\n",
      "valid_lossmean = 0.003316713692204008\n",
      "FE = 0.11819856036886175\n"
     ]
    },
    {
     "name": "stderr",
     "output_type": "stream",
     "text": [
      "┌ Info: Epoch 186\n",
      "└ @ Main /Users/raphaelpestourie/.julia/packages/Flux/EXOFx/src/optimise/train.jl:154\n",
      "┌ Info: Epoch 187\n",
      "└ @ Main /Users/raphaelpestourie/.julia/packages/Flux/EXOFx/src/optimise/train.jl:154\n"
     ]
    },
    {
     "name": "stdout",
     "output_type": "stream",
     "text": [
      "train_lossmean = 2.0957871831089384e-5\n",
      "valid_lossmean = 0.003688859859344155\n",
      "FE = 0.12465344155673337\n",
      "train_lossmean = 2.1352712131395734e-5\n",
      "valid_lossmean = 0.0034300172853464666\n"
     ]
    },
    {
     "name": "stderr",
     "output_type": "stream",
     "text": [
      "┌ Info: Epoch 188\n",
      "└ @ Main /Users/raphaelpestourie/.julia/packages/Flux/EXOFx/src/optimise/train.jl:154\n"
     ]
    },
    {
     "name": "stdout",
     "output_type": "stream",
     "text": [
      "FE = 0.12020052082901642\n",
      "train_lossmean = 2.170340341969431e-5\n",
      "valid_lossmean = 0.003492162854115453\n",
      "FE = 0.1212845383246179\n"
     ]
    },
    {
     "name": "stderr",
     "output_type": "stream",
     "text": [
      "┌ Info: Epoch 189\n",
      "└ @ Main /Users/raphaelpestourie/.julia/packages/Flux/EXOFx/src/optimise/train.jl:154\n",
      "┌ Info: Epoch 190\n",
      "└ @ Main /Users/raphaelpestourie/.julia/packages/Flux/EXOFx/src/optimise/train.jl:154\n"
     ]
    },
    {
     "name": "stdout",
     "output_type": "stream",
     "text": [
      "train_lossmean = 2.190769694479587e-5\n",
      "valid_lossmean = 0.004009064909009788\n",
      "FE = 0.12995103387177653\n",
      "train_lossmean = 2.241570466241422e-5\n",
      "valid_lossmean = 0.003854404100204366\n",
      "FE = 0.1274197701901149\n"
     ]
    },
    {
     "name": "stderr",
     "output_type": "stream",
     "text": [
      "┌ Info: Epoch 191\n",
      "└ @ Main /Users/raphaelpestourie/.julia/packages/Flux/EXOFx/src/optimise/train.jl:154\n",
      "┌ Info: Epoch 192\n",
      "└ @ Main /Users/raphaelpestourie/.julia/packages/Flux/EXOFx/src/optimise/train.jl:154\n"
     ]
    },
    {
     "name": "stdout",
     "output_type": "stream",
     "text": [
      "train_lossmean = 2.181486885723247e-5\n",
      "valid_lossmean = 0.0033670209002810707\n",
      "FE = 0.11909159210034542\n",
      "train_lossmean = 2.1623486047405177e-5\n",
      "valid_lossmean = "
     ]
    },
    {
     "name": "stderr",
     "output_type": "stream",
     "text": [
      "┌ Info: Epoch 193\n",
      "└ @ Main /Users/raphaelpestourie/.julia/packages/Flux/EXOFx/src/optimise/train.jl:154\n"
     ]
    },
    {
     "name": "stdout",
     "output_type": "stream",
     "text": [
      "0.0033424673503322437\n",
      "FE = 0.1186565677999971\n",
      "train_lossmean = 2.1544432213407326e-5\n",
      "valid_lossmean = 0.004060036151290502\n",
      "FE = 0.1307745232552629\n"
     ]
    },
    {
     "name": "stderr",
     "output_type": "stream",
     "text": [
      "┌ Info: Epoch 194\n",
      "└ @ Main /Users/raphaelpestourie/.julia/packages/Flux/EXOFx/src/optimise/train.jl:154\n",
      "┌ Info: Epoch 195\n",
      "└ @ Main /Users/raphaelpestourie/.julia/packages/Flux/EXOFx/src/optimise/train.jl:154\n"
     ]
    },
    {
     "name": "stdout",
     "output_type": "stream",
     "text": [
      "train_lossmean = 2.0773772357351885e-5\n",
      "valid_lossmean = 0.003454288553460624\n",
      "FE = 0.12062504875300405\n",
      "train_lossmean = 2.1402792660951263e-5\n",
      "valid_lossmean = 0.0029102168502632086\n",
      "FE = 0.11071867265551691\n"
     ]
    },
    {
     "name": "stderr",
     "output_type": "stream",
     "text": [
      "┌ Info: Epoch 196\n",
      "└ @ Main /Users/raphaelpestourie/.julia/packages/Flux/EXOFx/src/optimise/train.jl:154\n",
      "┌ Info: Epoch 197\n",
      "└ @ Main /Users/raphaelpestourie/.julia/packages/Flux/EXOFx/src/optimise/train.jl:154\n"
     ]
    },
    {
     "name": "stdout",
     "output_type": "stream",
     "text": [
      "train_lossmean = 2.1766606287856584e-5\n",
      "valid_lossmean = 0.003759685576469673\n",
      "FE = 0.12584441849140598\n"
     ]
    },
    {
     "name": "stderr",
     "output_type": "stream",
     "text": [
      "┌ Info: Epoch 198\n",
      "└ @ Main /Users/raphaelpestourie/.julia/packages/Flux/EXOFx/src/optimise/train.jl:154\n"
     ]
    },
    {
     "name": "stdout",
     "output_type": "stream",
     "text": [
      "train_lossmean = 2.1700764215927183e-5\n",
      "valid_lossmean = 0.004076829577912635\n",
      "FE = 0.13104470386333522\n",
      "train_lossmean = 2.20650755241679e-5\n",
      "valid_lossmean = 0.003203319350285856\n",
      "FE = 0.11616045747354867\n"
     ]
    },
    {
     "name": "stderr",
     "output_type": "stream",
     "text": [
      "┌ Info: Epoch 199\n",
      "└ @ Main /Users/raphaelpestourie/.julia/packages/Flux/EXOFx/src/optimise/train.jl:154\n",
      "┌ Info: Epoch 200\n",
      "└ @ Main /Users/raphaelpestourie/.julia/packages/Flux/EXOFx/src/optimise/train.jl:154\n"
     ]
    },
    {
     "name": "stdout",
     "output_type": "stream",
     "text": [
      "train_lossmean = 2.1464521044725547e-5\n",
      "valid_lossmean = 0.0036031543992685916\n",
      "FE = 0.12319685789939004\n",
      " 18.248528 seconds (7.97 M allocations: 9.089 GiB, 9.29% gc time, 9.73% compilation time)\n"
     ]
    }
   ],
   "source": [
    "namemodel = \"local_MSE_parallel_baselineparameterized_$endname\"\n",
    "\n",
    "##define same AL parameters for all workers\n",
    "al1 = ALstruct(Ninit=ninit+8*kval, T=0, η=1e-3, J=Jval, ne=number_epoch, batchsize=batchsize);\n",
    "if MPI.Comm_rank(comm) == 0\n",
    "    @show kval\n",
    "    @show 256+8*kval\n",
    "end\n",
    "##ititialize DataRunner and DataSet\n",
    "dr = DataRunner(Xt, yt, [1]);\n",
    "# dr = DataRunner(generateX(Xt), yt, [1]);\n",
    "ds = DataSet()\n",
    "validation_fes = []\n",
    "##initialize baseline\n",
    "mgen =  Chain(Dense(nin, nnodes, relu),\n",
    "Dropout(0.5),\n",
    "#BatchNorm(256, relu),\n",
    "Dense(nnodes, nnodes, relu),\n",
    "Dropout(0.5),\n",
    "#BatchNorm(256, relu),\n",
    "Dense(nnodes, coarseresolution^2, relu),\n",
    "#BatchNorm(coarseresolution^2, hardtanh),\n",
    "Dense(coarseresolution^2, 1, hardtanh),\n",
    "x-> @. x[:]*0.9/2 + 0.45 + .1)\n",
    "\n",
    "cw=[cwval]\n",
    "\n",
    "m(p) = begin\n",
    "    mgen(p)\n",
    "end\n",
    "mloglik(p) = 1\n",
    "ps = Flux.params(mgen)\n",
    "\n",
    "\n",
    "loader = initloader(al1, dr, ds);\n",
    "opt = ADAM(al1.η)\n",
    "\n",
    "if MPI.Comm_rank(comm)==0\n",
    "    @time Flux.@epochs al1.ne train_distributed!(comm, commModel, commLeader, mloglik, m, dHuber, ps, loader, opt, validation_fes, logging=true)\n",
    "else\n",
    "    Flux.@epochs al1.ne train_distributed!(comm, commModel, commLeader, mloglik, m, dHuber, ps, loader, opt, validation_fes, logging=true)\n",
    "end\n",
    "\n",
    "\n",
    "# ##save models and validation FEs\n",
    "# if isleader\n",
    "#     BSON.@save \"$(namemodel)_K$(kval)_mgen$(model_color).bson\" mgen\n",
    "# end\n",
    "\n",
    "# if MPI.Comm_rank(comm) == 0\n",
    "#     writedlm(\"$(namemodel)_K$(kval)_trainingMSE.csv\", validation_fes, ',')\n",
    "# end\n",
    "\n",
    "# # evaluate and show the error on the test set\n",
    "# valid_lossmean = dFE_1d(comm, commModel, commLeader, m)\n",
    "# if MPI.Comm_rank(comm) == 0\n",
    "#     @show valid_lossmean\n",
    "#     writedlm(\"$(namemodel)_K$(kval)_endvalidFE.csv\", [valid_lossmean], ',')\n",
    "# end\n",
    "\n"
   ]
  },
  {
   "cell_type": "code",
   "execution_count": 7,
   "metadata": {},
   "outputs": [
    {
     "name": "stdout",
     "output_type": "stream",
     "text": [
      "FE = 0.13068358691983506\n"
     ]
    },
    {
     "data": {
      "text/plain": [
       "0.13068358691983506"
      ]
     },
     "execution_count": 7,
     "metadata": {},
     "output_type": "execute_result"
    }
   ],
   "source": [
    "dFE_1d(comm, commModel, commLeader, m, valid=test)"
   ]
  },
  {
   "cell_type": "markdown",
   "metadata": {},
   "source": [
    "## Baseline result \n",
    "\n",
    "The fractional error on the test set is 0.13."
   ]
  },
  {
   "cell_type": "markdown",
   "metadata": {},
   "source": [
    "# Overall result\n",
    "\n",
    "With about 1000 data points, a single model PEDS model achieves an error < 5% and leads to a 2.7x improvement compared to the NN-only baseline. "
   ]
  },
  {
   "cell_type": "code",
   "execution_count": null,
   "metadata": {},
   "outputs": [],
   "source": []
  }
 ],
 "metadata": {
  "kernelspec": {
   "display_name": "Julia 1.6.3",
   "language": "julia",
   "name": "julia-1.6"
  },
  "language_info": {
   "file_extension": ".jl",
   "mimetype": "application/julia",
   "name": "julia",
   "version": "1.6.3"
  }
 },
 "nbformat": 4,
 "nbformat_minor": 4
}
