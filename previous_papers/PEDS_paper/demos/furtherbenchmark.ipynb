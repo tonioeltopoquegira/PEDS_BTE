{
 "cells": [
  {
   "cell_type": "code",
   "execution_count": 2,
   "metadata": {},
   "outputs": [],
   "source": [
    "using DelimitedFiles"
   ]
  },
  {
   "cell_type": "code",
   "execution_count": 3,
   "metadata": {},
   "outputs": [],
   "source": [
    "using Surrogates"
   ]
  },
  {
   "cell_type": "code",
   "execution_count": 4,
   "metadata": {},
   "outputs": [],
   "source": [
    "using SurrogatesPolyChaos"
   ]
  },
  {
   "cell_type": "code",
   "execution_count": 5,
   "metadata": {},
   "outputs": [],
   "source": [
    "using SurrogatesAbstractGPs"
   ]
  },
  {
   "cell_type": "code",
   "execution_count": 6,
   "metadata": {},
   "outputs": [],
   "source": [
    "using NeuralOperators"
   ]
  },
  {
   "cell_type": "code",
   "execution_count": 7,
   "metadata": {},
   "outputs": [
    {
     "data": {
      "text/plain": [
       "FE (generic function with 1 method)"
      ]
     },
     "execution_count": 7,
     "metadata": {},
     "output_type": "execute_result"
    }
   ],
   "source": [
    "using LinearAlgebra\n",
    "\n",
    "FE(u, v) = norm(u.-v)/norm(v) "
   ]
  },
  {
   "cell_type": "code",
   "execution_count": 8,
   "metadata": {},
   "outputs": [],
   "source": [
    "trainingsets = []\n",
    "validsets = []\n",
    "traininglabels = []\n",
    "validlabels = []\n",
    "\n",
    "for coarseresolution in 4:5, name in [\"fisher\", \"fourier\"]\n",
    "##loading data\n",
    "X = readdlm(\"../data/X_$(name)$(coarseresolution^2)_small.csv\", ',')\n",
    "y = readdlm(\"../data/y_$(name)$(coarseresolution^2)_small.csv\", ',')[:];\n",
    "\n",
    "Xv = X[:, 1:1024] #valid set\n",
    "Xtest = X[:, end-1023:end] #test set\n",
    "Xt = X[:, 1025:end]\n",
    "\n",
    "yv = y[1:1024] #valid set\n",
    "ytest = y[end-1023:end] #test set\n",
    "yt = y[1025:end];\n",
    "\n",
    "kval = 2^7\n",
    "N = 256+8*kval\n",
    "\n",
    "Xt_surrogate = [tuple(Xt[:,i]...) for i=1:size(Xt, 2)][1:N]\n",
    "yt_surrogate = yt[1:N]\n",
    "Xv_surrogate = [tuple(Xv[:,i]...) for i=1:size(Xv, 2)]\n",
    "yv_surrogate = yv\n",
    "Xtest_surrogate = [tuple(Xtest[:,i]...) for i=1:size(Xtest, 2)]\n",
    "ytest_surrogate = ytest\n",
    "\n",
    "push!(trainingsets, Xt_surrogate)\n",
    "push!(traininglabels, yt_surrogate)\n",
    "\n",
    "push!(validsets, Xv_surrogate)\n",
    "push!(validlabels, yv_surrogate);\n",
    "end"
   ]
  },
  {
   "cell_type": "code",
   "execution_count": 18,
   "metadata": {},
   "outputs": [],
   "source": [
    "\n",
    "FEs = []\n",
    "for (Xt_surrogate,\n",
    "    yt_surrogate,\n",
    "    Xv_surrogate,\n",
    "    yv_surrogate) in zip(trainingsets,\n",
    "    traininglabels,\n",
    "    validsets,\n",
    "    validlabels)\n",
    "    for surrmethod in [RadialBasis, PolynomialChaosSurrogate, AbstractGPSurrogate]\n",
    "        if surrmethod==AbstractGPSurrogate\n",
    "            cur_funct = surrmethod(Xt_surrogate, yt_surrogate)\n",
    "        else\n",
    "            cur_funct = surrmethod(Xt_surrogate, yt_surrogate,  ones(length(Xt_surrogate[1]))*0., ones(length(Xt_surrogate[1]))*1.)\n",
    "        end\n",
    "        preds = cur_funct.(Xv_surrogate);\n",
    "        FEval = FE(preds, yv_surrogate)\n",
    "        push!(FEs, FEval)\n",
    "    end\n",
    "end"
   ]
  },
  {
   "cell_type": "code",
   "execution_count": 19,
   "metadata": {},
   "outputs": [],
   "source": [
    "##loading data\n",
    "X = readdlm(\"../data/X_maxwell10_small.csv\", ',')\n",
    "y = parse.(Complex{Float64}, readdlm(\"../data/y_maxwell10_small.csv\", ',')[:])\n",
    "\n",
    "Xv = X[:, 1:1024] #valid set\n",
    "Xtest = X[:, end-1023:end] #test set\n",
    "Xt = X[:, 1025:end]\n",
    "\n",
    "yv = y[1:1024] #valid set\n",
    "ytest = y[end-1023:end] #test set\n",
    "yt = y[1025:end];\n",
    "\n",
    "Xt_surrogate = [tuple(Xt[1:10,i]...,dot(Xt[11:13,i],[0; 0.5; 1])) for i=1:size(Xt, 2)][1:N]\n",
    "yt_surrogate_r = real.(yt[1:N])\n",
    "yt_surrogate_i = imag.(yt[1:N])\n",
    "Xv_surrogate = [tuple(Xv[1:10,i]...,dot(Xv[11:13,i],[0; 0.5; 1])) for i=1:size(Xv, 2)]\n",
    "yv_surrogate_r = real.(yv)\n",
    "yv_surrogate_i = imag.(yv);\n",
    "Xtest_surrogate = [tuple(Xtest[1:10,i]...,dot(Xtest[11:13,i],[0; 0.5; 1])) for i=1:size(Xtest, 2)]\n",
    "ytest_surrogate_r = real.(ytest)\n",
    "ytest_surrogate_i = imag.(ytest);"
   ]
  },
  {
   "cell_type": "code",
   "execution_count": 22,
   "metadata": {},
   "outputs": [],
   "source": [
    "lb = [0.15*ones(10);0.]\n",
    "ub = [0.85*ones(10);1.]\n",
    "for surrmethod in [RadialBasis, Kriging, PolynomialChaosSurrogate, AbstractGPSurrogate]\n",
    "    if surrmethod==AbstractGPSurrogate\n",
    "        cur_funct_r = surrmethod(Xt_surrogate, yt_surrogate_r)\n",
    "        cur_funct_i = surrmethod(Xt_surrogate, yt_surrogate_i)\n",
    "    else\n",
    "        cur_funct_r = surrmethod(Xt_surrogate, yt_surrogate_r,  ones(length(Xt_surrogate[1]))*0., ones(length(Xt_surrogate[1]))*1.)\n",
    "        cur_funct_i = surrmethod(Xt_surrogate, yt_surrogate_i,  ones(length(Xt_surrogate[1]))*0., ones(length(Xt_surrogate[1]))*1.)\n",
    "    end\n",
    "    preds = cur_funct_r.(Xv_surrogate) .+ 1im .* cur_funct_i.(Xv_surrogate);\n",
    "    FEval = FE(preds, yv_surrogate_r .+ 1im .* yv_surrogate_i)\n",
    "    push!(FEs, FEval)\n",
    "end\n"
   ]
  },
  {
   "cell_type": "code",
   "execution_count": 23,
   "metadata": {},
   "outputs": [
    {
     "data": {
      "text/plain": [
       "5×5 Matrix{Any}:\n",
       " 0.045      0.037      0.055      0.038      0.19\n",
       " 0.0125316  0.0110112  0.0189032  0.0156031  0.335389\n",
       " 0.167724   0.114938   0.184185   0.117799   0.55601\n",
       " 0.0139447  0.0139159  0.0152807  0.0142008  0.721081\n",
       " 0.0154433  0.0139587  0.0320266  0.0274194  0.365825"
      ]
     },
     "execution_count": 23,
     "metadata": {},
     "output_type": "execute_result"
    }
   ],
   "source": [
    "vcat([4.5 3.7  5.5 3.8 19]./100,reshape(FEs, (:,5))) # [PEDS, fisher4, fourier4, fisher5, fourier5] x [RadialBasis, Kriging, PolynomialChaosSurrogate, AbstractGPSurrogate]"
   ]
  },
  {
   "cell_type": "raw",
   "metadata": {},
   "source": [
    "writedlm(\"../data/FEs_furtherbenchmark.csv\", vcat([4.5 3.7  5.5 3.8 19;\n",
    "10.1 5.1 14.4 4.7 56]./100,reshape(FEs, (:,5))), ',')"
   ]
  }
 ],
 "metadata": {
  "kernelspec": {
   "display_name": "Julia 1.6.3",
   "language": "julia",
   "name": "julia-1.6"
  },
  "language_info": {
   "file_extension": ".jl",
   "mimetype": "application/julia",
   "name": "julia",
   "version": "1.6.3"
  }
 },
 "nbformat": 4,
 "nbformat_minor": 4
}
