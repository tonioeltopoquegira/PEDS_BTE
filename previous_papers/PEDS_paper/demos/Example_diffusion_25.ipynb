{
 "cells": [
  {
   "cell_type": "markdown",
   "metadata": {},
   "source": [
    "# PEDS example: diffusion surrogate using a diffusion equation coarse solver\n",
    "\n",
    "This example of PEDS shows how to use the code from: *Pestourie, Raphaël, et al. \"Physics-enhanced deep surrogates for PDEs.\"*  In this example notebook, we illustrate PEDS for the surrogate of the diffusion equation's flux where the approximate solver is a coarse diffusion equation's solver. For this example, the input is the side length of 25 holes in a material.\n",
    "\n",
    "NB: since the approximate solver is the same for the reaction-diffusion and the diffusion surrogates, training the surrogate models with the 25 holes structures for the reaction-diffusion equation necessitates only to change the dataset from `X/y_fourier25_small.csv` to `X/y_fisher25_small.csv`.\n",
    "    \n",
    "## Note on implementation\n",
    "\n",
    "In this notebook, we run the training on a single processor and J=1.\n",
    "\n",
    "However, the implementation of this code is meant to be parallel on multiple processors, where the element of a batch is computed in parallel over J groups of CPUs (J is the number models in the ensemble). For example, with a julia file `train_PEDS.jl`containing functions calls similart to the code in the cells below, the command to run large-scale training on a cluster would be:\n",
    "    \n",
    "`mpiexec -n 320 julia train_PEDS.jl` "
   ]
  },
  {
   "cell_type": "code",
   "execution_count": 1,
   "metadata": {},
   "outputs": [],
   "source": [
    "#initialize functions\n",
    "\n",
    "include(\"../src/PEDS.jl\")\n",
    "include(\"../src/fourier_solver.jl\")\n",
    "\n",
    "##training functionalities\n",
    "function train_distributed!(comm, commModel, commLeader, mloglik, m, loss, ps, loader, opt, validation_fes; logging=false)\n",
    "\n",
    "    train_lossmean = 0.\n",
    "    k = 0\n",
    "    for d in loader\n",
    "        X,y = d #change for Fourier\n",
    "        train_loss, back = Zygote.pullback(() -> loss(commModel, mloglik, m, X, y), ps)\n",
    "        train_lossmean *= k\n",
    "        k+=1\n",
    "        train_lossmean += train_loss\n",
    "        train_lossmean /= k\n",
    "\n",
    "        gs = back(Float32(1.))\n",
    "        if debug && isleader\n",
    "            if isnan(train_loss)\n",
    "                @show (model_color, train_loss)\n",
    "            end\n",
    "        end\n",
    "        for x in ps\n",
    "            gs[x][:] .= (sum_reduce(commModel, (gs[x][:]) ))\n",
    "            if debug && isleader\n",
    "                if any(isnan.(gs[x][:]))\n",
    "                    @show (model_color, train_loss)\n",
    "                    @show (length(x), length(findall(isnan,x)), length(findall(isnan,gs[x][:])))\n",
    "                end\n",
    "\n",
    "                if any(isinf.(gs[x][:]))\n",
    "                    @show (model_color, train_loss)\n",
    "                    @show (length(x), length(findall(isinf,x)), length(findall(isinf,gs[x][:])))\n",
    "                end\n",
    "            end\n",
    "        end\n",
    "\n",
    "        if debug && isleader\n",
    "            for p_ in ps\n",
    "                if any(isnan.(p_))\n",
    "                    @show (model_color, \"before update\")\n",
    "                end\n",
    "            end\n",
    "        end\n",
    "        Flux.Optimise.update!(opt, ps, gs)\n",
    "        if debug && isleader\n",
    "            for p_ in ps\n",
    "                if any(isnan.(p_))\n",
    "                    @show (model_color, \"after update\")\n",
    "                end\n",
    "            end\n",
    "        end\n",
    "    end\n",
    "\n",
    "    # logging && push!(validation_fes, dFE(comm, commModel, commLeader, m))\n",
    "    #changing for fourier\n",
    "    if logging\n",
    "        if MPI.Comm_rank(comm) == 0\n",
    "            @show train_lossmean\n",
    "            push!(validation_fes, train_lossmean)\n",
    "        end\n",
    "        MPI.Barrier(comm)\n",
    "        valid_lossMSE = lossvalid(comm, commModel, commLeader, mloglik, m)\n",
    "        valid_lossFE = dFE_1d(comm, commModel, commLeader, m)\n",
    "        if MPI.Comm_rank(comm) == 0\n",
    "            push!(validation_fes, valid_lossMSE)\n",
    "            push!(validation_fes, valid_lossFE)\n",
    "        end\n",
    "    end\n",
    "end\n",
    "\n",
    "function pore(p, resolution; lowval=0.1)\n",
    "\n",
    "    if resolution % 2==0\n",
    "        inner = p/2*resolution ÷ 1\n",
    "        w =  (p*resolution)/2 % 1\n",
    "\n",
    "        isqb = Int((resolution/2+inner) ÷ 1) # square index to the right\n",
    "        isqa = Int((resolution/2-inner) ÷ 1) # square index to the left\n",
    "    else\n",
    "        inner = p/2*resolution ÷ 1\n",
    "        w = ((p*resolution)/2 % 1)\n",
    "        w*= resolution ==1 ? 2 : 1\n",
    "        isqb = Int((resolution/2+inner) ÷ 1) # square index to the right\n",
    "        isqa = Int((resolution/2-inner) ÷ 1)+1 # square index to the left\n",
    "    end\n",
    "\n",
    "    begin\n",
    "        A1 = ones((resolution, resolution))\n",
    "        A2 = ones((resolution, resolution))\n",
    "        A1[isqa+1:isqb, isqa+1:isqb] .= lowval\n",
    "\n",
    "        if isqa==0 && w==0\n",
    "            return A1\n",
    "        elseif isqa==0 && w!=0\n",
    "            return A1 .* (1-w)\n",
    "        else\n",
    "            A2[isqa:isqb+1, isqa:isqb+1] .= lowval\n",
    "            return A1 .* (1-w) .+ A2 .* w\n",
    "        end\n",
    "    end\n",
    "\n",
    "end\n",
    "\n",
    "function generatepores(ps, resolution)\n",
    "    n = sqrt(length(ps))\n",
    "    N = resolution÷n\n",
    "    @assert n == Int(n)\n",
    "    @assert N == Int(N)\n",
    "    n = Int(n)\n",
    "    N = Int(N)\n",
    "    pores = zeros((resolution, resolution))\n",
    "    for (k,p) in enumerate(ps)\n",
    "        i = (k-1)÷n\n",
    "        j = (k-1)%n\n",
    "        pores[i*N+1:(i+1)*N, j*N+1:(j+1)*N] = pore(p, N)\n",
    "    end\n",
    "    return pores\n",
    "end\n",
    "\n",
    "ChainRules.@non_differentiable generatepores(ps, resolution)"
   ]
  },
  {
   "cell_type": "code",
   "execution_count": 2,
   "metadata": {},
   "outputs": [],
   "source": [
    "startp, endp = 7, 7\n",
    "PEDSname = \"PEDS\"\n",
    "equation = \"examplefourier\"\n",
    "\n",
    "ninit = 64\n",
    "Jval = 1\n",
    "\n",
    "cwval = 0.05\n",
    "learningrate = 5e-5\n",
    "nnodes =128\n",
    "\n",
    "optimizerfunc, optname = Flux.ADAM, \"ADAM\"\n",
    "\n",
    "number_epoch = 200\n",
    "batchsize = 64\n",
    "\n",
    "datalimitvalid = 2^10\n",
    "\n",
    "Ks = Int[2^i for i=startp:endp]\n",
    "\n",
    "coarseresolution = 4\n",
    "Lx = Ly = 1\n",
    "nin=Int(coarseresolution^2)\n",
    "coarse_sim = setsimulation(Lx, Ly, coarseresolution);\n",
    "nout = coarseresolution^2\n",
    "const avgOpcoarse = create_cOp(coarseresolution);\n",
    "\n",
    "endname = \"$(equation)_$(2^startp)to$(2^endp)_ne$(number_epoch)_lr$(learningrate)_bs$(batchsize)_opt$(optname)_hn$(nnodes)_coarse$(coarseresolution)_seed\";\n",
    "\n",
    "##loading data\n",
    "X = readdlm(\"../data/X_fourier$(coarseresolution^2)_small.csv\", ',')\n",
    "y = readdlm(\"../data/y_fourier$(coarseresolution^2)_small.csv\", ',')[:];\n",
    "\n",
    "Xv = X[:, 1:1024] #valid set\n",
    "Xtest = X[:, end-1023:end] #test set\n",
    "Xt = X[:, 1025:end]\n",
    "\n",
    "yv = y[1:1024] #valid set\n",
    "ytest = y[end-1023:end] #test set\n",
    "yt = y[1025:end];"
   ]
  },
  {
   "cell_type": "code",
   "execution_count": 3,
   "metadata": {},
   "outputs": [
    {
     "data": {
      "text/plain": [
       "dFE_1d (generic function with 1 method)"
      ]
     },
     "execution_count": 3,
     "metadata": {},
     "output_type": "execute_result"
    }
   ],
   "source": [
    "##Definition of problem constants\n",
    "const debug = false\n",
    "const drv = DataRunner(Xv, yv, [1]);\n",
    "const al = ALstruct(J=Jval, Nvalid=datalimitvalid, batchsize=batchsize);\n",
    "const valid = initvalid(al, drv) #validation loader\n",
    "\n",
    "const drtest = DataRunner(Xtest, ytest, [1]);\n",
    "const test = initvalid(al, drtest) #validation loader\n",
    "\n",
    "##setup MPI and random\n",
    "const comm = MPI.COMM_WORLD\n",
    "const model_color = MPI.Comm_rank(comm)%al.J\n",
    "const commModel = MPI.Comm_split(comm, model_color, 0)\n",
    "const isleader = MPI.Comm_rank(commModel) == 0\n",
    "const commLeader = MPI.Comm_split(comm, isleader, 0)\n",
    "debug && print(\"Comm rank=$(MPI.Comm_rank(comm)), commModel rank = $(MPI.Comm_rank(commModel)), commLeader rank = $(MPI.Comm_rank(commLeader))\\n\")\n",
    "\n",
    "Random.seed!(2138*(model_color+1)) #alter seed for different groups\n",
    "\n",
    "function lossvalid(comm, commModel, commLeader, mloglik, m)\n",
    "    valid_lossmean = 0.\n",
    "    k = 0\n",
    "    testmode!(m, true)\n",
    "    for d in valid\n",
    "        X,y=d\n",
    "        valid_loss = dMSE(commModel, mloglik, m, X, y)\n",
    "\n",
    "        valid_lossmean *= k\n",
    "        k+=1\n",
    "        valid_lossmean += valid_loss\n",
    "        valid_lossmean /= k\n",
    "    end\n",
    "    testmode!(m, false)\n",
    "    # MPI.Comm_rank(commModel)== 0 && @show valid_lossmean\n",
    "    valid_lossmean = sum_reduce(commLeader, valid_lossmean) / al.J\n",
    "    MPI.Comm_rank(comm) == 0 && @show valid_lossmean\n",
    "    return valid_lossmean\n",
    "end\n",
    "\n",
    "function dFE_1d(comm, commModel, commLeader, m; valid=valid) \"\"\"dFE computes the FE using parallelization over the batch with MPI\"\"\"\n",
    "    evalsr = zeros(al.Nvalid)\n",
    "    FE = 0.\n",
    "    j=0\n",
    "    ys = []\n",
    "    testmode!(m, true)\n",
    "    for (x, y) in valid\n",
    "                rp = m(x[:,1+MPI.Comm_rank(commModel):MPI.Comm_size(commModel):length(y)])[:]\n",
    "        evalsr[j*length(y)+1+MPI.Comm_rank(commModel):MPI.Comm_size(commModel):j*length(y)+length(y)] .= rp\n",
    "        push!(ys, y...)\n",
    "        j+=1\n",
    "    end\n",
    "    testmode!(m, false)\n",
    "    evalsrModel = sum_reduce(commModel, evalsr)\n",
    "    evalsr = sum_reduce(commLeader, evalsrModel) / al.J\n",
    "    if MPI.Comm_rank(comm) == 0\n",
    "        FE = norm(evalsr - ys)/norm(ys)\n",
    "        MPI.Comm_rank(comm) == 0 && @show FE\n",
    "    end\n",
    "    return FE\n",
    "end"
   ]
  },
  {
   "cell_type": "markdown",
   "metadata": {},
   "source": [
    "# PEDS"
   ]
  },
  {
   "cell_type": "code",
   "execution_count": 4,
   "metadata": {},
   "outputs": [
    {
     "name": "stdout",
     "output_type": "stream",
     "text": [
      "kval = 128\n",
      "256 + 8kval = 1280\n"
     ]
    },
    {
     "name": "stderr",
     "output_type": "stream",
     "text": [
      "┌ Info: Epoch 1\n",
      "└ @ Main /Users/raphaelpestourie/.julia/packages/Flux/EXOFx/src/optimise/train.jl:154\n"
     ]
    },
    {
     "name": "stdout",
     "output_type": "stream",
     "text": [
      "train_lossmean = 6.465457435722089e-5\n",
      "valid_lossmean = 0.004519922063200611\n",
      "FE = 0.11117375021304521\n"
     ]
    },
    {
     "name": "stderr",
     "output_type": "stream",
     "text": [
      "┌ Info: Epoch 2\n",
      "└ @ Main /Users/raphaelpestourie/.julia/packages/Flux/EXOFx/src/optimise/train.jl:154\n"
     ]
    },
    {
     "name": "stdout",
     "output_type": "stream",
     "text": [
      "train_lossmean = 5.017754890045186e-5\n",
      "valid_lossmean = 0.0032368090695912184\n",
      "FE = 0.0940795700337363\n"
     ]
    },
    {
     "name": "stderr",
     "output_type": "stream",
     "text": [
      "┌ Info: Epoch 3\n",
      "└ @ Main /Users/raphaelpestourie/.julia/packages/Flux/EXOFx/src/optimise/train.jl:154\n"
     ]
    },
    {
     "name": "stdout",
     "output_type": "stream",
     "text": [
      "train_lossmean = 4.3797219252353734e-5\n",
      "valid_lossmean = 0.0028263467551577106\n",
      "FE = 0.0879122720260493\n"
     ]
    },
    {
     "name": "stderr",
     "output_type": "stream",
     "text": [
      "┌ Info: Epoch 4\n",
      "└ @ Main /Users/raphaelpestourie/.julia/packages/Flux/EXOFx/src/optimise/train.jl:154\n"
     ]
    },
    {
     "name": "stdout",
     "output_type": "stream",
     "text": [
      "train_lossmean = 4.10754809744689e-5\n",
      "valid_lossmean = 0.002601535575113432\n",
      "FE = 0.08434350938676353\n"
     ]
    },
    {
     "name": "stderr",
     "output_type": "stream",
     "text": [
      "┌ Info: Epoch 5\n",
      "└ @ Main /Users/raphaelpestourie/.julia/packages/Flux/EXOFx/src/optimise/train.jl:154\n"
     ]
    },
    {
     "name": "stdout",
     "output_type": "stream",
     "text": [
      "train_lossmean = 3.96686148869787e-5\n",
      "valid_lossmean = 0.002503929455062814\n",
      "FE = 0.08274615593048705\n"
     ]
    },
    {
     "name": "stderr",
     "output_type": "stream",
     "text": [
      "┌ Info: Epoch 6\n",
      "└ @ Main /Users/raphaelpestourie/.julia/packages/Flux/EXOFx/src/optimise/train.jl:154\n"
     ]
    },
    {
     "name": "stdout",
     "output_type": "stream",
     "text": [
      "train_lossmean = 3.9170874716866105e-5\n",
      "valid_lossmean = 0.002468082216615378\n",
      "FE = 0.08215170742186563\n"
     ]
    },
    {
     "name": "stderr",
     "output_type": "stream",
     "text": [
      "┌ Info: Epoch 7\n",
      "└ @ Main /Users/raphaelpestourie/.julia/packages/Flux/EXOFx/src/optimise/train.jl:154\n"
     ]
    },
    {
     "name": "stdout",
     "output_type": "stream",
     "text": [
      "train_lossmean = 3.904706651440384e-5\n",
      "valid_lossmean = 0.002459874519999162\n",
      "FE = 0.08201499443007701\n"
     ]
    },
    {
     "name": "stderr",
     "output_type": "stream",
     "text": [
      "┌ Info: Epoch 8\n",
      "└ @ Main /Users/raphaelpestourie/.julia/packages/Flux/EXOFx/src/optimise/train.jl:154\n"
     ]
    },
    {
     "name": "stdout",
     "output_type": "stream",
     "text": [
      "train_lossmean = 3.902202153051028e-5\n",
      "valid_lossmean = 0.002455513097366\n",
      "FE = 0.08194225479547888\n"
     ]
    },
    {
     "name": "stderr",
     "output_type": "stream",
     "text": [
      "┌ Info: Epoch 9\n",
      "└ @ Main /Users/raphaelpestourie/.julia/packages/Flux/EXOFx/src/optimise/train.jl:154\n"
     ]
    },
    {
     "name": "stdout",
     "output_type": "stream",
     "text": [
      "train_lossmean = 3.899082626451415e-5\n",
      "valid_lossmean = 0.002456023085966247\n",
      "FE = 0.08195076369862013\n"
     ]
    },
    {
     "name": "stderr",
     "output_type": "stream",
     "text": [
      "┌ Info: Epoch 10\n",
      "└ @ Main /Users/raphaelpestourie/.julia/packages/Flux/EXOFx/src/optimise/train.jl:154\n"
     ]
    },
    {
     "name": "stdout",
     "output_type": "stream",
     "text": [
      "train_lossmean = 3.905889325641411e-5\n",
      "valid_lossmean = 0.0024550755756306743\n",
      "FE = 0.08193495426128597\n"
     ]
    },
    {
     "name": "stderr",
     "output_type": "stream",
     "text": [
      "┌ Info: Epoch 11\n",
      "└ @ Main /Users/raphaelpestourie/.julia/packages/Flux/EXOFx/src/optimise/train.jl:154\n"
     ]
    },
    {
     "name": "stdout",
     "output_type": "stream",
     "text": [
      "train_lossmean = 3.899196981876866e-5\n",
      "valid_lossmean = 0.002456196209186539\n",
      "FE = 0.08195365197157424\n"
     ]
    },
    {
     "name": "stderr",
     "output_type": "stream",
     "text": [
      "┌ Info: Epoch 12\n",
      "└ @ Main /Users/raphaelpestourie/.julia/packages/Flux/EXOFx/src/optimise/train.jl:154\n"
     ]
    },
    {
     "name": "stdout",
     "output_type": "stream",
     "text": [
      "train_lossmean = 3.900418474807219e-5\n",
      "valid_lossmean = 0.002457027038993745\n",
      "FE = 0.08196751156870584\n"
     ]
    },
    {
     "name": "stderr",
     "output_type": "stream",
     "text": [
      "┌ Info: Epoch 13\n",
      "└ @ Main /Users/raphaelpestourie/.julia/packages/Flux/EXOFx/src/optimise/train.jl:154\n"
     ]
    },
    {
     "name": "stdout",
     "output_type": "stream",
     "text": [
      "train_lossmean = 3.901429615761408e-5\n",
      "valid_lossmean = 0.002456065578831436\n",
      "FE = 0.08195147263081863\n"
     ]
    },
    {
     "name": "stderr",
     "output_type": "stream",
     "text": [
      "┌ Info: Epoch 14\n",
      "└ @ Main /Users/raphaelpestourie/.julia/packages/Flux/EXOFx/src/optimise/train.jl:154\n"
     ]
    },
    {
     "name": "stdout",
     "output_type": "stream",
     "text": [
      "train_lossmean = 3.8988745604438196e-5\n",
      "valid_lossmean = 0.0024565649495958417\n",
      "FE = 0.08195980345266349\n"
     ]
    },
    {
     "name": "stderr",
     "output_type": "stream",
     "text": [
      "┌ Info: Epoch 15\n",
      "└ @ Main /Users/raphaelpestourie/.julia/packages/Flux/EXOFx/src/optimise/train.jl:154\n"
     ]
    },
    {
     "name": "stdout",
     "output_type": "stream",
     "text": [
      "train_lossmean = 3.8999765149304895e-5\n",
      "valid_lossmean = 0.0024552120727892473\n",
      "FE = 0.08193723193719735\n"
     ]
    },
    {
     "name": "stderr",
     "output_type": "stream",
     "text": [
      "┌ Info: Epoch 16\n",
      "└ @ Main /Users/raphaelpestourie/.julia/packages/Flux/EXOFx/src/optimise/train.jl:154\n"
     ]
    },
    {
     "name": "stdout",
     "output_type": "stream",
     "text": [
      "train_lossmean = 3.903610692352498e-5\n",
      "valid_lossmean = 0.0024570033222801693\n",
      "FE = 0.08196711596771024\n"
     ]
    },
    {
     "name": "stderr",
     "output_type": "stream",
     "text": [
      "┌ Info: Epoch 17\n",
      "└ @ Main /Users/raphaelpestourie/.julia/packages/Flux/EXOFx/src/optimise/train.jl:154\n"
     ]
    },
    {
     "name": "stdout",
     "output_type": "stream",
     "text": [
      "train_lossmean = 3.9042875247870535e-5\n",
      "valid_lossmean = 0.0024560008192138836\n",
      "FE = 0.08195039220750759\n"
     ]
    },
    {
     "name": "stderr",
     "output_type": "stream",
     "text": [
      "┌ Info: Epoch 18\n",
      "└ @ Main /Users/raphaelpestourie/.julia/packages/Flux/EXOFx/src/optimise/train.jl:154\n"
     ]
    },
    {
     "name": "stdout",
     "output_type": "stream",
     "text": [
      "train_lossmean = 3.9016412031225186e-5\n",
      "valid_lossmean = 0.002456355482855386\n",
      "FE = 0.08195630909790119\n"
     ]
    },
    {
     "name": "stderr",
     "output_type": "stream",
     "text": [
      "┌ Info: Epoch 19\n",
      "└ @ Main /Users/raphaelpestourie/.julia/packages/Flux/EXOFx/src/optimise/train.jl:154\n"
     ]
    },
    {
     "name": "stdout",
     "output_type": "stream",
     "text": [
      "train_lossmean = 3.90291659275389e-5\n",
      "valid_lossmean = 0.0024555066648585\n",
      "FE = 0.08194214746668592\n"
     ]
    },
    {
     "name": "stderr",
     "output_type": "stream",
     "text": [
      "┌ Info: Epoch 20\n",
      "└ @ Main /Users/raphaelpestourie/.julia/packages/Flux/EXOFx/src/optimise/train.jl:154\n"
     ]
    },
    {
     "name": "stdout",
     "output_type": "stream",
     "text": [
      "train_lossmean = 3.8957014164680964e-5\n",
      "valid_lossmean = 0.002455535946210141\n",
      "FE = 0.08194263603585082\n"
     ]
    },
    {
     "name": "stderr",
     "output_type": "stream",
     "text": [
      "┌ Info: Epoch 21\n",
      "└ @ Main /Users/raphaelpestourie/.julia/packages/Flux/EXOFx/src/optimise/train.jl:154\n"
     ]
    },
    {
     "name": "stdout",
     "output_type": "stream",
     "text": [
      "train_lossmean = 3.9023761720702785e-5\n",
      "valid_lossmean = 0.002455348709803253\n",
      "FE = 0.0819395118834129\n"
     ]
    },
    {
     "name": "stderr",
     "output_type": "stream",
     "text": [
      "┌ Info: Epoch 22\n",
      "└ @ Main /Users/raphaelpestourie/.julia/packages/Flux/EXOFx/src/optimise/train.jl:154\n"
     ]
    },
    {
     "name": "stdout",
     "output_type": "stream",
     "text": [
      "train_lossmean = 3.900262322481003e-5\n",
      "valid_lossmean = 0.0024558495281046793\n",
      "FE = 0.08194786807221775\n"
     ]
    },
    {
     "name": "stderr",
     "output_type": "stream",
     "text": [
      "┌ Info: Epoch 23\n",
      "└ @ Main /Users/raphaelpestourie/.julia/packages/Flux/EXOFx/src/optimise/train.jl:154\n"
     ]
    },
    {
     "name": "stdout",
     "output_type": "stream",
     "text": [
      "train_lossmean = 3.89963357421413e-5\n",
      "valid_lossmean = 0.002456162945256632\n",
      "FE = 0.08195309702613575\n"
     ]
    },
    {
     "name": "stderr",
     "output_type": "stream",
     "text": [
      "┌ Info: Epoch 24\n",
      "└ @ Main /Users/raphaelpestourie/.julia/packages/Flux/EXOFx/src/optimise/train.jl:154\n"
     ]
    },
    {
     "name": "stdout",
     "output_type": "stream",
     "text": [
      "train_lossmean = 3.900533914390879e-5\n",
      "valid_lossmean = 0.002455334288709141\n",
      "FE = 0.08193927125381462\n"
     ]
    },
    {
     "name": "stderr",
     "output_type": "stream",
     "text": [
      "┌ Info: Epoch 25\n",
      "└ @ Main /Users/raphaelpestourie/.julia/packages/Flux/EXOFx/src/optimise/train.jl:154\n"
     ]
    },
    {
     "name": "stdout",
     "output_type": "stream",
     "text": [
      "train_lossmean = 3.8938805228516886e-5\n",
      "valid_lossmean = 0.002455927346250885\n",
      "FE = 0.08194916639701119\n"
     ]
    },
    {
     "name": "stderr",
     "output_type": "stream",
     "text": [
      "┌ Info: Epoch 26\n",
      "└ @ Main /Users/raphaelpestourie/.julia/packages/Flux/EXOFx/src/optimise/train.jl:154\n"
     ]
    },
    {
     "name": "stdout",
     "output_type": "stream",
     "text": [
      "train_lossmean = 3.896326419360419e-5\n",
      "valid_lossmean = 0.0024549141961972554\n",
      "FE = 0.08193226130268119\n"
     ]
    },
    {
     "name": "stderr",
     "output_type": "stream",
     "text": [
      "┌ Info: Epoch 27\n",
      "└ @ Main /Users/raphaelpestourie/.julia/packages/Flux/EXOFx/src/optimise/train.jl:154\n"
     ]
    },
    {
     "name": "stdout",
     "output_type": "stream",
     "text": [
      "train_lossmean = 3.8808247672999194e-5\n",
      "valid_lossmean = 0.002410339203277571\n",
      "FE = 0.08118501307717234\n"
     ]
    },
    {
     "name": "stderr",
     "output_type": "stream",
     "text": [
      "┌ Info: Epoch 28\n",
      "└ @ Main /Users/raphaelpestourie/.julia/packages/Flux/EXOFx/src/optimise/train.jl:154\n"
     ]
    },
    {
     "name": "stdout",
     "output_type": "stream",
     "text": [
      "train_lossmean = 3.874151482030126e-5\n",
      "valid_lossmean = 0.0023717892489829497\n",
      "FE = 0.08053317674812888\n"
     ]
    },
    {
     "name": "stderr",
     "output_type": "stream",
     "text": [
      "┌ Info: Epoch 29\n",
      "└ @ Main /Users/raphaelpestourie/.julia/packages/Flux/EXOFx/src/optimise/train.jl:154\n"
     ]
    },
    {
     "name": "stdout",
     "output_type": "stream",
     "text": [
      "train_lossmean = 3.850566443335587e-5\n",
      "valid_lossmean = 0.0023272307732537046\n",
      "FE = 0.07977310717979318\n"
     ]
    },
    {
     "name": "stderr",
     "output_type": "stream",
     "text": [
      "┌ Info: Epoch 30\n",
      "└ @ Main /Users/raphaelpestourie/.julia/packages/Flux/EXOFx/src/optimise/train.jl:154\n"
     ]
    },
    {
     "name": "stdout",
     "output_type": "stream",
     "text": [
      "train_lossmean = 3.7884079810702e-5\n",
      "valid_lossmean = 0.0022493222428331327\n",
      "FE = 0.07842646168571084\n"
     ]
    },
    {
     "name": "stderr",
     "output_type": "stream",
     "text": [
      "┌ Info: Epoch 31\n",
      "└ @ Main /Users/raphaelpestourie/.julia/packages/Flux/EXOFx/src/optimise/train.jl:154\n"
     ]
    },
    {
     "name": "stdout",
     "output_type": "stream",
     "text": [
      "train_lossmean = 3.773113339463366e-5\n",
      "valid_lossmean = 0.002115821567173242\n",
      "FE = 0.07606349953633214\n"
     ]
    },
    {
     "name": "stderr",
     "output_type": "stream",
     "text": [
      "┌ Info: Epoch 32\n",
      "└ @ Main /Users/raphaelpestourie/.julia/packages/Flux/EXOFx/src/optimise/train.jl:154\n"
     ]
    },
    {
     "name": "stdout",
     "output_type": "stream",
     "text": [
      "train_lossmean = 3.643313551827336e-5\n",
      "valid_lossmean = 0.002010495884242468\n",
      "FE = 0.07414611098798644\n"
     ]
    },
    {
     "name": "stderr",
     "output_type": "stream",
     "text": [
      "┌ Info: Epoch 33\n",
      "└ @ Main /Users/raphaelpestourie/.julia/packages/Flux/EXOFx/src/optimise/train.jl:154\n"
     ]
    },
    {
     "name": "stdout",
     "output_type": "stream",
     "text": [
      "train_lossmean = 3.563524939876601e-5\n",
      "valid_lossmean = 0.001784214955424218\n",
      "FE = 0.06984902855360174\n"
     ]
    },
    {
     "name": "stderr",
     "output_type": "stream",
     "text": [
      "┌ Info: Epoch 34\n",
      "└ @ Main /Users/raphaelpestourie/.julia/packages/Flux/EXOFx/src/optimise/train.jl:154\n"
     ]
    },
    {
     "name": "stdout",
     "output_type": "stream",
     "text": [
      "train_lossmean = 3.3181142388397764e-5\n",
      "valid_lossmean = 0.001483372646604185\n",
      "FE = 0.06368863132010996\n"
     ]
    },
    {
     "name": "stderr",
     "output_type": "stream",
     "text": [
      "┌ Info: Epoch 35\n",
      "└ @ Main /Users/raphaelpestourie/.julia/packages/Flux/EXOFx/src/optimise/train.jl:154\n"
     ]
    },
    {
     "name": "stdout",
     "output_type": "stream",
     "text": [
      "train_lossmean = 3.142375581593235e-5\n",
      "valid_lossmean = 0.0014774655718273707\n",
      "FE = 0.0635616946414819\n"
     ]
    },
    {
     "name": "stderr",
     "output_type": "stream",
     "text": [
      "┌ Info: Epoch 36\n",
      "└ @ Main /Users/raphaelpestourie/.julia/packages/Flux/EXOFx/src/optimise/train.jl:154\n"
     ]
    },
    {
     "name": "stdout",
     "output_type": "stream",
     "text": [
      "train_lossmean = 3.117360683743082e-5\n",
      "valid_lossmean = 0.0013405240349630202\n",
      "FE = 0.060544414725177895\n"
     ]
    },
    {
     "name": "stderr",
     "output_type": "stream",
     "text": [
      "┌ Info: Epoch 37\n",
      "└ @ Main /Users/raphaelpestourie/.julia/packages/Flux/EXOFx/src/optimise/train.jl:154\n"
     ]
    },
    {
     "name": "stdout",
     "output_type": "stream",
     "text": [
      "train_lossmean = 2.995246401588651e-5\n",
      "valid_lossmean = 0.00129050041652225\n",
      "FE = 0.05940402295930932\n"
     ]
    },
    {
     "name": "stderr",
     "output_type": "stream",
     "text": [
      "┌ Info: Epoch 38\n",
      "└ @ Main /Users/raphaelpestourie/.julia/packages/Flux/EXOFx/src/optimise/train.jl:154\n"
     ]
    },
    {
     "name": "stdout",
     "output_type": "stream",
     "text": [
      "train_lossmean = 2.9254441003003732e-5\n",
      "valid_lossmean = 0.0012343857271759136\n",
      "FE = 0.05809813996156566\n"
     ]
    },
    {
     "name": "stderr",
     "output_type": "stream",
     "text": [
      "┌ Info: Epoch 39\n",
      "└ @ Main /Users/raphaelpestourie/.julia/packages/Flux/EXOFx/src/optimise/train.jl:154\n"
     ]
    },
    {
     "name": "stdout",
     "output_type": "stream",
     "text": [
      "train_lossmean = 2.8720824467507445e-5\n",
      "valid_lossmean = 0.0012005340129864089\n",
      "FE = 0.05729596219911764\n"
     ]
    },
    {
     "name": "stderr",
     "output_type": "stream",
     "text": [
      "┌ Info: Epoch 40\n",
      "└ @ Main /Users/raphaelpestourie/.julia/packages/Flux/EXOFx/src/optimise/train.jl:154\n"
     ]
    },
    {
     "name": "stdout",
     "output_type": "stream",
     "text": [
      "train_lossmean = 2.8733970216541148e-5\n",
      "valid_lossmean = 0.0011429101625663222\n",
      "FE = 0.05590399313162784\n"
     ]
    },
    {
     "name": "stderr",
     "output_type": "stream",
     "text": [
      "┌ Info: Epoch 41\n",
      "└ @ Main /Users/raphaelpestourie/.julia/packages/Flux/EXOFx/src/optimise/train.jl:154\n"
     ]
    },
    {
     "name": "stdout",
     "output_type": "stream",
     "text": [
      "train_lossmean = 2.868263680703949e-5\n",
      "valid_lossmean = 0.001114199774553309\n",
      "FE = 0.055197361174305355\n"
     ]
    },
    {
     "name": "stderr",
     "output_type": "stream",
     "text": [
      "┌ Info: Epoch 42\n",
      "└ @ Main /Users/raphaelpestourie/.julia/packages/Flux/EXOFx/src/optimise/train.jl:154\n"
     ]
    },
    {
     "name": "stdout",
     "output_type": "stream",
     "text": [
      "train_lossmean = 2.8422009450310854e-5\n",
      "valid_lossmean = 0.001146901273289169\n",
      "FE = 0.05600151811077805\n"
     ]
    },
    {
     "name": "stderr",
     "output_type": "stream",
     "text": [
      "┌ Info: Epoch 43\n",
      "└ @ Main /Users/raphaelpestourie/.julia/packages/Flux/EXOFx/src/optimise/train.jl:154\n"
     ]
    },
    {
     "name": "stdout",
     "output_type": "stream",
     "text": [
      "train_lossmean = 2.7841911724981322e-5\n",
      "valid_lossmean = 0.0011739386421395638\n",
      "FE = 0.056657770634023316\n"
     ]
    },
    {
     "name": "stderr",
     "output_type": "stream",
     "text": [
      "┌ Info: Epoch 44\n",
      "└ @ Main /Users/raphaelpestourie/.julia/packages/Flux/EXOFx/src/optimise/train.jl:154\n"
     ]
    },
    {
     "name": "stdout",
     "output_type": "stream",
     "text": [
      "train_lossmean = 2.7798747694028636e-5\n",
      "valid_lossmean = 0.0010634372931190997\n",
      "FE = 0.0539253193720795\n"
     ]
    },
    {
     "name": "stderr",
     "output_type": "stream",
     "text": [
      "┌ Info: Epoch 45\n",
      "└ @ Main /Users/raphaelpestourie/.julia/packages/Flux/EXOFx/src/optimise/train.jl:154\n"
     ]
    },
    {
     "name": "stdout",
     "output_type": "stream",
     "text": [
      "train_lossmean = 2.7509288307185797e-5\n",
      "valid_lossmean = 0.0010536490406417266\n",
      "FE = 0.05367657181516121\n"
     ]
    },
    {
     "name": "stderr",
     "output_type": "stream",
     "text": [
      "┌ Info: Epoch 46\n",
      "└ @ Main /Users/raphaelpestourie/.julia/packages/Flux/EXOFx/src/optimise/train.jl:154\n"
     ]
    },
    {
     "name": "stdout",
     "output_type": "stream",
     "text": [
      "train_lossmean = 2.710186820782795e-5\n",
      "valid_lossmean = 0.000991100664156217\n",
      "FE = 0.05205898139897656\n"
     ]
    },
    {
     "name": "stderr",
     "output_type": "stream",
     "text": [
      "┌ Info: Epoch 47\n",
      "└ @ Main /Users/raphaelpestourie/.julia/packages/Flux/EXOFx/src/optimise/train.jl:154\n"
     ]
    },
    {
     "name": "stdout",
     "output_type": "stream",
     "text": [
      "train_lossmean = 2.6764985741191035e-5\n",
      "valid_lossmean = 0.0010077883473209265\n",
      "FE = 0.052495424139295345\n"
     ]
    },
    {
     "name": "stderr",
     "output_type": "stream",
     "text": [
      "┌ Info: Epoch 48\n",
      "└ @ Main /Users/raphaelpestourie/.julia/packages/Flux/EXOFx/src/optimise/train.jl:154\n"
     ]
    },
    {
     "name": "stdout",
     "output_type": "stream",
     "text": [
      "train_lossmean = 2.5756760581653586e-5\n",
      "valid_lossmean = 0.0010314667399972995\n",
      "FE = 0.053108544227656825\n"
     ]
    },
    {
     "name": "stderr",
     "output_type": "stream",
     "text": [
      "┌ Info: Epoch 49\n",
      "└ @ Main /Users/raphaelpestourie/.julia/packages/Flux/EXOFx/src/optimise/train.jl:154\n"
     ]
    },
    {
     "name": "stdout",
     "output_type": "stream",
     "text": [
      "train_lossmean = 2.6480695702232853e-5\n",
      "valid_lossmean = 0.001101671504803087\n",
      "FE = 0.054886159194095015\n"
     ]
    },
    {
     "name": "stderr",
     "output_type": "stream",
     "text": [
      "┌ Info: Epoch 50\n",
      "└ @ Main /Users/raphaelpestourie/.julia/packages/Flux/EXOFx/src/optimise/train.jl:154\n"
     ]
    },
    {
     "name": "stdout",
     "output_type": "stream",
     "text": [
      "train_lossmean = 2.5566462689000983e-5\n",
      "valid_lossmean = 0.0009551053021331186\n",
      "FE = 0.05110488445838691\n"
     ]
    },
    {
     "name": "stderr",
     "output_type": "stream",
     "text": [
      "┌ Info: Epoch 51\n",
      "└ @ Main /Users/raphaelpestourie/.julia/packages/Flux/EXOFx/src/optimise/train.jl:154\n"
     ]
    },
    {
     "name": "stdout",
     "output_type": "stream",
     "text": [
      "train_lossmean = 2.5387237247522e-5\n",
      "valid_lossmean = 0.0010340808923185\n",
      "FE = 0.05317580086564092\n"
     ]
    },
    {
     "name": "stderr",
     "output_type": "stream",
     "text": [
      "┌ Info: Epoch 52\n",
      "└ @ Main /Users/raphaelpestourie/.julia/packages/Flux/EXOFx/src/optimise/train.jl:154\n"
     ]
    },
    {
     "name": "stdout",
     "output_type": "stream",
     "text": [
      "train_lossmean = 2.581274723036238e-5\n",
      "valid_lossmean = 0.0010024365299352615\n",
      "FE = 0.052355851229044695\n"
     ]
    },
    {
     "name": "stderr",
     "output_type": "stream",
     "text": [
      "┌ Info: Epoch 53\n",
      "└ @ Main /Users/raphaelpestourie/.julia/packages/Flux/EXOFx/src/optimise/train.jl:154\n"
     ]
    },
    {
     "name": "stdout",
     "output_type": "stream",
     "text": [
      "train_lossmean = 2.5785700668196597e-5\n",
      "valid_lossmean = 0.0008971764869257575\n",
      "FE = 0.049530843536213814\n"
     ]
    },
    {
     "name": "stderr",
     "output_type": "stream",
     "text": [
      "┌ Info: Epoch 54\n",
      "└ @ Main /Users/raphaelpestourie/.julia/packages/Flux/EXOFx/src/optimise/train.jl:154\n"
     ]
    },
    {
     "name": "stdout",
     "output_type": "stream",
     "text": [
      "train_lossmean = 2.4795177687590802e-5\n",
      "valid_lossmean = 0.0008731460420747299\n",
      "FE = 0.04886301126609361\n"
     ]
    },
    {
     "name": "stderr",
     "output_type": "stream",
     "text": [
      "┌ Info: Epoch 55\n",
      "└ @ Main /Users/raphaelpestourie/.julia/packages/Flux/EXOFx/src/optimise/train.jl:154\n"
     ]
    },
    {
     "name": "stdout",
     "output_type": "stream",
     "text": [
      "train_lossmean = 2.450391636672074e-5\n",
      "valid_lossmean = 0.0008870842064640252\n",
      "FE = 0.04925147102050419\n"
     ]
    },
    {
     "name": "stderr",
     "output_type": "stream",
     "text": [
      "┌ Info: Epoch 56\n",
      "└ @ Main /Users/raphaelpestourie/.julia/packages/Flux/EXOFx/src/optimise/train.jl:154\n"
     ]
    },
    {
     "name": "stdout",
     "output_type": "stream",
     "text": [
      "train_lossmean = 2.4353692990234386e-5\n",
      "valid_lossmean = 0.0009294665846802913\n",
      "FE = 0.05041429208895228\n"
     ]
    },
    {
     "name": "stderr",
     "output_type": "stream",
     "text": [
      "┌ Info: Epoch 57\n",
      "└ @ Main /Users/raphaelpestourie/.julia/packages/Flux/EXOFx/src/optimise/train.jl:154\n"
     ]
    },
    {
     "name": "stdout",
     "output_type": "stream",
     "text": [
      "train_lossmean = 2.488786502407445e-5\n",
      "valid_lossmean = 0.000877738241368673\n",
      "FE = 0.048991337120240994\n"
     ]
    },
    {
     "name": "stderr",
     "output_type": "stream",
     "text": [
      "┌ Info: Epoch 58\n",
      "└ @ Main /Users/raphaelpestourie/.julia/packages/Flux/EXOFx/src/optimise/train.jl:154\n"
     ]
    },
    {
     "name": "stdout",
     "output_type": "stream",
     "text": [
      "train_lossmean = 2.472630979460784e-5\n",
      "valid_lossmean = 0.0009343089767749664\n",
      "FE = 0.05054544722337165\n"
     ]
    },
    {
     "name": "stderr",
     "output_type": "stream",
     "text": [
      "┌ Info: Epoch 59\n",
      "└ @ Main /Users/raphaelpestourie/.julia/packages/Flux/EXOFx/src/optimise/train.jl:154\n"
     ]
    },
    {
     "name": "stdout",
     "output_type": "stream",
     "text": [
      "train_lossmean = 2.3990951896963077e-5\n",
      "valid_lossmean = 0.000925427622954972\n",
      "FE = 0.05030463613751237\n"
     ]
    },
    {
     "name": "stderr",
     "output_type": "stream",
     "text": [
      "┌ Info: Epoch 60\n",
      "└ @ Main /Users/raphaelpestourie/.julia/packages/Flux/EXOFx/src/optimise/train.jl:154\n"
     ]
    },
    {
     "name": "stdout",
     "output_type": "stream",
     "text": [
      "train_lossmean = 2.374601762893214e-5\n",
      "valid_lossmean = 0.0008280313304452765\n",
      "FE = 0.04758391461589093\n"
     ]
    },
    {
     "name": "stderr",
     "output_type": "stream",
     "text": [
      "┌ Info: Epoch 61\n",
      "└ @ Main /Users/raphaelpestourie/.julia/packages/Flux/EXOFx/src/optimise/train.jl:154\n"
     ]
    },
    {
     "name": "stdout",
     "output_type": "stream",
     "text": [
      "train_lossmean = 2.368149706850603e-5\n",
      "valid_lossmean = 0.0007960219755427962\n",
      "FE = 0.046655120065959295\n"
     ]
    },
    {
     "name": "stderr",
     "output_type": "stream",
     "text": [
      "┌ Info: Epoch 62\n",
      "└ @ Main /Users/raphaelpestourie/.julia/packages/Flux/EXOFx/src/optimise/train.jl:154\n"
     ]
    },
    {
     "name": "stdout",
     "output_type": "stream",
     "text": [
      "train_lossmean = 2.3937222196987197e-5\n",
      "valid_lossmean = 0.0007841469530424992\n",
      "FE = 0.04630581286949364\n"
     ]
    },
    {
     "name": "stderr",
     "output_type": "stream",
     "text": [
      "┌ Info: Epoch 63\n",
      "└ @ Main /Users/raphaelpestourie/.julia/packages/Flux/EXOFx/src/optimise/train.jl:154\n"
     ]
    },
    {
     "name": "stdout",
     "output_type": "stream",
     "text": [
      "train_lossmean = 2.3048755664568446e-5\n",
      "valid_lossmean = 0.0007875771351173932\n",
      "FE = 0.04640698270922234\n"
     ]
    },
    {
     "name": "stderr",
     "output_type": "stream",
     "text": [
      "┌ Info: Epoch 64\n",
      "└ @ Main /Users/raphaelpestourie/.julia/packages/Flux/EXOFx/src/optimise/train.jl:154\n"
     ]
    },
    {
     "name": "stdout",
     "output_type": "stream",
     "text": [
      "train_lossmean = 2.271242990793561e-5\n",
      "valid_lossmean = 0.0007851175238299896\n",
      "FE = 0.04633446130759478\n"
     ]
    },
    {
     "name": "stderr",
     "output_type": "stream",
     "text": [
      "┌ Info: Epoch 65\n",
      "└ @ Main /Users/raphaelpestourie/.julia/packages/Flux/EXOFx/src/optimise/train.jl:154\n"
     ]
    },
    {
     "name": "stdout",
     "output_type": "stream",
     "text": [
      "train_lossmean = 2.210078689890273e-5\n",
      "valid_lossmean = 0.0007616493580542362\n",
      "FE = 0.04563670945559205\n"
     ]
    },
    {
     "name": "stderr",
     "output_type": "stream",
     "text": [
      "┌ Info: Epoch 66\n",
      "└ @ Main /Users/raphaelpestourie/.julia/packages/Flux/EXOFx/src/optimise/train.jl:154\n"
     ]
    },
    {
     "name": "stdout",
     "output_type": "stream",
     "text": [
      "train_lossmean = 2.2480280355667977e-5\n",
      "valid_lossmean = 0.0007377716626116856\n",
      "FE = 0.044915658155899776\n"
     ]
    },
    {
     "name": "stderr",
     "output_type": "stream",
     "text": [
      "┌ Info: Epoch 67\n",
      "└ @ Main /Users/raphaelpestourie/.julia/packages/Flux/EXOFx/src/optimise/train.jl:154\n"
     ]
    },
    {
     "name": "stdout",
     "output_type": "stream",
     "text": [
      "train_lossmean = 2.244637816862731e-5\n",
      "valid_lossmean = 0.0007865399025131087\n",
      "FE = 0.0463764138340445\n"
     ]
    },
    {
     "name": "stderr",
     "output_type": "stream",
     "text": [
      "┌ Info: Epoch 68\n",
      "└ @ Main /Users/raphaelpestourie/.julia/packages/Flux/EXOFx/src/optimise/train.jl:154\n"
     ]
    },
    {
     "name": "stdout",
     "output_type": "stream",
     "text": [
      "train_lossmean = 2.1893421771047916e-5\n",
      "valid_lossmean = 0.0007351866566206906\n",
      "FE = 0.04483690131683653\n"
     ]
    },
    {
     "name": "stderr",
     "output_type": "stream",
     "text": [
      "┌ Info: Epoch 69\n",
      "└ @ Main /Users/raphaelpestourie/.julia/packages/Flux/EXOFx/src/optimise/train.jl:154\n"
     ]
    },
    {
     "name": "stdout",
     "output_type": "stream",
     "text": [
      "train_lossmean = 2.1639693635774595e-5\n",
      "valid_lossmean = 0.0008223674382735913\n",
      "FE = 0.047420893840109175\n"
     ]
    },
    {
     "name": "stderr",
     "output_type": "stream",
     "text": [
      "┌ Info: Epoch 70\n",
      "└ @ Main /Users/raphaelpestourie/.julia/packages/Flux/EXOFx/src/optimise/train.jl:154\n"
     ]
    },
    {
     "name": "stdout",
     "output_type": "stream",
     "text": [
      "train_lossmean = 2.2381241604689974e-5\n",
      "valid_lossmean = 0.0007198243809092704\n",
      "FE = 0.04436597794151771\n"
     ]
    },
    {
     "name": "stderr",
     "output_type": "stream",
     "text": [
      "┌ Info: Epoch 71\n",
      "└ @ Main /Users/raphaelpestourie/.julia/packages/Flux/EXOFx/src/optimise/train.jl:154\n"
     ]
    },
    {
     "name": "stdout",
     "output_type": "stream",
     "text": [
      "train_lossmean = 2.143085429161091e-5\n",
      "valid_lossmean = 0.0006844035163794896\n",
      "FE = 0.04326063588910244\n"
     ]
    },
    {
     "name": "stderr",
     "output_type": "stream",
     "text": [
      "┌ Info: Epoch 72\n",
      "└ @ Main /Users/raphaelpestourie/.julia/packages/Flux/EXOFx/src/optimise/train.jl:154\n"
     ]
    },
    {
     "name": "stdout",
     "output_type": "stream",
     "text": [
      "train_lossmean = 2.152081948761589e-5\n",
      "valid_lossmean = 0.0007742179020768632\n",
      "FE = 0.046011711426038084\n"
     ]
    },
    {
     "name": "stderr",
     "output_type": "stream",
     "text": [
      "┌ Info: Epoch 73\n",
      "└ @ Main /Users/raphaelpestourie/.julia/packages/Flux/EXOFx/src/optimise/train.jl:154\n"
     ]
    },
    {
     "name": "stdout",
     "output_type": "stream",
     "text": [
      "train_lossmean = 2.2372380591971423e-5\n",
      "valid_lossmean = 0.0007108499775222683\n",
      "FE = 0.044088544307323695\n"
     ]
    },
    {
     "name": "stderr",
     "output_type": "stream",
     "text": [
      "┌ Info: Epoch 74\n",
      "└ @ Main /Users/raphaelpestourie/.julia/packages/Flux/EXOFx/src/optimise/train.jl:154\n"
     ]
    },
    {
     "name": "stdout",
     "output_type": "stream",
     "text": [
      "train_lossmean = 2.1417186465289906e-5\n",
      "valid_lossmean = 0.0006190868988211891\n",
      "FE = 0.041144575837162675\n"
     ]
    },
    {
     "name": "stderr",
     "output_type": "stream",
     "text": [
      "┌ Info: Epoch 75\n",
      "└ @ Main /Users/raphaelpestourie/.julia/packages/Flux/EXOFx/src/optimise/train.jl:154\n"
     ]
    },
    {
     "name": "stdout",
     "output_type": "stream",
     "text": [
      "train_lossmean = 2.1367692402750346e-5\n",
      "valid_lossmean = 0.0006603138490425556\n",
      "FE = 0.0424924709077962\n"
     ]
    },
    {
     "name": "stderr",
     "output_type": "stream",
     "text": [
      "┌ Info: Epoch 76\n",
      "└ @ Main /Users/raphaelpestourie/.julia/packages/Flux/EXOFx/src/optimise/train.jl:154\n"
     ]
    },
    {
     "name": "stdout",
     "output_type": "stream",
     "text": [
      "train_lossmean = 2.072958870838657e-5\n",
      "valid_lossmean = 0.0005877697548621811\n",
      "FE = 0.040090400981147405\n"
     ]
    },
    {
     "name": "stderr",
     "output_type": "stream",
     "text": [
      "┌ Info: Epoch 77\n",
      "└ @ Main /Users/raphaelpestourie/.julia/packages/Flux/EXOFx/src/optimise/train.jl:154\n"
     ]
    },
    {
     "name": "stdout",
     "output_type": "stream",
     "text": [
      "train_lossmean = 2.0371565140808474e-5\n",
      "valid_lossmean = 0.0005842129336410902\n",
      "FE = 0.039968915683224575\n"
     ]
    },
    {
     "name": "stderr",
     "output_type": "stream",
     "text": [
      "┌ Info: Epoch 78\n",
      "└ @ Main /Users/raphaelpestourie/.julia/packages/Flux/EXOFx/src/optimise/train.jl:154\n"
     ]
    },
    {
     "name": "stdout",
     "output_type": "stream",
     "text": [
      "train_lossmean = 2.140803440324448e-5\n",
      "valid_lossmean = 0.0005707237730890685\n",
      "FE = 0.03950479061911488\n"
     ]
    },
    {
     "name": "stderr",
     "output_type": "stream",
     "text": [
      "┌ Info: Epoch 79\n",
      "└ @ Main /Users/raphaelpestourie/.julia/packages/Flux/EXOFx/src/optimise/train.jl:154\n"
     ]
    },
    {
     "name": "stdout",
     "output_type": "stream",
     "text": [
      "train_lossmean = 2.0702121670011095e-5\n",
      "valid_lossmean = 0.0006372447732736204\n",
      "FE = 0.04174360226167794\n"
     ]
    },
    {
     "name": "stderr",
     "output_type": "stream",
     "text": [
      "┌ Info: Epoch 80\n",
      "└ @ Main /Users/raphaelpestourie/.julia/packages/Flux/EXOFx/src/optimise/train.jl:154\n"
     ]
    },
    {
     "name": "stdout",
     "output_type": "stream",
     "text": [
      "train_lossmean = 2.005151328428769e-5\n",
      "valid_lossmean = 0.00060012828416024\n",
      "FE = 0.04050968167922393\n"
     ]
    },
    {
     "name": "stderr",
     "output_type": "stream",
     "text": [
      "┌ Info: Epoch 81\n",
      "└ @ Main /Users/raphaelpestourie/.julia/packages/Flux/EXOFx/src/optimise/train.jl:154\n"
     ]
    },
    {
     "name": "stdout",
     "output_type": "stream",
     "text": [
      "train_lossmean = 2.037491463362862e-5\n",
      "valid_lossmean = 0.0006169104753182934\n",
      "FE = 0.04107218950250393\n"
     ]
    },
    {
     "name": "stderr",
     "output_type": "stream",
     "text": [
      "┌ Info: Epoch 82\n",
      "└ @ Main /Users/raphaelpestourie/.julia/packages/Flux/EXOFx/src/optimise/train.jl:154\n"
     ]
    },
    {
     "name": "stdout",
     "output_type": "stream",
     "text": [
      "train_lossmean = 2.019903755085781e-5\n",
      "valid_lossmean = 0.0005663976077348179\n",
      "FE = 0.039354779906925215\n"
     ]
    },
    {
     "name": "stderr",
     "output_type": "stream",
     "text": [
      "┌ Info: Epoch 83\n",
      "└ @ Main /Users/raphaelpestourie/.julia/packages/Flux/EXOFx/src/optimise/train.jl:154\n"
     ]
    },
    {
     "name": "stdout",
     "output_type": "stream",
     "text": [
      "train_lossmean = 2.0240498197973895e-5\n",
      "valid_lossmean = 0.0005648520200758713\n",
      "FE = 0.03930104749902552\n"
     ]
    },
    {
     "name": "stderr",
     "output_type": "stream",
     "text": [
      "┌ Info: Epoch 84\n",
      "└ @ Main /Users/raphaelpestourie/.julia/packages/Flux/EXOFx/src/optimise/train.jl:154\n"
     ]
    },
    {
     "name": "stdout",
     "output_type": "stream",
     "text": [
      "train_lossmean = 1.9920198681931132e-5\n",
      "valid_lossmean = 0.0005681777261631977\n",
      "FE = 0.03941657502208582\n"
     ]
    },
    {
     "name": "stderr",
     "output_type": "stream",
     "text": [
      "┌ Info: Epoch 85\n",
      "└ @ Main /Users/raphaelpestourie/.julia/packages/Flux/EXOFx/src/optimise/train.jl:154\n"
     ]
    },
    {
     "name": "stdout",
     "output_type": "stream",
     "text": [
      "train_lossmean = 2.0573536755555148e-5\n",
      "valid_lossmean = 0.0006412362535280684\n",
      "FE = 0.041874131906296116\n"
     ]
    },
    {
     "name": "stderr",
     "output_type": "stream",
     "text": [
      "┌ Info: Epoch 86\n",
      "└ @ Main /Users/raphaelpestourie/.julia/packages/Flux/EXOFx/src/optimise/train.jl:154\n"
     ]
    },
    {
     "name": "stdout",
     "output_type": "stream",
     "text": [
      "train_lossmean = 1.9553394382238164e-5\n",
      "valid_lossmean = 0.0005873292374379192\n",
      "FE = 0.04007537483333013\n"
     ]
    },
    {
     "name": "stderr",
     "output_type": "stream",
     "text": [
      "┌ Info: Epoch 87\n",
      "└ @ Main /Users/raphaelpestourie/.julia/packages/Flux/EXOFx/src/optimise/train.jl:154\n"
     ]
    },
    {
     "name": "stdout",
     "output_type": "stream",
     "text": [
      "train_lossmean = 1.9675209683188822e-5\n",
      "valid_lossmean = 0.0006235919571508772\n",
      "FE = 0.041294007786668335\n"
     ]
    },
    {
     "name": "stderr",
     "output_type": "stream",
     "text": [
      "┌ Info: Epoch 88\n",
      "└ @ Main /Users/raphaelpestourie/.julia/packages/Flux/EXOFx/src/optimise/train.jl:154\n"
     ]
    },
    {
     "name": "stdout",
     "output_type": "stream",
     "text": [
      "train_lossmean = 1.9582218169116026e-5\n",
      "valid_lossmean = 0.000564689801506147\n",
      "FE = 0.039295403704470155\n"
     ]
    },
    {
     "name": "stderr",
     "output_type": "stream",
     "text": [
      "┌ Info: Epoch 89\n",
      "└ @ Main /Users/raphaelpestourie/.julia/packages/Flux/EXOFx/src/optimise/train.jl:154\n"
     ]
    },
    {
     "name": "stdout",
     "output_type": "stream",
     "text": [
      "train_lossmean = 1.8825073497430635e-5\n",
      "valid_lossmean = 0.0005556453415524587\n",
      "FE = 0.03897944233787196\n"
     ]
    },
    {
     "name": "stderr",
     "output_type": "stream",
     "text": [
      "┌ Info: Epoch 90\n",
      "└ @ Main /Users/raphaelpestourie/.julia/packages/Flux/EXOFx/src/optimise/train.jl:154\n"
     ]
    },
    {
     "name": "stdout",
     "output_type": "stream",
     "text": [
      "train_lossmean = 1.9535171756379673e-5\n",
      "valid_lossmean = 0.0005486414625832391\n",
      "FE = 0.038732996402299796\n"
     ]
    },
    {
     "name": "stderr",
     "output_type": "stream",
     "text": [
      "┌ Info: Epoch 91\n",
      "└ @ Main /Users/raphaelpestourie/.julia/packages/Flux/EXOFx/src/optimise/train.jl:154\n"
     ]
    },
    {
     "name": "stdout",
     "output_type": "stream",
     "text": [
      "train_lossmean = 1.8949230830067416e-5\n",
      "valid_lossmean = 0.0005298521358893772\n",
      "FE = 0.03806397394556802\n"
     ]
    },
    {
     "name": "stderr",
     "output_type": "stream",
     "text": [
      "┌ Info: Epoch 92\n",
      "└ @ Main /Users/raphaelpestourie/.julia/packages/Flux/EXOFx/src/optimise/train.jl:154\n"
     ]
    },
    {
     "name": "stdout",
     "output_type": "stream",
     "text": [
      "train_lossmean = 1.9020415024632663e-5\n",
      "valid_lossmean = 0.0005150100941965596\n",
      "FE = 0.03752706965878579\n"
     ]
    },
    {
     "name": "stderr",
     "output_type": "stream",
     "text": [
      "┌ Info: Epoch 93\n",
      "└ @ Main /Users/raphaelpestourie/.julia/packages/Flux/EXOFx/src/optimise/train.jl:154\n"
     ]
    },
    {
     "name": "stdout",
     "output_type": "stream",
     "text": [
      "train_lossmean = 1.8365887495454593e-5\n",
      "valid_lossmean = 0.000610969229471847\n",
      "FE = 0.040873935178134424\n"
     ]
    },
    {
     "name": "stderr",
     "output_type": "stream",
     "text": [
      "┌ Info: Epoch 94\n",
      "└ @ Main /Users/raphaelpestourie/.julia/packages/Flux/EXOFx/src/optimise/train.jl:154\n"
     ]
    },
    {
     "name": "stdout",
     "output_type": "stream",
     "text": [
      "train_lossmean = 1.910332858358912e-5\n",
      "valid_lossmean = 0.0005532017891044467\n",
      "FE = 0.03889363827051491\n"
     ]
    },
    {
     "name": "stderr",
     "output_type": "stream",
     "text": [
      "┌ Info: Epoch 95\n",
      "└ @ Main /Users/raphaelpestourie/.julia/packages/Flux/EXOFx/src/optimise/train.jl:154\n"
     ]
    },
    {
     "name": "stdout",
     "output_type": "stream",
     "text": [
      "train_lossmean = 1.809532079873041e-5\n",
      "valid_lossmean = 0.0005340090034487436\n",
      "FE = 0.03821299455285245\n"
     ]
    },
    {
     "name": "stderr",
     "output_type": "stream",
     "text": [
      "┌ Info: Epoch 96\n",
      "└ @ Main /Users/raphaelpestourie/.julia/packages/Flux/EXOFx/src/optimise/train.jl:154\n"
     ]
    },
    {
     "name": "stdout",
     "output_type": "stream",
     "text": [
      "train_lossmean = 1.8538687988279124e-5\n",
      "valid_lossmean = 0.0004691752143195514\n",
      "FE = 0.03581824586805955\n"
     ]
    },
    {
     "name": "stderr",
     "output_type": "stream",
     "text": [
      "┌ Info: Epoch 97\n",
      "└ @ Main /Users/raphaelpestourie/.julia/packages/Flux/EXOFx/src/optimise/train.jl:154\n"
     ]
    },
    {
     "name": "stdout",
     "output_type": "stream",
     "text": [
      "train_lossmean = 1.852064270778931e-5\n",
      "valid_lossmean = 0.0005215326860235897\n",
      "FE = 0.037763961727752066\n"
     ]
    },
    {
     "name": "stderr",
     "output_type": "stream",
     "text": [
      "┌ Info: Epoch 98\n",
      "└ @ Main /Users/raphaelpestourie/.julia/packages/Flux/EXOFx/src/optimise/train.jl:154\n"
     ]
    },
    {
     "name": "stdout",
     "output_type": "stream",
     "text": [
      "train_lossmean = 1.8432547251288775e-5\n",
      "valid_lossmean = 0.0005109407315009817\n",
      "FE = 0.037378515174555954\n"
     ]
    },
    {
     "name": "stderr",
     "output_type": "stream",
     "text": [
      "┌ Info: Epoch 99\n",
      "└ @ Main /Users/raphaelpestourie/.julia/packages/Flux/EXOFx/src/optimise/train.jl:154\n"
     ]
    },
    {
     "name": "stdout",
     "output_type": "stream",
     "text": [
      "train_lossmean = 1.8055990116384828e-5\n",
      "valid_lossmean = 0.0005290119580449496\n",
      "FE = 0.03803378326290778\n"
     ]
    },
    {
     "name": "stderr",
     "output_type": "stream",
     "text": [
      "┌ Info: Epoch 100\n",
      "└ @ Main /Users/raphaelpestourie/.julia/packages/Flux/EXOFx/src/optimise/train.jl:154\n"
     ]
    },
    {
     "name": "stdout",
     "output_type": "stream",
     "text": [
      "train_lossmean = 1.7924230317559376e-5\n",
      "valid_lossmean = 0.0005051748440647277\n",
      "FE = 0.037167011392194034\n"
     ]
    },
    {
     "name": "stderr",
     "output_type": "stream",
     "text": [
      "┌ Info: Epoch 101\n",
      "└ @ Main /Users/raphaelpestourie/.julia/packages/Flux/EXOFx/src/optimise/train.jl:154\n"
     ]
    },
    {
     "name": "stdout",
     "output_type": "stream",
     "text": [
      "train_lossmean = 1.8567907112909554e-5\n",
      "valid_lossmean = 0.00048375454949875295\n",
      "FE = 0.036370503552636824\n"
     ]
    },
    {
     "name": "stderr",
     "output_type": "stream",
     "text": [
      "┌ Info: Epoch 102\n",
      "└ @ Main /Users/raphaelpestourie/.julia/packages/Flux/EXOFx/src/optimise/train.jl:154\n"
     ]
    },
    {
     "name": "stdout",
     "output_type": "stream",
     "text": [
      "train_lossmean = 1.9091984490318532e-5\n",
      "valid_lossmean = 0.0004788500934608188\n",
      "FE = 0.0361856660619055\n"
     ]
    },
    {
     "name": "stderr",
     "output_type": "stream",
     "text": [
      "┌ Info: Epoch 103\n",
      "└ @ Main /Users/raphaelpestourie/.julia/packages/Flux/EXOFx/src/optimise/train.jl:154\n"
     ]
    },
    {
     "name": "stdout",
     "output_type": "stream",
     "text": [
      "train_lossmean = 1.792861083780927e-5\n",
      "valid_lossmean = 0.000485695516155666\n",
      "FE = 0.036443395131142586\n"
     ]
    },
    {
     "name": "stderr",
     "output_type": "stream",
     "text": [
      "┌ Info: Epoch 104\n",
      "└ @ Main /Users/raphaelpestourie/.julia/packages/Flux/EXOFx/src/optimise/train.jl:154\n"
     ]
    },
    {
     "name": "stdout",
     "output_type": "stream",
     "text": [
      "train_lossmean = 1.792312842212694e-5\n",
      "valid_lossmean = 0.0005341401480370912\n",
      "FE = 0.03821768653347708\n"
     ]
    },
    {
     "name": "stderr",
     "output_type": "stream",
     "text": [
      "┌ Info: Epoch 105\n",
      "└ @ Main /Users/raphaelpestourie/.julia/packages/Flux/EXOFx/src/optimise/train.jl:154\n"
     ]
    },
    {
     "name": "stdout",
     "output_type": "stream",
     "text": [
      "train_lossmean = 1.7733314864530036e-5\n",
      "valid_lossmean = 0.00047685777943153284\n",
      "FE = 0.036110310166932766\n"
     ]
    },
    {
     "name": "stderr",
     "output_type": "stream",
     "text": [
      "┌ Info: Epoch 106\n",
      "└ @ Main /Users/raphaelpestourie/.julia/packages/Flux/EXOFx/src/optimise/train.jl:154\n"
     ]
    },
    {
     "name": "stdout",
     "output_type": "stream",
     "text": [
      "train_lossmean = 1.9002316386940025e-5\n",
      "valid_lossmean = 0.00048018277402919616\n",
      "FE = 0.03623598497011233\n"
     ]
    },
    {
     "name": "stderr",
     "output_type": "stream",
     "text": [
      "┌ Info: Epoch 107\n",
      "└ @ Main /Users/raphaelpestourie/.julia/packages/Flux/EXOFx/src/optimise/train.jl:154\n"
     ]
    },
    {
     "name": "stdout",
     "output_type": "stream",
     "text": [
      "train_lossmean = 1.8578496767015965e-5\n",
      "valid_lossmean = 0.0005071264492611004\n",
      "FE = 0.037238734492912776\n"
     ]
    },
    {
     "name": "stderr",
     "output_type": "stream",
     "text": [
      "┌ Info: Epoch 108\n",
      "└ @ Main /Users/raphaelpestourie/.julia/packages/Flux/EXOFx/src/optimise/train.jl:154\n"
     ]
    },
    {
     "name": "stdout",
     "output_type": "stream",
     "text": [
      "train_lossmean = 1.8109771767404584e-5\n",
      "valid_lossmean = 0.0004733098696912278\n",
      "FE = 0.03597572568573235\n"
     ]
    },
    {
     "name": "stderr",
     "output_type": "stream",
     "text": [
      "┌ Info: Epoch 109\n",
      "└ @ Main /Users/raphaelpestourie/.julia/packages/Flux/EXOFx/src/optimise/train.jl:154\n"
     ]
    },
    {
     "name": "stdout",
     "output_type": "stream",
     "text": [
      "train_lossmean = 1.8303735689095575e-5\n",
      "valid_lossmean = 0.00044974250262859824\n",
      "FE = 0.0350686258739905\n"
     ]
    },
    {
     "name": "stderr",
     "output_type": "stream",
     "text": [
      "┌ Info: Epoch 110\n",
      "└ @ Main /Users/raphaelpestourie/.julia/packages/Flux/EXOFx/src/optimise/train.jl:154\n"
     ]
    },
    {
     "name": "stdout",
     "output_type": "stream",
     "text": [
      "train_lossmean = 1.8118316623390387e-5\n",
      "valid_lossmean = 0.000467500920002455\n",
      "FE = 0.03575427841869111\n"
     ]
    },
    {
     "name": "stderr",
     "output_type": "stream",
     "text": [
      "┌ Info: Epoch 111\n",
      "└ @ Main /Users/raphaelpestourie/.julia/packages/Flux/EXOFx/src/optimise/train.jl:154\n"
     ]
    },
    {
     "name": "stdout",
     "output_type": "stream",
     "text": [
      "train_lossmean = 1.7530799089601665e-5\n",
      "valid_lossmean = 0.00043908254246647916\n",
      "FE = 0.03465052889085419\n"
     ]
    },
    {
     "name": "stderr",
     "output_type": "stream",
     "text": [
      "┌ Info: Epoch 112\n",
      "└ @ Main /Users/raphaelpestourie/.julia/packages/Flux/EXOFx/src/optimise/train.jl:154\n"
     ]
    },
    {
     "name": "stdout",
     "output_type": "stream",
     "text": [
      "train_lossmean = 1.7601306670244943e-5\n",
      "valid_lossmean = 0.0004876731692839494\n",
      "FE = 0.03651751479557622\n"
     ]
    },
    {
     "name": "stderr",
     "output_type": "stream",
     "text": [
      "┌ Info: Epoch 113\n",
      "└ @ Main /Users/raphaelpestourie/.julia/packages/Flux/EXOFx/src/optimise/train.jl:154\n"
     ]
    },
    {
     "name": "stdout",
     "output_type": "stream",
     "text": [
      "train_lossmean = 1.6912928733437974e-5\n",
      "valid_lossmean = 0.00044337823473110876\n",
      "FE = 0.034819615232321514\n"
     ]
    },
    {
     "name": "stderr",
     "output_type": "stream",
     "text": [
      "┌ Info: Epoch 114\n",
      "└ @ Main /Users/raphaelpestourie/.julia/packages/Flux/EXOFx/src/optimise/train.jl:154\n"
     ]
    },
    {
     "name": "stdout",
     "output_type": "stream",
     "text": [
      "train_lossmean = 1.75138507792777e-5\n",
      "valid_lossmean = 0.0004374561625741692\n",
      "FE = 0.03458629585935714\n"
     ]
    },
    {
     "name": "stderr",
     "output_type": "stream",
     "text": [
      "┌ Info: Epoch 115\n",
      "└ @ Main /Users/raphaelpestourie/.julia/packages/Flux/EXOFx/src/optimise/train.jl:154\n"
     ]
    },
    {
     "name": "stdout",
     "output_type": "stream",
     "text": [
      "train_lossmean = 1.7146672378438152e-5\n",
      "valid_lossmean = 0.0004745147046699114\n",
      "FE = 0.0360214856269415\n"
     ]
    },
    {
     "name": "stderr",
     "output_type": "stream",
     "text": [
      "┌ Info: Epoch 116\n",
      "└ @ Main /Users/raphaelpestourie/.julia/packages/Flux/EXOFx/src/optimise/train.jl:154\n"
     ]
    },
    {
     "name": "stdout",
     "output_type": "stream",
     "text": [
      "train_lossmean = 1.7520814368402237e-5\n",
      "valid_lossmean = 0.0004591322102469023\n",
      "FE = 0.03543281555665518\n"
     ]
    },
    {
     "name": "stderr",
     "output_type": "stream",
     "text": [
      "┌ Info: Epoch 117\n",
      "└ @ Main /Users/raphaelpestourie/.julia/packages/Flux/EXOFx/src/optimise/train.jl:154\n"
     ]
    },
    {
     "name": "stdout",
     "output_type": "stream",
     "text": [
      "train_lossmean = 1.7144858792915732e-5\n",
      "valid_lossmean = 0.0004778284295192639\n",
      "FE = 0.03614704298219778\n"
     ]
    },
    {
     "name": "stderr",
     "output_type": "stream",
     "text": [
      "┌ Info: Epoch 118\n",
      "└ @ Main /Users/raphaelpestourie/.julia/packages/Flux/EXOFx/src/optimise/train.jl:154\n"
     ]
    },
    {
     "name": "stdout",
     "output_type": "stream",
     "text": [
      "train_lossmean = 1.7396841694815422e-5\n",
      "valid_lossmean = 0.00043259626709534865\n",
      "FE = 0.03439364200789646\n"
     ]
    },
    {
     "name": "stderr",
     "output_type": "stream",
     "text": [
      "┌ Info: Epoch 119\n",
      "└ @ Main /Users/raphaelpestourie/.julia/packages/Flux/EXOFx/src/optimise/train.jl:154\n"
     ]
    },
    {
     "name": "stdout",
     "output_type": "stream",
     "text": [
      "train_lossmean = 1.7590519921461945e-5\n",
      "valid_lossmean = 0.0004506001725969689\n",
      "FE = 0.035102048311479374\n"
     ]
    },
    {
     "name": "stderr",
     "output_type": "stream",
     "text": [
      "┌ Info: Epoch 120\n",
      "└ @ Main /Users/raphaelpestourie/.julia/packages/Flux/EXOFx/src/optimise/train.jl:154\n"
     ]
    },
    {
     "name": "stdout",
     "output_type": "stream",
     "text": [
      "train_lossmean = 1.8008154921232077e-5\n",
      "valid_lossmean = 0.0005328935622129075\n",
      "FE = 0.03817306392305895\n"
     ]
    },
    {
     "name": "stderr",
     "output_type": "stream",
     "text": [
      "┌ Info: Epoch 121\n",
      "└ @ Main /Users/raphaelpestourie/.julia/packages/Flux/EXOFx/src/optimise/train.jl:154\n"
     ]
    },
    {
     "name": "stdout",
     "output_type": "stream",
     "text": [
      "train_lossmean = 1.6982737910401478e-5\n",
      "valid_lossmean = 0.0004797698095837868\n",
      "FE = 0.03622039987107855\n"
     ]
    },
    {
     "name": "stderr",
     "output_type": "stream",
     "text": [
      "┌ Info: Epoch 122\n",
      "└ @ Main /Users/raphaelpestourie/.julia/packages/Flux/EXOFx/src/optimise/train.jl:154\n"
     ]
    },
    {
     "name": "stdout",
     "output_type": "stream",
     "text": [
      "train_lossmean = 1.7370262640052113e-5\n",
      "valid_lossmean = 0.0005022182643341931\n",
      "FE = 0.03705809020660056\n"
     ]
    },
    {
     "name": "stderr",
     "output_type": "stream",
     "text": [
      "┌ Info: Epoch 123\n",
      "└ @ Main /Users/raphaelpestourie/.julia/packages/Flux/EXOFx/src/optimise/train.jl:154\n"
     ]
    },
    {
     "name": "stdout",
     "output_type": "stream",
     "text": [
      "train_lossmean = 1.717696671590013e-5\n",
      "valid_lossmean = 0.0005123372827409742\n",
      "FE = 0.03742956355158605\n"
     ]
    },
    {
     "name": "stderr",
     "output_type": "stream",
     "text": [
      "┌ Info: Epoch 124\n",
      "└ @ Main /Users/raphaelpestourie/.julia/packages/Flux/EXOFx/src/optimise/train.jl:154\n"
     ]
    },
    {
     "name": "stdout",
     "output_type": "stream",
     "text": [
      "train_lossmean = 1.7217086783156312e-5\n",
      "valid_lossmean = 0.0005903592149868149\n",
      "FE = 0.04017861444123216\n"
     ]
    },
    {
     "name": "stderr",
     "output_type": "stream",
     "text": [
      "┌ Info: Epoch 125\n",
      "└ @ Main /Users/raphaelpestourie/.julia/packages/Flux/EXOFx/src/optimise/train.jl:154\n"
     ]
    },
    {
     "name": "stdout",
     "output_type": "stream",
     "text": [
      "train_lossmean = 1.7002404412798226e-5\n",
      "valid_lossmean = 0.0004569059841014344\n",
      "FE = 0.035346808399391395\n"
     ]
    },
    {
     "name": "stderr",
     "output_type": "stream",
     "text": [
      "┌ Info: Epoch 126\n",
      "└ @ Main /Users/raphaelpestourie/.julia/packages/Flux/EXOFx/src/optimise/train.jl:154\n"
     ]
    },
    {
     "name": "stdout",
     "output_type": "stream",
     "text": [
      "train_lossmean = 1.6836813542472107e-5\n",
      "valid_lossmean = 0.00044979288464699825\n",
      "FE = 0.03507059008536104\n"
     ]
    },
    {
     "name": "stderr",
     "output_type": "stream",
     "text": [
      "┌ Info: Epoch 127\n",
      "└ @ Main /Users/raphaelpestourie/.julia/packages/Flux/EXOFx/src/optimise/train.jl:154\n"
     ]
    },
    {
     "name": "stdout",
     "output_type": "stream",
     "text": [
      "train_lossmean = 1.7604566060312918e-5\n",
      "valid_lossmean = 0.0004469587949046751\n",
      "FE = 0.03495992775131135\n"
     ]
    },
    {
     "name": "stderr",
     "output_type": "stream",
     "text": [
      "┌ Info: Epoch 128\n",
      "└ @ Main /Users/raphaelpestourie/.julia/packages/Flux/EXOFx/src/optimise/train.jl:154\n"
     ]
    },
    {
     "name": "stdout",
     "output_type": "stream",
     "text": [
      "train_lossmean = 1.6721362752266337e-5\n",
      "valid_lossmean = 0.00045122164809482967\n",
      "FE = 0.03512624664464907\n"
     ]
    },
    {
     "name": "stderr",
     "output_type": "stream",
     "text": [
      "┌ Info: Epoch 129\n",
      "└ @ Main /Users/raphaelpestourie/.julia/packages/Flux/EXOFx/src/optimise/train.jl:154\n"
     ]
    },
    {
     "name": "stdout",
     "output_type": "stream",
     "text": [
      "train_lossmean = 1.6631372114743072e-5\n",
      "valid_lossmean = 0.0004495104339436294\n",
      "FE = 0.035059576940472764\n"
     ]
    },
    {
     "name": "stderr",
     "output_type": "stream",
     "text": [
      "┌ Info: Epoch 130\n",
      "└ @ Main /Users/raphaelpestourie/.julia/packages/Flux/EXOFx/src/optimise/train.jl:154\n"
     ]
    },
    {
     "name": "stdout",
     "output_type": "stream",
     "text": [
      "train_lossmean = 1.7020192839040952e-5\n",
      "valid_lossmean = 0.00048718020921855923\n",
      "FE = 0.03649905342726153\n"
     ]
    },
    {
     "name": "stderr",
     "output_type": "stream",
     "text": [
      "┌ Info: Epoch 131\n",
      "└ @ Main /Users/raphaelpestourie/.julia/packages/Flux/EXOFx/src/optimise/train.jl:154\n"
     ]
    },
    {
     "name": "stdout",
     "output_type": "stream",
     "text": [
      "train_lossmean = 1.705117095151112e-5\n",
      "valid_lossmean = 0.000489911134103387\n",
      "FE = 0.036601209545250535\n"
     ]
    },
    {
     "name": "stderr",
     "output_type": "stream",
     "text": [
      "┌ Info: Epoch 132\n",
      "└ @ Main /Users/raphaelpestourie/.julia/packages/Flux/EXOFx/src/optimise/train.jl:154\n"
     ]
    },
    {
     "name": "stdout",
     "output_type": "stream",
     "text": [
      "train_lossmean = 1.67088663048169e-5\n",
      "valid_lossmean = 0.0004222841898573105\n",
      "FE = 0.03398123774370496\n"
     ]
    },
    {
     "name": "stderr",
     "output_type": "stream",
     "text": [
      "┌ Info: Epoch 133\n",
      "└ @ Main /Users/raphaelpestourie/.julia/packages/Flux/EXOFx/src/optimise/train.jl:154\n"
     ]
    },
    {
     "name": "stdout",
     "output_type": "stream",
     "text": [
      "train_lossmean = 1.6637262963167283e-5\n",
      "valid_lossmean = 0.0004240167562873919\n",
      "FE = 0.03405087625759612\n"
     ]
    },
    {
     "name": "stderr",
     "output_type": "stream",
     "text": [
      "┌ Info: Epoch 134\n",
      "└ @ Main /Users/raphaelpestourie/.julia/packages/Flux/EXOFx/src/optimise/train.jl:154\n"
     ]
    },
    {
     "name": "stdout",
     "output_type": "stream",
     "text": [
      "train_lossmean = 1.6307638977768458e-5\n",
      "valid_lossmean = 0.00044595402819546943\n",
      "FE = 0.03492061055319306\n"
     ]
    },
    {
     "name": "stderr",
     "output_type": "stream",
     "text": [
      "┌ Info: Epoch 135\n",
      "└ @ Main /Users/raphaelpestourie/.julia/packages/Flux/EXOFx/src/optimise/train.jl:154\n"
     ]
    },
    {
     "name": "stdout",
     "output_type": "stream",
     "text": [
      "train_lossmean = 1.595366010372418e-5\n",
      "valid_lossmean = 0.00043753892600806885\n",
      "FE = 0.03458956743886487\n"
     ]
    },
    {
     "name": "stderr",
     "output_type": "stream",
     "text": [
      "┌ Info: Epoch 136\n",
      "└ @ Main /Users/raphaelpestourie/.julia/packages/Flux/EXOFx/src/optimise/train.jl:154\n"
     ]
    },
    {
     "name": "stdout",
     "output_type": "stream",
     "text": [
      "train_lossmean = 1.617951869454006e-5\n",
      "valid_lossmean = 0.00041398369997275124\n",
      "FE = 0.03364560977287155\n"
     ]
    },
    {
     "name": "stderr",
     "output_type": "stream",
     "text": [
      "┌ Info: Epoch 137\n",
      "└ @ Main /Users/raphaelpestourie/.julia/packages/Flux/EXOFx/src/optimise/train.jl:154\n"
     ]
    },
    {
     "name": "stdout",
     "output_type": "stream",
     "text": [
      "train_lossmean = 1.5986663647621228e-5\n",
      "valid_lossmean = 0.0004138244264544824\n",
      "FE = 0.03363913684872566\n"
     ]
    },
    {
     "name": "stderr",
     "output_type": "stream",
     "text": [
      "┌ Info: Epoch 138\n",
      "└ @ Main /Users/raphaelpestourie/.julia/packages/Flux/EXOFx/src/optimise/train.jl:154\n"
     ]
    },
    {
     "name": "stdout",
     "output_type": "stream",
     "text": [
      "train_lossmean = 1.719179438915143e-5\n",
      "valid_lossmean = 0.0004467198509122173\n",
      "FE = 0.03495058172037246\n"
     ]
    },
    {
     "name": "stderr",
     "output_type": "stream",
     "text": [
      "┌ Info: Epoch 139\n",
      "└ @ Main /Users/raphaelpestourie/.julia/packages/Flux/EXOFx/src/optimise/train.jl:154\n"
     ]
    },
    {
     "name": "stdout",
     "output_type": "stream",
     "text": [
      "train_lossmean = 1.5945600302476762e-5\n",
      "valid_lossmean = 0.0004112221210749692\n",
      "FE = 0.03353320138821568\n"
     ]
    },
    {
     "name": "stderr",
     "output_type": "stream",
     "text": [
      "┌ Info: Epoch 140\n",
      "└ @ Main /Users/raphaelpestourie/.julia/packages/Flux/EXOFx/src/optimise/train.jl:154\n"
     ]
    },
    {
     "name": "stdout",
     "output_type": "stream",
     "text": [
      "train_lossmean = 1.6301870708921235e-5\n",
      "valid_lossmean = 0.0004673084852043812\n",
      "FE = 0.03574691899410932\n"
     ]
    },
    {
     "name": "stderr",
     "output_type": "stream",
     "text": [
      "┌ Info: Epoch 141\n",
      "└ @ Main /Users/raphaelpestourie/.julia/packages/Flux/EXOFx/src/optimise/train.jl:154\n"
     ]
    },
    {
     "name": "stdout",
     "output_type": "stream",
     "text": [
      "train_lossmean = 1.636313838109885e-5\n",
      "valid_lossmean = 0.00045428450928188495\n",
      "FE = 0.03524526227922495\n"
     ]
    },
    {
     "name": "stderr",
     "output_type": "stream",
     "text": [
      "┌ Info: Epoch 142\n",
      "└ @ Main /Users/raphaelpestourie/.julia/packages/Flux/EXOFx/src/optimise/train.jl:154\n"
     ]
    },
    {
     "name": "stdout",
     "output_type": "stream",
     "text": [
      "train_lossmean = 1.622190383299008e-5\n",
      "valid_lossmean = 0.0004037812464231742\n",
      "FE = 0.03322843252367393\n"
     ]
    },
    {
     "name": "stderr",
     "output_type": "stream",
     "text": [
      "┌ Info: Epoch 143\n",
      "└ @ Main /Users/raphaelpestourie/.julia/packages/Flux/EXOFx/src/optimise/train.jl:154\n"
     ]
    },
    {
     "name": "stdout",
     "output_type": "stream",
     "text": [
      "train_lossmean = 1.5992524313636912e-5\n",
      "valid_lossmean = 0.0004450639431274889\n",
      "FE = 0.034885743911183834\n"
     ]
    },
    {
     "name": "stderr",
     "output_type": "stream",
     "text": [
      "┌ Info: Epoch 144\n",
      "└ @ Main /Users/raphaelpestourie/.julia/packages/Flux/EXOFx/src/optimise/train.jl:154\n"
     ]
    },
    {
     "name": "stdout",
     "output_type": "stream",
     "text": [
      "train_lossmean = 1.6046679423640966e-5\n",
      "valid_lossmean = 0.0004063850119592657\n",
      "FE = 0.033335396402668936\n"
     ]
    },
    {
     "name": "stderr",
     "output_type": "stream",
     "text": [
      "┌ Info: Epoch 145\n",
      "└ @ Main /Users/raphaelpestourie/.julia/packages/Flux/EXOFx/src/optimise/train.jl:154\n"
     ]
    },
    {
     "name": "stdout",
     "output_type": "stream",
     "text": [
      "train_lossmean = 1.6042940630878187e-5\n",
      "valid_lossmean = 0.0004698213057990153\n",
      "FE = 0.035842899666037584\n"
     ]
    },
    {
     "name": "stderr",
     "output_type": "stream",
     "text": [
      "┌ Info: Epoch 146\n",
      "└ @ Main /Users/raphaelpestourie/.julia/packages/Flux/EXOFx/src/optimise/train.jl:154\n"
     ]
    },
    {
     "name": "stdout",
     "output_type": "stream",
     "text": [
      "train_lossmean = 1.599767453081924e-5\n",
      "valid_lossmean = 0.0005535528956904195\n",
      "FE = 0.038905978836592935\n"
     ]
    },
    {
     "name": "stderr",
     "output_type": "stream",
     "text": [
      "┌ Info: Epoch 147\n",
      "└ @ Main /Users/raphaelpestourie/.julia/packages/Flux/EXOFx/src/optimise/train.jl:154\n"
     ]
    },
    {
     "name": "stdout",
     "output_type": "stream",
     "text": [
      "train_lossmean = 1.714709033201828e-5\n",
      "valid_lossmean = 0.000507496110864904\n",
      "FE = 0.03725230430639194\n"
     ]
    },
    {
     "name": "stderr",
     "output_type": "stream",
     "text": [
      "┌ Info: Epoch 148\n",
      "└ @ Main /Users/raphaelpestourie/.julia/packages/Flux/EXOFx/src/optimise/train.jl:154\n"
     ]
    },
    {
     "name": "stdout",
     "output_type": "stream",
     "text": [
      "train_lossmean = 1.6986842958303413e-5\n",
      "valid_lossmean = 0.00045924063130113883\n",
      "FE = 0.03543699892297361\n"
     ]
    },
    {
     "name": "stderr",
     "output_type": "stream",
     "text": [
      "┌ Info: Epoch 149\n",
      "└ @ Main /Users/raphaelpestourie/.julia/packages/Flux/EXOFx/src/optimise/train.jl:154\n"
     ]
    },
    {
     "name": "stdout",
     "output_type": "stream",
     "text": [
      "train_lossmean = 1.63741432837458e-5\n",
      "valid_lossmean = 0.0004646882136659073\n",
      "FE = 0.03564655883838629\n"
     ]
    },
    {
     "name": "stderr",
     "output_type": "stream",
     "text": [
      "┌ Info: Epoch 150\n",
      "└ @ Main /Users/raphaelpestourie/.julia/packages/Flux/EXOFx/src/optimise/train.jl:154\n"
     ]
    },
    {
     "name": "stdout",
     "output_type": "stream",
     "text": [
      "train_lossmean = 1.5517435768217725e-5\n",
      "valid_lossmean = 0.000424831176065572\n",
      "FE = 0.03408356176259291\n"
     ]
    },
    {
     "name": "stderr",
     "output_type": "stream",
     "text": [
      "┌ Info: Epoch 151\n",
      "└ @ Main /Users/raphaelpestourie/.julia/packages/Flux/EXOFx/src/optimise/train.jl:154\n"
     ]
    },
    {
     "name": "stdout",
     "output_type": "stream",
     "text": [
      "train_lossmean = 1.6292550543767516e-5\n",
      "valid_lossmean = 0.0004157350399375901\n",
      "FE = 0.03371670280468464\n"
     ]
    },
    {
     "name": "stderr",
     "output_type": "stream",
     "text": [
      "┌ Info: Epoch 152\n",
      "└ @ Main /Users/raphaelpestourie/.julia/packages/Flux/EXOFx/src/optimise/train.jl:154\n"
     ]
    },
    {
     "name": "stdout",
     "output_type": "stream",
     "text": [
      "train_lossmean = 1.62943018781841e-5\n",
      "valid_lossmean = 0.0004242916997301589\n",
      "FE = 0.03406191420344282\n"
     ]
    },
    {
     "name": "stderr",
     "output_type": "stream",
     "text": [
      "┌ Info: Epoch 153\n",
      "└ @ Main /Users/raphaelpestourie/.julia/packages/Flux/EXOFx/src/optimise/train.jl:154\n"
     ]
    },
    {
     "name": "stdout",
     "output_type": "stream",
     "text": [
      "train_lossmean = 1.623651870286699e-5\n",
      "valid_lossmean = 0.0004934858280207588\n",
      "FE = 0.03673449935018704\n"
     ]
    },
    {
     "name": "stderr",
     "output_type": "stream",
     "text": [
      "┌ Info: Epoch 154\n",
      "└ @ Main /Users/raphaelpestourie/.julia/packages/Flux/EXOFx/src/optimise/train.jl:154\n"
     ]
    },
    {
     "name": "stdout",
     "output_type": "stream",
     "text": [
      "train_lossmean = 1.6171474948731397e-5\n",
      "valid_lossmean = 0.00043953052327917714\n",
      "FE = 0.03466820075579179\n"
     ]
    },
    {
     "name": "stderr",
     "output_type": "stream",
     "text": [
      "┌ Info: Epoch 155\n",
      "└ @ Main /Users/raphaelpestourie/.julia/packages/Flux/EXOFx/src/optimise/train.jl:154\n"
     ]
    },
    {
     "name": "stdout",
     "output_type": "stream",
     "text": [
      "train_lossmean = 1.618354260587692e-5\n",
      "valid_lossmean = 0.0004607483942433777\n",
      "FE = 0.03549512401752901\n"
     ]
    },
    {
     "name": "stderr",
     "output_type": "stream",
     "text": [
      "┌ Info: Epoch 156\n",
      "└ @ Main /Users/raphaelpestourie/.julia/packages/Flux/EXOFx/src/optimise/train.jl:154\n"
     ]
    },
    {
     "name": "stdout",
     "output_type": "stream",
     "text": [
      "train_lossmean = 1.572136198954382e-5\n",
      "valid_lossmean = 0.0004621959651880496\n",
      "FE = 0.035550839258850116\n"
     ]
    },
    {
     "name": "stderr",
     "output_type": "stream",
     "text": [
      "┌ Info: Epoch 157\n",
      "└ @ Main /Users/raphaelpestourie/.julia/packages/Flux/EXOFx/src/optimise/train.jl:154\n"
     ]
    },
    {
     "name": "stdout",
     "output_type": "stream",
     "text": [
      "train_lossmean = 1.5683337067331124e-5\n",
      "valid_lossmean = 0.000503858058294776\n",
      "FE = 0.03711854012898053\n"
     ]
    },
    {
     "name": "stderr",
     "output_type": "stream",
     "text": [
      "┌ Info: Epoch 158\n",
      "└ @ Main /Users/raphaelpestourie/.julia/packages/Flux/EXOFx/src/optimise/train.jl:154\n"
     ]
    },
    {
     "name": "stdout",
     "output_type": "stream",
     "text": [
      "train_lossmean = 1.6037378444556613e-5\n",
      "valid_lossmean = 0.00043100021100077183\n",
      "FE = 0.03433013601800063\n"
     ]
    },
    {
     "name": "stderr",
     "output_type": "stream",
     "text": [
      "┌ Info: Epoch 159\n",
      "└ @ Main /Users/raphaelpestourie/.julia/packages/Flux/EXOFx/src/optimise/train.jl:154\n"
     ]
    },
    {
     "name": "stdout",
     "output_type": "stream",
     "text": [
      "train_lossmean = 1.560456239742436e-5\n",
      "valid_lossmean = 0.00044281188530954414\n",
      "FE = 0.03479736969929126\n"
     ]
    },
    {
     "name": "stderr",
     "output_type": "stream",
     "text": [
      "┌ Info: Epoch 160\n",
      "└ @ Main /Users/raphaelpestourie/.julia/packages/Flux/EXOFx/src/optimise/train.jl:154\n"
     ]
    },
    {
     "name": "stdout",
     "output_type": "stream",
     "text": [
      "train_lossmean = 1.573329365246945e-5\n",
      "valid_lossmean = 0.0004060497163944629\n",
      "FE = 0.0333216415683627\n"
     ]
    },
    {
     "name": "stderr",
     "output_type": "stream",
     "text": [
      "┌ Info: Epoch 161\n",
      "└ @ Main /Users/raphaelpestourie/.julia/packages/Flux/EXOFx/src/optimise/train.jl:154\n"
     ]
    },
    {
     "name": "stdout",
     "output_type": "stream",
     "text": [
      "train_lossmean = 1.5577487436199304e-5\n",
      "valid_lossmean = 0.0004458495665417003\n",
      "FE = 0.03491652035762897\n"
     ]
    },
    {
     "name": "stderr",
     "output_type": "stream",
     "text": [
      "┌ Info: Epoch 162\n",
      "└ @ Main /Users/raphaelpestourie/.julia/packages/Flux/EXOFx/src/optimise/train.jl:154\n"
     ]
    },
    {
     "name": "stdout",
     "output_type": "stream",
     "text": [
      "train_lossmean = 1.4911581326544021e-5\n",
      "valid_lossmean = 0.00043656720890765377\n",
      "FE = 0.03455113662220301\n"
     ]
    },
    {
     "name": "stderr",
     "output_type": "stream",
     "text": [
      "┌ Info: Epoch 163\n",
      "└ @ Main /Users/raphaelpestourie/.julia/packages/Flux/EXOFx/src/optimise/train.jl:154\n"
     ]
    },
    {
     "name": "stdout",
     "output_type": "stream",
     "text": [
      "train_lossmean = 1.5077392396785863e-5\n",
      "valid_lossmean = 0.00042093876387151095\n",
      "FE = 0.033927061296107876\n"
     ]
    },
    {
     "name": "stderr",
     "output_type": "stream",
     "text": [
      "┌ Info: Epoch 164\n",
      "└ @ Main /Users/raphaelpestourie/.julia/packages/Flux/EXOFx/src/optimise/train.jl:154\n"
     ]
    },
    {
     "name": "stdout",
     "output_type": "stream",
     "text": [
      "train_lossmean = 1.5416617740433933e-5\n",
      "valid_lossmean = 0.00040141343618163886\n",
      "FE = 0.033130861985613706\n"
     ]
    },
    {
     "name": "stderr",
     "output_type": "stream",
     "text": [
      "┌ Info: Epoch 165\n",
      "└ @ Main /Users/raphaelpestourie/.julia/packages/Flux/EXOFx/src/optimise/train.jl:154\n"
     ]
    },
    {
     "name": "stdout",
     "output_type": "stream",
     "text": [
      "train_lossmean = 1.6283667190077874e-5\n",
      "valid_lossmean = 0.00044542094874002396\n",
      "FE = 0.034899732810991055\n"
     ]
    },
    {
     "name": "stderr",
     "output_type": "stream",
     "text": [
      "┌ Info: Epoch 166\n",
      "└ @ Main /Users/raphaelpestourie/.julia/packages/Flux/EXOFx/src/optimise/train.jl:154\n"
     ]
    },
    {
     "name": "stdout",
     "output_type": "stream",
     "text": [
      "train_lossmean = 1.5835067299891595e-5\n",
      "valid_lossmean = 0.000480437974121402\n",
      "FE = 0.03624561276067697\n"
     ]
    },
    {
     "name": "stderr",
     "output_type": "stream",
     "text": [
      "┌ Info: Epoch 167\n",
      "└ @ Main /Users/raphaelpestourie/.julia/packages/Flux/EXOFx/src/optimise/train.jl:154\n"
     ]
    },
    {
     "name": "stdout",
     "output_type": "stream",
     "text": [
      "train_lossmean = 1.5297819795460347e-5\n",
      "valid_lossmean = 0.0004769165275911202\n",
      "FE = 0.03611253446631636\n"
     ]
    },
    {
     "name": "stderr",
     "output_type": "stream",
     "text": [
      "┌ Info: Epoch 168\n",
      "└ @ Main /Users/raphaelpestourie/.julia/packages/Flux/EXOFx/src/optimise/train.jl:154\n"
     ]
    },
    {
     "name": "stdout",
     "output_type": "stream",
     "text": [
      "train_lossmean = 1.5344954452931807e-5\n",
      "valid_lossmean = 0.0004541198949093162\n",
      "FE = 0.03523887597031027\n"
     ]
    },
    {
     "name": "stderr",
     "output_type": "stream",
     "text": [
      "┌ Info: Epoch 169\n",
      "└ @ Main /Users/raphaelpestourie/.julia/packages/Flux/EXOFx/src/optimise/train.jl:154\n"
     ]
    },
    {
     "name": "stdout",
     "output_type": "stream",
     "text": [
      "train_lossmean = 1.5371366063747923e-5\n",
      "valid_lossmean = 0.0004221043739234857\n",
      "FE = 0.033974002073085645\n"
     ]
    },
    {
     "name": "stderr",
     "output_type": "stream",
     "text": [
      "┌ Info: Epoch 170\n",
      "└ @ Main /Users/raphaelpestourie/.julia/packages/Flux/EXOFx/src/optimise/train.jl:154\n"
     ]
    },
    {
     "name": "stdout",
     "output_type": "stream",
     "text": [
      "train_lossmean = 1.5258297829197838e-5\n",
      "valid_lossmean = 0.0004458980385812465\n",
      "FE = 0.03491841833968874\n"
     ]
    },
    {
     "name": "stderr",
     "output_type": "stream",
     "text": [
      "┌ Info: Epoch 171\n",
      "└ @ Main /Users/raphaelpestourie/.julia/packages/Flux/EXOFx/src/optimise/train.jl:154\n"
     ]
    },
    {
     "name": "stdout",
     "output_type": "stream",
     "text": [
      "train_lossmean = 1.5425006705978897e-5\n",
      "valid_lossmean = 0.0004284108802991006\n",
      "FE = 0.03422685766076042\n"
     ]
    },
    {
     "name": "stderr",
     "output_type": "stream",
     "text": [
      "┌ Info: Epoch 172\n",
      "└ @ Main /Users/raphaelpestourie/.julia/packages/Flux/EXOFx/src/optimise/train.jl:154\n"
     ]
    },
    {
     "name": "stdout",
     "output_type": "stream",
     "text": [
      "train_lossmean = 1.5862010321416083e-5\n",
      "valid_lossmean = 0.00038992145850760254\n",
      "FE = 0.03265317011565442\n"
     ]
    },
    {
     "name": "stderr",
     "output_type": "stream",
     "text": [
      "┌ Info: Epoch 173\n",
      "└ @ Main /Users/raphaelpestourie/.julia/packages/Flux/EXOFx/src/optimise/train.jl:154\n"
     ]
    },
    {
     "name": "stdout",
     "output_type": "stream",
     "text": [
      "train_lossmean = 1.53665657564977e-5\n",
      "valid_lossmean = 0.00041431891019796225\n",
      "FE = 0.03365922875144669\n"
     ]
    },
    {
     "name": "stderr",
     "output_type": "stream",
     "text": [
      "┌ Info: Epoch 174\n",
      "└ @ Main /Users/raphaelpestourie/.julia/packages/Flux/EXOFx/src/optimise/train.jl:154\n"
     ]
    },
    {
     "name": "stdout",
     "output_type": "stream",
     "text": [
      "train_lossmean = 1.5279339678644025e-5\n",
      "valid_lossmean = 0.0004180796571204075\n",
      "FE = 0.033811645025167876\n"
     ]
    },
    {
     "name": "stderr",
     "output_type": "stream",
     "text": [
      "┌ Info: Epoch 175\n",
      "└ @ Main /Users/raphaelpestourie/.julia/packages/Flux/EXOFx/src/optimise/train.jl:154\n"
     ]
    },
    {
     "name": "stdout",
     "output_type": "stream",
     "text": [
      "train_lossmean = 1.5152852891161548e-5\n",
      "valid_lossmean = 0.00045161473398420726\n",
      "FE = 0.03514154359029525\n"
     ]
    },
    {
     "name": "stderr",
     "output_type": "stream",
     "text": [
      "┌ Info: Epoch 176\n",
      "└ @ Main /Users/raphaelpestourie/.julia/packages/Flux/EXOFx/src/optimise/train.jl:154\n"
     ]
    },
    {
     "name": "stdout",
     "output_type": "stream",
     "text": [
      "train_lossmean = 1.502355114946749e-5\n",
      "valid_lossmean = 0.0004757515868756837\n",
      "FE = 0.03606840233765698\n"
     ]
    },
    {
     "name": "stderr",
     "output_type": "stream",
     "text": [
      "┌ Info: Epoch 177\n",
      "└ @ Main /Users/raphaelpestourie/.julia/packages/Flux/EXOFx/src/optimise/train.jl:154\n"
     ]
    },
    {
     "name": "stdout",
     "output_type": "stream",
     "text": [
      "train_lossmean = 1.4838771108646055e-5\n",
      "valid_lossmean = 0.000448367379668854\n",
      "FE = 0.035014972293663044\n"
     ]
    },
    {
     "name": "stderr",
     "output_type": "stream",
     "text": [
      "┌ Info: Epoch 178\n",
      "└ @ Main /Users/raphaelpestourie/.julia/packages/Flux/EXOFx/src/optimise/train.jl:154\n"
     ]
    },
    {
     "name": "stdout",
     "output_type": "stream",
     "text": [
      "train_lossmean = 1.4984417747676963e-5\n",
      "valid_lossmean = 0.0004404618472635374\n",
      "FE = 0.03470491065395676\n"
     ]
    },
    {
     "name": "stderr",
     "output_type": "stream",
     "text": [
      "┌ Info: Epoch 179\n",
      "└ @ Main /Users/raphaelpestourie/.julia/packages/Flux/EXOFx/src/optimise/train.jl:154\n"
     ]
    },
    {
     "name": "stdout",
     "output_type": "stream",
     "text": [
      "train_lossmean = 1.561556344512089e-5\n",
      "valid_lossmean = 0.0004476814595363761\n",
      "FE = 0.03498817878889091\n"
     ]
    },
    {
     "name": "stderr",
     "output_type": "stream",
     "text": [
      "┌ Info: Epoch 180\n",
      "└ @ Main /Users/raphaelpestourie/.julia/packages/Flux/EXOFx/src/optimise/train.jl:154\n"
     ]
    },
    {
     "name": "stdout",
     "output_type": "stream",
     "text": [
      "train_lossmean = 1.4881753493305668e-5\n",
      "valid_lossmean = 0.0004304646092540912\n",
      "FE = 0.034308798445138046\n"
     ]
    },
    {
     "name": "stderr",
     "output_type": "stream",
     "text": [
      "┌ Info: Epoch 181\n",
      "└ @ Main /Users/raphaelpestourie/.julia/packages/Flux/EXOFx/src/optimise/train.jl:154\n"
     ]
    },
    {
     "name": "stdout",
     "output_type": "stream",
     "text": [
      "train_lossmean = 1.4924743094823442e-5\n",
      "valid_lossmean = 0.00041460121301788866\n",
      "FE = 0.033670693925868224\n"
     ]
    },
    {
     "name": "stderr",
     "output_type": "stream",
     "text": [
      "┌ Info: Epoch 182\n",
      "└ @ Main /Users/raphaelpestourie/.julia/packages/Flux/EXOFx/src/optimise/train.jl:154\n"
     ]
    },
    {
     "name": "stdout",
     "output_type": "stream",
     "text": [
      "train_lossmean = 1.5376565591459e-5\n",
      "valid_lossmean = 0.00044904874671512817\n",
      "FE = 0.03504156766184153\n"
     ]
    },
    {
     "name": "stderr",
     "output_type": "stream",
     "text": [
      "┌ Info: Epoch 183\n",
      "└ @ Main /Users/raphaelpestourie/.julia/packages/Flux/EXOFx/src/optimise/train.jl:154\n"
     ]
    },
    {
     "name": "stdout",
     "output_type": "stream",
     "text": [
      "train_lossmean = 1.5279237314190377e-5\n",
      "valid_lossmean = 0.0004440526719019169\n",
      "FE = 0.03484608779829121\n"
     ]
    },
    {
     "name": "stderr",
     "output_type": "stream",
     "text": [
      "┌ Info: Epoch 184\n",
      "└ @ Main /Users/raphaelpestourie/.julia/packages/Flux/EXOFx/src/optimise/train.jl:154\n"
     ]
    },
    {
     "name": "stdout",
     "output_type": "stream",
     "text": [
      "train_lossmean = 1.4974824325778082e-5\n",
      "valid_lossmean = 0.00041469388078096807\n",
      "FE = 0.033674456594018\n"
     ]
    },
    {
     "name": "stderr",
     "output_type": "stream",
     "text": [
      "┌ Info: Epoch 185\n",
      "└ @ Main /Users/raphaelpestourie/.julia/packages/Flux/EXOFx/src/optimise/train.jl:154\n"
     ]
    },
    {
     "name": "stdout",
     "output_type": "stream",
     "text": [
      "train_lossmean = 1.4385731733187679e-5\n",
      "valid_lossmean = 0.00040413746023799506\n",
      "FE = 0.033243086271781616\n"
     ]
    },
    {
     "name": "stderr",
     "output_type": "stream",
     "text": [
      "┌ Info: Epoch 186\n",
      "└ @ Main /Users/raphaelpestourie/.julia/packages/Flux/EXOFx/src/optimise/train.jl:154\n"
     ]
    },
    {
     "name": "stdout",
     "output_type": "stream",
     "text": [
      "train_lossmean = 1.5051766811225013e-5\n",
      "valid_lossmean = 0.00040855079963823685\n",
      "FE = 0.033424107171996606\n"
     ]
    },
    {
     "name": "stderr",
     "output_type": "stream",
     "text": [
      "┌ Info: Epoch 187\n",
      "└ @ Main /Users/raphaelpestourie/.julia/packages/Flux/EXOFx/src/optimise/train.jl:154\n"
     ]
    },
    {
     "name": "stdout",
     "output_type": "stream",
     "text": [
      "train_lossmean = 1.5375040801206063e-5\n",
      "valid_lossmean = 0.00042850601529312586\n",
      "FE = 0.034230657740658636\n"
     ]
    },
    {
     "name": "stderr",
     "output_type": "stream",
     "text": [
      "┌ Info: Epoch 188\n",
      "└ @ Main /Users/raphaelpestourie/.julia/packages/Flux/EXOFx/src/optimise/train.jl:154\n"
     ]
    },
    {
     "name": "stdout",
     "output_type": "stream",
     "text": [
      "train_lossmean = 1.5311253381003316e-5\n",
      "valid_lossmean = 0.00042258452740449794\n",
      "FE = 0.0339933196873714\n"
     ]
    },
    {
     "name": "stderr",
     "output_type": "stream",
     "text": [
      "┌ Info: Epoch 189\n",
      "└ @ Main /Users/raphaelpestourie/.julia/packages/Flux/EXOFx/src/optimise/train.jl:154\n"
     ]
    },
    {
     "name": "stdout",
     "output_type": "stream",
     "text": [
      "train_lossmean = 1.4523415809649678e-5\n",
      "valid_lossmean = 0.00045130029778530674\n",
      "FE = 0.035129307832052654\n"
     ]
    },
    {
     "name": "stderr",
     "output_type": "stream",
     "text": [
      "┌ Info: Epoch 190\n",
      "└ @ Main /Users/raphaelpestourie/.julia/packages/Flux/EXOFx/src/optimise/train.jl:154\n"
     ]
    },
    {
     "name": "stdout",
     "output_type": "stream",
     "text": [
      "train_lossmean = 1.537573502049288e-5\n",
      "valid_lossmean = 0.0005182109595136481\n",
      "FE = 0.037643507215310276\n"
     ]
    },
    {
     "name": "stderr",
     "output_type": "stream",
     "text": [
      "┌ Info: Epoch 191\n",
      "└ @ Main /Users/raphaelpestourie/.julia/packages/Flux/EXOFx/src/optimise/train.jl:154\n"
     ]
    },
    {
     "name": "stdout",
     "output_type": "stream",
     "text": [
      "train_lossmean = 1.5068019845815714e-5\n",
      "valid_lossmean = 0.0005005049747749\n",
      "FE = 0.03699482540191706\n"
     ]
    },
    {
     "name": "stderr",
     "output_type": "stream",
     "text": [
      "┌ Info: Epoch 192\n",
      "└ @ Main /Users/raphaelpestourie/.julia/packages/Flux/EXOFx/src/optimise/train.jl:154\n"
     ]
    },
    {
     "name": "stdout",
     "output_type": "stream",
     "text": [
      "train_lossmean = 1.4988569223465175e-5\n",
      "valid_lossmean = 0.0004306797338163015\n",
      "FE = 0.03431737028030851\n"
     ]
    },
    {
     "name": "stderr",
     "output_type": "stream",
     "text": [
      "┌ Info: Epoch 193\n",
      "└ @ Main /Users/raphaelpestourie/.julia/packages/Flux/EXOFx/src/optimise/train.jl:154\n"
     ]
    },
    {
     "name": "stdout",
     "output_type": "stream",
     "text": [
      "train_lossmean = 1.5221031150920746e-5\n",
      "valid_lossmean = 0.00039682763776037987\n",
      "FE = 0.03294107278279834\n"
     ]
    },
    {
     "name": "stderr",
     "output_type": "stream",
     "text": [
      "┌ Info: Epoch 194\n",
      "└ @ Main /Users/raphaelpestourie/.julia/packages/Flux/EXOFx/src/optimise/train.jl:154\n"
     ]
    },
    {
     "name": "stdout",
     "output_type": "stream",
     "text": [
      "train_lossmean = 1.5146452091343918e-5\n",
      "valid_lossmean = 0.00043321188739948963\n",
      "FE = 0.03441810580755748\n"
     ]
    },
    {
     "name": "stderr",
     "output_type": "stream",
     "text": [
      "┌ Info: Epoch 195\n",
      "└ @ Main /Users/raphaelpestourie/.julia/packages/Flux/EXOFx/src/optimise/train.jl:154\n"
     ]
    },
    {
     "name": "stdout",
     "output_type": "stream",
     "text": [
      "train_lossmean = 1.4616826829320831e-5\n",
      "valid_lossmean = 0.00041512369432164986\n",
      "FE = 0.03369190318494968\n"
     ]
    },
    {
     "name": "stderr",
     "output_type": "stream",
     "text": [
      "┌ Info: Epoch 196\n",
      "└ @ Main /Users/raphaelpestourie/.julia/packages/Flux/EXOFx/src/optimise/train.jl:154\n"
     ]
    },
    {
     "name": "stdout",
     "output_type": "stream",
     "text": [
      "train_lossmean = 1.471505465298562e-5\n",
      "valid_lossmean = 0.00038780679113926443\n",
      "FE = 0.03256450550469277\n"
     ]
    },
    {
     "name": "stderr",
     "output_type": "stream",
     "text": [
      "┌ Info: Epoch 197\n",
      "└ @ Main /Users/raphaelpestourie/.julia/packages/Flux/EXOFx/src/optimise/train.jl:154\n"
     ]
    },
    {
     "name": "stdout",
     "output_type": "stream",
     "text": [
      "train_lossmean = 1.4907909091082479e-5\n",
      "valid_lossmean = 0.00042174809027768913\n",
      "FE = 0.033959660908471676\n"
     ]
    },
    {
     "name": "stderr",
     "output_type": "stream",
     "text": [
      "┌ Info: Epoch 198\n",
      "└ @ Main /Users/raphaelpestourie/.julia/packages/Flux/EXOFx/src/optimise/train.jl:154\n"
     ]
    },
    {
     "name": "stdout",
     "output_type": "stream",
     "text": [
      "train_lossmean = 1.4444126124750617e-5\n",
      "valid_lossmean = 0.0004585116771629772\n",
      "FE = 0.03540886312207269\n"
     ]
    },
    {
     "name": "stderr",
     "output_type": "stream",
     "text": [
      "┌ Info: Epoch 199\n",
      "└ @ Main /Users/raphaelpestourie/.julia/packages/Flux/EXOFx/src/optimise/train.jl:154\n"
     ]
    },
    {
     "name": "stdout",
     "output_type": "stream",
     "text": [
      "train_lossmean = 1.499941206646233e-5\n",
      "valid_lossmean = 0.00040394639034245955\n",
      "FE = 0.03323522693606515\n"
     ]
    },
    {
     "name": "stderr",
     "output_type": "stream",
     "text": [
      "┌ Info: Epoch 200\n",
      "└ @ Main /Users/raphaelpestourie/.julia/packages/Flux/EXOFx/src/optimise/train.jl:154\n"
     ]
    },
    {
     "name": "stdout",
     "output_type": "stream",
     "text": [
      "train_lossmean = 1.4831316320089941e-5\n",
      "valid_lossmean = 0.0004043349582054863\n",
      "FE = 0.03325120806287627\n",
      "108.523403 seconds (372.97 M allocations: 42.558 GiB, 10.88% gc time, 0.87% compilation time)\n"
     ]
    }
   ],
   "source": [
    "namemodel = \"local_MSE_parallel_PEDSparameterized_$endname\"\n",
    "\n",
    "kval =  Ks[1]\n",
    "##define same AL parameters for all workers\n",
    "al1 = ALstruct(Ninit=ninit+8*kval, T=0, η=1e-3, J=Jval, ne=number_epoch, batchsize=batchsize);\n",
    "if MPI.Comm_rank(comm) == 0\n",
    "    @show kval\n",
    "    @show 256+8*kval\n",
    "end\n",
    "##ititialize DataRunner and DataSet\n",
    "dr = DataRunner(Xt, yt, [1]);\n",
    "ds = DataSet()\n",
    "validation_fes = []\n",
    "##initialize baseline\n",
    "mgen =  Chain(Dense(nin, nnodes, relu),\n",
    "Dropout(0.5),\n",
    "Dense(nnodes, nnodes,relu),\n",
    "Dropout(0.5),\n",
    "Dense(nnodes, coarseresolution^2, hardtanh),\n",
    "x-> @. x*0.9/2 + 0.45 + .1)\n",
    "\n",
    "cw=[cwval]\n",
    "\n",
    "m(p) = begin\n",
    "    generatedgeom = mgen(p)\n",
    "    w = @. max(0, min(1, cw)) # harder function.\n",
    "    @views map(i->Float32(targetfunc(avgOpcoarse * (w .* generatedgeom[:,i] + (1 .-w) .* generatepores(p[:, i],coarseresolution)[:]), sim=coarse_sim)), 1:length(p)÷ nin)\n",
    "end\n",
    "mloglik(p) = 1\n",
    "ps = Flux.params(mgen, cw)\n",
    "\n",
    "\n",
    "loader = initloader(al1, dr, ds);\n",
    "opt = ADAM(al1.η)\n",
    "\n",
    "if MPI.Comm_rank(comm)==0\n",
    "    @time Flux.@epochs al1.ne train_distributed!(comm, commModel, commLeader, mloglik, m, dHuber, ps, loader, opt, validation_fes, logging=true)\n",
    "else\n",
    "    Flux.@epochs al1.ne train_distributed!(comm, commModel, commLeader, mloglik, m, dHuber, ps, loader, opt, validation_fes, logging=true)\n",
    "end\n",
    "\n",
    "\n",
    "# ##save models and validation FEs\n",
    "# if isleader\n",
    "#     BSON.@save \"$(namemodel)_K$(kval)_mgen$(model_color).bson\" mgen\n",
    "#     BSON.@save \"$(namemodel)_K$(kval)_cw$(model_color).bson\" cw\n",
    "# end\n",
    "\n",
    "# if MPI.Comm_rank(comm) == 0\n",
    "#     writedlm(\"$(namemodel)_K$(kval)_trainingMSE.csv\", validation_fes, ',')\n",
    "# end\n",
    "\n",
    "# # evaluate and show the error on the test set\n",
    "# valid_lossmean = dFE_1d(comm, commModel, commLeader, m)\n",
    "# if MPI.Comm_rank(comm) == 0\n",
    "#     @show valid_lossmean\n",
    "#     writedlm(\"$(namemodel)_K$(kval)_endvalidFE.csv\", [valid_lossmean], ',')\n",
    "# end"
   ]
  },
  {
   "cell_type": "code",
   "execution_count": 5,
   "metadata": {},
   "outputs": [
    {
     "name": "stdout",
     "output_type": "stream",
     "text": [
      "FE = 0.033359072018673316\n"
     ]
    },
    {
     "data": {
      "text/plain": [
       "0.033359072018673316"
      ]
     },
     "execution_count": 5,
     "metadata": {},
     "output_type": "execute_result"
    }
   ],
   "source": [
    "dFE_1d(comm, commModel, commLeader, m, valid=test)"
   ]
  },
  {
   "cell_type": "markdown",
   "metadata": {},
   "source": [
    "## PEDS result\n",
    "\n",
    "The fractional error on the test set is 0.0334. Surprisingly, it is slightly better than the result for an ensemble of 5 models (which achieves an error of 3.8%)."
   ]
  },
  {
   "cell_type": "markdown",
   "metadata": {},
   "source": [
    "# Baseline "
   ]
  },
  {
   "cell_type": "code",
   "execution_count": 6,
   "metadata": {},
   "outputs": [
    {
     "name": "stdout",
     "output_type": "stream",
     "text": [
      "kval = 128\n",
      "256 + 8kval = 1280\n"
     ]
    },
    {
     "name": "stderr",
     "output_type": "stream",
     "text": [
      "┌ Info: Epoch 1\n",
      "└ @ Main /Users/raphaelpestourie/.julia/packages/Flux/EXOFx/src/optimise/train.jl:154\n"
     ]
    },
    {
     "name": "stdout",
     "output_type": "stream",
     "text": [
      "train_lossmean = 9.881607424380523e-5\n",
      "valid_lossmean = 0.007499798759188259\n",
      "FE = 0.14320612317746634\n"
     ]
    },
    {
     "name": "stderr",
     "output_type": "stream",
     "text": [
      "┌ Info: Epoch 2\n",
      "└ @ Main /Users/raphaelpestourie/.julia/packages/Flux/EXOFx/src/optimise/train.jl:154\n"
     ]
    },
    {
     "name": "stdout",
     "output_type": "stream",
     "text": [
      "train_lossmean = 7.474183073605581e-5\n",
      "valid_lossmean = 0.006835854734410111\n",
      "FE = 0.13672036064839851\n",
      "train_lossmean = 7.015812484297517e-5\n",
      "valid_lossmean = 0.0066273606554747636\n",
      "FE = 0.13461922479175714\n"
     ]
    },
    {
     "name": "stderr",
     "output_type": "stream",
     "text": [
      "┌ Info: Epoch 3\n",
      "└ @ Main /Users/raphaelpestourie/.julia/packages/Flux/EXOFx/src/optimise/train.jl:154\n",
      "┌ Info: Epoch 4\n",
      "└ @ Main /Users/raphaelpestourie/.julia/packages/Flux/EXOFx/src/optimise/train.jl:154\n"
     ]
    },
    {
     "name": "stdout",
     "output_type": "stream",
     "text": [
      "train_lossmean = 6.960557767778887e-5\n",
      "valid_lossmean = 0.006497636056460671\n",
      "FE = 0.13329518870004337\n"
     ]
    },
    {
     "name": "stderr",
     "output_type": "stream",
     "text": [
      "┌ Info: Epoch 5\n",
      "└ @ Main /Users/raphaelpestourie/.julia/packages/Flux/EXOFx/src/optimise/train.jl:154\n"
     ]
    },
    {
     "name": "stdout",
     "output_type": "stream",
     "text": [
      "train_lossmean = 6.54418879303766e-5\n",
      "valid_lossmean = 0.006318216396299432\n",
      "FE = 0.13144196132840413\n",
      "train_lossmean = 6.674628496724354e-5\n",
      "valid_lossmean = 0.006222358997624583\n",
      "FE = 0.13044105862046002\n"
     ]
    },
    {
     "name": "stderr",
     "output_type": "stream",
     "text": [
      "┌ Info: Epoch 6\n",
      "└ @ Main /Users/raphaelpestourie/.julia/packages/Flux/EXOFx/src/optimise/train.jl:154\n",
      "┌ Info: Epoch 7\n",
      "└ @ Main /Users/raphaelpestourie/.julia/packages/Flux/EXOFx/src/optimise/train.jl:154\n"
     ]
    },
    {
     "name": "stdout",
     "output_type": "stream",
     "text": [
      "train_lossmean = 6.518497094614734e-5\n",
      "valid_lossmean = 0.0061354009087822604\n",
      "FE = 0.12952638830949123\n"
     ]
    },
    {
     "name": "stderr",
     "output_type": "stream",
     "text": [
      "┌ Info: Epoch 8\n",
      "└ @ Main /Users/raphaelpestourie/.julia/packages/Flux/EXOFx/src/optimise/train.jl:154\n"
     ]
    },
    {
     "name": "stdout",
     "output_type": "stream",
     "text": [
      "train_lossmean = 6.393843150480446e-5\n",
      "valid_lossmean = 0.005893976878111835\n",
      "FE = 0.12695242371711496\n",
      "train_lossmean = 6.164797334450236e-5\n",
      "valid_lossmean = 0.005646304525994173\n",
      "FE = 0.12425644708995696\n"
     ]
    },
    {
     "name": "stderr",
     "output_type": "stream",
     "text": [
      "┌ Info: Epoch 9\n",
      "└ @ Main /Users/raphaelpestourie/.julia/packages/Flux/EXOFx/src/optimise/train.jl:154\n",
      "┌ Info: Epoch 10\n",
      "└ @ Main /Users/raphaelpestourie/.julia/packages/Flux/EXOFx/src/optimise/train.jl:154\n"
     ]
    },
    {
     "name": "stdout",
     "output_type": "stream",
     "text": [
      "train_lossmean = 6.0955668788099704e-5\n",
      "valid_lossmean = 0.005552560963660595\n",
      "FE = 0.12322063726098761\n",
      "train_lossmean = 6.065439524947631e-5\n",
      "valid_lossmean = 0.005431836878816945\n",
      "FE = 0.12187374103078548\n"
     ]
    },
    {
     "name": "stderr",
     "output_type": "stream",
     "text": [
      "┌ Info: Epoch 11\n",
      "└ @ Main /Users/raphaelpestourie/.julia/packages/Flux/EXOFx/src/optimise/train.jl:154\n",
      "┌ Info: Epoch 12\n",
      "└ @ Main /Users/raphaelpestourie/.julia/packages/Flux/EXOFx/src/optimise/train.jl:154\n"
     ]
    },
    {
     "name": "stdout",
     "output_type": "stream",
     "text": [
      "train_lossmean = 6.081845143469207e-5\n",
      "valid_lossmean = 0.00516022180584647\n",
      "FE = 0.11878756162180244\n"
     ]
    },
    {
     "name": "stderr",
     "output_type": "stream",
     "text": [
      "┌ Info: Epoch 13\n",
      "└ @ Main /Users/raphaelpestourie/.julia/packages/Flux/EXOFx/src/optimise/train.jl:154\n"
     ]
    },
    {
     "name": "stdout",
     "output_type": "stream",
     "text": [
      "train_lossmean = 5.918191414818042e-5\n",
      "valid_lossmean = 0.004930209814840469\n",
      "FE = 0.1161099622091857\n",
      "train_lossmean = 5.926252860511716e-5\n",
      "valid_lossmean = 0.004840715001515934\n",
      "FE = 0.1150513025361777\n"
     ]
    },
    {
     "name": "stderr",
     "output_type": "stream",
     "text": [
      "┌ Info: Epoch 14\n",
      "└ @ Main /Users/raphaelpestourie/.julia/packages/Flux/EXOFx/src/optimise/train.jl:154\n",
      "┌ Info: Epoch 15\n",
      "└ @ Main /Users/raphaelpestourie/.julia/packages/Flux/EXOFx/src/optimise/train.jl:154\n"
     ]
    },
    {
     "name": "stdout",
     "output_type": "stream",
     "text": [
      "train_lossmean = 5.8692353028040455e-5\n",
      "valid_lossmean = 0.004834300434080316\n",
      "FE = 0.11497504840965549\n",
      "train_lossmean = 5.712945342289098e-5\n",
      "valid_lossmean = "
     ]
    },
    {
     "name": "stderr",
     "output_type": "stream",
     "text": [
      "┌ Info: Epoch 16\n",
      "└ @ Main /Users/raphaelpestourie/.julia/packages/Flux/EXOFx/src/optimise/train.jl:154\n"
     ]
    },
    {
     "name": "stdout",
     "output_type": "stream",
     "text": [
      "0.0045836016900152425\n",
      "FE = 0.11195415546961848\n"
     ]
    },
    {
     "name": "stderr",
     "output_type": "stream",
     "text": [
      "┌ Info: Epoch 17\n",
      "└ @ Main /Users/raphaelpestourie/.julia/packages/Flux/EXOFx/src/optimise/train.jl:154\n"
     ]
    },
    {
     "name": "stdout",
     "output_type": "stream",
     "text": [
      "train_lossmean = 5.710035295460452e-5\n",
      "valid_lossmean = 0.0044227288067049874\n",
      "FE = 0.1099719529974861\n"
     ]
    },
    {
     "name": "stderr",
     "output_type": "stream",
     "text": [
      "┌ Info: Epoch 18\n",
      "└ @ Main /Users/raphaelpestourie/.julia/packages/Flux/EXOFx/src/optimise/train.jl:154\n"
     ]
    },
    {
     "name": "stdout",
     "output_type": "stream",
     "text": [
      "train_lossmean = 5.742736252023937e-5\n",
      "valid_lossmean = 0.004293622512763331\n",
      "FE = 0.10835493911846322\n",
      "train_lossmean = 5.594036765702976e-5\n",
      "valid_lossmean = 0.004127184406602879\n",
      "FE = 0.10623404539743227\n"
     ]
    },
    {
     "name": "stderr",
     "output_type": "stream",
     "text": [
      "┌ Info: Epoch 19\n",
      "└ @ Main /Users/raphaelpestourie/.julia/packages/Flux/EXOFx/src/optimise/train.jl:154\n",
      "┌ Info: Epoch 20\n",
      "└ @ Main /Users/raphaelpestourie/.julia/packages/Flux/EXOFx/src/optimise/train.jl:154\n"
     ]
    },
    {
     "name": "stdout",
     "output_type": "stream",
     "text": [
      "train_lossmean = 5.53394665440274e-5\n",
      "valid_lossmean = 0.003962748750408353\n",
      "FE = 0.10409624208430159\n"
     ]
    },
    {
     "name": "stderr",
     "output_type": "stream",
     "text": [
      "┌ Info: Epoch 21\n",
      "└ @ Main /Users/raphaelpestourie/.julia/packages/Flux/EXOFx/src/optimise/train.jl:154\n"
     ]
    },
    {
     "name": "stdout",
     "output_type": "stream",
     "text": [
      "train_lossmean = 5.352569149165293e-5\n",
      "valid_lossmean = 0.003912333449210945\n",
      "FE = 0.10343195038125004\n",
      "train_lossmean = 5.2921274717458394e-5\n",
      "valid_lossmean = 0.0036274302343733025\n",
      "FE = 0.09959472046209987\n"
     ]
    },
    {
     "name": "stderr",
     "output_type": "stream",
     "text": [
      "┌ Info: Epoch 22\n",
      "└ @ Main /Users/raphaelpestourie/.julia/packages/Flux/EXOFx/src/optimise/train.jl:154\n",
      "┌ Info: Epoch 23\n",
      "└ @ Main /Users/raphaelpestourie/.julia/packages/Flux/EXOFx/src/optimise/train.jl:154\n"
     ]
    },
    {
     "name": "stdout",
     "output_type": "stream",
     "text": [
      "train_lossmean = 5.063551953901011e-5\n",
      "valid_lossmean = 0.0034988313899524566\n",
      "FE = 0.09781338525981656\n"
     ]
    },
    {
     "name": "stderr",
     "output_type": "stream",
     "text": [
      "┌ Info: Epoch 24\n",
      "└ @ Main /Users/raphaelpestourie/.julia/packages/Flux/EXOFx/src/optimise/train.jl:154\n"
     ]
    },
    {
     "name": "stdout",
     "output_type": "stream",
     "text": [
      "train_lossmean = 5.315172337681775e-5\n",
      "valid_lossmean = 0.003387055518423301\n",
      "FE = 0.09623829947248047\n",
      "train_lossmean = 5.046095952493212e-5\n",
      "valid_lossmean = 0.0033147914975462647\n",
      "FE = 0.09520612535488208\n"
     ]
    },
    {
     "name": "stderr",
     "output_type": "stream",
     "text": [
      "┌ Info: Epoch 25\n",
      "└ @ Main /Users/raphaelpestourie/.julia/packages/Flux/EXOFx/src/optimise/train.jl:154\n",
      "┌ Info: Epoch 26\n",
      "└ @ Main /Users/raphaelpestourie/.julia/packages/Flux/EXOFx/src/optimise/train.jl:154\n"
     ]
    },
    {
     "name": "stdout",
     "output_type": "stream",
     "text": [
      "train_lossmean = 4.9803894137283125e-5\n",
      "valid_lossmean = 0.003280997317224799\n",
      "FE = 0.09471957056068445\n",
      "train_lossmean = 4.933128083441307e-5\n",
      "valid_lossmean = 0.0036453188677098743\n",
      "FE = 0.09983999359199036\n"
     ]
    },
    {
     "name": "stderr",
     "output_type": "stream",
     "text": [
      "┌ Info: Epoch 27\n",
      "└ @ Main /Users/raphaelpestourie/.julia/packages/Flux/EXOFx/src/optimise/train.jl:154\n",
      "┌ Info: Epoch 28\n",
      "└ @ Main /Users/raphaelpestourie/.julia/packages/Flux/EXOFx/src/optimise/train.jl:154\n"
     ]
    },
    {
     "name": "stdout",
     "output_type": "stream",
     "text": [
      "train_lossmean = 4.986923879230243e-5\n",
      "valid_lossmean = 0.003365363072918334\n",
      "FE = 0.09592962466794092\n"
     ]
    },
    {
     "name": "stderr",
     "output_type": "stream",
     "text": [
      "┌ Info: Epoch 29\n",
      "└ @ Main /Users/raphaelpestourie/.julia/packages/Flux/EXOFx/src/optimise/train.jl:154\n"
     ]
    },
    {
     "name": "stdout",
     "output_type": "stream",
     "text": [
      "train_lossmean = 4.665246024822941e-5\n",
      "valid_lossmean = 0.0029311664312554287\n",
      "FE = 0.08952761639888561\n",
      "train_lossmean = 4.7203878077137424e-5\n",
      "valid_lossmean = 0.002978218726345098\n",
      "FE = 0.09024332278145447\n"
     ]
    },
    {
     "name": "stderr",
     "output_type": "stream",
     "text": [
      "┌ Info: Epoch 30\n",
      "└ @ Main /Users/raphaelpestourie/.julia/packages/Flux/EXOFx/src/optimise/train.jl:154\n",
      "┌ Info: Epoch 31\n",
      "└ @ Main /Users/raphaelpestourie/.julia/packages/Flux/EXOFx/src/optimise/train.jl:154\n"
     ]
    },
    {
     "name": "stdout",
     "output_type": "stream",
     "text": [
      "train_lossmean = 4.706521022077729e-5\n",
      "valid_lossmean = 0.003413303008482477\n",
      "FE = 0.09661047213424155\n"
     ]
    },
    {
     "name": "stderr",
     "output_type": "stream",
     "text": [
      "┌ Info: Epoch 32\n",
      "└ @ Main /Users/raphaelpestourie/.julia/packages/Flux/EXOFx/src/optimise/train.jl:154\n"
     ]
    },
    {
     "name": "stdout",
     "output_type": "stream",
     "text": [
      "train_lossmean = 4.578567854401638e-5\n",
      "valid_lossmean = 0.0035857006747713103\n",
      "FE = 0.09902020000660179\n",
      "train_lossmean = 4.5882192470271694e-5\n",
      "valid_lossmean = 0.0033308062581258557\n",
      "FE = 0.09543583303994739\n"
     ]
    },
    {
     "name": "stderr",
     "output_type": "stream",
     "text": [
      "┌ Info: Epoch 33\n",
      "└ @ Main /Users/raphaelpestourie/.julia/packages/Flux/EXOFx/src/optimise/train.jl:154\n",
      "┌ Info: Epoch 34\n",
      "└ @ Main /Users/raphaelpestourie/.julia/packages/Flux/EXOFx/src/optimise/train.jl:154\n"
     ]
    },
    {
     "name": "stdout",
     "output_type": "stream",
     "text": [
      "train_lossmean = 4.482862067402885e-5\n",
      "valid_lossmean = 0.002992696270958871\n",
      "FE = 0.09046239967378725\n",
      "train_lossmean = 4.388452022383389e-5\n",
      "valid_lossmean = 0.00256592654092998\n",
      "FE = 0.08376428624269225\n"
     ]
    },
    {
     "name": "stderr",
     "output_type": "stream",
     "text": [
      "┌ Info: Epoch 35\n",
      "└ @ Main /Users/raphaelpestourie/.julia/packages/Flux/EXOFx/src/optimise/train.jl:154\n",
      "┌ Info: Epoch 36\n",
      "└ @ Main /Users/raphaelpestourie/.julia/packages/Flux/EXOFx/src/optimise/train.jl:154\n"
     ]
    },
    {
     "name": "stdout",
     "output_type": "stream",
     "text": [
      "train_lossmean = 4.4547069015329725e-5\n",
      "valid_lossmean = 0.003031362253650399\n",
      "FE = 0.09104491651047726\n"
     ]
    },
    {
     "name": "stderr",
     "output_type": "stream",
     "text": [
      "┌ Info: Epoch 37\n",
      "└ @ Main /Users/raphaelpestourie/.julia/packages/Flux/EXOFx/src/optimise/train.jl:154\n"
     ]
    },
    {
     "name": "stdout",
     "output_type": "stream",
     "text": [
      "train_lossmean = 4.3584501104500574e-5\n",
      "valid_lossmean = 0.002557780907491829\n",
      "FE = 0.0836312240663809\n",
      "train_lossmean = 4.194636650984929e-5\n",
      "valid_lossmean = 0.0026083569313846266\n",
      "FE = 0.08445401344543343\n"
     ]
    },
    {
     "name": "stderr",
     "output_type": "stream",
     "text": [
      "┌ Info: Epoch 38\n",
      "└ @ Main /Users/raphaelpestourie/.julia/packages/Flux/EXOFx/src/optimise/train.jl:154\n"
     ]
    },
    {
     "name": "stdout",
     "output_type": "stream",
     "text": [
      "train_lossmean = 4.322377050283557e-5\n",
      "valid_lossmean = "
     ]
    },
    {
     "name": "stderr",
     "output_type": "stream",
     "text": [
      "┌ Info: Epoch 39\n",
      "└ @ Main /Users/raphaelpestourie/.julia/packages/Flux/EXOFx/src/optimise/train.jl:154\n"
     ]
    },
    {
     "name": "stdout",
     "output_type": "stream",
     "text": [
      "0.002686780138680763\n",
      "FE = 0.0857142140686125\n",
      "train_lossmean = 4.207607929999312e-5\n",
      "valid_lossmean = 0.002951644244125849\n",
      "FE = 0.08983980250930589\n"
     ]
    },
    {
     "name": "stderr",
     "output_type": "stream",
     "text": [
      "┌ Info: Epoch 40\n",
      "└ @ Main /Users/raphaelpestourie/.julia/packages/Flux/EXOFx/src/optimise/train.jl:154\n",
      "┌ Info: Epoch 41\n",
      "└ @ Main /Users/raphaelpestourie/.julia/packages/Flux/EXOFx/src/optimise/train.jl:154\n"
     ]
    },
    {
     "name": "stdout",
     "output_type": "stream",
     "text": [
      "train_lossmean = 4.250355125066368e-5\n",
      "valid_lossmean = 0.002811830237799426\n",
      "FE = 0.08768621644694456\n"
     ]
    },
    {
     "name": "stderr",
     "output_type": "stream",
     "text": [
      "┌ Info: Epoch 42\n",
      "└ @ Main /Users/raphaelpestourie/.julia/packages/Flux/EXOFx/src/optimise/train.jl:154\n"
     ]
    },
    {
     "name": "stdout",
     "output_type": "stream",
     "text": [
      "train_lossmean = 4.070332189092944e-5\n",
      "valid_lossmean = 0.0023166185557704096\n",
      "FE = 0.0795910158993382\n",
      "train_lossmean = 4.0667583940458754e-5\n",
      "valid_lossmean = 0.0020802884545154097\n",
      "FE = 0.07542208987500108\n"
     ]
    },
    {
     "name": "stderr",
     "output_type": "stream",
     "text": [
      "┌ Info: Epoch 43\n",
      "└ @ Main /Users/raphaelpestourie/.julia/packages/Flux/EXOFx/src/optimise/train.jl:154\n",
      "┌ Info: Epoch 44\n",
      "└ @ Main /Users/raphaelpestourie/.julia/packages/Flux/EXOFx/src/optimise/train.jl:154\n"
     ]
    },
    {
     "name": "stdout",
     "output_type": "stream",
     "text": [
      "train_lossmean = 4.014069519925276e-5\n",
      "valid_lossmean = 0.0016735083623331405\n",
      "FE = 0.0676473403155752\n"
     ]
    },
    {
     "name": "stderr",
     "output_type": "stream",
     "text": [
      "┌ Info: Epoch 45\n",
      "└ @ Main /Users/raphaelpestourie/.julia/packages/Flux/EXOFx/src/optimise/train.jl:154\n"
     ]
    },
    {
     "name": "stdout",
     "output_type": "stream",
     "text": [
      "train_lossmean = 3.989204535501301e-5\n",
      "valid_lossmean = 0.0024085322990205203\n",
      "FE = 0.08115457730946943\n",
      "train_lossmean = 3.926606479185719e-5\n",
      "valid_lossmean = 0.0022488024826054264\n"
     ]
    },
    {
     "name": "stderr",
     "output_type": "stream",
     "text": [
      "┌ Info: Epoch 46\n",
      "└ @ Main /Users/raphaelpestourie/.julia/packages/Flux/EXOFx/src/optimise/train.jl:154\n"
     ]
    },
    {
     "name": "stdout",
     "output_type": "stream",
     "text": [
      "FE = 0.0784173999981731\n",
      "train_lossmean = 3.787128913858919e-5\n",
      "valid_lossmean = "
     ]
    },
    {
     "name": "stderr",
     "output_type": "stream",
     "text": [
      "┌ Info: Epoch 47\n",
      "└ @ Main /Users/raphaelpestourie/.julia/packages/Flux/EXOFx/src/optimise/train.jl:154\n"
     ]
    },
    {
     "name": "stdout",
     "output_type": "stream",
     "text": [
      "0.0022548333090057194\n",
      "FE = 0.07852247927581495\n",
      "train_lossmean = 3.7825135280450224e-5\n",
      "valid_lossmean = 0.0024467994672079086\n",
      "FE = 0.08179673550106252\n"
     ]
    },
    {
     "name": "stderr",
     "output_type": "stream",
     "text": [
      "┌ Info: Epoch 48\n",
      "└ @ Main /Users/raphaelpestourie/.julia/packages/Flux/EXOFx/src/optimise/train.jl:154\n",
      "┌ Info: Epoch 49\n",
      "└ @ Main /Users/raphaelpestourie/.julia/packages/Flux/EXOFx/src/optimise/train.jl:154\n"
     ]
    },
    {
     "name": "stdout",
     "output_type": "stream",
     "text": [
      "train_lossmean = 3.73249153288005e-5\n",
      "valid_lossmean = 0.0020254476523506653\n",
      "FE = 0.0744213072571653\n"
     ]
    },
    {
     "name": "stderr",
     "output_type": "stream",
     "text": [
      "┌ Info: Epoch 50\n",
      "└ @ Main /Users/raphaelpestourie/.julia/packages/Flux/EXOFx/src/optimise/train.jl:154\n"
     ]
    },
    {
     "name": "stdout",
     "output_type": "stream",
     "text": [
      "train_lossmean = 3.6960494556014724e-5\n",
      "valid_lossmean = 0.00212957984327924\n",
      "FE = 0.07631040289394989\n",
      "train_lossmean = 3.7821563499368765e-5\n",
      "valid_lossmean = "
     ]
    },
    {
     "name": "stderr",
     "output_type": "stream",
     "text": [
      "┌ Info: Epoch 51\n",
      "└ @ Main /Users/raphaelpestourie/.julia/packages/Flux/EXOFx/src/optimise/train.jl:154\n"
     ]
    },
    {
     "name": "stdout",
     "output_type": "stream",
     "text": [
      "0.0026427563982986306\n",
      "FE = 0.08500908648193338\n",
      "train_lossmean = 3.639198897400983e-5\n",
      "valid_lossmean = 0.0021985397076023125\n",
      "FE = 0.0775360976884851\n"
     ]
    },
    {
     "name": "stderr",
     "output_type": "stream",
     "text": [
      "┌ Info: Epoch 52\n",
      "└ @ Main /Users/raphaelpestourie/.julia/packages/Flux/EXOFx/src/optimise/train.jl:154\n",
      "┌ Info: Epoch 53\n",
      "└ @ Main /Users/raphaelpestourie/.julia/packages/Flux/EXOFx/src/optimise/train.jl:154\n"
     ]
    },
    {
     "name": "stdout",
     "output_type": "stream",
     "text": [
      "train_lossmean = 3.626104341506584e-5\n",
      "valid_lossmean = 0.002231597977546331\n",
      "FE = 0.07811685718161558\n",
      "train_lossmean = 3.4582018644604905e-5\n",
      "valid_lossmean = 0.002577304099622388\n",
      "FE = 0.08394979018135186\n"
     ]
    },
    {
     "name": "stderr",
     "output_type": "stream",
     "text": [
      "┌ Info: Epoch 54\n",
      "└ @ Main /Users/raphaelpestourie/.julia/packages/Flux/EXOFx/src/optimise/train.jl:154\n",
      "┌ Info: Epoch 55\n",
      "└ @ Main /Users/raphaelpestourie/.julia/packages/Flux/EXOFx/src/optimise/train.jl:154\n"
     ]
    },
    {
     "name": "stdout",
     "output_type": "stream",
     "text": [
      "train_lossmean = 3.5224675544849485e-5\n",
      "valid_lossmean = 0.0027256960789578963\n",
      "FE = 0.08633273459825141\n",
      "train_lossmean = 3.363554266813812e-5\n",
      "valid_lossmean = "
     ]
    },
    {
     "name": "stderr",
     "output_type": "stream",
     "text": [
      "┌ Info: Epoch 56\n",
      "└ @ Main /Users/raphaelpestourie/.julia/packages/Flux/EXOFx/src/optimise/train.jl:154\n"
     ]
    },
    {
     "name": "stdout",
     "output_type": "stream",
     "text": [
      "0.002333834421745061\n",
      "FE = 0.07988620734858308\n",
      "train_lossmean = 3.4494370953433246e-5\n",
      "valid_lossmean = 0.0016086536854169082\n",
      "FE = 0.06632359549255248\n"
     ]
    },
    {
     "name": "stderr",
     "output_type": "stream",
     "text": [
      "┌ Info: Epoch 57\n",
      "└ @ Main /Users/raphaelpestourie/.julia/packages/Flux/EXOFx/src/optimise/train.jl:154\n",
      "┌ Info: Epoch 58\n",
      "└ @ Main /Users/raphaelpestourie/.julia/packages/Flux/EXOFx/src/optimise/train.jl:154\n"
     ]
    },
    {
     "name": "stdout",
     "output_type": "stream",
     "text": [
      "train_lossmean = 3.409391832675292e-5\n",
      "valid_lossmean = 0.0021777420244555807\n",
      "FE = 0.07716848936857774\n",
      "train_lossmean = 3.3017104732492385e-5\n",
      "valid_lossmean = 0.0022045162512197547\n",
      "FE = 0.07764141381457997\n"
     ]
    },
    {
     "name": "stderr",
     "output_type": "stream",
     "text": [
      "┌ Info: Epoch 59\n",
      "└ @ Main /Users/raphaelpestourie/.julia/packages/Flux/EXOFx/src/optimise/train.jl:154\n",
      "┌ Info: Epoch 60\n",
      "└ @ Main /Users/raphaelpestourie/.julia/packages/Flux/EXOFx/src/optimise/train.jl:154\n"
     ]
    },
    {
     "name": "stdout",
     "output_type": "stream",
     "text": [
      "train_lossmean = 3.297396947963289e-5\n",
      "valid_lossmean = 0.0024033891193742983\n",
      "FE = 0.08106788226418654\n",
      "train_lossmean = 3.264677811915542e-5\n",
      "valid_lossmean = "
     ]
    },
    {
     "name": "stderr",
     "output_type": "stream",
     "text": [
      "┌ Info: Epoch 61\n",
      "└ @ Main /Users/raphaelpestourie/.julia/packages/Flux/EXOFx/src/optimise/train.jl:154\n"
     ]
    },
    {
     "name": "stdout",
     "output_type": "stream",
     "text": [
      "0.0019665849903486203\n",
      "FE = 0.07333193466259053\n",
      "train_lossmean = 3.376415015008579e-5\n",
      "valid_lossmean = 0.0016177001694626192\n",
      "FE = 0.06650982394511035\n"
     ]
    },
    {
     "name": "stderr",
     "output_type": "stream",
     "text": [
      "┌ Info: Epoch 62\n",
      "└ @ Main /Users/raphaelpestourie/.julia/packages/Flux/EXOFx/src/optimise/train.jl:154\n",
      "┌ Info: Epoch 63\n",
      "└ @ Main /Users/raphaelpestourie/.julia/packages/Flux/EXOFx/src/optimise/train.jl:154\n"
     ]
    },
    {
     "name": "stdout",
     "output_type": "stream",
     "text": [
      "train_lossmean = 3.251505326293407e-5\n",
      "valid_lossmean = 0.0019807454640150663\n",
      "FE = 0.07359547586410446\n"
     ]
    },
    {
     "name": "stderr",
     "output_type": "stream",
     "text": [
      "┌ Info: Epoch 64\n",
      "└ @ Main /Users/raphaelpestourie/.julia/packages/Flux/EXOFx/src/optimise/train.jl:154\n"
     ]
    },
    {
     "name": "stdout",
     "output_type": "stream",
     "text": [
      "train_lossmean = 3.08008359479357e-5\n",
      "valid_lossmean = 0.0016252351715745831\n",
      "FE = 0.0666645403308712\n",
      "train_lossmean = 3.175768104161445e-5\n",
      "valid_lossmean = 0.0021741292596300366\n",
      "FE = 0.07710445347216989\n"
     ]
    },
    {
     "name": "stderr",
     "output_type": "stream",
     "text": [
      "┌ Info: Epoch 65\n",
      "└ @ Main /Users/raphaelpestourie/.julia/packages/Flux/EXOFx/src/optimise/train.jl:154\n",
      "┌ Info: Epoch 66\n",
      "└ @ Main /Users/raphaelpestourie/.julia/packages/Flux/EXOFx/src/optimise/train.jl:154\n"
     ]
    },
    {
     "name": "stdout",
     "output_type": "stream",
     "text": [
      "train_lossmean = 3.20686178759235e-5\n",
      "valid_lossmean = 0.002269603875955412\n",
      "FE = 0.0787792451173047\n",
      "train_lossmean = 3.140318649836051e-5\n",
      "valid_lossmean = 0.00212562625515171\n",
      "FE = 0.0762395344404236\n"
     ]
    },
    {
     "name": "stderr",
     "output_type": "stream",
     "text": [
      "┌ Info: Epoch 67\n",
      "└ @ Main /Users/raphaelpestourie/.julia/packages/Flux/EXOFx/src/optimise/train.jl:154\n",
      "┌ Info: Epoch 68\n",
      "└ @ Main /Users/raphaelpestourie/.julia/packages/Flux/EXOFx/src/optimise/train.jl:154\n"
     ]
    },
    {
     "name": "stdout",
     "output_type": "stream",
     "text": [
      "train_lossmean = 3.140796192638702e-5\n",
      "valid_lossmean = 0.0023493687546645714\n",
      "FE = 0.08015163336600858\n"
     ]
    },
    {
     "name": "stderr",
     "output_type": "stream",
     "text": [
      "┌ Info: Epoch 69\n",
      "└ @ Main /Users/raphaelpestourie/.julia/packages/Flux/EXOFx/src/optimise/train.jl:154\n"
     ]
    },
    {
     "name": "stdout",
     "output_type": "stream",
     "text": [
      "train_lossmean = 3.0407112442371432e-5\n",
      "valid_lossmean = 0.0018901258044887463\n",
      "FE = 0.07189226034611158\n",
      "train_lossmean = 3.0537708891717445e-5\n",
      "valid_lossmean = 0.0013861573302294517\n",
      "FE = 0.06156629879198593\n"
     ]
    },
    {
     "name": "stderr",
     "output_type": "stream",
     "text": [
      "┌ Info: Epoch 70\n",
      "└ @ Main /Users/raphaelpestourie/.julia/packages/Flux/EXOFx/src/optimise/train.jl:154\n",
      "┌ Info: Epoch 71\n",
      "└ @ Main /Users/raphaelpestourie/.julia/packages/Flux/EXOFx/src/optimise/train.jl:154\n"
     ]
    },
    {
     "name": "stdout",
     "output_type": "stream",
     "text": [
      "train_lossmean = 3.0502102319936395e-5\n",
      "valid_lossmean = 0.001419898437394241\n",
      "FE = 0.06231110075856407\n",
      "train_lossmean = 2.9755729625584013e-5\n",
      "valid_lossmean = 0.0014559032973517079\n",
      "FE = 0.06309617720891253\n"
     ]
    },
    {
     "name": "stderr",
     "output_type": "stream",
     "text": [
      "┌ Info: Epoch 72\n",
      "└ @ Main /Users/raphaelpestourie/.julia/packages/Flux/EXOFx/src/optimise/train.jl:154\n",
      "┌ Info: Epoch 73\n",
      "└ @ Main /Users/raphaelpestourie/.julia/packages/Flux/EXOFx/src/optimise/train.jl:154\n"
     ]
    },
    {
     "name": "stdout",
     "output_type": "stream",
     "text": [
      "train_lossmean = 2.998802000220419e-5\n",
      "valid_lossmean = 0.0015979146175925734\n",
      "FE = 0.06610184288698914\n"
     ]
    },
    {
     "name": "stderr",
     "output_type": "stream",
     "text": [
      "┌ Info: Epoch 74\n",
      "└ @ Main /Users/raphaelpestourie/.julia/packages/Flux/EXOFx/src/optimise/train.jl:154\n"
     ]
    },
    {
     "name": "stdout",
     "output_type": "stream",
     "text": [
      "train_lossmean = 2.9492879525971166e-5\n",
      "valid_lossmean = 0.0015815762138258825\n",
      "FE = 0.06576303457650925\n",
      "train_lossmean = 2.928002597055843e-5\n",
      "valid_lossmean = 0.001945065067460333\n",
      "FE = 0.07292960306550686\n"
     ]
    },
    {
     "name": "stderr",
     "output_type": "stream",
     "text": [
      "┌ Info: Epoch 75\n",
      "└ @ Main /Users/raphaelpestourie/.julia/packages/Flux/EXOFx/src/optimise/train.jl:154\n",
      "┌ Info: Epoch 76\n",
      "└ @ Main /Users/raphaelpestourie/.julia/packages/Flux/EXOFx/src/optimise/train.jl:154\n"
     ]
    },
    {
     "name": "stdout",
     "output_type": "stream",
     "text": [
      "train_lossmean = 2.9106135516521865e-5\n",
      "valid_lossmean = 0.0018647938958074237\n",
      "FE = 0.07140887682324235\n",
      "train_lossmean = 2.80194284386876e-5\n",
      "valid_lossmean = 0.002157167878926966\n"
     ]
    },
    {
     "name": "stderr",
     "output_type": "stream",
     "text": [
      "┌ Info: Epoch 77\n",
      "└ @ Main /Users/raphaelpestourie/.julia/packages/Flux/EXOFx/src/optimise/train.jl:154\n"
     ]
    },
    {
     "name": "stdout",
     "output_type": "stream",
     "text": [
      "FE = 0.0768031009502565\n",
      "train_lossmean = 2.8869352557049412e-5\n",
      "valid_lossmean = 0.0015856955823903706\n",
      "FE = 0.06584862198183851\n"
     ]
    },
    {
     "name": "stderr",
     "output_type": "stream",
     "text": [
      "┌ Info: Epoch 78\n",
      "└ @ Main /Users/raphaelpestourie/.julia/packages/Flux/EXOFx/src/optimise/train.jl:154\n",
      "┌ Info: Epoch 79\n",
      "└ @ Main /Users/raphaelpestourie/.julia/packages/Flux/EXOFx/src/optimise/train.jl:154\n"
     ]
    },
    {
     "name": "stdout",
     "output_type": "stream",
     "text": [
      "train_lossmean = 2.830018000179496e-5\n",
      "valid_lossmean = 0.00134599001954359\n",
      "FE = 0.060667724031149464\n",
      "train_lossmean = 2.92596650101331e-5\n",
      "valid_lossmean = 0.0016669717618404646\n"
     ]
    },
    {
     "name": "stderr",
     "output_type": "stream",
     "text": [
      "┌ Info: Epoch 80\n",
      "└ @ Main /Users/raphaelpestourie/.julia/packages/Flux/EXOFx/src/optimise/train.jl:154\n"
     ]
    },
    {
     "name": "stdout",
     "output_type": "stream",
     "text": [
      "FE = 0.06751509829112332\n",
      "train_lossmean = 2.7621785129537314e-5\n",
      "valid_lossmean = 0.0016107704735445344\n",
      "FE = 0.06636721794722493\n"
     ]
    },
    {
     "name": "stderr",
     "output_type": "stream",
     "text": [
      "┌ Info: Epoch 81\n",
      "└ @ Main /Users/raphaelpestourie/.julia/packages/Flux/EXOFx/src/optimise/train.jl:154\n",
      "┌ Info: Epoch 82\n",
      "└ @ Main /Users/raphaelpestourie/.julia/packages/Flux/EXOFx/src/optimise/train.jl:154\n"
     ]
    },
    {
     "name": "stdout",
     "output_type": "stream",
     "text": [
      "train_lossmean = 2.7740179549518667e-5\n",
      "valid_lossmean = 0.0016316103930866075\n",
      "FE = 0.0667951630408029\n",
      "train_lossmean = 2.6824794544513797e-5\n",
      "valid_lossmean = 0.001738305603970013\n",
      "FE = 0.06894453516623988\n"
     ]
    },
    {
     "name": "stderr",
     "output_type": "stream",
     "text": [
      "┌ Info: Epoch 83\n",
      "└ @ Main /Users/raphaelpestourie/.julia/packages/Flux/EXOFx/src/optimise/train.jl:154\n",
      "┌ Info: Epoch 84\n",
      "└ @ Main /Users/raphaelpestourie/.julia/packages/Flux/EXOFx/src/optimise/train.jl:154\n"
     ]
    },
    {
     "name": "stdout",
     "output_type": "stream",
     "text": [
      "train_lossmean = 2.73985443883851e-5\n",
      "valid_lossmean = 0.0012555942196180113\n",
      "FE = 0.05859511845758533\n",
      "train_lossmean = 2.835692003620728e-5\n",
      "valid_lossmean = 0.0012824079200705147\n"
     ]
    },
    {
     "name": "stderr",
     "output_type": "stream",
     "text": [
      "┌ Info: Epoch 85\n",
      "└ @ Main /Users/raphaelpestourie/.julia/packages/Flux/EXOFx/src/optimise/train.jl:154\n"
     ]
    },
    {
     "name": "stdout",
     "output_type": "stream",
     "text": [
      "FE = 0.05921747406360349\n",
      "train_lossmean = 2.767452466947275e-5\n",
      "valid_lossmean = 0.0015159316071829147\n",
      "FE = 0.06438379720751408\n"
     ]
    },
    {
     "name": "stderr",
     "output_type": "stream",
     "text": [
      "┌ Info: Epoch 86\n",
      "└ @ Main /Users/raphaelpestourie/.julia/packages/Flux/EXOFx/src/optimise/train.jl:154\n",
      "┌ Info: Epoch 87\n",
      "└ @ Main /Users/raphaelpestourie/.julia/packages/Flux/EXOFx/src/optimise/train.jl:154\n"
     ]
    },
    {
     "name": "stdout",
     "output_type": "stream",
     "text": [
      "train_lossmean = 2.518310149974492e-5\n",
      "valid_lossmean = 0.0017202754329827784\n",
      "FE = 0.06858604757489528\n",
      "train_lossmean = 2.6609470272385157e-5\n",
      "valid_lossmean = 0.0016071237788878301\n",
      "FE = 0.06629204953594954\n"
     ]
    },
    {
     "name": "stderr",
     "output_type": "stream",
     "text": [
      "┌ Info: Epoch 88\n",
      "└ @ Main /Users/raphaelpestourie/.julia/packages/Flux/EXOFx/src/optimise/train.jl:154\n",
      "┌ Info: Epoch 89\n",
      "└ @ Main /Users/raphaelpestourie/.julia/packages/Flux/EXOFx/src/optimise/train.jl:154\n"
     ]
    },
    {
     "name": "stdout",
     "output_type": "stream",
     "text": [
      "train_lossmean = 2.722735786617609e-5\n",
      "valid_lossmean = 0.001482045236023519\n",
      "FE = 0.06366012874362628\n",
      "train_lossmean = 2.697941055083535e-5\n",
      "valid_lossmean = 0.0017071870668627237\n"
     ]
    },
    {
     "name": "stderr",
     "output_type": "stream",
     "text": [
      "┌ Info: Epoch 90\n",
      "└ @ Main /Users/raphaelpestourie/.julia/packages/Flux/EXOFx/src/optimise/train.jl:154\n"
     ]
    },
    {
     "name": "stdout",
     "output_type": "stream",
     "text": [
      "FE = 0.06832463790082664\n",
      "train_lossmean = 2.7229472430876398e-5\n",
      "valid_lossmean = 0.0015472588227178107\n",
      "FE = 0.06504565130196471\n"
     ]
    },
    {
     "name": "stderr",
     "output_type": "stream",
     "text": [
      "┌ Info: Epoch 91\n",
      "└ @ Main /Users/raphaelpestourie/.julia/packages/Flux/EXOFx/src/optimise/train.jl:154\n",
      "┌ Info: Epoch 92\n",
      "└ @ Main /Users/raphaelpestourie/.julia/packages/Flux/EXOFx/src/optimise/train.jl:154\n"
     ]
    },
    {
     "name": "stdout",
     "output_type": "stream",
     "text": [
      "train_lossmean = 2.6530021314637584e-5\n",
      "valid_lossmean = 0.0018726031403387743\n",
      "FE = 0.07155824099177659\n",
      "train_lossmean = 2.58958638636573e-5\n",
      "valid_lossmean = "
     ]
    },
    {
     "name": "stderr",
     "output_type": "stream",
     "text": [
      "┌ Info: Epoch 93\n",
      "└ @ Main /Users/raphaelpestourie/.julia/packages/Flux/EXOFx/src/optimise/train.jl:154\n"
     ]
    },
    {
     "name": "stdout",
     "output_type": "stream",
     "text": [
      "0.0015120276318911446\n",
      "FE = 0.06430084003845193\n",
      "train_lossmean = 2.565899410171815e-5\n",
      "valid_lossmean = 0.0013876202401524394\n",
      "FE = 0.06159877786082954\n"
     ]
    },
    {
     "name": "stderr",
     "output_type": "stream",
     "text": [
      "┌ Info: Epoch 94\n",
      "└ @ Main /Users/raphaelpestourie/.julia/packages/Flux/EXOFx/src/optimise/train.jl:154\n",
      "┌ Info: Epoch 95\n",
      "└ @ Main /Users/raphaelpestourie/.julia/packages/Flux/EXOFx/src/optimise/train.jl:154\n"
     ]
    },
    {
     "name": "stdout",
     "output_type": "stream",
     "text": [
      "train_lossmean = 2.566514348013544e-5\n",
      "valid_lossmean = 0.0014578286675437152\n",
      "FE = 0.06313788442991897\n",
      "train_lossmean = 2.4816949640277562e-5\n",
      "valid_lossmean = 0.0016030807603379677\n",
      "FE = 0.06620861204177912\n"
     ]
    },
    {
     "name": "stderr",
     "output_type": "stream",
     "text": [
      "┌ Info: Epoch 96\n",
      "└ @ Main /Users/raphaelpestourie/.julia/packages/Flux/EXOFx/src/optimise/train.jl:154\n",
      "┌ Info: Epoch 97\n",
      "└ @ Main /Users/raphaelpestourie/.julia/packages/Flux/EXOFx/src/optimise/train.jl:154\n"
     ]
    },
    {
     "name": "stdout",
     "output_type": "stream",
     "text": [
      "train_lossmean = 2.4755968186766107e-5\n",
      "valid_lossmean = 0.0014300193784369402\n",
      "FE = 0.06253278110751757\n",
      "train_lossmean = 2.5108080596598776e-5\n",
      "valid_lossmean = "
     ]
    },
    {
     "name": "stderr",
     "output_type": "stream",
     "text": [
      "┌ Info: Epoch 98\n",
      "└ @ Main /Users/raphaelpestourie/.julia/packages/Flux/EXOFx/src/optimise/train.jl:154\n"
     ]
    },
    {
     "name": "stdout",
     "output_type": "stream",
     "text": [
      "0.0015228761436170911\n",
      "FE = 0.06453110092813433\n",
      "train_lossmean = 2.5462090768060397e-5\n",
      "valid_lossmean = 0.001407804106645193\n",
      "FE = 0.062045158251847324\n"
     ]
    },
    {
     "name": "stderr",
     "output_type": "stream",
     "text": [
      "┌ Info: Epoch 99\n",
      "└ @ Main /Users/raphaelpestourie/.julia/packages/Flux/EXOFx/src/optimise/train.jl:154\n",
      "┌ Info: Epoch 100\n",
      "└ @ Main /Users/raphaelpestourie/.julia/packages/Flux/EXOFx/src/optimise/train.jl:154\n"
     ]
    },
    {
     "name": "stdout",
     "output_type": "stream",
     "text": [
      "train_lossmean = 2.554010997517765e-5\n",
      "valid_lossmean = 0.0014919802242506857\n",
      "FE = 0.06387314728495234\n"
     ]
    },
    {
     "name": "stderr",
     "output_type": "stream",
     "text": [
      "┌ Info: Epoch 101\n",
      "└ @ Main /Users/raphaelpestourie/.julia/packages/Flux/EXOFx/src/optimise/train.jl:154\n"
     ]
    },
    {
     "name": "stdout",
     "output_type": "stream",
     "text": [
      "train_lossmean = 2.402994961370238e-5\n",
      "valid_lossmean = 0.001337911523805386\n",
      "FE = 0.06048538926393479\n",
      "train_lossmean = 2.421007957734523e-5\n",
      "valid_lossmean = 0.0014659494764581468\n",
      "FE = 0.06331349444797692\n"
     ]
    },
    {
     "name": "stderr",
     "output_type": "stream",
     "text": [
      "┌ Info: Epoch 102\n",
      "└ @ Main /Users/raphaelpestourie/.julia/packages/Flux/EXOFx/src/optimise/train.jl:154\n",
      "┌ Info: Epoch 103\n",
      "└ @ Main /Users/raphaelpestourie/.julia/packages/Flux/EXOFx/src/optimise/train.jl:154\n"
     ]
    },
    {
     "name": "stdout",
     "output_type": "stream",
     "text": [
      "train_lossmean = 2.4964684074374983e-5\n",
      "valid_lossmean = 0.0012976955167978452\n",
      "FE = 0.05956939438865576\n",
      "train_lossmean = 2.4846751437160247e-5\n",
      "valid_lossmean = 0.0014739636528237497\n",
      "FE = 0.0634863223408494\n"
     ]
    },
    {
     "name": "stderr",
     "output_type": "stream",
     "text": [
      "┌ Info: Epoch 104\n",
      "└ @ Main /Users/raphaelpestourie/.julia/packages/Flux/EXOFx/src/optimise/train.jl:154\n",
      "┌ Info: Epoch 105\n",
      "└ @ Main /Users/raphaelpestourie/.julia/packages/Flux/EXOFx/src/optimise/train.jl:154\n"
     ]
    },
    {
     "name": "stdout",
     "output_type": "stream",
     "text": [
      "train_lossmean = 2.5012121602752492e-5\n",
      "valid_lossmean = 0.0013627252530019425\n",
      "FE = 0.06104371200506382\n",
      "train_lossmean = 2.4582810121307426e-5\n",
      "valid_lossmean = "
     ]
    },
    {
     "name": "stderr",
     "output_type": "stream",
     "text": [
      "┌ Info: Epoch 106\n",
      "└ @ Main /Users/raphaelpestourie/.julia/packages/Flux/EXOFx/src/optimise/train.jl:154\n"
     ]
    },
    {
     "name": "stdout",
     "output_type": "stream",
     "text": [
      "0.0013145080722467635\n",
      "FE = 0.05995403421729126\n",
      "train_lossmean = 2.4387082451403827e-5\n",
      "valid_lossmean = 0.0011166461118848699\n",
      "FE = 0.05525792362049184\n"
     ]
    },
    {
     "name": "stderr",
     "output_type": "stream",
     "text": [
      "┌ Info: Epoch 107\n",
      "└ @ Main /Users/raphaelpestourie/.julia/packages/Flux/EXOFx/src/optimise/train.jl:154\n",
      "┌ Info: Epoch 108\n",
      "└ @ Main /Users/raphaelpestourie/.julia/packages/Flux/EXOFx/src/optimise/train.jl:154\n"
     ]
    },
    {
     "name": "stdout",
     "output_type": "stream",
     "text": [
      "train_lossmean = 2.3363656820168034e-5\n",
      "valid_lossmean = 0.0012664361102977814\n",
      "FE = 0.05884755525368931\n",
      "train_lossmean = 2.417420274337612e-5\n",
      "valid_lossmean = "
     ]
    },
    {
     "name": "stderr",
     "output_type": "stream",
     "text": [
      "┌ Info: Epoch 109\n",
      "└ @ Main /Users/raphaelpestourie/.julia/packages/Flux/EXOFx/src/optimise/train.jl:154\n"
     ]
    },
    {
     "name": "stdout",
     "output_type": "stream",
     "text": [
      "0.0011857851489376174\n",
      "FE = 0.05694292687136433\n",
      "train_lossmean = 2.3923905866045625e-5\n",
      "valid_lossmean = 0.0016776084559143843\n",
      "FE = 0.06773015757441354\n"
     ]
    },
    {
     "name": "stderr",
     "output_type": "stream",
     "text": [
      "┌ Info: Epoch 110\n",
      "└ @ Main /Users/raphaelpestourie/.julia/packages/Flux/EXOFx/src/optimise/train.jl:154\n",
      "┌ Info: Epoch 111\n",
      "└ @ Main /Users/raphaelpestourie/.julia/packages/Flux/EXOFx/src/optimise/train.jl:154\n"
     ]
    },
    {
     "name": "stdout",
     "output_type": "stream",
     "text": [
      "train_lossmean = 2.326496338411684e-5\n",
      "valid_lossmean = 0.0014725489853318627\n",
      "FE = 0.06345584886332625\n",
      "train_lossmean = 2.3661422279342816e-5\n",
      "valid_lossmean = 0.0014023622590898237\n",
      "FE = 0.061925124786502146\n"
     ]
    },
    {
     "name": "stderr",
     "output_type": "stream",
     "text": [
      "┌ Info: Epoch 112\n",
      "└ @ Main /Users/raphaelpestourie/.julia/packages/Flux/EXOFx/src/optimise/train.jl:154\n",
      "┌ Info: Epoch 113\n",
      "└ @ Main /Users/raphaelpestourie/.julia/packages/Flux/EXOFx/src/optimise/train.jl:154\n"
     ]
    },
    {
     "name": "stdout",
     "output_type": "stream",
     "text": [
      "train_lossmean = 2.2616018473218725e-5\n",
      "valid_lossmean = 0.00110287378601977\n",
      "FE = 0.054916100335369616\n",
      "train_lossmean = 2.3124631149501193e-5\n",
      "valid_lossmean = 0.0011755747146353587\n"
     ]
    },
    {
     "name": "stderr",
     "output_type": "stream",
     "text": [
      "┌ Info: Epoch 114\n",
      "└ @ Main /Users/raphaelpestourie/.julia/packages/Flux/EXOFx/src/optimise/train.jl:154\n"
     ]
    },
    {
     "name": "stdout",
     "output_type": "stream",
     "text": [
      "FE = 0.0566972377503573\n",
      "train_lossmean = 2.308721024149974e-5\n",
      "valid_lossmean = 0.0014472012932489706\n",
      "FE = 0.06290733015453073\n"
     ]
    },
    {
     "name": "stderr",
     "output_type": "stream",
     "text": [
      "┌ Info: Epoch 115\n",
      "└ @ Main /Users/raphaelpestourie/.julia/packages/Flux/EXOFx/src/optimise/train.jl:154\n",
      "┌ Info: Epoch 116\n",
      "└ @ Main /Users/raphaelpestourie/.julia/packages/Flux/EXOFx/src/optimise/train.jl:154\n"
     ]
    },
    {
     "name": "stdout",
     "output_type": "stream",
     "text": [
      "train_lossmean = 2.261712281580499e-5\n",
      "valid_lossmean = 0.001489000947557657\n",
      "FE = 0.06380934252754637\n"
     ]
    },
    {
     "name": "stderr",
     "output_type": "stream",
     "text": [
      "┌ Info: Epoch 117\n",
      "└ @ Main /Users/raphaelpestourie/.julia/packages/Flux/EXOFx/src/optimise/train.jl:154\n"
     ]
    },
    {
     "name": "stdout",
     "output_type": "stream",
     "text": [
      "train_lossmean = 2.3604475550434592e-5\n",
      "valid_lossmean = 0.001190653118395899\n",
      "FE = 0.05705969023274018\n",
      "train_lossmean = 2.2932744781800143e-5\n",
      "valid_lossmean = 0.001343776876900709\n",
      "FE = 0.06061782709194977\n"
     ]
    },
    {
     "name": "stderr",
     "output_type": "stream",
     "text": [
      "┌ Info: Epoch 118\n",
      "└ @ Main /Users/raphaelpestourie/.julia/packages/Flux/EXOFx/src/optimise/train.jl:154\n",
      "┌ Info: Epoch 119\n",
      "└ @ Main /Users/raphaelpestourie/.julia/packages/Flux/EXOFx/src/optimise/train.jl:154\n"
     ]
    },
    {
     "name": "stdout",
     "output_type": "stream",
     "text": [
      "train_lossmean = 2.2178485663339867e-5\n",
      "valid_lossmean = 0.0011713828127863928\n",
      "FE = 0.05659606106479887\n",
      "train_lossmean = 2.3825445843649854e-5\n",
      "valid_lossmean = 0.001237826764980533\n"
     ]
    },
    {
     "name": "stderr",
     "output_type": "stream",
     "text": [
      "┌ Info: Epoch 120\n",
      "└ @ Main /Users/raphaelpestourie/.julia/packages/Flux/EXOFx/src/optimise/train.jl:154\n"
     ]
    },
    {
     "name": "stdout",
     "output_type": "stream",
     "text": [
      "FE = 0.05817906230215419\n",
      "train_lossmean = 2.273570281562523e-5\n",
      "valid_lossmean = 0.0015621993583929139\n",
      "FE = 0.06535894152860494\n"
     ]
    },
    {
     "name": "stderr",
     "output_type": "stream",
     "text": [
      "┌ Info: Epoch 121\n",
      "└ @ Main /Users/raphaelpestourie/.julia/packages/Flux/EXOFx/src/optimise/train.jl:154\n",
      "┌ Info: Epoch 122\n",
      "└ @ Main /Users/raphaelpestourie/.julia/packages/Flux/EXOFx/src/optimise/train.jl:154\n"
     ]
    },
    {
     "name": "stdout",
     "output_type": "stream",
     "text": [
      "train_lossmean = 2.4332377590699325e-5\n",
      "valid_lossmean = 0.0014364622195821401\n",
      "FE = 0.06267349108826999\n",
      "train_lossmean = 2.3836537882333712e-5\n",
      "valid_lossmean = 0.0010794188676504265\n",
      "FE = 0.05432900924904189\n"
     ]
    },
    {
     "name": "stderr",
     "output_type": "stream",
     "text": [
      "┌ Info: Epoch 123\n",
      "└ @ Main /Users/raphaelpestourie/.julia/packages/Flux/EXOFx/src/optimise/train.jl:154\n",
      "┌ Info: Epoch 124\n",
      "└ @ Main /Users/raphaelpestourie/.julia/packages/Flux/EXOFx/src/optimise/train.jl:154\n"
     ]
    },
    {
     "name": "stdout",
     "output_type": "stream",
     "text": [
      "train_lossmean = 2.3273452016250563e-5\n",
      "valid_lossmean = 0.0012135125331554568\n",
      "FE = 0.05760483218666182\n",
      "train_lossmean = 2.1793801044557596e-5\n",
      "valid_lossmean = "
     ]
    },
    {
     "name": "stderr",
     "output_type": "stream",
     "text": [
      "┌ Info: Epoch 125\n",
      "└ @ Main /Users/raphaelpestourie/.julia/packages/Flux/EXOFx/src/optimise/train.jl:154\n"
     ]
    },
    {
     "name": "stdout",
     "output_type": "stream",
     "text": [
      "0.0010449234433989247\n",
      "FE = 0.05345385351709741\n",
      "train_lossmean = 2.251699995666178e-5\n",
      "valid_lossmean = 0.001025608719006259\n",
      "FE = 0.052957519508365906\n"
     ]
    },
    {
     "name": "stderr",
     "output_type": "stream",
     "text": [
      "┌ Info: Epoch 126\n",
      "└ @ Main /Users/raphaelpestourie/.julia/packages/Flux/EXOFx/src/optimise/train.jl:154\n",
      "┌ Info: Epoch 127\n",
      "└ @ Main /Users/raphaelpestourie/.julia/packages/Flux/EXOFx/src/optimise/train.jl:154\n"
     ]
    },
    {
     "name": "stdout",
     "output_type": "stream",
     "text": [
      "train_lossmean = 2.313572897192406e-5\n",
      "valid_lossmean = 0.001410456749594364\n",
      "FE = 0.06210358477401352\n",
      "train_lossmean = 2.2893759274218055e-5\n",
      "valid_lossmean = 0.0018135090063636753\n",
      "FE = 0.07042010059335028\n"
     ]
    },
    {
     "name": "stderr",
     "output_type": "stream",
     "text": [
      "┌ Info: Epoch 128\n",
      "└ @ Main /Users/raphaelpestourie/.julia/packages/Flux/EXOFx/src/optimise/train.jl:154\n",
      "┌ Info: Epoch 129\n",
      "└ @ Main /Users/raphaelpestourie/.julia/packages/Flux/EXOFx/src/optimise/train.jl:154\n"
     ]
    },
    {
     "name": "stdout",
     "output_type": "stream",
     "text": [
      "train_lossmean = 2.3094708203305427e-5\n",
      "valid_lossmean = 0.0013217322881082147\n",
      "FE = 0.06011855486269628\n",
      "train_lossmean = 2.182634280101926e-5\n",
      "valid_lossmean = 0.001065285247008309\n"
     ]
    },
    {
     "name": "stderr",
     "output_type": "stream",
     "text": [
      "┌ Info: Epoch 130\n",
      "└ @ Main /Users/raphaelpestourie/.julia/packages/Flux/EXOFx/src/optimise/train.jl:154\n"
     ]
    },
    {
     "name": "stdout",
     "output_type": "stream",
     "text": [
      "FE = 0.05397215252826609\n",
      "train_lossmean = 2.2919967645594544e-5\n",
      "valid_lossmean = 0.0012287481890136702\n",
      "FE = 0.05796531871499674\n"
     ]
    },
    {
     "name": "stderr",
     "output_type": "stream",
     "text": [
      "┌ Info: Epoch 131\n",
      "└ @ Main /Users/raphaelpestourie/.julia/packages/Flux/EXOFx/src/optimise/train.jl:154\n",
      "┌ Info: Epoch 132\n",
      "└ @ Main /Users/raphaelpestourie/.julia/packages/Flux/EXOFx/src/optimise/train.jl:154\n"
     ]
    },
    {
     "name": "stdout",
     "output_type": "stream",
     "text": [
      "train_lossmean = 2.2388604444782566e-5\n",
      "valid_lossmean = 0.0014162336489768502\n",
      "FE = 0.062230635658609715\n",
      "train_lossmean = 2.2749917572548696e-5\n",
      "valid_lossmean = "
     ]
    },
    {
     "name": "stderr",
     "output_type": "stream",
     "text": [
      "┌ Info: Epoch 133\n",
      "└ @ Main /Users/raphaelpestourie/.julia/packages/Flux/EXOFx/src/optimise/train.jl:154\n"
     ]
    },
    {
     "name": "stdout",
     "output_type": "stream",
     "text": [
      "0.001569221562946465\n",
      "FE = 0.06550567351930316\n",
      "train_lossmean = 2.1924122606696377e-5\n",
      "valid_lossmean = 0.001106569919141337\n",
      "FE = 0.05500804532562783\n"
     ]
    },
    {
     "name": "stderr",
     "output_type": "stream",
     "text": [
      "┌ Info: Epoch 134\n",
      "└ @ Main /Users/raphaelpestourie/.julia/packages/Flux/EXOFx/src/optimise/train.jl:154\n",
      "┌ Info: Epoch 135\n",
      "└ @ Main /Users/raphaelpestourie/.julia/packages/Flux/EXOFx/src/optimise/train.jl:154\n"
     ]
    },
    {
     "name": "stdout",
     "output_type": "stream",
     "text": [
      "train_lossmean = 2.2273977761860804e-5\n",
      "valid_lossmean = 0.0012288807468029633\n",
      "FE = 0.05796844529021891\n",
      "train_lossmean = 2.2269570450022637e-5\n",
      "valid_lossmean = 0.00118886223493921\n",
      "FE = 0.05701676181468773\n"
     ]
    },
    {
     "name": "stderr",
     "output_type": "stream",
     "text": [
      "┌ Info: Epoch 136\n",
      "└ @ Main /Users/raphaelpestourie/.julia/packages/Flux/EXOFx/src/optimise/train.jl:154\n",
      "┌ Info: Epoch 137\n",
      "└ @ Main /Users/raphaelpestourie/.julia/packages/Flux/EXOFx/src/optimise/train.jl:154\n"
     ]
    },
    {
     "name": "stdout",
     "output_type": "stream",
     "text": [
      "train_lossmean = 2.2019615372864662e-5\n",
      "valid_lossmean = 0.0012836164394069845\n",
      "FE = 0.05924537026135977\n",
      "train_lossmean = 2.3273331255601046e-5\n",
      "valid_lossmean = "
     ]
    },
    {
     "name": "stderr",
     "output_type": "stream",
     "text": [
      "┌ Info: Epoch 138\n",
      "└ @ Main /Users/raphaelpestourie/.julia/packages/Flux/EXOFx/src/optimise/train.jl:154\n"
     ]
    },
    {
     "name": "stdout",
     "output_type": "stream",
     "text": [
      "0.0017369270711036972\n",
      "FE = 0.06891719211509637\n",
      "train_lossmean = 2.1595495637162872e-5\n",
      "valid_lossmean = 0.0013130474243523095\n",
      "FE = 0.059920715260912\n"
     ]
    },
    {
     "name": "stderr",
     "output_type": "stream",
     "text": [
      "┌ Info: Epoch 139\n",
      "└ @ Main /Users/raphaelpestourie/.julia/packages/Flux/EXOFx/src/optimise/train.jl:154\n",
      "┌ Info: Epoch 140\n",
      "└ @ Main /Users/raphaelpestourie/.julia/packages/Flux/EXOFx/src/optimise/train.jl:154\n"
     ]
    },
    {
     "name": "stdout",
     "output_type": "stream",
     "text": [
      "train_lossmean = 2.2295588609681445e-5\n",
      "valid_lossmean = 0.0012929209708998953\n",
      "FE = 0.05945970806531281\n",
      "train_lossmean = 2.1596828745825727e-5\n",
      "valid_lossmean = "
     ]
    },
    {
     "name": "stderr",
     "output_type": "stream",
     "text": [
      "┌ Info: Epoch 141\n",
      "└ @ Main /Users/raphaelpestourie/.julia/packages/Flux/EXOFx/src/optimise/train.jl:154\n"
     ]
    },
    {
     "name": "stdout",
     "output_type": "stream",
     "text": [
      "0.0013673204105222154\n",
      "FE = 0.06114654616071566\n",
      "train_lossmean = 2.1470641102885846e-5\n",
      "valid_lossmean = 0.0012732503673299248\n",
      "FE = 0.059005662084483074\n"
     ]
    },
    {
     "name": "stderr",
     "output_type": "stream",
     "text": [
      "┌ Info: Epoch 142\n",
      "└ @ Main /Users/raphaelpestourie/.julia/packages/Flux/EXOFx/src/optimise/train.jl:154\n",
      "┌ Info: Epoch 143\n",
      "└ @ Main /Users/raphaelpestourie/.julia/packages/Flux/EXOFx/src/optimise/train.jl:154\n"
     ]
    },
    {
     "name": "stdout",
     "output_type": "stream",
     "text": [
      "train_lossmean = 2.1659299194875212e-5\n",
      "valid_lossmean = 0.0013245312687473524\n",
      "FE = 0.06018217655136105\n",
      "train_lossmean = 2.121753566970113e-5\n",
      "valid_lossmean = 0.0011006469278544934\n",
      "FE = 0.05486063063395204\n"
     ]
    },
    {
     "name": "stderr",
     "output_type": "stream",
     "text": [
      "┌ Info: Epoch 144\n",
      "└ @ Main /Users/raphaelpestourie/.julia/packages/Flux/EXOFx/src/optimise/train.jl:154\n",
      "┌ Info: Epoch 145\n",
      "└ @ Main /Users/raphaelpestourie/.julia/packages/Flux/EXOFx/src/optimise/train.jl:154\n"
     ]
    },
    {
     "name": "stdout",
     "output_type": "stream",
     "text": [
      "train_lossmean = 2.160633069180331e-5\n",
      "valid_lossmean = 0.0014467626733957178\n",
      "FE = 0.06289779640996702\n",
      "train_lossmean = 2.0677532011410947e-5\n",
      "valid_lossmean = "
     ]
    },
    {
     "name": "stderr",
     "output_type": "stream",
     "text": [
      "┌ Info: Epoch 146\n",
      "└ @ Main /Users/raphaelpestourie/.julia/packages/Flux/EXOFx/src/optimise/train.jl:154\n"
     ]
    },
    {
     "name": "stdout",
     "output_type": "stream",
     "text": [
      "0.0013321283986523229\n",
      "FE = 0.060354523587876414\n",
      "train_lossmean = 2.1902214037221802e-5\n",
      "valid_lossmean = 0.0011757962122081907\n",
      "FE = 0.05670257884390919\n"
     ]
    },
    {
     "name": "stderr",
     "output_type": "stream",
     "text": [
      "┌ Info: Epoch 147\n",
      "└ @ Main /Users/raphaelpestourie/.julia/packages/Flux/EXOFx/src/optimise/train.jl:154\n",
      "┌ Info: Epoch 148\n",
      "└ @ Main /Users/raphaelpestourie/.julia/packages/Flux/EXOFx/src/optimise/train.jl:154\n"
     ]
    },
    {
     "name": "stdout",
     "output_type": "stream",
     "text": [
      "train_lossmean = 2.1197595343793405e-5\n",
      "valid_lossmean = 0.0016832176852630586\n",
      "FE = 0.06784329391063088\n",
      "train_lossmean = 2.065701670180437e-5\n",
      "valid_lossmean = 0.0013317205578949063\n",
      "FE = 0.06034528389336021\n"
     ]
    },
    {
     "name": "stderr",
     "output_type": "stream",
     "text": [
      "┌ Info: Epoch 149\n",
      "└ @ Main /Users/raphaelpestourie/.julia/packages/Flux/EXOFx/src/optimise/train.jl:154\n",
      "┌ Info: Epoch 150\n",
      "└ @ Main /Users/raphaelpestourie/.julia/packages/Flux/EXOFx/src/optimise/train.jl:154\n"
     ]
    },
    {
     "name": "stdout",
     "output_type": "stream",
     "text": [
      "train_lossmean = 2.147409735895119e-5\n",
      "valid_lossmean = 0.0014522066190867146\n",
      "FE = 0.06301602267040363\n",
      "train_lossmean = 2.0878725404304403e-5\n",
      "valid_lossmean = "
     ]
    },
    {
     "name": "stderr",
     "output_type": "stream",
     "text": [
      "┌ Info: Epoch 151\n",
      "└ @ Main /Users/raphaelpestourie/.julia/packages/Flux/EXOFx/src/optimise/train.jl:154\n"
     ]
    },
    {
     "name": "stdout",
     "output_type": "stream",
     "text": [
      "0.00112083185257994\n",
      "FE = 0.055361393730758844\n",
      "train_lossmean = 2.1062008595313547e-5\n",
      "valid_lossmean = 0.0013011181065556339\n",
      "FE = 0.059647897913657606\n"
     ]
    },
    {
     "name": "stderr",
     "output_type": "stream",
     "text": [
      "┌ Info: Epoch 152\n",
      "└ @ Main /Users/raphaelpestourie/.julia/packages/Flux/EXOFx/src/optimise/train.jl:154\n",
      "┌ Info: Epoch 153\n",
      "└ @ Main /Users/raphaelpestourie/.julia/packages/Flux/EXOFx/src/optimise/train.jl:154\n"
     ]
    },
    {
     "name": "stdout",
     "output_type": "stream",
     "text": [
      "train_lossmean = 2.198733270065952e-5\n",
      "valid_lossmean = 0.0011838136019275804\n",
      "FE = 0.05689556906763161\n",
      "train_lossmean = 2.1071108830266002e-5\n",
      "valid_lossmean = "
     ]
    },
    {
     "name": "stderr",
     "output_type": "stream",
     "text": [
      "┌ Info: Epoch 154\n",
      "└ @ Main /Users/raphaelpestourie/.julia/packages/Flux/EXOFx/src/optimise/train.jl:154\n"
     ]
    },
    {
     "name": "stdout",
     "output_type": "stream",
     "text": [
      "0.0012525619609464512\n",
      "FE = 0.058524322114877195\n",
      "train_lossmean = 2.0857375975794928e-5\n",
      "valid_lossmean = 0.0011814039213056645\n",
      "FE = 0.05683763343115141\n"
     ]
    },
    {
     "name": "stderr",
     "output_type": "stream",
     "text": [
      "┌ Info: Epoch 155\n",
      "└ @ Main /Users/raphaelpestourie/.julia/packages/Flux/EXOFx/src/optimise/train.jl:154\n",
      "┌ Info: Epoch 156\n",
      "└ @ Main /Users/raphaelpestourie/.julia/packages/Flux/EXOFx/src/optimise/train.jl:154\n"
     ]
    },
    {
     "name": "stdout",
     "output_type": "stream",
     "text": [
      "train_lossmean = 2.1011001205990747e-5\n",
      "valid_lossmean = 0.001203237342683809\n",
      "FE = 0.05736043466650057\n",
      "train_lossmean = 2.0840083900568944e-5\n",
      "valid_lossmean = 0.001010076674254546\n",
      "FE = 0.05255498951301099\n"
     ]
    },
    {
     "name": "stderr",
     "output_type": "stream",
     "text": [
      "┌ Info: Epoch 157\n",
      "└ @ Main /Users/raphaelpestourie/.julia/packages/Flux/EXOFx/src/optimise/train.jl:154\n",
      "┌ Info: Epoch 158\n",
      "└ @ Main /Users/raphaelpestourie/.julia/packages/Flux/EXOFx/src/optimise/train.jl:154\n"
     ]
    },
    {
     "name": "stdout",
     "output_type": "stream",
     "text": [
      "train_lossmean = 2.151300078676144e-5\n",
      "valid_lossmean = 0.0010222321152876458\n",
      "FE = 0.05287027182030663\n"
     ]
    },
    {
     "name": "stderr",
     "output_type": "stream",
     "text": [
      "┌ Info: Epoch 159\n",
      "└ @ Main /Users/raphaelpestourie/.julia/packages/Flux/EXOFx/src/optimise/train.jl:154\n"
     ]
    },
    {
     "name": "stdout",
     "output_type": "stream",
     "text": [
      "train_lossmean = 2.193604397416885e-5\n",
      "valid_lossmean = 0.0014394538560058478\n",
      "FE = 0.0627387203632892\n",
      "train_lossmean = 2.0744974871182583e-5\n",
      "valid_lossmean = 0.0014571961072716408\n",
      "FE = 0.06312418499747846\n"
     ]
    },
    {
     "name": "stderr",
     "output_type": "stream",
     "text": [
      "┌ Info: Epoch 160\n",
      "└ @ Main /Users/raphaelpestourie/.julia/packages/Flux/EXOFx/src/optimise/train.jl:154\n",
      "┌ Info: Epoch 161\n",
      "└ @ Main /Users/raphaelpestourie/.julia/packages/Flux/EXOFx/src/optimise/train.jl:154\n"
     ]
    },
    {
     "name": "stdout",
     "output_type": "stream",
     "text": [
      "train_lossmean = 2.1353822479020522e-5\n",
      "valid_lossmean = 0.001378454073161712\n",
      "FE = 0.06139499004049171\n"
     ]
    },
    {
     "name": "stderr",
     "output_type": "stream",
     "text": [
      "┌ Info: Epoch 162\n",
      "└ @ Main /Users/raphaelpestourie/.julia/packages/Flux/EXOFx/src/optimise/train.jl:154\n"
     ]
    },
    {
     "name": "stdout",
     "output_type": "stream",
     "text": [
      "train_lossmean = 2.008525632610264e-5\n",
      "valid_lossmean = 0.001448945808705433\n",
      "FE = 0.06294523426576075\n",
      "train_lossmean = 2.0477843263477042e-5\n",
      "valid_lossmean = 0.0013699059952485217\n",
      "FE = 0.0612043325084283\n"
     ]
    },
    {
     "name": "stderr",
     "output_type": "stream",
     "text": [
      "┌ Info: Epoch 163\n",
      "└ @ Main /Users/raphaelpestourie/.julia/packages/Flux/EXOFx/src/optimise/train.jl:154\n",
      "┌ Info: Epoch 164\n",
      "└ @ Main /Users/raphaelpestourie/.julia/packages/Flux/EXOFx/src/optimise/train.jl:154\n"
     ]
    },
    {
     "name": "stdout",
     "output_type": "stream",
     "text": [
      "train_lossmean = 2.0258033778450463e-5\n",
      "valid_lossmean = 0.0014214842556367578\n",
      "FE = 0.062345887227399185\n",
      "train_lossmean = 2.0996914156086902e-5\n",
      "valid_lossmean = 0.0011430582750386001\n",
      "FE = 0.05590761538062986\n"
     ]
    },
    {
     "name": "stderr",
     "output_type": "stream",
     "text": [
      "┌ Info: Epoch 165\n",
      "└ @ Main /Users/raphaelpestourie/.julia/packages/Flux/EXOFx/src/optimise/train.jl:154\n",
      "┌ Info: Epoch 166\n",
      "└ @ Main /Users/raphaelpestourie/.julia/packages/Flux/EXOFx/src/optimise/train.jl:154\n"
     ]
    },
    {
     "name": "stdout",
     "output_type": "stream",
     "text": [
      "train_lossmean = 2.0360388498316293e-5\n",
      "valid_lossmean = 0.001461295329030966\n",
      "FE = 0.06321290960639638\n",
      "train_lossmean = 2.019933781677883e-5\n",
      "valid_lossmean = "
     ]
    },
    {
     "name": "stderr",
     "output_type": "stream",
     "text": [
      "┌ Info: Epoch 167\n",
      "└ @ Main /Users/raphaelpestourie/.julia/packages/Flux/EXOFx/src/optimise/train.jl:154\n"
     ]
    },
    {
     "name": "stdout",
     "output_type": "stream",
     "text": [
      "0.001270258545192325\n",
      "FE = 0.05893629698723127\n",
      "train_lossmean = 2.0782692972625194e-5\n",
      "valid_lossmean = 0.001135333050703568\n",
      "FE = 0.05571837258739144\n"
     ]
    },
    {
     "name": "stderr",
     "output_type": "stream",
     "text": [
      "┌ Info: Epoch 168\n",
      "└ @ Main /Users/raphaelpestourie/.julia/packages/Flux/EXOFx/src/optimise/train.jl:154\n",
      "┌ Info: Epoch 169\n",
      "└ @ Main /Users/raphaelpestourie/.julia/packages/Flux/EXOFx/src/optimise/train.jl:154\n"
     ]
    },
    {
     "name": "stdout",
     "output_type": "stream",
     "text": [
      "train_lossmean = 2.1422790732766133e-5\n",
      "valid_lossmean = 0.001376442644153694\n",
      "FE = 0.061350180152107935\n",
      "train_lossmean = 2.0198828260968734e-5\n",
      "valid_lossmean = "
     ]
    },
    {
     "name": "stderr",
     "output_type": "stream",
     "text": [
      "┌ Info: Epoch 170\n",
      "└ @ Main /Users/raphaelpestourie/.julia/packages/Flux/EXOFx/src/optimise/train.jl:154\n"
     ]
    },
    {
     "name": "stdout",
     "output_type": "stream",
     "text": [
      "0.0014061143307591848\n",
      "FE = 0.062007910920690794\n",
      "train_lossmean = 2.0116949881606922e-5\n",
      "valid_lossmean = 0.001424252975847923\n",
      "FE = 0.062406575322978566\n"
     ]
    },
    {
     "name": "stderr",
     "output_type": "stream",
     "text": [
      "┌ Info: Epoch 171\n",
      "└ @ Main /Users/raphaelpestourie/.julia/packages/Flux/EXOFx/src/optimise/train.jl:154\n",
      "┌ Info: Epoch 172\n",
      "└ @ Main /Users/raphaelpestourie/.julia/packages/Flux/EXOFx/src/optimise/train.jl:154\n"
     ]
    },
    {
     "name": "stdout",
     "output_type": "stream",
     "text": [
      "train_lossmean = 1.9553361289163108e-5\n",
      "valid_lossmean = 0.0015858527128533926\n",
      "FE = 0.06585188445171795\n",
      "train_lossmean = 2.0336683658909723e-5\n",
      "valid_lossmean = 0.00170626951193821\n",
      "FE = 0.06830627434972429\n"
     ]
    },
    {
     "name": "stderr",
     "output_type": "stream",
     "text": [
      "┌ Info: Epoch 173\n",
      "└ @ Main /Users/raphaelpestourie/.julia/packages/Flux/EXOFx/src/optimise/train.jl:154\n",
      "┌ Info: Epoch 174\n",
      "└ @ Main /Users/raphaelpestourie/.julia/packages/Flux/EXOFx/src/optimise/train.jl:154\n"
     ]
    },
    {
     "name": "stdout",
     "output_type": "stream",
     "text": [
      "train_lossmean = 2.027207456988239e-5\n",
      "valid_lossmean = 0.0014983752640921504\n",
      "FE = 0.06400988989901345\n",
      "train_lossmean = 2.0100480836957904e-5\n",
      "valid_lossmean = 0.0015137836974162433\n"
     ]
    },
    {
     "name": "stderr",
     "output_type": "stream",
     "text": [
      "┌ Info: Epoch 175\n",
      "└ @ Main /Users/raphaelpestourie/.julia/packages/Flux/EXOFx/src/optimise/train.jl:154\n"
     ]
    },
    {
     "name": "stdout",
     "output_type": "stream",
     "text": [
      "FE = 0.06433816862948774\n",
      "train_lossmean = 2.0801354732275536e-5\n",
      "valid_lossmean = 0.001651366896732976\n",
      "FE = 0.0671983438950025\n"
     ]
    },
    {
     "name": "stderr",
     "output_type": "stream",
     "text": [
      "┌ Info: Epoch 176\n",
      "└ @ Main /Users/raphaelpestourie/.julia/packages/Flux/EXOFx/src/optimise/train.jl:154\n",
      "┌ Info: Epoch 177\n",
      "└ @ Main /Users/raphaelpestourie/.julia/packages/Flux/EXOFx/src/optimise/train.jl:154\n"
     ]
    },
    {
     "name": "stdout",
     "output_type": "stream",
     "text": [
      "train_lossmean = 2.0389182344946157e-5\n",
      "valid_lossmean = 0.0013185669042269474\n",
      "FE = 0.06004652349218045\n"
     ]
    },
    {
     "name": "stderr",
     "output_type": "stream",
     "text": [
      "┌ Info: Epoch 178\n",
      "└ @ Main /Users/raphaelpestourie/.julia/packages/Flux/EXOFx/src/optimise/train.jl:154\n"
     ]
    },
    {
     "name": "stdout",
     "output_type": "stream",
     "text": [
      "train_lossmean = 2.053352414676982e-5\n",
      "valid_lossmean = 0.001377072845491384\n",
      "FE = 0.061364223069674186\n",
      "train_lossmean = 2.0482157862821425e-5\n",
      "valid_lossmean = 0.001348375910357041\n",
      "FE = 0.06072146977814006\n"
     ]
    },
    {
     "name": "stderr",
     "output_type": "stream",
     "text": [
      "┌ Info: Epoch 179\n",
      "└ @ Main /Users/raphaelpestourie/.julia/packages/Flux/EXOFx/src/optimise/train.jl:154\n",
      "┌ Info: Epoch 180\n",
      "└ @ Main /Users/raphaelpestourie/.julia/packages/Flux/EXOFx/src/optimise/train.jl:154\n"
     ]
    },
    {
     "name": "stdout",
     "output_type": "stream",
     "text": [
      "train_lossmean = 2.0620392800103945e-5\n",
      "valid_lossmean = 0.0018530905606402419\n",
      "FE = 0.07118444521515412\n",
      "train_lossmean = 2.0334505943361505e-5\n",
      "valid_lossmean = 0.0015514292428539102\n",
      "FE = 0.06513325304798671\n"
     ]
    },
    {
     "name": "stderr",
     "output_type": "stream",
     "text": [
      "┌ Info: Epoch 181\n",
      "└ @ Main /Users/raphaelpestourie/.julia/packages/Flux/EXOFx/src/optimise/train.jl:154\n",
      "┌ Info: Epoch 182\n",
      "└ @ Main /Users/raphaelpestourie/.julia/packages/Flux/EXOFx/src/optimise/train.jl:154\n"
     ]
    },
    {
     "name": "stdout",
     "output_type": "stream",
     "text": [
      "train_lossmean = 2.0339049923396905e-5\n",
      "valid_lossmean = 0.0015160367168241718\n",
      "FE = 0.06438602924769742\n",
      "train_lossmean = 2.0033105488411693e-5\n",
      "valid_lossmean = "
     ]
    },
    {
     "name": "stderr",
     "output_type": "stream",
     "text": [
      "┌ Info: Epoch 183\n",
      "└ @ Main /Users/raphaelpestourie/.julia/packages/Flux/EXOFx/src/optimise/train.jl:154\n"
     ]
    },
    {
     "name": "stdout",
     "output_type": "stream",
     "text": [
      "0.0017426848184779954\n",
      "FE = 0.0690313245641447\n",
      "train_lossmean = 1.965933830239605e-5\n",
      "valid_lossmean = 0.0013110979460050573\n",
      "FE = 0.05987621666725132\n"
     ]
    },
    {
     "name": "stderr",
     "output_type": "stream",
     "text": [
      "┌ Info: Epoch 184\n",
      "└ @ Main /Users/raphaelpestourie/.julia/packages/Flux/EXOFx/src/optimise/train.jl:154\n",
      "┌ Info: Epoch 185\n",
      "└ @ Main /Users/raphaelpestourie/.julia/packages/Flux/EXOFx/src/optimise/train.jl:154\n"
     ]
    },
    {
     "name": "stdout",
     "output_type": "stream",
     "text": [
      "train_lossmean = 1.998684304268612e-5\n",
      "valid_lossmean = 0.001475451278319599\n",
      "FE = 0.06351835164285288\n",
      "train_lossmean = 2.0089939049283716e-5\n",
      "valid_lossmean = "
     ]
    },
    {
     "name": "stderr",
     "output_type": "stream",
     "text": [
      "┌ Info: Epoch 186\n",
      "└ @ Main /Users/raphaelpestourie/.julia/packages/Flux/EXOFx/src/optimise/train.jl:154\n"
     ]
    },
    {
     "name": "stdout",
     "output_type": "stream",
     "text": [
      "0.0012723138316139905\n",
      "FE = 0.05898395736839061\n",
      "train_lossmean = 2.0483966364720514e-5\n",
      "valid_lossmean = 0.0013265598677833542\n",
      "FE = 0.06022824522435546\n"
     ]
    },
    {
     "name": "stderr",
     "output_type": "stream",
     "text": [
      "┌ Info: Epoch 187\n",
      "└ @ Main /Users/raphaelpestourie/.julia/packages/Flux/EXOFx/src/optimise/train.jl:154\n",
      "┌ Info: Epoch 188\n",
      "└ @ Main /Users/raphaelpestourie/.julia/packages/Flux/EXOFx/src/optimise/train.jl:154\n"
     ]
    },
    {
     "name": "stdout",
     "output_type": "stream",
     "text": [
      "train_lossmean = 2.0194178858717564e-5\n",
      "valid_lossmean = 0.001335087211035346\n",
      "FE = 0.060421513624812274\n",
      "train_lossmean = 1.986933703934449e-5\n",
      "valid_lossmean = 0.0012469757187626126\n",
      "FE = 0.05839367134533862\n"
     ]
    },
    {
     "name": "stderr",
     "output_type": "stream",
     "text": [
      "┌ Info: Epoch 189\n",
      "└ @ Main /Users/raphaelpestourie/.julia/packages/Flux/EXOFx/src/optimise/train.jl:154\n",
      "┌ Info: Epoch 190\n",
      "└ @ Main /Users/raphaelpestourie/.julia/packages/Flux/EXOFx/src/optimise/train.jl:154\n"
     ]
    },
    {
     "name": "stdout",
     "output_type": "stream",
     "text": [
      "train_lossmean = 2.036443269892897e-5\n",
      "valid_lossmean = 0.0014217350704077048\n",
      "FE = 0.062351387316352355\n"
     ]
    },
    {
     "name": "stderr",
     "output_type": "stream",
     "text": [
      "┌ Info: Epoch 191\n",
      "└ @ Main /Users/raphaelpestourie/.julia/packages/Flux/EXOFx/src/optimise/train.jl:154\n"
     ]
    },
    {
     "name": "stdout",
     "output_type": "stream",
     "text": [
      "train_lossmean = 2.00009885747585e-5\n",
      "valid_lossmean = 0.0016621005138349396\n",
      "FE = 0.06741637934051292\n",
      "train_lossmean = 2.006756377213862e-5\n",
      "valid_lossmean = 0.0014103592139546172\n"
     ]
    },
    {
     "name": "stderr",
     "output_type": "stream",
     "text": [
      "┌ Info: Epoch 192\n",
      "└ @ Main /Users/raphaelpestourie/.julia/packages/Flux/EXOFx/src/optimise/train.jl:154\n"
     ]
    },
    {
     "name": "stdout",
     "output_type": "stream",
     "text": [
      "FE = 0.062101437449185795\n",
      "train_lossmean = 1.9460610360851135e-5\n",
      "valid_lossmean = 0.001521295351713714\n"
     ]
    },
    {
     "name": "stderr",
     "output_type": "stream",
     "text": [
      "┌ Info: Epoch 193\n",
      "└ @ Main /Users/raphaelpestourie/.julia/packages/Flux/EXOFx/src/optimise/train.jl:154\n"
     ]
    },
    {
     "name": "stdout",
     "output_type": "stream",
     "text": [
      "FE = 0.06449759960615375\n",
      "train_lossmean = 1.995586058665077e-5\n",
      "valid_lossmean = 0.001305740024252854\n",
      "FE = 0.05975374659813674\n"
     ]
    },
    {
     "name": "stderr",
     "output_type": "stream",
     "text": [
      "┌ Info: Epoch 194\n",
      "└ @ Main /Users/raphaelpestourie/.julia/packages/Flux/EXOFx/src/optimise/train.jl:154\n",
      "┌ Info: Epoch 195\n",
      "└ @ Main /Users/raphaelpestourie/.julia/packages/Flux/EXOFx/src/optimise/train.jl:154\n"
     ]
    },
    {
     "name": "stdout",
     "output_type": "stream",
     "text": [
      "train_lossmean = 2.0540590421242384e-5\n",
      "valid_lossmean = 0.0012543069951209346\n",
      "FE = 0.0585650751474499\n"
     ]
    },
    {
     "name": "stderr",
     "output_type": "stream",
     "text": [
      "┌ Info: Epoch 196\n",
      "└ @ Main /Users/raphaelpestourie/.julia/packages/Flux/EXOFx/src/optimise/train.jl:154\n"
     ]
    },
    {
     "name": "stdout",
     "output_type": "stream",
     "text": [
      "train_lossmean = 1.9625610753840303e-5\n",
      "valid_lossmean = 0.0013572269606526288\n",
      "FE = 0.06092043865522919\n",
      "train_lossmean = 2.0329398475693e-5\n",
      "valid_lossmean = 0.0013098412617952796\n",
      "FE = 0.059847514183367825\n"
     ]
    },
    {
     "name": "stderr",
     "output_type": "stream",
     "text": [
      "┌ Info: Epoch 197\n",
      "└ @ Main /Users/raphaelpestourie/.julia/packages/Flux/EXOFx/src/optimise/train.jl:154\n",
      "┌ Info: Epoch 198\n",
      "└ @ Main /Users/raphaelpestourie/.julia/packages/Flux/EXOFx/src/optimise/train.jl:154\n"
     ]
    },
    {
     "name": "stdout",
     "output_type": "stream",
     "text": [
      "train_lossmean = 1.9745320924263596e-5\n",
      "valid_lossmean = 0.0015254152138942797\n",
      "FE = 0.06458487442839264\n"
     ]
    },
    {
     "name": "stderr",
     "output_type": "stream",
     "text": [
      "┌ Info: Epoch 199\n",
      "└ @ Main /Users/raphaelpestourie/.julia/packages/Flux/EXOFx/src/optimise/train.jl:154\n"
     ]
    },
    {
     "name": "stdout",
     "output_type": "stream",
     "text": [
      "train_lossmean = 2.0222416002702813e-5\n",
      "valid_lossmean = 0.0012924994143382754\n",
      "FE = 0.05945001386352287\n",
      "train_lossmean = 1.914173709831771e-5\n",
      "valid_lossmean = 0.0014174149447277525\n",
      "FE = 0.06225658387078177\n",
      " 19.362195 seconds (7.97 M allocations: 9.089 GiB, 9.56% gc time, 9.60% compilation time)\n"
     ]
    },
    {
     "name": "stderr",
     "output_type": "stream",
     "text": [
      "┌ Info: Epoch 200\n",
      "└ @ Main /Users/raphaelpestourie/.julia/packages/Flux/EXOFx/src/optimise/train.jl:154\n"
     ]
    }
   ],
   "source": [
    "namemodel = \"local_MSE_parallel_baselineparameterized_$endname\"\n",
    "\n",
    "##define same AL parameters for all workers\n",
    "al1 = ALstruct(Ninit=ninit+8*kval, T=0, η=1e-3, J=Jval, ne=number_epoch, batchsize=batchsize);\n",
    "if MPI.Comm_rank(comm) == 0\n",
    "    @show kval\n",
    "    @show 256+8*kval\n",
    "end\n",
    "##ititialize DataRunner and DataSet\n",
    "dr = DataRunner(Xt, yt, [1]);\n",
    "ds = DataSet()\n",
    "validation_fes = []\n",
    "##initialize baseline\n",
    "mgen =  Chain(Dense(nin, nnodes, relu),\n",
    "Dropout(0.5),\n",
    "Dense(nnodes, nnodes, relu),\n",
    "Dropout(0.5),\n",
    "Dense(nnodes, coarseresolution^2, relu),\n",
    "Dense(coarseresolution^2, 1, hardtanh),\n",
    "x-> @. x[:]*0.9/2 + 0.45 + .1)\n",
    "\n",
    "cw=[cwval]\n",
    "\n",
    "m(p) = begin\n",
    "    mgen(p)\n",
    "end\n",
    "mloglik(p) = 1\n",
    "ps = Flux.params(mgen)\n",
    "\n",
    "\n",
    "loader = initloader(al1, dr, ds);\n",
    "opt = ADAM(al1.η)\n",
    "\n",
    "if MPI.Comm_rank(comm)==0\n",
    "    @time Flux.@epochs al1.ne train_distributed!(comm, commModel, commLeader, mloglik, m, dHuber, ps, loader, opt, validation_fes, logging=true)\n",
    "else\n",
    "    Flux.@epochs al1.ne train_distributed!(comm, commModel, commLeader, mloglik, m, dHuber, ps, loader, opt, validation_fes, logging=true)\n",
    "end\n",
    "\n",
    "\n",
    "# ##save models and validation FEs\n",
    "# if isleader\n",
    "#     BSON.@save \"$(namemodel)_K$(kval)_mgen$(model_color).bson\" mgen\n",
    "# end\n",
    "\n",
    "# if MPI.Comm_rank(comm) == 0\n",
    "#     writedlm(\"$(namemodel)_K$(kval)_trainingMSE.csv\", validation_fes, ',')\n",
    "# end\n",
    "\n",
    "# # evaluate and show the error on the test set\n",
    "# valid_lossmean = dFE_1d(comm, commModel, commLeader, m)\n",
    "# if MPI.Comm_rank(comm) == 0\n",
    "#     @show valid_lossmean\n",
    "#     writedlm(\"$(namemodel)_K$(kval)_endvalidFE.csv\", [valid_lossmean], ',')\n",
    "# end\n",
    "\n"
   ]
  },
  {
   "cell_type": "code",
   "execution_count": 7,
   "metadata": {},
   "outputs": [
    {
     "name": "stdout",
     "output_type": "stream",
     "text": [
      "FE = 0.05966023964038483\n"
     ]
    },
    {
     "data": {
      "text/plain": [
       "0.05966023964038483"
      ]
     },
     "execution_count": 7,
     "metadata": {},
     "output_type": "execute_result"
    }
   ],
   "source": [
    "dFE_1d(comm, commModel, commLeader, m, valid=test)"
   ]
  },
  {
   "cell_type": "markdown",
   "metadata": {},
   "source": [
    "## Baseline result \n",
    "\n",
    "The fractional error on the test set is 0.0597, which is worse than the ensemble of 5 models (with an error of 4.7%)."
   ]
  },
  {
   "cell_type": "markdown",
   "metadata": {},
   "source": [
    "# Overall result\n",
    "\n",
    "With about 1000 data points, a single model PEDS model achieves an error < 5% and leads to a 1.8x improvement compared to the NN-only baseline. "
   ]
  },
  {
   "cell_type": "code",
   "execution_count": null,
   "metadata": {},
   "outputs": [],
   "source": []
  }
 ],
 "metadata": {
  "kernelspec": {
   "display_name": "Julia 1.6.3",
   "language": "julia",
   "name": "julia-1.6"
  },
  "language_info": {
   "file_extension": ".jl",
   "mimetype": "application/julia",
   "name": "julia",
   "version": "1.6.3"
  }
 },
 "nbformat": 4,
 "nbformat_minor": 4
}
